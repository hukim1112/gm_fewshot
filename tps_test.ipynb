{
 "cells": [
  {
   "cell_type": "code",
   "execution_count": 13,
   "metadata": {},
   "outputs": [
    {
     "name": "stdout",
     "output_type": "stream",
     "text": [
      "The autoreload extension is already loaded. To reload it, use:\n",
      "  %reload_ext autoreload\n"
     ]
    }
   ],
   "source": [
    "%load_ext autoreload\n",
    "%autoreload 2"
   ]
  },
  {
   "cell_type": "code",
   "execution_count": 14,
   "metadata": {},
   "outputs": [],
   "source": [
    "from geo_transform.tps import ThinPlateSpline as tps"
   ]
  },
  {
   "cell_type": "code",
   "execution_count": 1,
   "metadata": {},
   "outputs": [],
   "source": [
    "import cv2\n",
    "import numpy as np\n",
    "from matplotlib import pyplot as plt\n",
    "import tensorflow as tf"
   ]
  },
  {
   "cell_type": "code",
   "execution_count": null,
   "metadata": {},
   "outputs": [],
   "source": []
  },
  {
   "cell_type": "code",
   "execution_count": 3,
   "metadata": {},
   "outputs": [
    {
     "name": "stdout",
     "output_type": "stream",
     "text": [
      "Downloading data from https://github.com/keras-team/keras-applications/releases/download/resnet/resnet101_weights_tf_dim_ordering_tf_kernels.h5\n",
      "179650560/179648224 [==============================] - 151s 1us/step\n"
     ]
    }
   ],
   "source": [
    "x = tf.keras.applications.ResNet101()"
   ]
  },
  {
   "cell_type": "code",
   "execution_count": null,
   "metadata": {},
   "outputs": [],
   "source": []
  },
  {
   "cell_type": "code",
   "execution_count": null,
   "metadata": {},
   "outputs": [],
   "source": []
  },
  {
   "cell_type": "code",
   "execution_count": 16,
   "metadata": {},
   "outputs": [],
   "source": [
    "img_name = \"annotation.png\"\n",
    "#img_name = \"original.png\""
   ]
  },
  {
   "cell_type": "code",
   "execution_count": 17,
   "metadata": {},
   "outputs": [],
   "source": [
    "img = cv2.imread(img_name)[:,:,::-1]\n",
    "img = cv2.resize(img, (32, 32) ,interpolation=cv2.INTER_AREA)"
   ]
  },
  {
   "cell_type": "code",
   "execution_count": 18,
   "metadata": {},
   "outputs": [
    {
     "data": {
      "text/plain": [
       "<matplotlib.image.AxesImage at 0x7f38dc141a20>"
      ]
     },
     "execution_count": 18,
     "metadata": {},
     "output_type": "execute_result"
    },
    {
     "data": {
      "image/png": "[encoded data removed]",
      "text/plain": [
       "<Figure size 432x288 with 1 Axes>"
      ]
     },
     "metadata": {
      "needs_background": "light"
     },
     "output_type": "display_data"
    }
   ],
   "source": [
    "plt.imshow(img)"
   ]
  },
  {
   "cell_type": "code",
   "execution_count": null,
   "metadata": {},
   "outputs": [],
   "source": [
    "img.shape"
   ]
  },
  {
   "cell_type": "code",
   "execution_count": 48,
   "metadata": {},
   "outputs": [],
   "source": [
    "p = np.array([\n",
    "  [-0.5, -0.5],\n",
    "  [0.5, -0.5],\n",
    "  [-0.5, 0.5],\n",
    "  [0.5, 0.5]])\n",
    "\n",
    "v = np.array([\n",
    "  [0.0, 0.0],\n",
    "  [0.0, 0.0],\n",
    "  [0.0, 0.0],\n",
    "  [0.0, 0.0]])\n",
    "\n",
    "p = tf.constant(p.reshape([1, 4, 2]), dtype=tf.float32)\n",
    "v = tf.constant(v.reshape([1, 4, 2]), dtype=tf.float32)\n",
    "#t_img = tf.constant(img.reshape(shape), dtype=tf.float32)\n",
    "img = np.reshape(img, (1, 32, 32, 3))\n",
    "T_g, x_s, y_s, x_s_flat, y_s_flat = tps(img, p, -v, (32, 32))\n"
   ]
  },
  {
   "cell_type": "code",
   "execution_count": 49,
   "metadata": {},
   "outputs": [
    {
     "data": {
      "text/plain": [
       "<tf.Tensor: id=616, shape=(1, 1, 1024), dtype=float32, numpy=\n",
       "array([[[-1.        , -0.9354839 , -0.87096775, ...,  0.8709675 ,\n",
       "          0.9354837 ,  0.9999999 ]]], dtype=float32)>"
      ]
     },
     "execution_count": 49,
     "metadata": {},
     "output_type": "execute_result"
    }
   ],
   "source": [
    "x_s"
   ]
  },
  {
   "cell_type": "code",
   "execution_count": 50,
   "metadata": {},
   "outputs": [
    {
     "data": {
      "text/plain": [
       "<tf.Tensor: id=619, shape=(1, 1, 1024), dtype=float32, numpy=\n",
       "array([[[-1.       , -1.       , -1.       , ...,  0.9999999,\n",
       "          0.9999999,  0.9999998]]], dtype=float32)>"
      ]
     },
     "execution_count": 50,
     "metadata": {},
     "output_type": "execute_result"
    }
   ],
   "source": [
    "y_s"
   ]
  },
  {
   "cell_type": "code",
   "execution_count": 51,
   "metadata": {},
   "outputs": [
    {
     "data": {
      "text/plain": [
       "<tf.Tensor: id=621, shape=(1024,), dtype=float32, numpy=\n",
       "array([-1.        , -0.9354839 , -0.87096775, ...,  0.8709675 ,\n",
       "        0.9354837 ,  0.9999999 ], dtype=float32)>"
      ]
     },
     "execution_count": 51,
     "metadata": {},
     "output_type": "execute_result"
    }
   ],
   "source": [
    "x_s_flat"
   ]
  },
  {
   "cell_type": "code",
   "execution_count": 52,
   "metadata": {},
   "outputs": [
    {
     "data": {
      "text/plain": [
       "<tf.Tensor: id=623, shape=(1024,), dtype=float32, numpy=\n",
       "array([-1.       , -1.       , -1.       , ...,  0.9999999,  0.9999999,\n",
       "        0.9999998], dtype=float32)>"
      ]
     },
     "execution_count": 52,
     "metadata": {},
     "output_type": "execute_result"
    }
   ],
   "source": [
    "y_s_flat"
   ]
  },
  {
   "cell_type": "code",
   "execution_count": 53,
   "metadata": {},
   "outputs": [],
   "source": [
    "x_s_flat = np.reshape(x_s_flat, (32, 32))+1\n",
    "y_s_flat = np.reshape(y_s_flat, (32, 32))+1"
   ]
  },
  {
   "cell_type": "code",
   "execution_count": 54,
   "metadata": {},
   "outputs": [
    {
     "data": {
      "text/plain": [
       "array([[0.        , 0.06451613, 0.12903225, 0.19354838, 0.2580645 ],\n",
       "       [0.        , 0.06451613, 0.12903225, 0.19354838, 0.2580645 ],\n",
       "       [0.        , 0.06451613, 0.12903225, 0.19354838, 0.2580645 ],\n",
       "       [0.        , 0.06451613, 0.12903225, 0.19354838, 0.2580645 ],\n",
       "       [0.        , 0.06451613, 0.12903225, 0.19354838, 0.2580645 ]],\n",
       "      dtype=float32)"
      ]
     },
     "execution_count": 54,
     "metadata": {},
     "output_type": "execute_result"
    }
   ],
   "source": [
    "x_s_flat[:5,:5]"
   ]
  },
  {
   "cell_type": "code",
   "execution_count": 55,
   "metadata": {},
   "outputs": [
    {
     "data": {
      "text/plain": [
       "array([[0.        , 0.        , 0.        , 0.        , 0.        ],\n",
       "       [0.06451613, 0.06451613, 0.06451613, 0.06451613, 0.06451613],\n",
       "       [0.12903225, 0.12903225, 0.12903225, 0.12903225, 0.12903225],\n",
       "       [0.19354838, 0.19354838, 0.19354838, 0.19354838, 0.19354838],\n",
       "       [0.2580645 , 0.2580645 , 0.2580645 , 0.2580645 , 0.2580645 ]],\n",
       "      dtype=float32)"
      ]
     },
     "execution_count": 55,
     "metadata": {},
     "output_type": "execute_result"
    }
   ],
   "source": [
    "y_s_flat[:5,:5]"
   ]
  },
  {
   "cell_type": "code",
   "execution_count": 56,
   "metadata": {},
   "outputs": [
    {
     "data": {
      "text/plain": [
       "(1, 32, 32, 3)"
      ]
     },
     "execution_count": 56,
     "metadata": {},
     "output_type": "execute_result"
    }
   ],
   "source": [
    "img.shape"
   ]
  },
  {
   "cell_type": "code",
   "execution_count": 57,
   "metadata": {},
   "outputs": [],
   "source": [
    "t_img = cv2.remap(img[0], x_s_flat, y_s_flat, cv2.INTER_CUBIC)"
   ]
  },
  {
   "cell_type": "code",
   "execution_count": 58,
   "metadata": {},
   "outputs": [
    {
     "data": {
      "text/plain": [
       "(32, 32, 3)"
      ]
     },
     "execution_count": 58,
     "metadata": {},
     "output_type": "execute_result"
    }
   ],
   "source": [
    "t_img.shape"
   ]
  },
  {
   "cell_type": "code",
   "execution_count": 59,
   "metadata": {},
   "outputs": [
    {
     "data": {
      "text/plain": [
       "array([[[[236, 245, 249],\n",
       "         [238, 246, 251],\n",
       "         [244, 250, 251],\n",
       "         ...,\n",
       "         [168, 168, 171],\n",
       "         [188, 189, 195],\n",
       "         [210, 214, 223]],\n",
       "\n",
       "        [[236, 243, 243],\n",
       "         [233, 241, 241],\n",
       "         [241, 247, 246],\n",
       "         ...,\n",
       "         [149, 151, 157],\n",
       "         [167, 171, 180],\n",
       "         [173, 177, 184]],\n",
       "\n",
       "        [[228, 235, 239],\n",
       "         [226, 234, 237],\n",
       "         [232, 238, 239],\n",
       "         ...,\n",
       "         [135, 134, 135],\n",
       "         [156, 156, 162],\n",
       "         [157, 153, 154]],\n",
       "\n",
       "        ...,\n",
       "\n",
       "        [[159, 147, 135],\n",
       "         [126, 114, 102],\n",
       "         [121, 115, 108],\n",
       "         ...,\n",
       "         [175, 155, 131],\n",
       "         [162, 138, 116],\n",
       "         [172, 152, 129]],\n",
       "\n",
       "        [[139, 130, 122],\n",
       "         [124, 118, 111],\n",
       "         [134, 128, 120],\n",
       "         ...,\n",
       "         [187, 168, 143],\n",
       "         [144, 123, 105],\n",
       "         [172, 154, 134]],\n",
       "\n",
       "        [[176, 174, 168],\n",
       "         [166, 162, 157],\n",
       "         [170, 166, 160],\n",
       "         ...,\n",
       "         [208, 192, 172],\n",
       "         [193, 176, 157],\n",
       "         [178, 163, 150]]]], dtype=uint8)"
      ]
     },
     "execution_count": 59,
     "metadata": {},
     "output_type": "execute_result"
    }
   ],
   "source": [
    "img"
   ]
  },
  {
   "cell_type": "code",
   "execution_count": 61,
   "metadata": {},
   "outputs": [
    {
     "data": {
      "text/plain": [
       "(32, 32, 3)"
      ]
     },
     "execution_count": 61,
     "metadata": {},
     "output_type": "execute_result"
    }
   ],
   "source": [
    "t_img.shape"
   ]
  },
  {
   "cell_type": "code",
   "execution_count": 60,
   "metadata": {},
   "outputs": [
    {
     "data": {
      "text/plain": [
       "<matplotlib.image.AxesImage at 0x7f38cc3c35f8>"
      ]
     },
     "execution_count": 60,
     "metadata": {},
     "output_type": "execute_result"
    },
    {
     "data": {
      "image/png": "[encoded data removed]",
      "text/plain": [
       "<Figure size 432x288 with 1 Axes>"
      ]
     },
     "metadata": {
      "needs_background": "light"
     },
     "output_type": "display_data"
    }
   ],
   "source": [
    "plt.imshow(t_img)"
   ]
  },
  {
   "cell_type": "code",
   "execution_count": null,
   "metadata": {},
   "outputs": [],
   "source": [
    "t_img.shape"
   ]
  },
  {
   "cell_type": "code",
   "execution_count": null,
   "metadata": {},
   "outputs": [],
   "source": [
    "t_img[0].numpy().min()"
   ]
  },
  {
   "cell_type": "code",
   "execution_count": null,
   "metadata": {},
   "outputs": [],
   "source": []
  },
  {
   "cell_type": "code",
   "execution_count": null,
   "metadata": {},
   "outputs": [],
   "source": []
  },
  {
   "cell_type": "code",
   "execution_count": null,
   "metadata": {},
   "outputs": [],
   "source": []
  },
  {
   "cell_type": "code",
   "execution_count": null,
   "metadata": {},
   "outputs": [],
   "source": []
  }
 ],
 "metadata": {
  "kernelspec": {
   "display_name": "Python 3",
   "language": "python",
   "name": "python3"
  },
  "language_info": {
   "codemirror_mode": {
    "name": "ipython",
    "version": 3
   },
   "file_extension": ".py",
   "mimetype": "text/x-python",
   "name": "python",
   "nbconvert_exporter": "python",
   "pygments_lexer": "ipython3",
   "version": "3.6.8"
  }
 },
 "nbformat": 4,
 "nbformat_minor": 4
}

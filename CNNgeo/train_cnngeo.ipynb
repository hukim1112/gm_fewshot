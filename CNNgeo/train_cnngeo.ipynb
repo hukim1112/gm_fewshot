{
 "cells": [
  {
   "cell_type": "code",
   "execution_count": 1,
   "metadata": {},
   "outputs": [],
   "source": [
    "from geo_transform.tf_tps import ThinPlateSpline as tps\n",
    "import os\n",
    "import cv2\n",
    "import numpy as np\n",
    "from matplotlib import pyplot as plt\n",
    "import tensorflow as tf\n",
    "from tensorflow.keras.applications.vgg16 import preprocess_input\n",
    "from functools import partial\n"
   ]
  },
  {
   "cell_type": "code",
   "execution_count": 2,
   "metadata": {},
   "outputs": [
    {
     "name": "stdout",
     "output_type": "stream",
     "text": [
      "1 Physical GPUs, 1 Logical GPUs\n"
     ]
    }
   ],
   "source": [
    "os.environ[\"CUDA_VISIBLE_DEVICES\"]=\"0\"\n",
    "from utils import tf_session\n",
    "tf_session.setup_gpus(True, 0.95)"
   ]
  },
  {
   "cell_type": "markdown",
   "metadata": {},
   "source": [
    "# 1.Data load"
   ]
  },
  {
   "cell_type": "code",
   "execution_count": 3,
   "metadata": {},
   "outputs": [
    {
     "ename": "ModuleNotFoundError",
     "evalue": "No module named 'data_loader.dev_dataset'",
     "output_type": "error",
     "traceback": [
      "\u001b[0;31m---------------------------------------------------------------------------\u001b[0m",
      "\u001b[0;31mModuleNotFoundError\u001b[0m                       Traceback (most recent call last)",
      "\u001b[0;32m<ipython-input-3-86dbb05e3780>\u001b[0m in \u001b[0;36m<module>\u001b[0;34m\u001b[0m\n\u001b[0;32m----> 1\u001b[0;31m \u001b[0;32mfrom\u001b[0m \u001b[0mdata_loader\u001b[0m\u001b[0;34m.\u001b[0m\u001b[0mdev_dataset\u001b[0m \u001b[0;32mimport\u001b[0m \u001b[0mtf_image_process\u001b[0m\u001b[0;34m\u001b[0m\u001b[0;34m\u001b[0m\u001b[0m\n\u001b[0m\u001b[1;32m      2\u001b[0m \u001b[0;32mimport\u001b[0m \u001b[0mrandom\u001b[0m\u001b[0;34m\u001b[0m\u001b[0;34m\u001b[0m\u001b[0m\n",
      "\u001b[0;31mModuleNotFoundError\u001b[0m: No module named 'data_loader.dev_dataset'"
     ]
    }
   ],
   "source": [
    "from data_loader.dev_dataset import tf_image_process\n",
    "import random"
   ]
  },
  {
   "cell_type": "code",
   "execution_count": null,
   "metadata": {},
   "outputs": [],
   "source": [
    "_datapath = \"PF-dataset-PASCAL/JPEGImages\"\n",
    "filelist = os.listdir(_datapath)\n",
    "random.shuffle(filelist)\n",
    "input_size = (200, 200)\n",
    "\n",
    "images = []\n",
    "\n",
    "for f in filelist:\n",
    "    _path = os.path.join(_datapath, f)\n",
    "    img = cv2.imread(_path)[:,:,::-1]\n",
    "    img = cv2.resize(img, input_size, interpolation=cv2.INTER_AREA)\n",
    "    images.append(img)\n",
    "\n",
    "images = np.array(images, dtype=np.float32)"
   ]
  },
  {
   "cell_type": "code",
   "execution_count": null,
   "metadata": {},
   "outputs": [],
   "source": [
    "tps_random_rate = 0.4\n",
    "output_size = (200, 200)\n",
    "map_func = partial(tf_image_process, tps_random_rate=tps_random_rate,\n",
    "                      output_size=output_size)\n",
    "ds = tf.data.Dataset.from_tensor_slices(images).shuffle(2000)\n",
    "ds = ds.map(map_func, num_parallel_calls=tf.data.experimental.AUTOTUNE)\n",
    "ds = ds.batch(10)"
   ]
  },
  {
   "cell_type": "code",
   "execution_count": null,
   "metadata": {},
   "outputs": [],
   "source": [
    "for A, B, p in ds.take(1):\n",
    "    print(A.shape, B.shape)\n",
    "    print(p.shape)"
   ]
  },
  {
   "cell_type": "code",
   "execution_count": null,
   "metadata": {},
   "outputs": [],
   "source": [
    "plt.imshow(images[1]/255)"
   ]
  },
  {
   "cell_type": "code",
   "execution_count": null,
   "metadata": {},
   "outputs": [],
   "source": [
    "plt.imshow(A[1])"
   ]
  },
  {
   "cell_type": "code",
   "execution_count": null,
   "metadata": {},
   "outputs": [],
   "source": [
    "plt.imshow(B[1])"
   ]
  },
  {
   "cell_type": "markdown",
   "metadata": {},
   "source": [
    "# 2. Model definition"
   ]
  },
  {
   "cell_type": "code",
   "execution_count": null,
   "metadata": {},
   "outputs": [],
   "source": [
    "from models.cnngeo import CNN_geotransform"
   ]
  },
  {
   "cell_type": "code",
   "execution_count": null,
   "metadata": {},
   "outputs": [],
   "source": [
    "# (a) feature extraction\n",
    "\n",
    "input_layer = tf.keras.Input(shape=(input_size[0], input_size[1],3))\n",
    "normalized_input = tf.keras.applications.vgg16.preprocess_input(input_layer)\n",
    "vgg16 = tf.keras.applications.VGG16(weights='imagenet', input_shape=(input_size[0], input_size[1], 3), \n",
    "                                    include_top=False)\n",
    "output_layer = vgg16.get_layer(\"block4_conv3\")\n",
    "output_layer.activation = None\n",
    "splited_model = tf.keras.Model(inputs=vgg16.input, outputs=output_layer.output)\n",
    "output = splited_model(normalized_input)\n",
    "feature_extractor = tf.keras.Model(inputs=normalized_input, outputs=output)"
   ]
  },
  {
   "cell_type": "code",
   "execution_count": null,
   "metadata": {},
   "outputs": [],
   "source": [
    "cnngeo = CNN_geotransform(feature_extractor, 18)"
   ]
  },
  {
   "cell_type": "code",
   "execution_count": null,
   "metadata": {},
   "outputs": [],
   "source": [
    "geo_parameters, correlations = cnngeo(A, B)"
   ]
  },
  {
   "cell_type": "code",
   "execution_count": null,
   "metadata": {},
   "outputs": [],
   "source": [
    "cnngeo.summary()"
   ]
  },
  {
   "cell_type": "code",
   "execution_count": null,
   "metadata": {},
   "outputs": [],
   "source": [
    "geo_parameters.shape"
   ]
  },
  {
   "cell_type": "markdown",
   "metadata": {},
   "source": [
    "# 3.Training"
   ]
  },
  {
   "cell_type": "code",
   "execution_count": null,
   "metadata": {},
   "outputs": [],
   "source": [
    "def loss_fn(preds, labels):\n",
    "    control_points = tf.constant([[-1.0, -1.0], [0.0, -1.0], [1.0, -1.0],\n",
    "                               [-1.0, 0.0], [0.0, 0.0], [1.0, 0.0],\n",
    "                               [-1.0, 1.0], [0.0, 1.0], [1.0, 1.0]], dtype=tf.float32)\n",
    "    num_batch = preds.shape[0]\n",
    "    pred_grid_x, pred_grid_y = tps(tf.tile(control_points[tf.newaxis,::], [num_batch,1,1]), -preds, (20, 20))\n",
    "    gt_grid_x, gt_grid_y = tps(tf.tile(control_points[tf.newaxis,::], [num_batch,1,1]), -labels, (20, 20))\n",
    "    \n",
    "    dist = tf.sqrt(tf.pow(pred_grid_x - gt_grid_x, 2) + tf.pow(pred_grid_y - gt_grid_y, 2))\n",
    "    loss_mean = tf.reduce_mean(dist)\n",
    "    return loss_mean\n",
    "\n",
    "\n",
    "@tf.function\n",
    "def train_step(image_A, image_B, labels, model, optimizer):\n",
    "    with tf.GradientTape() as tape:\n",
    "        preds, corr = model(image_A, image_B)\n",
    "        loss = loss_fn(preds, labels)\n",
    "    gradients = tape.gradient(loss, model.trainable_variables)\n",
    "    optimizer.apply_gradients(zip(gradients, model.trainable_variables))\n",
    "    return loss"
   ]
  },
  {
   "cell_type": "code",
   "execution_count": null,
   "metadata": {},
   "outputs": [],
   "source": [
    "optimizer = tf.keras.optimizers.Adam(learning_rate=1E-4)\n",
    "\n",
    "train_loss = tf.metrics.Mean(name='train_loss')\n",
    "x_axis = []\n",
    "y_loss = []\n",
    "for epoch in range(4000):\n",
    "    for step, (image_a, image_b, labels) in enumerate(ds):\n",
    "        t_loss = train_step(image_a, image_b, labels, cnngeo, optimizer)\n",
    "        train_loss(t_loss)\n",
    "    template = 'Epoch {}, Loss: {}'\n",
    "    print(template.format(epoch + 1, train_loss.result()))\n",
    "    x_axis.append(epoch)\n",
    "    y_loss.append(train_loss.result().numpy())\n",
    "    train_loss.reset_states()"
   ]
  },
  {
   "cell_type": "code",
   "execution_count": null,
   "metadata": {},
   "outputs": [],
   "source": [
    "fig = plt.figure()\n",
    "axis = fig.add_subplot(111)\n",
    "axis.title.set_text(\"training_loss\")\n",
    "axis.set_xlabel(\"epoch\")\n",
    "axis.set_ylabel(\"training loss\")\n",
    "axis.plot(np.array(x_axis), np.array(y_loss))"
   ]
  },
  {
   "cell_type": "code",
   "execution_count": null,
   "metadata": {},
   "outputs": [],
   "source": [
    "for A, B, p in ds.take(1):\n",
    "    print(A.shape, B.shape)\n",
    "    preds, corr = cnngeo(A, B)\n",
    "\n",
    "warping_images = []\n",
    "output_size = A.shape[1:3]\n",
    "control_points = tf.constant([[-1.0, -1.0], [0.0, -1.0], [1.0, -1.0],\n",
    "                               [-1.0, 0.0], [0.0, 0.0], [1.0, 0.0],\n",
    "                               [-1.0, 1.0], [0.0, 1.0], [1.0, 1.0]], dtype=tf.float32)\n",
    "for image, pred in zip(A, preds):\n",
    "    x_s, y_s = tps(control_points[tf.newaxis,::], -pred[tf.newaxis,::], output_size)\n",
    "    image = image.numpy()\n",
    "    warping_images.append(cv2.remap(image, x_s[0].numpy(), y_s[0].numpy(), cv2.INTER_CUBIC))\n",
    "\n",
    "warping_images = np.array(warping_images)    "
   ]
  },
  {
   "cell_type": "code",
   "execution_count": null,
   "metadata": {},
   "outputs": [],
   "source": [
    "def restore_original_image_from_array(x, data_format=None):\n",
    "    mean = [103.939, 116.779, 123.68]\n",
    "\n",
    "    # Zero-center by mean pixel\n",
    "    if data_format == 'channels_first':\n",
    "        if x.ndim == 3:\n",
    "            x[0, :, :] += mean[0]\n",
    "            x[1, :, :] += mean[1]\n",
    "            x[2, :, :] += mean[2]\n",
    "        else:\n",
    "            x[:, 0, :, :] += mean[0]\n",
    "            x[:, 1, :, :] += mean[1]\n",
    "            x[:, 2, :, :] += mean[2]\n",
    "    else:\n",
    "        x[..., 0] += mean[0]\n",
    "        x[..., 1] += mean[1]\n",
    "        x[..., 2] += mean[2]\n",
    "\n",
    "    if data_format == 'channels_first':\n",
    "        # 'BGR'->'RGB'\n",
    "        if x.ndim == 3:\n",
    "            x = x[::-1, ...]\n",
    "        else:\n",
    "            x = x[:, ::-1, ...]\n",
    "    else:\n",
    "        # 'BGR'->'RGB'\n",
    "        x = x[..., ::-1]\n",
    "\n",
    "    return x"
   ]
  },
  {
   "cell_type": "code",
   "execution_count": null,
   "metadata": {},
   "outputs": [],
   "source": [
    "plt.imshow(A[1])"
   ]
  },
  {
   "cell_type": "code",
   "execution_count": null,
   "metadata": {},
   "outputs": [],
   "source": [
    "plt.imshow(B[1])"
   ]
  },
  {
   "cell_type": "code",
   "execution_count": null,
   "metadata": {},
   "outputs": [],
   "source": [
    "plt.imshow(warping_images[4])"
   ]
  },
  {
   "cell_type": "code",
   "execution_count": null,
   "metadata": {},
   "outputs": [],
   "source": [
    "plt.imshow(restore_original_image_from_array(B[1].numpy())/255)"
   ]
  },
  {
   "cell_type": "code",
   "execution_count": null,
   "metadata": {},
   "outputs": [],
   "source": [
    "plt.imshow(restore_original_image_from_array(warping_images[1])/255)"
   ]
  },
  {
   "cell_type": "code",
   "execution_count": null,
   "metadata": {},
   "outputs": [],
   "source": [
    "plt.imshow(images[1]/255)"
   ]
  },
  {
   "cell_type": "markdown",
   "metadata": {},
   "source": [
    "# Comparison between ground-truth and prediction of motion vectors."
   ]
  },
  {
   "cell_type": "code",
   "execution_count": null,
   "metadata": {},
   "outputs": [],
   "source": [
    "print(p.shape)\n",
    "print(preds.shape)"
   ]
  },
  {
   "cell_type": "code",
   "execution_count": null,
   "metadata": {},
   "outputs": [],
   "source": [
    "for A, B, p in ds.take(1):\n",
    "    print(A.shape, B.shape)\n",
    "    preds, corr = cnngeo(A, B)\n",
    "\n",
    "warping_images = []\n",
    "output_size = A.shape[1:3]\n",
    "control_points = tf.constant([[-1.0, -1.0], [0.0, -1.0], [1.0, -1.0],\n",
    "                               [-1.0, 0.0], [0.0, 0.0], [1.0, 0.0],\n",
    "                               [-1.0, 1.0], [0.0, 1.0], [1.0, 1.0]], dtype=tf.float32)\n",
    "for image, pred in zip(A, preds):\n",
    "    x_s, y_s = tps(control_points[tf.newaxis,::], -pred[tf.newaxis,::], output_size)\n",
    "    image = image.numpy()\n",
    "    warping_images.append(cv2.remap(image, x_s[0].numpy(), y_s[0].numpy(), cv2.INTER_CUBIC))\n",
    "\n",
    "warping_images = np.array(warping_images)    "
   ]
  },
  {
   "cell_type": "code",
   "execution_count": null,
   "metadata": {},
   "outputs": [],
   "source": [
    "def decode(x):\n",
    "    x = (x + 1)/2\n",
    "    if type(x) != np.ndarray:\n",
    "        return x.numpy()\n",
    "    else:\n",
    "        return x\n",
    "def makeBorder(image, bordersize):\n",
    "    draw_image = image.copy()\n",
    "    color = [1, 1, 1]\n",
    "    draw_image = cv2.copyMakeBorder(draw_image,\n",
    "                                    top=bordersize, bottom=bordersize,\n",
    "                                    left=bordersize, right=bordersize,\n",
    "                                    borderType=cv2.BORDER_CONSTANT,\n",
    "                                    value=color)\n",
    "    return draw_image\n",
    "\n",
    "\n",
    "def draw_point(image, bordersize, points=None):\n",
    "    draw_image = image.copy()\n",
    "    H, W, C = draw_image.shape\n",
    "    if points is None:\n",
    "        points = np.array([[0.0, 0.0], [0.5, 0.0], [1.0, 0.0],\n",
    "                           [0.0, 0.5], [0.5, 0.5], [1.0, 0.5],\n",
    "                           [0.0, 1.0], [0.5, 1.0], [1.0, 1.0]])\n",
    "    points = points * (W - 2 * bordersize, H - 2 * bordersize)\n",
    "    points = points.astype(np.int32)\n",
    "    for pnt in points:\n",
    "        draw_image = cv2.circle(draw_image, tuple(\n",
    "            pnt + bordersize), 1, (0, 1, 0), -1)\n",
    "    return draw_image\n",
    "\n",
    "\n",
    "def draw_arrow(image, bordersize, motion_parameters, src_points=None):\n",
    "    draw_image = image.copy()\n",
    "    H, W, C = image.shape\n",
    "    if src_points is None:\n",
    "        src_points = np.array([[0.0, 0.0], [0.5, 0.0], [1.0, 0.0],\n",
    "                               [0.0, 0.5], [0.5, 0.5], [1.0, 0.5],\n",
    "                               [0.0, 1.0], [0.5, 1.0], [1.0, 1.0]])\n",
    "    src_points = src_points * (W - 2 * bordersize, H - 2 * bordersize)\n",
    "    src_points = src_points.astype(np.int32)\n",
    "    motion_parameters = motion_parameters * \\\n",
    "        (W - 2 * bordersize, H - 2 * bordersize)\n",
    "    dst_points = src_points + motion_parameters\n",
    "    dst_points = dst_points.astype(np.int32)\n",
    "\n",
    "    for src, dst in zip(src_points, dst_points):\n",
    "        draw_image = cv2.arrowedLine(draw_image, tuple(src + bordersize), tuple(dst + bordersize),\n",
    "                                     (1, 0, 0), 1)\n",
    "    return draw_image"
   ]
  },
  {
   "cell_type": "code",
   "execution_count": null,
   "metadata": {},
   "outputs": [],
   "source": [
    "motion_vector = p[0].numpy()\n",
    "\n",
    "padd = 50\n",
    "white_board = makeBorder(A[0].numpy(), padd)"
   ]
  },
  {
   "cell_type": "code",
   "execution_count": null,
   "metadata": {},
   "outputs": [],
   "source": [
    "plt.imshow(draw_point(white_board, padd))"
   ]
  },
  {
   "cell_type": "code",
   "execution_count": null,
   "metadata": {},
   "outputs": [],
   "source": [
    "plt.imshow(draw_arrow(white_board, padd, p[0].numpy()/2))"
   ]
  },
  {
   "cell_type": "code",
   "execution_count": null,
   "metadata": {},
   "outputs": [],
   "source": [
    "plt.imshow(B[0].numpy())"
   ]
  },
  {
   "cell_type": "code",
   "execution_count": null,
   "metadata": {},
   "outputs": [],
   "source": [
    "plt.imshow(draw_arrow(white_board, padd, preds[0].numpy()/2))"
   ]
  },
  {
   "cell_type": "code",
   "execution_count": null,
   "metadata": {},
   "outputs": [],
   "source": [
    "plt.imshow(warping_images[0])"
   ]
  },
  {
   "cell_type": "code",
   "execution_count": null,
   "metadata": {},
   "outputs": [],
   "source": [
    "cnngeo.save_weights(\"cnngeo.h5\")"
   ]
  },
  {
   "cell_type": "code",
   "execution_count": null,
   "metadata": {},
   "outputs": [],
   "source": []
  }
 ],
 "metadata": {
  "kernelspec": {
   "display_name": "Python 3",
   "language": "python",
   "name": "python3"
  },
  "language_info": {
   "codemirror_mode": {
    "name": "ipython",
    "version": 3
   },
   "file_extension": ".py",
   "mimetype": "text/x-python",
   "name": "python",
   "nbconvert_exporter": "python",
   "pygments_lexer": "ipython3",
   "version": "3.6.9"
  }
 },
 "nbformat": 4,
 "nbformat_minor": 4
}

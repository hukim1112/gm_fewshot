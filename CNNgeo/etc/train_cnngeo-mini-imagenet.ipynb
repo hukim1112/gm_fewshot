{
 "cells": [
  {
   "cell_type": "code",
   "execution_count": 10,
   "metadata": {},
   "outputs": [
    {
     "name": "stdout",
     "output_type": "stream",
     "text": [
      "The autoreload extension is already loaded. To reload it, use:\n",
      "  %reload_ext autoreload\n"
     ]
    }
   ],
   "source": [
    "%load_ext autoreload\n",
    "%autoreload 2"
   ]
  },
  {
   "cell_type": "code",
   "execution_count": 11,
   "metadata": {},
   "outputs": [],
   "source": [
    "from geo_transform.tf_tps import ThinPlateSpline as tps\n",
    "\n",
    "import cv2\n",
    "import numpy as np\n",
    "from matplotlib import pyplot as plt\n",
    "import tensorflow as tf\n",
    "from tensorflow.keras.applications.vgg16 import preprocess_input\n",
    "from functools import partial\n",
    "import os"
   ]
  },
  {
   "cell_type": "code",
   "execution_count": 12,
   "metadata": {},
   "outputs": [
    {
     "ename": "ValueError",
     "evalue": "Cannot set memory growth on device when virtual devices configured",
     "output_type": "error",
     "traceback": [
      "\u001b[0;31m---------------------------------------------------------------------------\u001b[0m",
      "\u001b[0;31mValueError\u001b[0m                                Traceback (most recent call last)",
      "\u001b[0;32m<ipython-input-12-1a979577d967>\u001b[0m in \u001b[0;36m<module>\u001b[0;34m\u001b[0m\n\u001b[1;32m      1\u001b[0m \u001b[0mos\u001b[0m\u001b[0;34m.\u001b[0m\u001b[0menviron\u001b[0m\u001b[0;34m[\u001b[0m\u001b[0;34m\"CUDA_VISIBLE_DEVICES\"\u001b[0m\u001b[0;34m]\u001b[0m\u001b[0;34m=\u001b[0m\u001b[0;34m\"0\"\u001b[0m\u001b[0;34m\u001b[0m\u001b[0;34m\u001b[0m\u001b[0m\n\u001b[1;32m      2\u001b[0m \u001b[0;32mfrom\u001b[0m \u001b[0mdev_utils\u001b[0m \u001b[0;32mimport\u001b[0m \u001b[0mtf_session\u001b[0m\u001b[0;34m\u001b[0m\u001b[0;34m\u001b[0m\u001b[0m\n\u001b[0;32m----> 3\u001b[0;31m \u001b[0mtf_session\u001b[0m\u001b[0;34m.\u001b[0m\u001b[0msetup_gpus\u001b[0m\u001b[0;34m(\u001b[0m\u001b[0;32mTrue\u001b[0m\u001b[0;34m,\u001b[0m \u001b[0;36m0.95\u001b[0m\u001b[0;34m)\u001b[0m\u001b[0;34m\u001b[0m\u001b[0;34m\u001b[0m\u001b[0m\n\u001b[0m",
      "\u001b[0;32m/home/files/AI_project_templates/dev_utils/tf_session.py\u001b[0m in \u001b[0;36msetup_gpus\u001b[0;34m(allow_growth, memory_fraction)\u001b[0m\n\u001b[1;32m     41\u001b[0m                 \u001b[0mmemory\u001b[0m \u001b[0;34m=\u001b[0m \u001b[0mget_gpus_memory\u001b[0m\u001b[0;34m(\u001b[0m\u001b[0;34m)\u001b[0m\u001b[0;34m[\u001b[0m\u001b[0mi\u001b[0m\u001b[0;34m]\u001b[0m\u001b[0;34m\u001b[0m\u001b[0;34m\u001b[0m\u001b[0m\n\u001b[1;32m     42\u001b[0m \u001b[0;34m\u001b[0m\u001b[0m\n\u001b[0;32m---> 43\u001b[0;31m                 \u001b[0mtf\u001b[0m\u001b[0;34m.\u001b[0m\u001b[0mconfig\u001b[0m\u001b[0;34m.\u001b[0m\u001b[0mexperimental\u001b[0m\u001b[0;34m.\u001b[0m\u001b[0mset_memory_growth\u001b[0m\u001b[0;34m(\u001b[0m\u001b[0mgpu\u001b[0m\u001b[0;34m,\u001b[0m \u001b[0mallow_growth\u001b[0m\u001b[0;34m)\u001b[0m\u001b[0;34m\u001b[0m\u001b[0;34m\u001b[0m\u001b[0m\n\u001b[0m\u001b[1;32m     44\u001b[0m \u001b[0;34m\u001b[0m\u001b[0m\n\u001b[1;32m     45\u001b[0m                 \u001b[0;31m# Setting memory limit to max*fraction\u001b[0m\u001b[0;34m\u001b[0m\u001b[0;34m\u001b[0m\u001b[0;34m\u001b[0m\u001b[0m\n",
      "\u001b[0;32m/usr/local/lib/python3.6/dist-packages/tensorflow_core/python/framework/config.py\u001b[0m in \u001b[0;36mset_memory_growth\u001b[0;34m(device, enable)\u001b[0m\n\u001b[1;32m    452\u001b[0m     \u001b[0menable\u001b[0m\u001b[0;34m:\u001b[0m \u001b[0mWhether\u001b[0m \u001b[0mto\u001b[0m \u001b[0menable\u001b[0m \u001b[0;32mor\u001b[0m \u001b[0mdisable\u001b[0m \u001b[0mmemory\u001b[0m \u001b[0mgrowth\u001b[0m\u001b[0;34m\u001b[0m\u001b[0;34m\u001b[0m\u001b[0m\n\u001b[1;32m    453\u001b[0m   \"\"\"\n\u001b[0;32m--> 454\u001b[0;31m   \u001b[0mcontext\u001b[0m\u001b[0;34m.\u001b[0m\u001b[0mcontext\u001b[0m\u001b[0;34m(\u001b[0m\u001b[0;34m)\u001b[0m\u001b[0;34m.\u001b[0m\u001b[0mset_memory_growth\u001b[0m\u001b[0;34m(\u001b[0m\u001b[0mdevice\u001b[0m\u001b[0;34m,\u001b[0m \u001b[0menable\u001b[0m\u001b[0;34m)\u001b[0m\u001b[0;34m\u001b[0m\u001b[0;34m\u001b[0m\u001b[0m\n\u001b[0m\u001b[1;32m    455\u001b[0m \u001b[0;34m\u001b[0m\u001b[0m\n\u001b[1;32m    456\u001b[0m \u001b[0;34m\u001b[0m\u001b[0m\n",
      "\u001b[0;32m/usr/local/lib/python3.6/dist-packages/tensorflow_core/python/eager/context.py\u001b[0m in \u001b[0;36mset_memory_growth\u001b[0;34m(self, dev, enable)\u001b[0m\n\u001b[1;32m   1220\u001b[0m     \u001b[0;32mif\u001b[0m \u001b[0mdev\u001b[0m \u001b[0;32min\u001b[0m \u001b[0mself\u001b[0m\u001b[0;34m.\u001b[0m\u001b[0m_virtual_device_map\u001b[0m\u001b[0;34m:\u001b[0m\u001b[0;34m\u001b[0m\u001b[0;34m\u001b[0m\u001b[0m\n\u001b[1;32m   1221\u001b[0m       raise ValueError(\n\u001b[0;32m-> 1222\u001b[0;31m           \"Cannot set memory growth on device when virtual devices configured\")\n\u001b[0m\u001b[1;32m   1223\u001b[0m \u001b[0;34m\u001b[0m\u001b[0m\n\u001b[1;32m   1224\u001b[0m     \u001b[0;32mif\u001b[0m \u001b[0mdev\u001b[0m\u001b[0;34m.\u001b[0m\u001b[0mdevice_type\u001b[0m \u001b[0;34m!=\u001b[0m \u001b[0;34m\"GPU\"\u001b[0m\u001b[0;34m:\u001b[0m\u001b[0;34m\u001b[0m\u001b[0;34m\u001b[0m\u001b[0m\n",
      "\u001b[0;31mValueError\u001b[0m: Cannot set memory growth on device when virtual devices configured"
     ]
    }
   ],
   "source": [
    "os.environ[\"CUDA_VISIBLE_DEVICES\"]=\"0\"\n",
    "from dev_utils import tf_session\n",
    "tf_session.setup_gpus(True, 0.95)"
   ]
  },
  {
   "cell_type": "markdown",
   "metadata": {},
   "source": [
    "# 1.Data load"
   ]
  },
  {
   "cell_type": "code",
   "execution_count": 8,
   "metadata": {},
   "outputs": [
    {
     "name": "stdout",
     "output_type": "stream",
     "text": [
      " __pycache__\t models.py\t  train_CNNgeo.py\r\n",
      " checkpoints\t original.png\t \"train_cnngeo-kim's_loss.ipynb\"\r\n",
      " configs\t overfit.json\t  train_cnngeo-mini-imagenet.ipynb\r\n",
      " data_loader\t sample_dataset   train_cnngeo.ipynb\r\n",
      " geo_transform\t tps_test.ipynb   utils\r\n",
      " models\t\t train.py\r\n"
     ]
    }
   ],
   "source": [
    "!ls data_loader"
   ]
  },
  {
   "cell_type": "code",
   "execution_count": 13,
   "metadata": {},
   "outputs": [
    {
     "ename": "ModuleNotFoundError",
     "evalue": "No module named 'data_loader.dev'",
     "output_type": "error",
     "traceback": [
      "\u001b[0;31m---------------------------------------------------------------------------\u001b[0m",
      "\u001b[0;31mModuleNotFoundError\u001b[0m                       Traceback (most recent call last)",
      "\u001b[0;32m<ipython-input-13-5fcc65b22b13>\u001b[0m in \u001b[0;36m<module>\u001b[0;34m\u001b[0m\n\u001b[1;32m      1\u001b[0m \u001b[0;32mimport\u001b[0m \u001b[0mjson\u001b[0m\u001b[0;34m\u001b[0m\u001b[0;34m\u001b[0m\u001b[0m\n\u001b[0;32m----> 2\u001b[0;31m \u001b[0;32mfrom\u001b[0m \u001b[0mdata_loader\u001b[0m \u001b[0;32mimport\u001b[0m \u001b[0mload\u001b[0m\u001b[0;34m\u001b[0m\u001b[0;34m\u001b[0m\u001b[0m\n\u001b[0m\u001b[1;32m      3\u001b[0m \u001b[0;32mwith\u001b[0m \u001b[0mopen\u001b[0m\u001b[0;34m(\u001b[0m\u001b[0;34m\"overfit.json\"\u001b[0m\u001b[0;34m)\u001b[0m \u001b[0;32mas\u001b[0m \u001b[0mfile\u001b[0m\u001b[0;34m:\u001b[0m\u001b[0;34m\u001b[0m\u001b[0;34m\u001b[0m\u001b[0m\n\u001b[1;32m      4\u001b[0m         \u001b[0mconfig\u001b[0m \u001b[0;34m=\u001b[0m \u001b[0mjson\u001b[0m\u001b[0;34m.\u001b[0m\u001b[0mload\u001b[0m\u001b[0;34m(\u001b[0m\u001b[0mfile\u001b[0m\u001b[0;34m)\u001b[0m\u001b[0;34m\u001b[0m\u001b[0;34m\u001b[0m\u001b[0m\n\u001b[1;32m      5\u001b[0m \u001b[0;34m\u001b[0m\u001b[0m\n",
      "\u001b[0;32m/home/files/meta-vision/CNNgeo/data_loader/__init__.py\u001b[0m in \u001b[0;36m<module>\u001b[0;34m\u001b[0m\n\u001b[0;32m----> 1\u001b[0;31m \u001b[0;32mfrom\u001b[0m \u001b[0;34m.\u001b[0m\u001b[0mloader\u001b[0m \u001b[0;32mimport\u001b[0m \u001b[0mload\u001b[0m\u001b[0;34m\u001b[0m\u001b[0;34m\u001b[0m\u001b[0m\n\u001b[0m",
      "\u001b[0;32m/home/files/meta-vision/CNNgeo/data_loader/loader.py\u001b[0m in \u001b[0;36m<module>\u001b[0;34m\u001b[0m\n\u001b[1;32m      1\u001b[0m \u001b[0;32mfrom\u001b[0m \u001b[0;34m.\u001b[0m\u001b[0mmini_imagenet\u001b[0m \u001b[0;32mimport\u001b[0m \u001b[0mload_mini_imagenet\u001b[0m\u001b[0;34m\u001b[0m\u001b[0;34m\u001b[0m\u001b[0m\n\u001b[0;32m----> 2\u001b[0;31m \u001b[0;32mfrom\u001b[0m \u001b[0;34m.\u001b[0m\u001b[0mdev\u001b[0m \u001b[0;32mimport\u001b[0m \u001b[0mload_dev_dataset\u001b[0m\u001b[0;34m\u001b[0m\u001b[0;34m\u001b[0m\u001b[0m\n\u001b[0m\u001b[1;32m      3\u001b[0m \u001b[0;34m\u001b[0m\u001b[0m\n\u001b[1;32m      4\u001b[0m \u001b[0;32mdef\u001b[0m \u001b[0mload\u001b[0m\u001b[0;34m(\u001b[0m\u001b[0msplits\u001b[0m\u001b[0;34m,\u001b[0m \u001b[0mconfig\u001b[0m\u001b[0;34m)\u001b[0m\u001b[0;34m:\u001b[0m\u001b[0;34m\u001b[0m\u001b[0;34m\u001b[0m\u001b[0m\n\u001b[1;32m      5\u001b[0m     \u001b[0;32mif\u001b[0m \u001b[0mconfig\u001b[0m\u001b[0;34m[\u001b[0m\u001b[0;34m'dataset_name'\u001b[0m\u001b[0;34m]\u001b[0m \u001b[0;34m==\u001b[0m \u001b[0;34m'mini_imagenet'\u001b[0m\u001b[0;34m:\u001b[0m\u001b[0;34m\u001b[0m\u001b[0;34m\u001b[0m\u001b[0m\n",
      "\u001b[0;31mModuleNotFoundError\u001b[0m: No module named 'data_loader.dev'"
     ]
    }
   ],
   "source": [
    "import json\n",
    "from data_loader import load\n",
    "with open(\"overfit.json\") as file:\n",
    "        config = json.load(file)\n",
    "\n",
    "\n",
    "batch_size = config['train']['batch_size']\n",
    "splits = ['train']\n",
    "datasets = load(splits, config)\n",
    "ds = datasets['train'].batch(\n",
    "        batch_size).prefetch(tf.data.experimental.AUTOTUNE)"
   ]
  },
  {
   "cell_type": "code",
   "execution_count": 5,
   "metadata": {},
   "outputs": [
    {
     "name": "stdout",
     "output_type": "stream",
     "text": [
      "(10, 64, 64, 3) (10, 64, 64, 3)\n",
      "(10, 9, 2)\n"
     ]
    }
   ],
   "source": [
    "for A, B, p in ds.take(1):\n",
    "    print(A.shape, B.shape)\n",
    "    print(p.shape)"
   ]
  },
  {
   "cell_type": "code",
   "execution_count": 6,
   "metadata": {},
   "outputs": [],
   "source": [
    "input_size = (64, 64)\n",
    "output_size = (64, 64)"
   ]
  },
  {
   "cell_type": "code",
   "execution_count": 7,
   "metadata": {},
   "outputs": [
    {
     "name": "stderr",
     "output_type": "stream",
     "text": [
      "Clipping input data to the valid range for imshow with RGB data ([0..1] for floats or [0..255] for integers).\n"
     ]
    },
    {
     "data": {
      "text/plain": [
       "<matplotlib.image.AxesImage at 0x7fb4f060eeb8>"
      ]
     },
     "execution_count": 7,
     "metadata": {},
     "output_type": "execute_result"
    },
    {
     "data": {
      "image/png": "[encoded data removed]",
      "text/plain": [
       "<Figure size 432x288 with 1 Axes>"
      ]
     },
     "metadata": {
      "needs_background": "light"
     },
     "output_type": "display_data"
    }
   ],
   "source": [
    "plt.imshow(A[0]/255)"
   ]
  },
  {
   "cell_type": "code",
   "execution_count": 8,
   "metadata": {},
   "outputs": [
    {
     "name": "stderr",
     "output_type": "stream",
     "text": [
      "Clipping input data to the valid range for imshow with RGB data ([0..1] for floats or [0..255] for integers).\n"
     ]
    },
    {
     "data": {
      "text/plain": [
       "<matplotlib.image.AxesImage at 0x7fb4f065f908>"
      ]
     },
     "execution_count": 8,
     "metadata": {},
     "output_type": "execute_result"
    },
    {
     "data": {
      "image/png": "[encoded data removed]",
      "text/plain": [
       "<Figure size 432x288 with 1 Axes>"
      ]
     },
     "metadata": {
      "needs_background": "light"
     },
     "output_type": "display_data"
    }
   ],
   "source": [
    "plt.imshow(B[0]/255)"
   ]
  },
  {
   "cell_type": "markdown",
   "metadata": {},
   "source": [
    "# 2. Model definition"
   ]
  },
  {
   "cell_type": "code",
   "execution_count": 9,
   "metadata": {},
   "outputs": [],
   "source": [
    "# (a) feature extraction\n",
    "vgg16 = tf.keras.applications.VGG16(weights='imagenet', input_shape=(input_size[0], input_size[1], 3), \n",
    "                                    include_top=False)\n",
    "output_layer = vgg16.get_layer(\"block3_conv3\")\n",
    "output_layer.activation = None\n",
    "feature_extractor = tf.keras.Model(inputs=vgg16.input, outputs=output_layer.output)"
   ]
  },
  {
   "cell_type": "code",
   "execution_count": 10,
   "metadata": {},
   "outputs": [
    {
     "name": "stdout",
     "output_type": "stream",
     "text": [
      "Model: \"vgg16\"\n",
      "_________________________________________________________________\n",
      "Layer (type)                 Output Shape              Param #   \n",
      "=================================================================\n",
      "input_1 (InputLayer)         [(None, 64, 64, 3)]       0         \n",
      "_________________________________________________________________\n",
      "block1_conv1 (Conv2D)        (None, 64, 64, 64)        1792      \n",
      "_________________________________________________________________\n",
      "block1_conv2 (Conv2D)        (None, 64, 64, 64)        36928     \n",
      "_________________________________________________________________\n",
      "block1_pool (MaxPooling2D)   (None, 32, 32, 64)        0         \n",
      "_________________________________________________________________\n",
      "block2_conv1 (Conv2D)        (None, 32, 32, 128)       73856     \n",
      "_________________________________________________________________\n",
      "block2_conv2 (Conv2D)        (None, 32, 32, 128)       147584    \n",
      "_________________________________________________________________\n",
      "block2_pool (MaxPooling2D)   (None, 16, 16, 128)       0         \n",
      "_________________________________________________________________\n",
      "block3_conv1 (Conv2D)        (None, 16, 16, 256)       295168    \n",
      "_________________________________________________________________\n",
      "block3_conv2 (Conv2D)        (None, 16, 16, 256)       590080    \n",
      "_________________________________________________________________\n",
      "block3_conv3 (Conv2D)        (None, 16, 16, 256)       590080    \n",
      "_________________________________________________________________\n",
      "block3_pool (MaxPooling2D)   (None, 8, 8, 256)         0         \n",
      "_________________________________________________________________\n",
      "block4_conv1 (Conv2D)        (None, 8, 8, 512)         1180160   \n",
      "_________________________________________________________________\n",
      "block4_conv2 (Conv2D)        (None, 8, 8, 512)         2359808   \n",
      "_________________________________________________________________\n",
      "block4_conv3 (Conv2D)        (None, 8, 8, 512)         2359808   \n",
      "_________________________________________________________________\n",
      "block4_pool (MaxPooling2D)   (None, 4, 4, 512)         0         \n",
      "_________________________________________________________________\n",
      "block5_conv1 (Conv2D)        (None, 4, 4, 512)         2359808   \n",
      "_________________________________________________________________\n",
      "block5_conv2 (Conv2D)        (None, 4, 4, 512)         2359808   \n",
      "_________________________________________________________________\n",
      "block5_conv3 (Conv2D)        (None, 4, 4, 512)         2359808   \n",
      "_________________________________________________________________\n",
      "block5_pool (MaxPooling2D)   (None, 2, 2, 512)         0         \n",
      "=================================================================\n",
      "Total params: 14,714,688\n",
      "Trainable params: 14,714,688\n",
      "Non-trainable params: 0\n",
      "_________________________________________________________________\n"
     ]
    }
   ],
   "source": [
    "vgg16.summary()"
   ]
  },
  {
   "cell_type": "code",
   "execution_count": 11,
   "metadata": {},
   "outputs": [],
   "source": [
    "# (b) channel-wise l2 normalization\n",
    "def feature_l2_normalization(feature_map):\n",
    "    #input(feature map) has tensor-shape (N, H, W, D)\n",
    "    l2_norm = tf.math.sqrt(tf.reduce_sum(tf.pow(feature_map, 2), axis=-1))  # (N, H, W)\n",
    "    l2_norm = tf.expand_dims(l2_norm, axis=-1)  # (N, H, W, 1)\n",
    "    # (N, H, W, D) tensor divided by (N, H, W, 1) tensor\n",
    "    return feature_map / (l2_norm+1E-5)"
   ]
  },
  {
   "cell_type": "code",
   "execution_count": 12,
   "metadata": {},
   "outputs": [],
   "source": [
    "# (c) Matching layer\n",
    "class Correlation_network(tf.keras.layers.Layer):\n",
    "    def __init__(self):\n",
    "        super(Correlation_network, self).__init__()\n",
    "\n",
    "    def call(self, feature_A, feature_B):\n",
    "        # featureA : feature information from source image\n",
    "        # featureB : feature information from target image\n",
    "        #assert feature_A.shape == feature_B.shape\n",
    "        # new feature A and feature B have new shape of tensors.\n",
    "        # featureA has tensor shape as [batch, HA, WA, 1, 1, depth]\n",
    "        # featureB has tensor shape as [batch, 1, 1, HB, WB, depth]\n",
    "        feature_A = feature_A[:, :, :, tf.newaxis, tf.newaxis, :]\n",
    "        feature_B = feature_B[:, tf.newaxis, tf.newaxis, :, :, :]\n",
    "        # correlation score has tensor shape as [batch, HA, WA, HB, WB]\n",
    "        corr_score = tf.reduce_sum(tf.multiply(feature_A, feature_B), axis=-1)\n",
    "        return corr_score\n",
    "# repeat penalty\n",
    "def normalize_correlation(corr_score):\n",
    "    ambiguous_match_penalty = tf.math.sqrt(tf.reduce_sum(tf.pow(corr_score, 2), axis=[3, 4], keepdims=True))\n",
    "    corr_score = tf.math.divide(corr_score, ambiguous_match_penalty+0.00001)\n",
    "    # see eq (2) in \"End-to-end weakly-supervised semantic alignment\"\n",
    "    return corr_score"
   ]
  },
  {
   "cell_type": "code",
   "execution_count": 13,
   "metadata": {},
   "outputs": [
    {
     "name": "stdout",
     "output_type": "stream",
     "text": [
      "(10, 16, 16, 256) (10, 16, 16, 256)\n"
     ]
    }
   ],
   "source": [
    "feature_A = feature_extractor(A)\n",
    "feature_B = feature_extractor(B)\n",
    "print(feature_A.shape, feature_B.shape)"
   ]
  },
  {
   "cell_type": "code",
   "execution_count": 14,
   "metadata": {},
   "outputs": [
    {
     "name": "stdout",
     "output_type": "stream",
     "text": [
      "(10, 16, 16, 256) (10, 16, 16, 256)\n"
     ]
    }
   ],
   "source": [
    "normalized_feature_A = feature_l2_normalization(feature_A)\n",
    "normalized_feature_B = feature_l2_normalization(feature_B)\n",
    "print(normalized_feature_A.shape, normalized_feature_B.shape)"
   ]
  },
  {
   "cell_type": "code",
   "execution_count": 15,
   "metadata": {},
   "outputs": [
    {
     "name": "stdout",
     "output_type": "stream",
     "text": [
      "(10, 16, 16, 16, 16)\n"
     ]
    }
   ],
   "source": [
    "correlation_net = Correlation_network()\n",
    "correlations = correlation_net(normalized_feature_A, normalized_feature_B)\n",
    "print(correlations.shape)"
   ]
  },
  {
   "cell_type": "code",
   "execution_count": 16,
   "metadata": {},
   "outputs": [],
   "source": [
    "correlations = tf.keras.layers.Activation(\"relu\")(correlations)\n",
    "correlations = normalize_correlation(correlations)"
   ]
  },
  {
   "cell_type": "code",
   "execution_count": 17,
   "metadata": {},
   "outputs": [],
   "source": [
    "# (d) regressor\n",
    "class Spatial_regressor(tf.keras.layers.Layer):\n",
    "    def __init__(self, num_param):\n",
    "        super(Spatial_regressor, self).__init__()\n",
    "        self.regressor = tf.keras.Sequential([\n",
    "            tf.keras.layers.Conv2D(128, (7, 7)),\n",
    "            tf.keras.layers.Activation(\"relu\"),\n",
    "            tf.keras.layers.BatchNormalization(),\n",
    "            tf.keras.layers.Conv2D(64, (5, 5)),\n",
    "            tf.keras.layers.Activation(\"relu\"),\n",
    "            tf.keras.layers.BatchNormalization(),\n",
    "            tf.keras.layers.Flatten(),\n",
    "            tf.keras.layers.Dense(num_param),\n",
    "        ])\n",
    "    def call(self, x):\n",
    "        AH,AW,BHW = x.shape[1], x.shape[2], x.shape[3]*x.shape[4]\n",
    "        x = tf.reshape(x, [-1, AH, AW, BHW])\n",
    "        x = self.regressor(x)\n",
    "        x = tf.reshape(x, [-1, 9, 2])\n",
    "        return x"
   ]
  },
  {
   "cell_type": "code",
   "execution_count": 18,
   "metadata": {},
   "outputs": [
    {
     "name": "stdout",
     "output_type": "stream",
     "text": [
      "(10, 9, 2)\n"
     ]
    }
   ],
   "source": [
    "spatial_regressor = Spatial_regressor(9*2)\n",
    "geo_parameters = spatial_regressor(correlations)\n",
    "print(geo_parameters.shape)"
   ]
  },
  {
   "cell_type": "code",
   "execution_count": 19,
   "metadata": {},
   "outputs": [],
   "source": [
    "class CNN_geotransform(tf.keras.Model):\n",
    "    def __init__(self, feature_extractor, num_param):\n",
    "        super(CNN_geotransform, self).__init__()\n",
    "        self.feature_extractor = feature_extractor\n",
    "        self.correlation_net = Correlation_network()\n",
    "        self.regressor = Spatial_regressor(9*2)\n",
    "    def call(self, imageA, imageB):\n",
    "        featureA = self.feature_extractor(imageA)\n",
    "        featureB = self.feature_extractor(imageB)\n",
    "        featureA = feature_l2_normalization(featureA)\n",
    "        featureB = feature_l2_normalization(featureB)\n",
    "        correlations = self.correlation_net(featureA, featureB)\n",
    "        correlations = tf.keras.layers.Activation(\"relu\")(correlations)\n",
    "        correlations = normalize_correlation(correlations)\n",
    "        geo_parameters = self.regressor(correlations)\n",
    "        return geo_parameters"
   ]
  },
  {
   "cell_type": "code",
   "execution_count": 20,
   "metadata": {},
   "outputs": [],
   "source": [
    "cnngeo = CNN_geotransform(feature_extractor, 9*2)"
   ]
  },
  {
   "cell_type": "code",
   "execution_count": 21,
   "metadata": {},
   "outputs": [],
   "source": [
    "geo_paramters = cnngeo(A, B)"
   ]
  },
  {
   "cell_type": "code",
   "execution_count": 22,
   "metadata": {},
   "outputs": [
    {
     "name": "stdout",
     "output_type": "stream",
     "text": [
      "Model: \"cnn_geotransform\"\n",
      "_________________________________________________________________\n",
      "Layer (type)                 Output Shape              Param #   \n",
      "=================================================================\n",
      "model (Model)                (None, 16, 16, 256)       1735488   \n",
      "_________________________________________________________________\n",
      "correlation_network_1 (Corre multiple                  0         \n",
      "_________________________________________________________________\n",
      "spatial_regressor_1 (Spatial multiple                  1852882   \n",
      "=================================================================\n",
      "Total params: 3,588,370\n",
      "Trainable params: 3,587,986\n",
      "Non-trainable params: 384\n",
      "_________________________________________________________________\n"
     ]
    }
   ],
   "source": [
    "cnngeo.summary()"
   ]
  },
  {
   "cell_type": "code",
   "execution_count": 23,
   "metadata": {},
   "outputs": [
    {
     "data": {
      "text/plain": [
       "TensorShape([10, 9, 2])"
      ]
     },
     "execution_count": 23,
     "metadata": {},
     "output_type": "execute_result"
    }
   ],
   "source": [
    "geo_paramters.shape"
   ]
  },
  {
   "cell_type": "markdown",
   "metadata": {},
   "source": [
    "# 3.Training"
   ]
  },
  {
   "cell_type": "code",
   "execution_count": 24,
   "metadata": {},
   "outputs": [],
   "source": [
    "vgg16 = tf.keras.applications.VGG16(weights='imagenet', input_shape=(input_size[0], input_size[1], 3), \n",
    "                                    include_top=False)\n",
    "output_layer = vgg16.get_layer(\"block3_conv3\")\n",
    "output_layer.activation = None\n",
    "feature_extractor = tf.keras.Model(inputs=vgg16.input, outputs=output_layer.output)\n",
    "cnngeo = CNN_geotransform(feature_extractor, 9*2)\n",
    "\n",
    "optimizer = tf.keras.optimizers.Adam(learning_rate=1E-4)"
   ]
  },
  {
   "cell_type": "code",
   "execution_count": 25,
   "metadata": {},
   "outputs": [],
   "source": [
    "\n",
    "def loss_fn(preds, labels):\n",
    "    control_points = tf.constant([[-1.0, -1.0], [0.0, -1.0], [1.0, -1.0],\n",
    "                               [-1.0, 0.0], [0.0, 0.0], [1.0, 0.0],\n",
    "                               [-1.0, 1.0], [0.0, 1.0], [1.0, 1.0]], dtype=tf.float32)\n",
    "    num_batch = preds.shape[0]\n",
    "    pred_grid_x, pred_grid_y = tps(tf.tile(control_points[tf.newaxis,::], [num_batch,1,1]), preds, (20, 20))\n",
    "    gt_grid_x, gt_grid_y = tps(tf.tile(control_points[tf.newaxis,::], [num_batch,1,1]), labels, (20, 20))\n",
    "    \n",
    "    dist = tf.sqrt(tf.pow(pred_grid_x - gt_grid_x, 2) + tf.pow(pred_grid_y - gt_grid_y, 2))\n",
    "    loss_mean = tf.reduce_mean(dist)\n",
    "    return loss_mean\n",
    "\n",
    "'''\n",
    "def loss_fn(preds, labels):\n",
    "    loss_mean = tf.reduce_mean(tf.sqrt(tf.reduce_sum(tf.pow(preds - labels, 2), axis = -1)))\n",
    "    return loss_mean\n",
    "'''\n",
    "@tf.function\n",
    "def train_step(image_A, image_B, labels, model, optimizer):\n",
    "    with tf.GradientTape() as tape:\n",
    "        preds = model(image_A, image_B)\n",
    "        loss = loss_fn(preds, labels)\n",
    "    gradients = tape.gradient(loss, model.trainable_variables)\n",
    "    optimizer.apply_gradients(zip(gradients, model.trainable_variables))\n",
    "    return loss"
   ]
  },
  {
   "cell_type": "code",
   "execution_count": 32,
   "metadata": {},
   "outputs": [
    {
     "name": "stdout",
     "output_type": "stream",
     "text": [
      "Epoch 1, Loss: 0.983299195766449\n",
      "Epoch 2, Loss: 0.8160690069198608\n",
      "Epoch 3, Loss: 0.8965544700622559\n",
      "Epoch 4, Loss: 0.8969438076019287\n",
      "Epoch 5, Loss: 0.8366936445236206\n",
      "Epoch 6, Loss: 0.8712580800056458\n",
      "Epoch 7, Loss: 0.899555504322052\n",
      "Epoch 8, Loss: 0.902816891670227\n",
      "Epoch 9, Loss: 0.8315864205360413\n",
      "Epoch 10, Loss: 0.7611414790153503\n",
      "Epoch 11, Loss: 0.8794077038764954\n",
      "Epoch 12, Loss: 0.8660516738891602\n",
      "Epoch 13, Loss: 0.8741300106048584\n",
      "Epoch 14, Loss: 0.8007309436798096\n",
      "Epoch 15, Loss: 0.8879759311676025\n",
      "Epoch 16, Loss: 0.8305503726005554\n",
      "Epoch 17, Loss: 0.8673090934753418\n",
      "Epoch 18, Loss: 0.8864530324935913\n",
      "Epoch 19, Loss: 0.8387172818183899\n",
      "Epoch 20, Loss: 0.8762103915214539\n",
      "Epoch 21, Loss: 0.7467928528785706\n",
      "Epoch 22, Loss: 0.8721474409103394\n",
      "Epoch 23, Loss: 0.8800209760665894\n",
      "Epoch 24, Loss: 0.8099024295806885\n",
      "Epoch 25, Loss: 0.8599321246147156\n",
      "Epoch 26, Loss: 0.8591042757034302\n",
      "Epoch 27, Loss: 0.8750954866409302\n",
      "Epoch 28, Loss: 0.8723393678665161\n",
      "Epoch 29, Loss: 0.8467630743980408\n",
      "Epoch 30, Loss: 0.9379063248634338\n",
      "Epoch 31, Loss: 0.8409315347671509\n",
      "Epoch 32, Loss: 0.8624117970466614\n",
      "Epoch 33, Loss: 0.8335666656494141\n",
      "Epoch 34, Loss: 0.8956649899482727\n",
      "Epoch 35, Loss: 0.921110212802887\n",
      "Epoch 36, Loss: 0.8370826244354248\n",
      "Epoch 37, Loss: 0.9290121793746948\n",
      "Epoch 38, Loss: 0.9110720753669739\n",
      "Epoch 39, Loss: 0.8808732628822327\n",
      "Epoch 40, Loss: 0.8765535950660706\n",
      "Epoch 41, Loss: 0.8770623207092285\n",
      "Epoch 42, Loss: 0.8685736060142517\n",
      "Epoch 43, Loss: 0.8567408323287964\n",
      "Epoch 44, Loss: 0.8538410663604736\n",
      "Epoch 45, Loss: 0.8578519225120544\n",
      "Epoch 46, Loss: 0.9380049109458923\n",
      "Epoch 47, Loss: 0.896425187587738\n",
      "Epoch 48, Loss: 0.7810943722724915\n",
      "Epoch 49, Loss: 0.9206650257110596\n",
      "Epoch 50, Loss: 0.8866481184959412\n",
      "Epoch 51, Loss: 0.8030899167060852\n",
      "Epoch 52, Loss: 0.8117253184318542\n",
      "Epoch 53, Loss: 0.8909427523612976\n",
      "Epoch 54, Loss: 0.9145942330360413\n",
      "Epoch 55, Loss: 0.8655515313148499\n",
      "Epoch 56, Loss: 0.9680062532424927\n",
      "Epoch 57, Loss: 0.8496904373168945\n",
      "Epoch 58, Loss: 0.9333917498588562\n",
      "Epoch 59, Loss: 0.8342304825782776\n",
      "Epoch 60, Loss: 0.826570451259613\n",
      "Epoch 61, Loss: 0.8524746298789978\n",
      "Epoch 62, Loss: 0.931083619594574\n",
      "Epoch 63, Loss: 0.8273733854293823\n",
      "Epoch 64, Loss: 0.904134213924408\n",
      "Epoch 65, Loss: 0.7734549641609192\n",
      "Epoch 66, Loss: 0.8948649168014526\n",
      "Epoch 67, Loss: 0.9741506576538086\n",
      "Epoch 68, Loss: 0.8592682480812073\n",
      "Epoch 69, Loss: 0.85762619972229\n",
      "Epoch 70, Loss: 0.8731237053871155\n",
      "Epoch 71, Loss: 0.7693431973457336\n",
      "Epoch 72, Loss: 0.8360317349433899\n",
      "Epoch 73, Loss: 0.8535405993461609\n",
      "Epoch 74, Loss: 0.7853471636772156\n",
      "Epoch 75, Loss: 0.9063953757286072\n",
      "Epoch 76, Loss: 0.7636492848396301\n",
      "Epoch 77, Loss: 0.8821206092834473\n",
      "Epoch 78, Loss: 0.8353607654571533\n",
      "Epoch 79, Loss: 0.904196560382843\n",
      "Epoch 80, Loss: 0.8455392718315125\n",
      "Epoch 81, Loss: 0.729174017906189\n",
      "Epoch 82, Loss: 0.8166335821151733\n",
      "Epoch 83, Loss: 0.8530017137527466\n",
      "Epoch 84, Loss: 0.8822699785232544\n",
      "Epoch 85, Loss: 1.0051578283309937\n",
      "Epoch 86, Loss: 0.751642107963562\n",
      "Epoch 87, Loss: 0.8645433187484741\n",
      "Epoch 88, Loss: 0.8098196983337402\n",
      "Epoch 89, Loss: 0.7829058170318604\n",
      "Epoch 90, Loss: 0.8521773219108582\n",
      "Epoch 91, Loss: 0.8599676489830017\n",
      "Epoch 92, Loss: 0.8970317244529724\n",
      "Epoch 93, Loss: 0.8807051777839661\n",
      "Epoch 94, Loss: 0.8439328074455261\n",
      "Epoch 95, Loss: 0.8114250898361206\n",
      "Epoch 96, Loss: 0.8127264380455017\n",
      "Epoch 97, Loss: 0.8749087452888489\n",
      "Epoch 98, Loss: 0.8571949601173401\n",
      "Epoch 99, Loss: 0.8388702273368835\n",
      "Epoch 100, Loss: 0.7355996966362\n",
      "Epoch 101, Loss: 0.829371452331543\n",
      "Epoch 102, Loss: 0.8105849027633667\n",
      "Epoch 103, Loss: 0.8920440673828125\n",
      "Epoch 104, Loss: 0.7792431712150574\n",
      "Epoch 105, Loss: 0.859811007976532\n",
      "Epoch 106, Loss: 0.838219165802002\n",
      "Epoch 107, Loss: 0.8006425499916077\n",
      "Epoch 108, Loss: 0.7559164762496948\n",
      "Epoch 109, Loss: 0.7765346765518188\n",
      "Epoch 110, Loss: 0.8494654297828674\n",
      "Epoch 111, Loss: 0.8802186846733093\n",
      "Epoch 112, Loss: 0.8457702994346619\n",
      "Epoch 113, Loss: 0.8718689680099487\n",
      "Epoch 114, Loss: 0.9258999228477478\n",
      "Epoch 115, Loss: 0.7690688967704773\n",
      "Epoch 116, Loss: 0.784990131855011\n",
      "Epoch 117, Loss: 0.8392767906188965\n",
      "Epoch 118, Loss: 0.7688278555870056\n",
      "Epoch 119, Loss: 0.8414422273635864\n",
      "Epoch 120, Loss: 0.7297738194465637\n",
      "Epoch 121, Loss: 0.8429487347602844\n",
      "Epoch 122, Loss: 0.9228151440620422\n",
      "Epoch 123, Loss: 0.8150290846824646\n",
      "Epoch 124, Loss: 0.9176779389381409\n",
      "Epoch 125, Loss: 0.7081448435783386\n",
      "Epoch 126, Loss: 0.7982141375541687\n",
      "Epoch 127, Loss: 0.8982074856758118\n",
      "Epoch 128, Loss: 0.9014696478843689\n",
      "Epoch 129, Loss: 0.889772891998291\n",
      "Epoch 130, Loss: 0.8383826017379761\n",
      "Epoch 131, Loss: 0.7679932117462158\n",
      "Epoch 132, Loss: 0.7333593964576721\n",
      "Epoch 133, Loss: 0.8130030632019043\n",
      "Epoch 134, Loss: 0.799763023853302\n",
      "Epoch 135, Loss: 0.8468091487884521\n",
      "Epoch 136, Loss: 0.8847252726554871\n",
      "Epoch 137, Loss: 0.7836050391197205\n",
      "Epoch 138, Loss: 0.7839006781578064\n",
      "Epoch 139, Loss: 0.8287702798843384\n",
      "Epoch 140, Loss: 0.7956395745277405\n",
      "Epoch 141, Loss: 0.7632074952125549\n",
      "Epoch 142, Loss: 0.8016173243522644\n",
      "Epoch 143, Loss: 0.7996137738227844\n",
      "Epoch 144, Loss: 0.8242762684822083\n",
      "Epoch 145, Loss: 0.7741908431053162\n",
      "Epoch 146, Loss: 0.8014014363288879\n",
      "Epoch 147, Loss: 0.883029043674469\n",
      "Epoch 148, Loss: 0.8404128551483154\n",
      "Epoch 149, Loss: 0.9094715118408203\n",
      "Epoch 150, Loss: 0.8961289525032043\n",
      "Epoch 151, Loss: 0.7970374226570129\n",
      "Epoch 152, Loss: 0.7959794998168945\n",
      "Epoch 153, Loss: 0.8884183168411255\n",
      "Epoch 154, Loss: 0.9011803865432739\n",
      "Epoch 155, Loss: 0.8968448638916016\n",
      "Epoch 156, Loss: 0.769781231880188\n",
      "Epoch 157, Loss: 0.7727581858634949\n",
      "Epoch 158, Loss: 0.8351811766624451\n",
      "Epoch 159, Loss: 0.8108081817626953\n",
      "Epoch 160, Loss: 0.8494774103164673\n",
      "Epoch 161, Loss: 0.8579906225204468\n",
      "Epoch 162, Loss: 0.8502182364463806\n",
      "Epoch 163, Loss: 0.8488441109657288\n",
      "Epoch 164, Loss: 0.9118921756744385\n",
      "Epoch 165, Loss: 0.7870764136314392\n",
      "Epoch 166, Loss: 0.8339853286743164\n",
      "Epoch 167, Loss: 0.7665529847145081\n",
      "Epoch 168, Loss: 0.7347522377967834\n",
      "Epoch 169, Loss: 0.7979174852371216\n",
      "Epoch 170, Loss: 0.7563931941986084\n",
      "Epoch 171, Loss: 0.8019270896911621\n",
      "Epoch 172, Loss: 0.7304168939590454\n",
      "Epoch 173, Loss: 0.9706947207450867\n",
      "Epoch 174, Loss: 0.783018171787262\n",
      "Epoch 175, Loss: 0.9664887189865112\n",
      "Epoch 176, Loss: 0.7789876461029053\n",
      "Epoch 177, Loss: 0.7509754300117493\n",
      "Epoch 178, Loss: 0.8385404348373413\n",
      "Epoch 179, Loss: 0.7875909209251404\n",
      "Epoch 180, Loss: 0.7724224328994751\n",
      "Epoch 181, Loss: 0.8713756203651428\n",
      "Epoch 182, Loss: 0.8256456851959229\n",
      "Epoch 183, Loss: 0.7675015926361084\n",
      "Epoch 184, Loss: 0.7556896805763245\n",
      "Epoch 185, Loss: 0.8462891578674316\n",
      "Epoch 186, Loss: 0.7160123586654663\n",
      "Epoch 187, Loss: 0.768455445766449\n",
      "Epoch 188, Loss: 0.8562641739845276\n",
      "Epoch 189, Loss: 0.8568636178970337\n",
      "Epoch 190, Loss: 0.8465362191200256\n",
      "Epoch 191, Loss: 0.7953422665596008\n",
      "Epoch 192, Loss: 0.7885634303092957\n",
      "Epoch 193, Loss: 0.769924521446228\n",
      "Epoch 194, Loss: 0.7660547494888306\n",
      "Epoch 195, Loss: 0.789000928401947\n",
      "Epoch 196, Loss: 0.8309367895126343\n",
      "Epoch 197, Loss: 0.8085616230964661\n",
      "Epoch 198, Loss: 0.8048886060714722\n",
      "Epoch 199, Loss: 0.7494808435440063\n",
      "Epoch 200, Loss: 0.8037755489349365\n"
     ]
    }
   ],
   "source": [
    "train_loss = tf.metrics.Mean(name='train_loss')\n",
    "x_axis = []\n",
    "y_loss = []\n",
    "for epoch in range(200):\n",
    "    for step, (image_a, image_b, labels) in enumerate(ds):\n",
    "        t_loss = train_step(image_a, image_b, labels, cnngeo, optimizer)\n",
    "        train_loss(t_loss)\n",
    "    template = 'Epoch {}, Loss: {}'\n",
    "    print(template.format(epoch + 1, train_loss.result()))\n",
    "    x_axis.append(epoch)\n",
    "    y_loss.append(train_loss.result().numpy())\n",
    "    train_loss.reset_states()"
   ]
  },
  {
   "cell_type": "code",
   "execution_count": 33,
   "metadata": {},
   "outputs": [
    {
     "data": {
      "text/plain": [
       "[<matplotlib.lines.Line2D at 0x7fb410398c50>]"
      ]
     },
     "execution_count": 33,
     "metadata": {},
     "output_type": "execute_result"
    },
    {
     "data": {
      "image/png": "[encoded data removed]",
      "text/plain": [
       "<Figure size 432x288 with 1 Axes>"
      ]
     },
     "metadata": {
      "needs_background": "light"
     },
     "output_type": "display_data"
    }
   ],
   "source": [
    "fig = plt.figure()\n",
    "axis = fig.add_subplot(111)\n",
    "axis.title.set_text(\"training_loss\")\n",
    "axis.set_xlabel(\"epoch\")\n",
    "axis.set_ylabel(\"training loss\")\n",
    "axis.plot(np.array(x_axis), np.array(y_loss))"
   ]
  },
  {
   "cell_type": "code",
   "execution_count": 34,
   "metadata": {},
   "outputs": [
    {
     "name": "stdout",
     "output_type": "stream",
     "text": [
      "(10, 64, 64, 3) (10, 64, 64, 3)\n"
     ]
    }
   ],
   "source": [
    "for A, B, p in ds.take(1):\n",
    "    print(A.shape, B.shape)\n",
    "    preds = cnngeo(A, B)\n",
    "\n",
    "warping_images = []\n",
    "output_size = A.shape[1:3]\n",
    "control_points = tf.constant([[-1.0, -1.0], [0.0, -1.0], [1.0, -1.0],\n",
    "                               [-1.0, 0.0], [0.0, 0.0], [1.0, 0.0],\n",
    "                               [-1.0, 1.0], [0.0, 1.0], [1.0, 1.0]], dtype=tf.float32)\n",
    "for image, pred in zip(A, preds):\n",
    "    x_s, y_s = tps(control_points[tf.newaxis,::], -pred[tf.newaxis,::], output_size)\n",
    "    image = image.numpy()\n",
    "    warping_images.append(cv2.remap(image, x_s[0].numpy(), y_s[0].numpy(), cv2.INTER_CUBIC))\n",
    "\n",
    "warping_images = np.array(warping_images)    "
   ]
  },
  {
   "cell_type": "code",
   "execution_count": 35,
   "metadata": {},
   "outputs": [],
   "source": [
    "def restore_original_image_from_array(x, data_format=None):\n",
    "    mean = [103.939, 116.779, 123.68]\n",
    "\n",
    "    # Zero-center by mean pixel\n",
    "    if data_format == 'channels_first':\n",
    "        if x.ndim == 3:\n",
    "            x[0, :, :] += mean[0]\n",
    "            x[1, :, :] += mean[1]\n",
    "            x[2, :, :] += mean[2]\n",
    "        else:\n",
    "            x[:, 0, :, :] += mean[0]\n",
    "            x[:, 1, :, :] += mean[1]\n",
    "            x[:, 2, :, :] += mean[2]\n",
    "    else:\n",
    "        x[..., 0] += mean[0]\n",
    "        x[..., 1] += mean[1]\n",
    "        x[..., 2] += mean[2]\n",
    "\n",
    "    if data_format == 'channels_first':\n",
    "        # 'BGR'->'RGB'\n",
    "        if x.ndim == 3:\n",
    "            x = x[::-1, ...]\n",
    "        else:\n",
    "            x = x[:, ::-1, ...]\n",
    "    else:\n",
    "        # 'BGR'->'RGB'\n",
    "        x = x[..., ::-1]\n",
    "\n",
    "    return x"
   ]
  },
  {
   "cell_type": "code",
   "execution_count": 42,
   "metadata": {},
   "outputs": [
    {
     "name": "stderr",
     "output_type": "stream",
     "text": [
      "Clipping input data to the valid range for imshow with RGB data ([0..1] for floats or [0..255] for integers).\n"
     ]
    },
    {
     "data": {
      "text/plain": [
       "<matplotlib.image.AxesImage at 0x7fb4100c9320>"
      ]
     },
     "execution_count": 42,
     "metadata": {},
     "output_type": "execute_result"
    },
    {
     "data": {
      "image/png": "[encoded data removed]",
      "text/plain": [
       "<Figure size 432x288 with 1 Axes>"
      ]
     },
     "metadata": {
      "needs_background": "light"
     },
     "output_type": "display_data"
    }
   ],
   "source": [
    "plt.imshow(restore_original_image_from_array(B[4].numpy())/255)"
   ]
  },
  {
   "cell_type": "code",
   "execution_count": 43,
   "metadata": {},
   "outputs": [
    {
     "name": "stderr",
     "output_type": "stream",
     "text": [
      "Clipping input data to the valid range for imshow with RGB data ([0..1] for floats or [0..255] for integers).\n"
     ]
    },
    {
     "data": {
      "text/plain": [
       "<matplotlib.image.AxesImage at 0x7fb4100ac588>"
      ]
     },
     "execution_count": 43,
     "metadata": {},
     "output_type": "execute_result"
    },
    {
     "data": {
      "image/png": "[encoded data removed]",
      "text/plain": [
       "<Figure size 432x288 with 1 Axes>"
      ]
     },
     "metadata": {
      "needs_background": "light"
     },
     "output_type": "display_data"
    }
   ],
   "source": [
    "plt.imshow(restore_original_image_from_array(warping_images[4])/255)"
   ]
  },
  {
   "cell_type": "code",
   "execution_count": null,
   "metadata": {},
   "outputs": [],
   "source": []
  },
  {
   "cell_type": "code",
   "execution_count": null,
   "metadata": {},
   "outputs": [],
   "source": []
  }
 ],
 "metadata": {
  "kernelspec": {
   "display_name": "Python 3",
   "language": "python",
   "name": "python3"
  },
  "language_info": {
   "codemirror_mode": {
    "name": "ipython",
    "version": 3
   },
   "file_extension": ".py",
   "mimetype": "text/x-python",
   "name": "python",
   "nbconvert_exporter": "python",
   "pygments_lexer": "ipython3",
   "version": "3.6.8"
  }
 },
 "nbformat": 4,
 "nbformat_minor": 4
}

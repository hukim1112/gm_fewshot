{
 "cells": [
  {
   "cell_type": "code",
   "execution_count": 4,
   "metadata": {},
   "outputs": [],
   "source": [
    "%load_ext autoreload\n",
    "%autoreload 2"
   ]
  },
  {
   "cell_type": "code",
   "execution_count": 5,
   "metadata": {},
   "outputs": [],
   "source": [
    "from geo_transform.tf_tps import ThinPlateSpline as tps\n",
    "\n",
    "import cv2\n",
    "import numpy as np\n",
    "from matplotlib import pyplot as plt\n",
    "import tensorflow as tf\n",
    "from tensorflow.keras.applications.vgg16 import preprocess_input\n",
    "from functools import partial\n",
    "import os"
   ]
  },
  {
   "cell_type": "code",
   "execution_count": 3,
   "metadata": {},
   "outputs": [
    {
     "name": "stdout",
     "output_type": "stream",
     "text": [
      "1 Physical GPUs, 1 Logical GPUs\n"
     ]
    }
   ],
   "source": [
    "os.environ[\"CUDA_VISIBLE_DEVICES\"]=\"1\"\n",
    "from utils import tf_session\n",
    "tf_session.setup_gpus(True, 0.95)"
   ]
  },
  {
   "cell_type": "code",
   "execution_count": null,
   "metadata": {},
   "outputs": [],
   "source": [
    "tf.config.list_physical_devices('GPU')"
   ]
  },
  {
   "cell_type": "code",
   "execution_count": null,
   "metadata": {},
   "outputs": [],
   "source": []
  },
  {
   "cell_type": "markdown",
   "metadata": {},
   "source": [
    "# 1.Data load"
   ]
  },
  {
   "cell_type": "code",
   "execution_count": 6,
   "metadata": {},
   "outputs": [],
   "source": [
    "_datapath = \"sample_dataset\"\n",
    "filelist = os.listdir(_datapath)\n",
    "input_size = (64, 64)\n",
    "output_size = (64, 64)\n",
    "images = []\n",
    "\n",
    "for f in filelist:\n",
    "    _path = os.path.join(_datapath, f)\n",
    "    img = cv2.imread(_path)[:,:,::-1]\n",
    "    img = cv2.resize(img, input_size, interpolation=cv2.INTER_AREA)\n",
    "    images.append(img)\n",
    "\n",
    "images = np.array(images, dtype=np.float32)"
   ]
  },
  {
   "cell_type": "code",
   "execution_count": 7,
   "metadata": {},
   "outputs": [],
   "source": [
    "def pad_image(image, pad_ratio):\n",
    "    '''\n",
    "        input : original image, padding_ratio( ragne 0~1 )\n",
    "        output : padded_image(reflected boundary)\n",
    "    '''\n",
    "    original_size = (image.shape[0], image.shape[1])\n",
    "    top = bottom = int(original_size[0] * pad_ratio)\n",
    "    left = right = int(original_size[1] * pad_ratio)\n",
    "    padded_image = cv2.copyMakeBorder(\n",
    "        image, top, bottom, left, right, cv2.BORDER_REFLECT)\n",
    "    return padded_image"
   ]
  },
  {
   "cell_type": "code",
   "execution_count": 8,
   "metadata": {},
   "outputs": [],
   "source": [
    "def py_image_process(image, motion_vectors, tps_random_rate, output_size):\n",
    "    #image = tf.keras.applications.vgg16.preprocess_input(image)\n",
    "    image = image.numpy()\n",
    "    tps_random_rate = tps_random_rate.numpy()\n",
    "    image = image / 255.\n",
    "    padded_image = pad_image(image, tps_random_rate)\n",
    "    \n",
    "    ratio = 1/(1 + tps_random_rate)\n",
    "    control_points = tf.constant([[-ratio, -ratio], [0.0, -ratio], [ratio, -ratio],\n",
    "                               [-ratio, 0.0], [0.0, 0.0], [ratio, 0.0],\n",
    "                               [-ratio, ratio], [0.0, ratio], [ratio, ratio]], dtype=tf.float32)\n",
    "    x_s, y_s = tps(control_points[tf.newaxis,::], -motion_vectors[tf.newaxis,::], padded_image.shape[0:2])\n",
    "#     synth_image = cv2.remap(padded_image, x_s[0].numpy(), y_s[0].numpy(), cv2.INTER_CUBIC)\n",
    "#     dH = (synth_image.shape[0] - image.shape[0])/2\n",
    "#     dW = (synth_image.shape[1] - image.shape[1])/2\n",
    "#     dH, dW = int(dH), int(dW)\n",
    "#     synth_image = synth_image[dH:-dH, dW:-dW]    \n",
    "    return image, image, motion_vectors"
   ]
  },
  {
   "cell_type": "code",
   "execution_count": 9,
   "metadata": {},
   "outputs": [],
   "source": [
    "def tf_image_process(image, tps_random_rate, output_size):\n",
    "    motion_vectors = (tf.random.uniform([9, 2]) - 0.5) * 2 * tps_random_rate\n",
    "    return tf.py_function(py_image_process, [image, motion_vectors, tps_random_rate, output_size], [tf.float32, tf.float32, tf.float32])"
   ]
  },
  {
   "cell_type": "code",
   "execution_count": 10,
   "metadata": {},
   "outputs": [],
   "source": [
    "tps_random_rate = 0.4\n",
    "output_size = (200, 200)\n",
    "map_func = partial(tf_image_process, tps_random_rate=tps_random_rate,\n",
    "                      output_size=output_size)\n",
    "\n",
    "ds = tf.data.Dataset.from_tensor_slices(images)\n",
    "ds = ds.map(map_func, num_parallel_calls=tf.data.experimental.AUTOTUNE)\n",
    "ds = ds.batch(16)"
   ]
  },
  {
   "cell_type": "code",
   "execution_count": null,
   "metadata": {},
   "outputs": [],
   "source": [
    "for A, B, p in ds.take(1):\n",
    "    print(A.shape, B.shape)\n",
    "    print(p.shape)"
   ]
  },
  {
   "cell_type": "code",
   "execution_count": null,
   "metadata": {},
   "outputs": [],
   "source": [
    "plt.imshow(images[0]/255)"
   ]
  },
  {
   "cell_type": "code",
   "execution_count": null,
   "metadata": {},
   "outputs": [],
   "source": [
    "plt.imshow(A[1])"
   ]
  },
  {
   "cell_type": "code",
   "execution_count": null,
   "metadata": {},
   "outputs": [],
   "source": [
    "plt.imshow(B[1])"
   ]
  },
  {
   "cell_type": "markdown",
   "metadata": {},
   "source": [
    "# 2. Model definition"
   ]
  },
  {
   "cell_type": "code",
   "execution_count": null,
   "metadata": {},
   "outputs": [],
   "source": [
    "# (a) feature extraction\n",
    "vgg16 = tf.keras.applications.VGG16(weights='imagenet', input_shape=(input_size[0], input_size[1], 3), \n",
    "                                    include_top=False)\n",
    "output_layer = vgg16.get_layer(\"block3_conv3\")\n",
    "output_layer.activation = None\n",
    "feature_extractor = tf.keras.Model(inputs=vgg16.input, outputs=output_layer.output)"
   ]
  },
  {
   "cell_type": "code",
   "execution_count": null,
   "metadata": {},
   "outputs": [],
   "source": [
    "vgg16.summary()"
   ]
  },
  {
   "cell_type": "code",
   "execution_count": null,
   "metadata": {},
   "outputs": [],
   "source": [
    "# (b) channel-wise l2 normalization\n",
    "def feature_l2_normalization(feature_map):\n",
    "    #input(feature map) has tensor-shape (N, H, W, D)\n",
    "    l2_norm = tf.math.sqrt(tf.reduce_sum(tf.pow(feature_map, 2), axis=-1))  # (N, H, W)\n",
    "    l2_norm = tf.expand_dims(l2_norm, axis=-1)  # (N, H, W, 1)\n",
    "    # (N, H, W, D) tensor divided by (N, H, W, 1) tensor\n",
    "    return feature_map / (l2_norm+1E-5)"
   ]
  },
  {
   "cell_type": "code",
   "execution_count": null,
   "metadata": {},
   "outputs": [],
   "source": [
    "# (c) Matching layer\n",
    "class Correlation_network(tf.keras.layers.Layer):\n",
    "    def __init__(self):\n",
    "        super(Correlation_network, self).__init__()\n",
    "\n",
    "    def call(self, feature_A, feature_B):\n",
    "        # featureA : feature information from source image\n",
    "        # featureB : feature information from target image\n",
    "        #assert feature_A.shape == feature_B.shape\n",
    "        # new feature A and feature B have new shape of tensors.\n",
    "        # featureA has tensor shape as [batch, HA, WA, 1, 1, depth]\n",
    "        # featureB has tensor shape as [batch, 1, 1, HB, WB, depth]\n",
    "        feature_A = feature_A[:, :, :, tf.newaxis, tf.newaxis, :]\n",
    "        feature_B = feature_B[:, tf.newaxis, tf.newaxis, :, :, :]\n",
    "        # correlation score has tensor shape as [batch, HA, WA, HB, WB]\n",
    "        corr_score = tf.reduce_sum(tf.multiply(feature_A, feature_B), axis=-1)\n",
    "        return corr_score\n",
    "# repeat penalty\n",
    "def normalize_correlation(corr_score):\n",
    "    ambiguous_match_penalty = tf.math.sqrt(tf.reduce_sum(tf.pow(corr_score, 2), axis=[3, 4], keepdims=True))\n",
    "    corr_score = tf.math.divide(corr_score, ambiguous_match_penalty+0.00001)\n",
    "    # see eq (2) in \"End-to-end weakly-supervised semantic alignment\"\n",
    "    return corr_score"
   ]
  },
  {
   "cell_type": "code",
   "execution_count": null,
   "metadata": {},
   "outputs": [],
   "source": [
    "feature_A = feature_extractor(A)\n",
    "feature_B = feature_extractor(B)\n",
    "print(feature_A.shape, feature_B.shape)"
   ]
  },
  {
   "cell_type": "code",
   "execution_count": null,
   "metadata": {},
   "outputs": [],
   "source": [
    "normalized_feature_A = feature_l2_normalization(feature_A)\n",
    "normalized_feature_B = feature_l2_normalization(feature_B)\n",
    "print(normalized_feature_A.shape, normalized_feature_B.shape)"
   ]
  },
  {
   "cell_type": "code",
   "execution_count": null,
   "metadata": {},
   "outputs": [],
   "source": [
    "correlation_net = Correlation_network()\n",
    "correlations = correlation_net(normalized_feature_A, normalized_feature_B)\n",
    "print(correlations.shape)"
   ]
  },
  {
   "cell_type": "code",
   "execution_count": null,
   "metadata": {},
   "outputs": [],
   "source": [
    "correlations = tf.keras.layers.Activation(\"relu\")(correlations)\n",
    "correlations = normalize_correlation(correlations)"
   ]
  },
  {
   "cell_type": "code",
   "execution_count": null,
   "metadata": {},
   "outputs": [],
   "source": [
    "# (d) regressor\n",
    "class Spatial_regressor(tf.keras.layers.Layer):\n",
    "    def __init__(self, num_param):\n",
    "        super(Spatial_regressor, self).__init__()\n",
    "        self.regressor = tf.keras.Sequential([\n",
    "            tf.keras.layers.Conv2D(128, (7, 7)),\n",
    "            tf.keras.layers.Activation(\"relu\"),\n",
    "            tf.keras.layers.BatchNormalization(),\n",
    "            tf.keras.layers.Conv2D(64, (5, 5)),\n",
    "            tf.keras.layers.Activation(\"relu\"),\n",
    "            tf.keras.layers.BatchNormalization(),\n",
    "            tf.keras.layers.Flatten(),\n",
    "            tf.keras.layers.Dense(num_param),\n",
    "        ])\n",
    "    def call(self, x):\n",
    "        AH,AW,BHW = x.shape[1], x.shape[2], x.shape[3]*x.shape[4]\n",
    "        x = tf.reshape(x, [-1, AH, AW, BHW])\n",
    "        x = self.regressor(x)\n",
    "        x = tf.reshape(x, [-1, 9, 2])\n",
    "        return x"
   ]
  },
  {
   "cell_type": "code",
   "execution_count": null,
   "metadata": {},
   "outputs": [],
   "source": [
    "spatial_regressor = Spatial_regressor(9*2)\n",
    "geo_parameters = spatial_regressor(correlations)\n",
    "print(geo_parameters.shape)"
   ]
  },
  {
   "cell_type": "code",
   "execution_count": null,
   "metadata": {},
   "outputs": [],
   "source": [
    "class CNN_geotransform(tf.keras.Model):\n",
    "    def __init__(self, feature_extractor, num_param):\n",
    "        super(CNN_geotransform, self).__init__()\n",
    "        self.feature_extractor = feature_extractor\n",
    "        self.correlation_net = Correlation_network()\n",
    "        self.regressor = Spatial_regressor(9*2)\n",
    "    def call(self, imageA, imageB):\n",
    "        featureA = self.feature_extractor(imageA)\n",
    "        featureB = self.feature_extractor(imageB)\n",
    "        featureA = feature_l2_normalization(featureA)\n",
    "        featureB = feature_l2_normalization(featureB)\n",
    "        correlations = self.correlation_net(featureA, featureB)\n",
    "        correlations = tf.keras.layers.Activation(\"relu\")(correlations)\n",
    "        correlations = normalize_correlation(correlations)\n",
    "        geo_parameters = self.regressor(correlations)\n",
    "        return geo_parameters"
   ]
  },
  {
   "cell_type": "code",
   "execution_count": null,
   "metadata": {},
   "outputs": [],
   "source": [
    "cnngeo = CNN_geotransform(feature_extractor, 9*2)"
   ]
  },
  {
   "cell_type": "code",
   "execution_count": null,
   "metadata": {},
   "outputs": [],
   "source": [
    "geo_paramters = cnngeo(A, B)"
   ]
  },
  {
   "cell_type": "code",
   "execution_count": null,
   "metadata": {},
   "outputs": [],
   "source": [
    "cnngeo.summary()"
   ]
  },
  {
   "cell_type": "code",
   "execution_count": null,
   "metadata": {},
   "outputs": [],
   "source": [
    "geo_paramters.shape"
   ]
  },
  {
   "cell_type": "markdown",
   "metadata": {},
   "source": [
    "# 3.Training"
   ]
  },
  {
   "cell_type": "code",
   "execution_count": null,
   "metadata": {},
   "outputs": [],
   "source": [
    "vgg16 = tf.keras.applications.VGG16(weights='imagenet', input_shape=(input_size[0], input_size[1], 3), \n",
    "                                    include_top=False)\n",
    "output_layer = vgg16.get_layer(\"block3_conv3\")\n",
    "output_layer.activation = None\n",
    "feature_extractor = tf.keras.Model(inputs=vgg16.input, outputs=output_layer.output)\n",
    "cnngeo = CNN_geotransform(feature_extractor, 9*2)\n",
    "\n",
    "optimizer = tf.keras.optimizers.Adam(learning_rate=1E-4)"
   ]
  },
  {
   "cell_type": "code",
   "execution_count": null,
   "metadata": {},
   "outputs": [],
   "source": [
    "'''\n",
    "def loss_fn(preds, labels):\n",
    "    control_points = tf.constant([[-1.0, -1.0], [0.0, -1.0], [1.0, -1.0],\n",
    "                               [-1.0, 0.0], [0.0, 0.0], [1.0, 0.0],\n",
    "                               [-1.0, 1.0], [0.0, 1.0], [1.0, 1.0]], dtype=tf.float32)\n",
    "    num_batch = preds.shape[0]\n",
    "    pred_grid_x, pred_grid_y = tps(tf.tile(control_points[tf.newaxis,::], [num_batch,1,1]), preds, (20, 20))\n",
    "    gt_grid_x, gt_grid_y = tps(tf.tile(control_points[tf.newaxis,::], [num_batch,1,1]), labels, (20, 20))\n",
    "    \n",
    "    dist = tf.sqrt(tf.pow(pred_grid_x - gt_grid_x, 2) + tf.pow(pred_grid_y - gt_grid_y, 2))\n",
    "    loss_mean = tf.reduce_mean(dist)\n",
    "    return loss_mean\n",
    "'''\n",
    "def loss_fn(preds, labels):\n",
    "    loss_mean = tf.reduce_mean(tf.sqrt(tf.reduce_sum(tf.pow(preds - labels, 2), axis = [-1])))\n",
    "    return loss_mean\n",
    "\n",
    "@tf.function\n",
    "def train_step(image_A, image_B, labels, model, optimizer):\n",
    "    with tf.GradientTape() as tape:\n",
    "        preds = model(image_A, image_B)\n",
    "        loss = loss_fn(preds, labels)\n",
    "    gradients = tape.gradient(loss, model.trainable_variables)\n",
    "    optimizer.apply_gradients(zip(gradients, model.trainable_variables))\n",
    "    return loss"
   ]
  },
  {
   "cell_type": "code",
   "execution_count": null,
   "metadata": {},
   "outputs": [],
   "source": [
    "train_loss = tf.metrics.Mean(name='train_loss')\n",
    "x_axis = []\n",
    "y_loss = []\n",
    "for epoch in range(200):\n",
    "    for step, (image_a, image_b, labels) in enumerate(ds):\n",
    "        t_loss = train_step(image_a, image_b, labels, cnngeo, optimizer)\n",
    "        train_loss(t_loss)\n",
    "    template = 'Epoch {}, Loss: {}'\n",
    "    print(template.format(epoch + 1, train_loss.result()))\n",
    "    x_axis.append(epoch)\n",
    "    y_loss.append(train_loss.result().numpy())\n",
    "    train_loss.reset_states()"
   ]
  },
  {
   "cell_type": "code",
   "execution_count": null,
   "metadata": {},
   "outputs": [],
   "source": [
    "fig = plt.figure()\n",
    "axis = fig.add_subplot(111)\n",
    "axis.title.set_text(\"training_loss\")\n",
    "axis.set_xlabel(\"epoch\")\n",
    "axis.set_ylabel(\"training loss\")\n",
    "axis.plot(np.array(x_axis), np.array(y_loss))"
   ]
  },
  {
   "cell_type": "code",
   "execution_count": null,
   "metadata": {},
   "outputs": [],
   "source": [
    "for A, B, p in ds.take(1):\n",
    "    print(A.shape, B.shape)\n",
    "    preds = cnngeo(A, B)\n",
    "\n",
    "warping_images = []\n",
    "output_size = A.shape[1:3]\n",
    "control_points = tf.constant([[-1.0, -1.0], [0.0, -1.0], [1.0, -1.0],\n",
    "                               [-1.0, 0.0], [0.0, 0.0], [1.0, 0.0],\n",
    "                               [-1.0, 1.0], [0.0, 1.0], [1.0, 1.0]], dtype=tf.float32)\n",
    "for image, pred in zip(A, preds):\n",
    "    x_s, y_s = tps(control_points[tf.newaxis,::], -pred[tf.newaxis,::], output_size)\n",
    "    image = image.numpy()\n",
    "    warping_images.append(cv2.remap(image, x_s[0].numpy(), y_s[0].numpy(), cv2.INTER_CUBIC))\n",
    "\n",
    "warping_images = np.array(warping_images)    "
   ]
  },
  {
   "cell_type": "code",
   "execution_count": null,
   "metadata": {},
   "outputs": [],
   "source": []
  },
  {
   "cell_type": "code",
   "execution_count": null,
   "metadata": {},
   "outputs": [],
   "source": [
    "plt.imshow(A[1])"
   ]
  },
  {
   "cell_type": "code",
   "execution_count": null,
   "metadata": {},
   "outputs": [],
   "source": [
    "plt.imshow(B[1])"
   ]
  },
  {
   "cell_type": "code",
   "execution_count": null,
   "metadata": {},
   "outputs": [],
   "source": [
    "plt.imshow(warping_images[1])"
   ]
  },
  {
   "cell_type": "code",
   "execution_count": null,
   "metadata": {},
   "outputs": [],
   "source": []
  },
  {
   "cell_type": "code",
   "execution_count": null,
   "metadata": {},
   "outputs": [],
   "source": []
  },
  {
   "cell_type": "code",
   "execution_count": null,
   "metadata": {},
   "outputs": [],
   "source": [
    "x = tf.keras.applications.vgg16.preprocess_input(np.ones([3,3,3]))"
   ]
  },
  {
   "cell_type": "code",
   "execution_count": null,
   "metadata": {},
   "outputs": [],
   "source": [
    "x"
   ]
  },
  {
   "cell_type": "code",
   "execution_count": null,
   "metadata": {},
   "outputs": [],
   "source": [
    "restore_original_image_from_array(x)"
   ]
  },
  {
   "cell_type": "code",
   "execution_count": null,
   "metadata": {},
   "outputs": [],
   "source": []
  },
  {
   "cell_type": "code",
   "execution_count": null,
   "metadata": {},
   "outputs": [],
   "source": [
    "def restore_original_image_from_array(x, data_format=None):\n",
    "    mean = [103.939, 116.779, 123.68]\n",
    "\n",
    "    # Zero-center by mean pixel\n",
    "    if data_format == 'channels_first':\n",
    "        if x.ndim == 3:\n",
    "            x[0, :, :] += mean[0]\n",
    "            x[1, :, :] += mean[1]\n",
    "            x[2, :, :] += mean[2]\n",
    "        else:\n",
    "            x[:, 0, :, :] += mean[0]\n",
    "            x[:, 1, :, :] += mean[1]\n",
    "            x[:, 2, :, :] += mean[2]\n",
    "    else:\n",
    "        x[..., 0] += mean[0]\n",
    "        x[..., 1] += mean[1]\n",
    "        x[..., 2] += mean[2]\n",
    "\n",
    "    if data_format == 'channels_first':\n",
    "        # 'BGR'->'RGB'\n",
    "        if x.ndim == 3:\n",
    "            x = x[::-1, ...]\n",
    "        else:\n",
    "            x = x[:, ::-1, ...]\n",
    "    else:\n",
    "        # 'BGR'->'RGB'\n",
    "        x = x[..., ::-1]\n",
    "\n",
    "    return x"
   ]
  },
  {
   "cell_type": "code",
   "execution_count": null,
   "metadata": {},
   "outputs": [],
   "source": [
    "plt.imshow(restore_original_image_from_array(B[1].numpy())/255)"
   ]
  },
  {
   "cell_type": "code",
   "execution_count": null,
   "metadata": {},
   "outputs": [],
   "source": [
    "plt.imshow(restore_original_image_from_array(warping_images[1])/255)"
   ]
  },
  {
   "cell_type": "code",
   "execution_count": null,
   "metadata": {},
   "outputs": [],
   "source": []
  }
 ],
 "metadata": {
  "kernelspec": {
   "display_name": "Python 3",
   "language": "python",
   "name": "python3"
  },
  "language_info": {
   "codemirror_mode": {
    "name": "ipython",
    "version": 3
   },
   "file_extension": ".py",
   "mimetype": "text/x-python",
   "name": "python",
   "nbconvert_exporter": "python",
   "pygments_lexer": "ipython3",
   "version": "3.6.9"
  }
 },
 "nbformat": 4,
 "nbformat_minor": 4
}

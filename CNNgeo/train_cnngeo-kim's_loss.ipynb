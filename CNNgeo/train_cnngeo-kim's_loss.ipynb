{
 "cells": [
  {
   "cell_type": "code",
   "execution_count": 1,
   "metadata": {},
   "outputs": [],
   "source": [
    "%load_ext autoreload\n",
    "%autoreload 2"
   ]
  },
  {
   "cell_type": "code",
   "execution_count": 2,
   "metadata": {},
   "outputs": [],
   "source": [
    "from geo_transform.tf_tps import ThinPlateSpline as tps\n",
    "\n",
    "import cv2\n",
    "import numpy as np\n",
    "from matplotlib import pyplot as plt\n",
    "import tensorflow as tf\n",
    "from tensorflow.keras.applications.vgg16 import preprocess_input\n",
    "from functools import partial\n",
    "import os"
   ]
  },
  {
   "cell_type": "code",
   "execution_count": 3,
   "metadata": {},
   "outputs": [
    {
     "name": "stdout",
     "output_type": "stream",
     "text": [
      "1 Physical GPUs, 1 Logical GPUs\n"
     ]
    }
   ],
   "source": [
    "os.environ[\"CUDA_VISIBLE_DEVICES\"]=\"1\"\n",
    "from dev_utils import tf_session\n",
    "tf_session.setup_gpus(True, 0.95)"
   ]
  },
  {
   "cell_type": "markdown",
   "metadata": {},
   "source": [
    "# 1.Data load"
   ]
  },
  {
   "cell_type": "code",
   "execution_count": 4,
   "metadata": {},
   "outputs": [],
   "source": [
    "_datapath = \"sample_dataset\"\n",
    "filelist = os.listdir(_datapath)\n",
    "input_size = (64, 64)\n",
    "output_size = (64, 64)\n",
    "images = []\n",
    "\n",
    "for f in filelist:\n",
    "    _path = os.path.join(_datapath, f)\n",
    "    img = cv2.imread(_path)[:,:,::-1]\n",
    "    img = cv2.resize(img, input_size, interpolation=cv2.INTER_AREA)\n",
    "    images.append(img)\n",
    "\n",
    "images = np.array(images, dtype=np.float32)"
   ]
  },
  {
   "cell_type": "code",
   "execution_count": 5,
   "metadata": {},
   "outputs": [],
   "source": [
    "def pad_image(image, pad_ratio):\n",
    "    '''\n",
    "        input : original image, padding_ratio( ragne 0~1 )\n",
    "        output : padded_image(reflected boundary)\n",
    "    '''\n",
    "    original_size = (image.shape[0], image.shape[1])\n",
    "    top = bottom = int(original_size[0] * pad_ratio)\n",
    "    left = right = int(original_size[1] * pad_ratio)\n",
    "    padded_image = cv2.copyMakeBorder(\n",
    "        image, top, bottom, left, right, cv2.BORDER_REFLECT)\n",
    "    return padded_image"
   ]
  },
  {
   "cell_type": "code",
   "execution_count": 6,
   "metadata": {},
   "outputs": [],
   "source": [
    "def py_image_process(image, motion_vectors, tps_random_rate, output_size):\n",
    "    #image = tf.keras.applications.vgg16.preprocess_input(image)\n",
    "    image = image.numpy()\n",
    "    tps_random_rate = tps_random_rate.numpy()\n",
    "    image = image / 255.\n",
    "    padded_image = pad_image(image, tps_random_rate)\n",
    "    \n",
    "    ratio = 1/(1 + tps_random_rate)\n",
    "    control_points = tf.constant([[-ratio, -ratio], [0.0, -ratio], [ratio, -ratio],\n",
    "                               [-ratio, 0.0], [0.0, 0.0], [ratio, 0.0],\n",
    "                               [-ratio, ratio], [0.0, ratio], [ratio, ratio]], dtype=tf.float32)\n",
    "    x_s, y_s = tps(control_points[tf.newaxis,::], -motion_vectors[tf.newaxis,::], padded_image.shape[0:2])\n",
    "    synth_image = cv2.remap(padded_image, x_s[0].numpy(), y_s[0].numpy(), cv2.INTER_CUBIC)\n",
    "    dH = (synth_image.shape[0] - image.shape[0])/2\n",
    "    dW = (synth_image.shape[1] - image.shape[1])/2\n",
    "    dH, dW = int(dH), int(dW)\n",
    "    synth_image = synth_image[dH:-dH, dW:-dW]    \n",
    "    return image, synth_image, motion_vectors"
   ]
  },
  {
   "cell_type": "code",
   "execution_count": 7,
   "metadata": {},
   "outputs": [],
   "source": [
    "def tf_image_process(image, tps_random_rate, output_size):\n",
    "    motion_vectors = (tf.random.uniform([9, 2]) - 0.5) * 2 * tps_random_rate\n",
    "    return tf.py_function(py_image_process, [image, motion_vectors, tps_random_rate, output_size], [tf.float32, tf.float32, tf.float32])"
   ]
  },
  {
   "cell_type": "code",
   "execution_count": 8,
   "metadata": {},
   "outputs": [],
   "source": [
    "tps_random_rate = 0.4\n",
    "output_size = (200, 200)\n",
    "map_func = partial(tf_image_process, tps_random_rate=tps_random_rate,\n",
    "                      output_size=output_size)\n",
    "\n",
    "ds = tf.data.Dataset.from_tensor_slices(images)\n",
    "ds = ds.map(map_func, num_parallel_calls=tf.data.experimental.AUTOTUNE)\n",
    "ds = ds.batch(16)"
   ]
  },
  {
   "cell_type": "code",
   "execution_count": 9,
   "metadata": {},
   "outputs": [
    {
     "name": "stdout",
     "output_type": "stream",
     "text": [
      "(10, 64, 64, 3) (10, 64, 64, 3)\n",
      "(10, 9, 2)\n"
     ]
    }
   ],
   "source": [
    "for A, B, p in ds.take(1):\n",
    "    print(A.shape, B.shape)\n",
    "    print(p.shape)"
   ]
  },
  {
   "cell_type": "code",
   "execution_count": null,
   "metadata": {},
   "outputs": [],
   "source": [
    "plt.imshow(images[0]/255)"
   ]
  },
  {
   "cell_type": "code",
   "execution_count": null,
   "metadata": {},
   "outputs": [],
   "source": [
    "plt.imshow(A[1])"
   ]
  },
  {
   "cell_type": "code",
   "execution_count": null,
   "metadata": {},
   "outputs": [],
   "source": [
    "plt.imshow(B[1])"
   ]
  },
  {
   "cell_type": "markdown",
   "metadata": {},
   "source": [
    "# 2. Model definition"
   ]
  },
  {
   "cell_type": "code",
   "execution_count": null,
   "metadata": {},
   "outputs": [],
   "source": [
    "# (a) feature extraction\n",
    "vgg16 = tf.keras.applications.VGG16(weights='imagenet', input_shape=(input_size[0], input_size[1], 3), \n",
    "                                    include_top=False)\n",
    "output_layer = vgg16.get_layer(\"block3_conv3\")\n",
    "output_layer.activation = None\n",
    "feature_extractor = tf.keras.Model(inputs=vgg16.input, outputs=output_layer.output)"
   ]
  },
  {
   "cell_type": "code",
   "execution_count": null,
   "metadata": {},
   "outputs": [],
   "source": [
    "vgg16.summary()"
   ]
  },
  {
   "cell_type": "code",
   "execution_count": 10,
   "metadata": {},
   "outputs": [],
   "source": [
    "# (b) channel-wise l2 normalization\n",
    "def feature_l2_normalization(feature_map):\n",
    "    #input(feature map) has tensor-shape (N, H, W, D)\n",
    "    l2_norm = tf.math.sqrt(tf.reduce_sum(tf.pow(feature_map, 2), axis=-1))  # (N, H, W)\n",
    "    l2_norm = tf.expand_dims(l2_norm, axis=-1)  # (N, H, W, 1)\n",
    "    # (N, H, W, D) tensor divided by (N, H, W, 1) tensor\n",
    "    return feature_map / (l2_norm+1E-5)"
   ]
  },
  {
   "cell_type": "code",
   "execution_count": 11,
   "metadata": {},
   "outputs": [],
   "source": [
    "# (c) Matching layer\n",
    "class Correlation_network(tf.keras.layers.Layer):\n",
    "    def __init__(self):\n",
    "        super(Correlation_network, self).__init__()\n",
    "\n",
    "    def call(self, feature_A, feature_B):\n",
    "        # featureA : feature information from source image\n",
    "        # featureB : feature information from target image\n",
    "        #assert feature_A.shape == feature_B.shape\n",
    "        # new feature A and feature B have new shape of tensors.\n",
    "        # featureA has tensor shape as [batch, HA, WA, 1, 1, depth]\n",
    "        # featureB has tensor shape as [batch, 1, 1, HB, WB, depth]\n",
    "        feature_A = feature_A[:, :, :, tf.newaxis, tf.newaxis, :]\n",
    "        feature_B = feature_B[:, tf.newaxis, tf.newaxis, :, :, :]\n",
    "        # correlation score has tensor shape as [batch, HA, WA, HB, WB]\n",
    "        corr_score = tf.reduce_sum(tf.multiply(feature_A, feature_B), axis=-1)\n",
    "        return corr_score\n",
    "# repeat penalty\n",
    "def normalize_correlation(corr_score):\n",
    "    ambiguous_match_penalty = tf.math.sqrt(tf.reduce_sum(tf.pow(corr_score, 2), axis=[3, 4], keepdims=True))\n",
    "    corr_score = tf.math.divide(corr_score, ambiguous_match_penalty+0.00001)\n",
    "    # see eq (2) in \"End-to-end weakly-supervised semantic alignment\"\n",
    "    return corr_score"
   ]
  },
  {
   "cell_type": "code",
   "execution_count": null,
   "metadata": {},
   "outputs": [],
   "source": [
    "feature_A = feature_extractor(A)\n",
    "feature_B = feature_extractor(B)\n",
    "print(feature_A.shape, feature_B.shape)"
   ]
  },
  {
   "cell_type": "code",
   "execution_count": null,
   "metadata": {},
   "outputs": [],
   "source": [
    "normalized_feature_A = feature_l2_normalization(feature_A)\n",
    "normalized_feature_B = feature_l2_normalization(feature_B)\n",
    "print(normalized_feature_A.shape, normalized_feature_B.shape)"
   ]
  },
  {
   "cell_type": "code",
   "execution_count": null,
   "metadata": {},
   "outputs": [],
   "source": [
    "correlation_net = Correlation_network()\n",
    "correlations = correlation_net(normalized_feature_A, normalized_feature_B)\n",
    "print(correlations.shape)"
   ]
  },
  {
   "cell_type": "code",
   "execution_count": null,
   "metadata": {},
   "outputs": [],
   "source": [
    "correlations = tf.keras.layers.Activation(\"relu\")(correlations)\n",
    "correlations = normalize_correlation(correlations)"
   ]
  },
  {
   "cell_type": "code",
   "execution_count": 12,
   "metadata": {},
   "outputs": [],
   "source": [
    "# (d) regressor\n",
    "class Spatial_regressor(tf.keras.layers.Layer):\n",
    "    def __init__(self, num_param):\n",
    "        super(Spatial_regressor, self).__init__()\n",
    "        self.regressor = tf.keras.Sequential([\n",
    "            tf.keras.layers.Conv2D(128, (7, 7)),\n",
    "            tf.keras.layers.Activation(\"relu\"),\n",
    "            tf.keras.layers.BatchNormalization(),\n",
    "            tf.keras.layers.Conv2D(64, (5, 5)),\n",
    "            tf.keras.layers.Activation(\"relu\"),\n",
    "            tf.keras.layers.BatchNormalization(),\n",
    "            tf.keras.layers.Flatten(),\n",
    "            tf.keras.layers.Dense(num_param),\n",
    "        ])\n",
    "    def call(self, x):\n",
    "        AH,AW,BHW = x.shape[1], x.shape[2], x.shape[3]*x.shape[4]\n",
    "        x = tf.reshape(x, [-1, AH, AW, BHW])\n",
    "        x = self.regressor(x)\n",
    "        x = tf.reshape(x, [-1, 9, 2])\n",
    "        return x"
   ]
  },
  {
   "cell_type": "code",
   "execution_count": 13,
   "metadata": {},
   "outputs": [
    {
     "ename": "NameError",
     "evalue": "name 'correlations' is not defined",
     "output_type": "error",
     "traceback": [
      "\u001b[0;31m---------------------------------------------------------------------------\u001b[0m",
      "\u001b[0;31mNameError\u001b[0m                                 Traceback (most recent call last)",
      "\u001b[0;32m<ipython-input-13-f11b47fe593c>\u001b[0m in \u001b[0;36m<module>\u001b[0;34m\u001b[0m\n\u001b[1;32m      1\u001b[0m \u001b[0mspatial_regressor\u001b[0m \u001b[0;34m=\u001b[0m \u001b[0mSpatial_regressor\u001b[0m\u001b[0;34m(\u001b[0m\u001b[0;36m9\u001b[0m\u001b[0;34m*\u001b[0m\u001b[0;36m2\u001b[0m\u001b[0;34m)\u001b[0m\u001b[0;34m\u001b[0m\u001b[0;34m\u001b[0m\u001b[0m\n\u001b[0;32m----> 2\u001b[0;31m \u001b[0mgeo_parameters\u001b[0m \u001b[0;34m=\u001b[0m \u001b[0mspatial_regressor\u001b[0m\u001b[0;34m(\u001b[0m\u001b[0mcorrelations\u001b[0m\u001b[0;34m)\u001b[0m\u001b[0;34m\u001b[0m\u001b[0;34m\u001b[0m\u001b[0m\n\u001b[0m\u001b[1;32m      3\u001b[0m \u001b[0mprint\u001b[0m\u001b[0;34m(\u001b[0m\u001b[0mgeo_parameters\u001b[0m\u001b[0;34m.\u001b[0m\u001b[0mshape\u001b[0m\u001b[0;34m)\u001b[0m\u001b[0;34m\u001b[0m\u001b[0;34m\u001b[0m\u001b[0m\n",
      "\u001b[0;31mNameError\u001b[0m: name 'correlations' is not defined"
     ]
    }
   ],
   "source": [
    "spatial_regressor = Spatial_regressor(9*2)\n",
    "geo_parameters = spatial_regressor(correlations)\n",
    "print(geo_parameters.shape)"
   ]
  },
  {
   "cell_type": "code",
   "execution_count": 14,
   "metadata": {},
   "outputs": [],
   "source": [
    "class CNN_geotransform(tf.keras.Model):\n",
    "    def __init__(self, feature_extractor, num_param):\n",
    "        super(CNN_geotransform, self).__init__()\n",
    "        self.feature_extractor = feature_extractor\n",
    "        self.correlation_net = Correlation_network()\n",
    "        self.regressor = Spatial_regressor(9*2)\n",
    "    def call(self, imageA, imageB):\n",
    "        featureA = self.feature_extractor(imageA)\n",
    "        featureB = self.feature_extractor(imageB)\n",
    "        featureA = feature_l2_normalization(featureA)\n",
    "        featureB = feature_l2_normalization(featureB)\n",
    "        correlations = self.correlation_net(featureA, featureB)\n",
    "        correlations = tf.keras.layers.Activation(\"relu\")(correlations)\n",
    "        correlations = normalize_correlation(correlations)\n",
    "        geo_parameters = self.regressor(correlations)\n",
    "        return geo_parameters"
   ]
  },
  {
   "cell_type": "code",
   "execution_count": null,
   "metadata": {},
   "outputs": [],
   "source": [
    "cnngeo = CNN_geotransform(feature_extractor, 9*2)"
   ]
  },
  {
   "cell_type": "code",
   "execution_count": null,
   "metadata": {},
   "outputs": [],
   "source": [
    "geo_paramters = cnngeo(A, B)"
   ]
  },
  {
   "cell_type": "code",
   "execution_count": null,
   "metadata": {},
   "outputs": [],
   "source": [
    "cnngeo.summary()"
   ]
  },
  {
   "cell_type": "code",
   "execution_count": null,
   "metadata": {},
   "outputs": [],
   "source": [
    "geo_paramters.shape"
   ]
  },
  {
   "cell_type": "markdown",
   "metadata": {},
   "source": [
    "# 3.Training"
   ]
  },
  {
   "cell_type": "code",
   "execution_count": 15,
   "metadata": {},
   "outputs": [],
   "source": [
    "vgg16 = tf.keras.applications.VGG16(weights='imagenet', input_shape=(input_size[0], input_size[1], 3), \n",
    "                                    include_top=False)\n",
    "output_layer = vgg16.get_layer(\"block3_conv3\")\n",
    "output_layer.activation = None\n",
    "feature_extractor = tf.keras.Model(inputs=vgg16.input, outputs=output_layer.output)\n",
    "cnngeo = CNN_geotransform(feature_extractor, 9*2)\n",
    "\n",
    "optimizer = tf.keras.optimizers.Adam(learning_rate=1E-4)"
   ]
  },
  {
   "cell_type": "code",
   "execution_count": 16,
   "metadata": {},
   "outputs": [],
   "source": [
    "'''\n",
    "def loss_fn(preds, labels):\n",
    "    control_points = tf.constant([[-1.0, -1.0], [0.0, -1.0], [1.0, -1.0],\n",
    "                               [-1.0, 0.0], [0.0, 0.0], [1.0, 0.0],\n",
    "                               [-1.0, 1.0], [0.0, 1.0], [1.0, 1.0]], dtype=tf.float32)\n",
    "    num_batch = preds.shape[0]\n",
    "    pred_grid_x, pred_grid_y = tps(tf.tile(control_points[tf.newaxis,::], [num_batch,1,1]), preds, (20, 20))\n",
    "    gt_grid_x, gt_grid_y = tps(tf.tile(control_points[tf.newaxis,::], [num_batch,1,1]), labels, (20, 20))\n",
    "    \n",
    "    dist = tf.sqrt(tf.pow(pred_grid_x - gt_grid_x, 2) + tf.pow(pred_grid_y - gt_grid_y, 2))\n",
    "    loss_mean = tf.reduce_mean(dist)\n",
    "    return loss_mean\n",
    "'''\n",
    "def loss_fn(preds, labels):\n",
    "    loss_mean = tf.reduce_mean(tf.sqrt(tf.reduce_sum(tf.pow(preds - labels, 2), axis = [-1])))\n",
    "    return loss_mean\n",
    "\n",
    "@tf.function\n",
    "def train_step(image_A, image_B, labels, model, optimizer):\n",
    "    with tf.GradientTape() as tape:\n",
    "        preds = model(image_A, image_B)\n",
    "        loss = loss_fn(preds, labels)\n",
    "    gradients = tape.gradient(loss, model.trainable_variables)\n",
    "    optimizer.apply_gradients(zip(gradients, model.trainable_variables))\n",
    "    return loss"
   ]
  },
  {
   "cell_type": "code",
   "execution_count": 17,
   "metadata": {},
   "outputs": [
    {
     "name": "stdout",
     "output_type": "stream",
     "text": [
      "Epoch 1, Loss: 0.31400826573371887\n",
      "Epoch 2, Loss: 0.3253183960914612\n",
      "Epoch 3, Loss: 0.31519174575805664\n",
      "Epoch 4, Loss: 0.3133406639099121\n",
      "Epoch 5, Loss: 0.30335497856140137\n",
      "Epoch 6, Loss: 0.3057379424571991\n",
      "Epoch 7, Loss: 0.311604380607605\n",
      "Epoch 8, Loss: 0.317351371049881\n",
      "Epoch 9, Loss: 0.28446561098098755\n",
      "Epoch 10, Loss: 0.3153432607650757\n",
      "Epoch 11, Loss: 0.3055664896965027\n",
      "Epoch 12, Loss: 0.29263973236083984\n",
      "Epoch 13, Loss: 0.2795020341873169\n",
      "Epoch 14, Loss: 0.3095294237136841\n",
      "Epoch 15, Loss: 0.3206835985183716\n",
      "Epoch 16, Loss: 0.2815673053264618\n",
      "Epoch 17, Loss: 0.30141451954841614\n",
      "Epoch 18, Loss: 0.319759339094162\n",
      "Epoch 19, Loss: 0.31777554750442505\n",
      "Epoch 20, Loss: 0.2925565838813782\n",
      "Epoch 21, Loss: 0.30385348200798035\n",
      "Epoch 22, Loss: 0.28695186972618103\n",
      "Epoch 23, Loss: 0.29637253284454346\n",
      "Epoch 24, Loss: 0.31630659103393555\n",
      "Epoch 25, Loss: 0.3136518597602844\n",
      "Epoch 26, Loss: 0.2931460440158844\n",
      "Epoch 27, Loss: 0.30228328704833984\n",
      "Epoch 28, Loss: 0.31240400671958923\n",
      "Epoch 29, Loss: 0.2995895743370056\n",
      "Epoch 30, Loss: 0.30404290556907654\n",
      "Epoch 31, Loss: 0.29214781522750854\n",
      "Epoch 32, Loss: 0.2992500960826874\n",
      "Epoch 33, Loss: 0.2803698778152466\n",
      "Epoch 34, Loss: 0.29346030950546265\n",
      "Epoch 35, Loss: 0.29474666714668274\n",
      "Epoch 36, Loss: 0.3075675070285797\n",
      "Epoch 37, Loss: 0.3054142892360687\n",
      "Epoch 38, Loss: 0.2872617542743683\n",
      "Epoch 39, Loss: 0.29108262062072754\n",
      "Epoch 40, Loss: 0.2889292538166046\n",
      "Epoch 41, Loss: 0.31080418825149536\n",
      "Epoch 42, Loss: 0.2704772353172302\n",
      "Epoch 43, Loss: 0.29318758845329285\n",
      "Epoch 44, Loss: 0.31528228521347046\n",
      "Epoch 45, Loss: 0.3056427240371704\n",
      "Epoch 46, Loss: 0.3064314126968384\n",
      "Epoch 47, Loss: 0.28604263067245483\n",
      "Epoch 48, Loss: 0.2847192883491516\n",
      "Epoch 49, Loss: 0.300517737865448\n",
      "Epoch 50, Loss: 0.2917284667491913\n",
      "Epoch 51, Loss: 0.2915908694267273\n",
      "Epoch 52, Loss: 0.30148690938949585\n",
      "Epoch 53, Loss: 0.27894672751426697\n",
      "Epoch 54, Loss: 0.3035772442817688\n",
      "Epoch 55, Loss: 0.29418274760246277\n",
      "Epoch 56, Loss: 0.30448150634765625\n",
      "Epoch 57, Loss: 0.30850017070770264\n",
      "Epoch 58, Loss: 0.2864561378955841\n",
      "Epoch 59, Loss: 0.29513251781463623\n",
      "Epoch 60, Loss: 0.27379244565963745\n",
      "Epoch 61, Loss: 0.2943401336669922\n",
      "Epoch 62, Loss: 0.29136335849761963\n",
      "Epoch 63, Loss: 0.292158842086792\n",
      "Epoch 64, Loss: 0.2689589262008667\n",
      "Epoch 65, Loss: 0.28834715485572815\n",
      "Epoch 66, Loss: 0.2988520860671997\n",
      "Epoch 67, Loss: 0.28432658314704895\n",
      "Epoch 68, Loss: 0.2857607305049896\n",
      "Epoch 69, Loss: 0.2785826027393341\n",
      "Epoch 70, Loss: 0.298556387424469\n",
      "Epoch 71, Loss: 0.26346126198768616\n",
      "Epoch 72, Loss: 0.26987871527671814\n",
      "Epoch 73, Loss: 0.2889995276927948\n",
      "Epoch 74, Loss: 0.2620583474636078\n",
      "Epoch 75, Loss: 0.29290199279785156\n",
      "Epoch 76, Loss: 0.2803434431552887\n",
      "Epoch 77, Loss: 0.2925375699996948\n",
      "Epoch 78, Loss: 0.30365121364593506\n",
      "Epoch 79, Loss: 0.2899092137813568\n",
      "Epoch 80, Loss: 0.3096708059310913\n",
      "Epoch 81, Loss: 0.2966606616973877\n",
      "Epoch 82, Loss: 0.2755298614501953\n",
      "Epoch 83, Loss: 0.26988911628723145\n",
      "Epoch 84, Loss: 0.28580281138420105\n",
      "Epoch 85, Loss: 0.29098743200302124\n",
      "Epoch 86, Loss: 0.2561028301715851\n",
      "Epoch 87, Loss: 0.2832488715648651\n",
      "Epoch 88, Loss: 0.2692180871963501\n",
      "Epoch 89, Loss: 0.2918300926685333\n",
      "Epoch 90, Loss: 0.2862128019332886\n",
      "Epoch 91, Loss: 0.2852025330066681\n",
      "Epoch 92, Loss: 0.29040002822875977\n",
      "Epoch 93, Loss: 0.2672877311706543\n",
      "Epoch 94, Loss: 0.2879229784011841\n",
      "Epoch 95, Loss: 0.2895573377609253\n",
      "Epoch 96, Loss: 0.2585724890232086\n",
      "Epoch 97, Loss: 0.27462056279182434\n",
      "Epoch 98, Loss: 0.26742082834243774\n",
      "Epoch 99, Loss: 0.27572891116142273\n",
      "Epoch 100, Loss: 0.2534019649028778\n",
      "Epoch 101, Loss: 0.2647756040096283\n",
      "Epoch 102, Loss: 0.2657250165939331\n",
      "Epoch 103, Loss: 0.2990322411060333\n",
      "Epoch 104, Loss: 0.29372918605804443\n",
      "Epoch 105, Loss: 0.2964842617511749\n",
      "Epoch 106, Loss: 0.24584053456783295\n",
      "Epoch 107, Loss: 0.29245734214782715\n",
      "Epoch 108, Loss: 0.28261062502861023\n",
      "Epoch 109, Loss: 0.2682732343673706\n",
      "Epoch 110, Loss: 0.2765132486820221\n",
      "Epoch 111, Loss: 0.2721887528896332\n",
      "Epoch 112, Loss: 0.2987850308418274\n",
      "Epoch 113, Loss: 0.25778070092201233\n",
      "Epoch 114, Loss: 0.26432862877845764\n",
      "Epoch 115, Loss: 0.26737022399902344\n",
      "Epoch 116, Loss: 0.2774544954299927\n",
      "Epoch 117, Loss: 0.26718518137931824\n",
      "Epoch 118, Loss: 0.2839536964893341\n",
      "Epoch 119, Loss: 0.2578745484352112\n",
      "Epoch 120, Loss: 0.2852146625518799\n",
      "Epoch 121, Loss: 0.28064343333244324\n",
      "Epoch 122, Loss: 0.2758616805076599\n",
      "Epoch 123, Loss: 0.2713775336742401\n",
      "Epoch 124, Loss: 0.26587313413619995\n",
      "Epoch 125, Loss: 0.2637630105018616\n",
      "Epoch 126, Loss: 0.2592320740222931\n",
      "Epoch 127, Loss: 0.26580482721328735\n",
      "Epoch 128, Loss: 0.2692275047302246\n",
      "Epoch 129, Loss: 0.24987748265266418\n",
      "Epoch 130, Loss: 0.26694029569625854\n",
      "Epoch 131, Loss: 0.26644328236579895\n",
      "Epoch 132, Loss: 0.2630988359451294\n",
      "Epoch 133, Loss: 0.26734673976898193\n",
      "Epoch 134, Loss: 0.2827863097190857\n",
      "Epoch 135, Loss: 0.2757318615913391\n",
      "Epoch 136, Loss: 0.2637961208820343\n",
      "Epoch 137, Loss: 0.2614535391330719\n",
      "Epoch 138, Loss: 0.2621437907218933\n",
      "Epoch 139, Loss: 0.261554092168808\n",
      "Epoch 140, Loss: 0.2845490872859955\n",
      "Epoch 141, Loss: 0.27003762125968933\n",
      "Epoch 142, Loss: 0.294992059469223\n",
      "Epoch 143, Loss: 0.2795531451702118\n",
      "Epoch 144, Loss: 0.28136852383613586\n",
      "Epoch 145, Loss: 0.25868549942970276\n",
      "Epoch 146, Loss: 0.27317893505096436\n",
      "Epoch 147, Loss: 0.28929296135902405\n",
      "Epoch 148, Loss: 0.279909610748291\n",
      "Epoch 149, Loss: 0.25237134099006653\n",
      "Epoch 150, Loss: 0.23977328836917877\n",
      "Epoch 151, Loss: 0.2661072313785553\n",
      "Epoch 152, Loss: 0.27163073420524597\n",
      "Epoch 153, Loss: 0.23920853435993195\n",
      "Epoch 154, Loss: 0.27098000049591064\n",
      "Epoch 155, Loss: 0.26569247245788574\n",
      "Epoch 156, Loss: 0.2753202021121979\n",
      "Epoch 157, Loss: 0.2496498078107834\n",
      "Epoch 158, Loss: 0.2644364535808563\n",
      "Epoch 159, Loss: 0.2729375958442688\n",
      "Epoch 160, Loss: 0.2651921510696411\n",
      "Epoch 161, Loss: 0.2488958090543747\n",
      "Epoch 162, Loss: 0.24652129411697388\n",
      "Epoch 163, Loss: 0.28862473368644714\n",
      "Epoch 164, Loss: 0.2722240388393402\n",
      "Epoch 165, Loss: 0.2697518765926361\n",
      "Epoch 166, Loss: 0.25684499740600586\n",
      "Epoch 167, Loss: 0.2836548984050751\n",
      "Epoch 168, Loss: 0.26425713300704956\n",
      "Epoch 169, Loss: 0.2719937264919281\n",
      "Epoch 170, Loss: 0.2801470458507538\n",
      "Epoch 171, Loss: 0.2683652639389038\n",
      "Epoch 172, Loss: 0.2592303454875946\n",
      "Epoch 173, Loss: 0.27045583724975586\n",
      "Epoch 174, Loss: 0.2748474180698395\n",
      "Epoch 175, Loss: 0.27167996764183044\n",
      "Epoch 176, Loss: 0.2703421413898468\n",
      "Epoch 177, Loss: 0.28185033798217773\n",
      "Epoch 178, Loss: 0.2764415740966797\n",
      "Epoch 179, Loss: 0.23141053318977356\n",
      "Epoch 180, Loss: 0.2666718065738678\n",
      "Epoch 181, Loss: 0.2612577974796295\n",
      "Epoch 182, Loss: 0.2745233178138733\n",
      "Epoch 183, Loss: 0.2515964210033417\n",
      "Epoch 184, Loss: 0.2614869177341461\n",
      "Epoch 185, Loss: 0.265564888715744\n",
      "Epoch 186, Loss: 0.27012836933135986\n",
      "Epoch 187, Loss: 0.23461803793907166\n",
      "Epoch 188, Loss: 0.24619804322719574\n",
      "Epoch 189, Loss: 0.252119243144989\n",
      "Epoch 190, Loss: 0.2528782784938812\n",
      "Epoch 191, Loss: 0.2444448322057724\n",
      "Epoch 192, Loss: 0.23400838673114777\n",
      "Epoch 193, Loss: 0.26490795612335205\n",
      "Epoch 194, Loss: 0.27408087253570557\n",
      "Epoch 195, Loss: 0.2727614641189575\n",
      "Epoch 196, Loss: 0.2626751661300659\n",
      "Epoch 197, Loss: 0.26531782746315\n",
      "Epoch 198, Loss: 0.2711343467235565\n",
      "Epoch 199, Loss: 0.2654036283493042\n",
      "Epoch 200, Loss: 0.25406694412231445\n"
     ]
    }
   ],
   "source": [
    "train_loss = tf.metrics.Mean(name='train_loss')\n",
    "x_axis = []\n",
    "y_loss = []\n",
    "for epoch in range(200):\n",
    "    for step, (image_a, image_b, labels) in enumerate(ds):\n",
    "        t_loss = train_step(image_a, image_b, labels, cnngeo, optimizer)\n",
    "        train_loss(t_loss)\n",
    "    template = 'Epoch {}, Loss: {}'\n",
    "    print(template.format(epoch + 1, train_loss.result()))\n",
    "    x_axis.append(epoch)\n",
    "    y_loss.append(train_loss.result().numpy())\n",
    "    train_loss.reset_states()"
   ]
  },
  {
   "cell_type": "code",
   "execution_count": 18,
   "metadata": {},
   "outputs": [
    {
     "data": {
      "text/plain": [
       "[<matplotlib.lines.Line2D at 0x7fba1063c2e8>]"
      ]
     },
     "execution_count": 18,
     "metadata": {},
     "output_type": "execute_result"
    },
    {
     "data": {
      "image/png": "[encoded data removed]",
      "text/plain": [
       "<Figure size 432x288 with 1 Axes>"
      ]
     },
     "metadata": {
      "needs_background": "light"
     },
     "output_type": "display_data"
    }
   ],
   "source": [
    "fig = plt.figure()\n",
    "axis = fig.add_subplot(111)\n",
    "axis.title.set_text(\"training_loss\")\n",
    "axis.set_xlabel(\"epoch\")\n",
    "axis.set_ylabel(\"training loss\")\n",
    "axis.plot(np.array(x_axis), np.array(y_loss))"
   ]
  },
  {
   "cell_type": "code",
   "execution_count": 19,
   "metadata": {},
   "outputs": [
    {
     "name": "stdout",
     "output_type": "stream",
     "text": [
      "(10, 64, 64, 3) (10, 64, 64, 3)\n"
     ]
    }
   ],
   "source": [
    "for A, B, p in ds.take(1):\n",
    "    print(A.shape, B.shape)\n",
    "    preds = cnngeo(A, B)\n",
    "\n",
    "warping_images = []\n",
    "output_size = A.shape[1:3]\n",
    "control_points = tf.constant([[-1.0, -1.0], [0.0, -1.0], [1.0, -1.0],\n",
    "                               [-1.0, 0.0], [0.0, 0.0], [1.0, 0.0],\n",
    "                               [-1.0, 1.0], [0.0, 1.0], [1.0, 1.0]], dtype=tf.float32)\n",
    "for image, pred in zip(A, preds):\n",
    "    x_s, y_s = tps(control_points[tf.newaxis,::], -pred[tf.newaxis,::], output_size)\n",
    "    image = image.numpy()\n",
    "    warping_images.append(cv2.remap(image, x_s[0].numpy(), y_s[0].numpy(), cv2.INTER_CUBIC))\n",
    "\n",
    "warping_images = np.array(warping_images)    "
   ]
  },
  {
   "cell_type": "code",
   "execution_count": null,
   "metadata": {},
   "outputs": [],
   "source": []
  },
  {
   "cell_type": "code",
   "execution_count": 20,
   "metadata": {},
   "outputs": [
    {
     "data": {
      "text/plain": [
       "<matplotlib.image.AxesImage at 0x7fba10191a90>"
      ]
     },
     "execution_count": 20,
     "metadata": {},
     "output_type": "execute_result"
    },
    {
     "data": {
      "image/png": "[encoded data removed]",
      "text/plain": [
       "<Figure size 432x288 with 1 Axes>"
      ]
     },
     "metadata": {
      "needs_background": "light"
     },
     "output_type": "display_data"
    }
   ],
   "source": [
    "plt.imshow(A[1])"
   ]
  },
  {
   "cell_type": "code",
   "execution_count": 21,
   "metadata": {},
   "outputs": [
    {
     "name": "stderr",
     "output_type": "stream",
     "text": [
      "Clipping input data to the valid range for imshow with RGB data ([0..1] for floats or [0..255] for integers).\n"
     ]
    },
    {
     "data": {
      "text/plain": [
       "<matplotlib.image.AxesImage at 0x7fba100f61d0>"
      ]
     },
     "execution_count": 21,
     "metadata": {},
     "output_type": "execute_result"
    },
    {
     "data": {
      "image/png": "[encoded data removed]",
      "text/plain": [
       "<Figure size 432x288 with 1 Axes>"
      ]
     },
     "metadata": {
      "needs_background": "light"
     },
     "output_type": "display_data"
    }
   ],
   "source": [
    "plt.imshow(B[1])"
   ]
  },
  {
   "cell_type": "code",
   "execution_count": 22,
   "metadata": {},
   "outputs": [
    {
     "name": "stderr",
     "output_type": "stream",
     "text": [
      "Clipping input data to the valid range for imshow with RGB data ([0..1] for floats or [0..255] for integers).\n"
     ]
    },
    {
     "data": {
      "text/plain": [
       "<matplotlib.image.AxesImage at 0x7fba100d6550>"
      ]
     },
     "execution_count": 22,
     "metadata": {},
     "output_type": "execute_result"
    },
    {
     "data": {
      "image/png": "[encoded data removed]",
      "text/plain": [
       "<Figure size 432x288 with 1 Axes>"
      ]
     },
     "metadata": {
      "needs_background": "light"
     },
     "output_type": "display_data"
    }
   ],
   "source": [
    "plt.imshow(warping_images[1])"
   ]
  },
  {
   "cell_type": "code",
   "execution_count": null,
   "metadata": {},
   "outputs": [],
   "source": []
  },
  {
   "cell_type": "code",
   "execution_count": null,
   "metadata": {},
   "outputs": [],
   "source": []
  },
  {
   "cell_type": "code",
   "execution_count": null,
   "metadata": {},
   "outputs": [],
   "source": [
    "x = tf.keras.applications.vgg16.preprocess_input(np.ones([3,3,3]))"
   ]
  },
  {
   "cell_type": "code",
   "execution_count": null,
   "metadata": {},
   "outputs": [],
   "source": [
    "x"
   ]
  },
  {
   "cell_type": "code",
   "execution_count": null,
   "metadata": {},
   "outputs": [],
   "source": [
    "restore_original_image_from_array(x)"
   ]
  },
  {
   "cell_type": "code",
   "execution_count": null,
   "metadata": {},
   "outputs": [],
   "source": []
  },
  {
   "cell_type": "code",
   "execution_count": null,
   "metadata": {},
   "outputs": [],
   "source": [
    "def restore_original_image_from_array(x, data_format=None):\n",
    "    mean = [103.939, 116.779, 123.68]\n",
    "\n",
    "    # Zero-center by mean pixel\n",
    "    if data_format == 'channels_first':\n",
    "        if x.ndim == 3:\n",
    "            x[0, :, :] += mean[0]\n",
    "            x[1, :, :] += mean[1]\n",
    "            x[2, :, :] += mean[2]\n",
    "        else:\n",
    "            x[:, 0, :, :] += mean[0]\n",
    "            x[:, 1, :, :] += mean[1]\n",
    "            x[:, 2, :, :] += mean[2]\n",
    "    else:\n",
    "        x[..., 0] += mean[0]\n",
    "        x[..., 1] += mean[1]\n",
    "        x[..., 2] += mean[2]\n",
    "\n",
    "    if data_format == 'channels_first':\n",
    "        # 'BGR'->'RGB'\n",
    "        if x.ndim == 3:\n",
    "            x = x[::-1, ...]\n",
    "        else:\n",
    "            x = x[:, ::-1, ...]\n",
    "    else:\n",
    "        # 'BGR'->'RGB'\n",
    "        x = x[..., ::-1]\n",
    "\n",
    "    return x"
   ]
  },
  {
   "cell_type": "code",
   "execution_count": null,
   "metadata": {},
   "outputs": [],
   "source": [
    "plt.imshow(restore_original_image_from_array(B[1].numpy())/255)"
   ]
  },
  {
   "cell_type": "code",
   "execution_count": null,
   "metadata": {},
   "outputs": [],
   "source": [
    "plt.imshow(restore_original_image_from_array(warping_images[1])/255)"
   ]
  },
  {
   "cell_type": "code",
   "execution_count": null,
   "metadata": {},
   "outputs": [],
   "source": []
  }
 ],
 "metadata": {
  "kernelspec": {
   "display_name": "Python 3",
   "language": "python",
   "name": "python3"
  },
  "language_info": {
   "codemirror_mode": {
    "name": "ipython",
    "version": 3
   },
   "file_extension": ".py",
   "mimetype": "text/x-python",
   "name": "python",
   "nbconvert_exporter": "python",
   "pygments_lexer": "ipython3",
   "version": "3.6.8"
  }
 },
 "nbformat": 4,
 "nbformat_minor": 4
}

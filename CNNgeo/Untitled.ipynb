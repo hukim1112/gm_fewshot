{
 "cells": [
  {
   "cell_type": "code",
   "execution_count": 1,
   "metadata": {},
   "outputs": [],
   "source": [
    "import tensorflow as tf\n",
    "from data_loader.load_dataset import PF_Pascal"
   ]
  },
  {
   "cell_type": "code",
   "execution_count": 2,
   "metadata": {},
   "outputs": [],
   "source": [
    "pf_pascal = PF_Pascal(\"/home/files/datasets/PF-dataset-PASCAL\")"
   ]
  },
  {
   "cell_type": "code",
   "execution_count": 3,
   "metadata": {},
   "outputs": [],
   "source": [
    "ds = pf_pascal.dataset_loader(\"categorical_pair\")"
   ]
  },
  {
   "cell_type": "code",
   "execution_count": 4,
   "metadata": {},
   "outputs": [
    {
     "name": "stdout",
     "output_type": "stream",
     "text": [
      "(200, 200, 3) (200, 200, 3)\n",
      "(200, 200, 3) (200, 200, 3)\n",
      "(200, 200, 3) (200, 200, 3)\n",
      "(200, 200, 3) (200, 200, 3)\n",
      "(200, 200, 3) (200, 200, 3)\n",
      "(200, 200, 3) (200, 200, 3)\n",
      "(200, 200, 3) (200, 200, 3)\n",
      "(200, 200, 3) (200, 200, 3)\n",
      "(200, 200, 3) (200, 200, 3)\n",
      "(200, 200, 3) (200, 200, 3)\n"
     ]
    }
   ],
   "source": [
    "for i,j in ds.take(10):\n",
    "    print(i.shape, j.shape)"
   ]
  }
 ],
 "metadata": {
  "kernelspec": {
   "display_name": "Python 3",
   "language": "python",
   "name": "python3"
  },
  "language_info": {
   "codemirror_mode": {
    "name": "ipython",
    "version": 3
   },
   "file_extension": ".py",
   "mimetype": "text/x-python",
   "name": "python",
   "nbconvert_exporter": "python",
   "pygments_lexer": "ipython3",
   "version": "3.6.8"
  }
 },
 "nbformat": 4,
 "nbformat_minor": 4
}

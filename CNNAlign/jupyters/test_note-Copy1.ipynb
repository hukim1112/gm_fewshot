{
 "cells": [
  {
   "cell_type": "code",
   "execution_count": 1,
   "metadata": {},
   "outputs": [],
   "source": [
    "import os, sys\n",
    "root_path = os.path.abspath('.').split('jupyters')[0]\n",
    "sys.path.append(root_path)"
   ]
  },
  {
   "cell_type": "code",
   "execution_count": 2,
   "metadata": {},
   "outputs": [],
   "source": [
    "import json\n",
    "import argparse\n",
    "import tensorflow as tf\n",
    "import numpy as np\n",
    "from matplotlib import pyplot as plt\n",
    "\n",
    "from data_loader import load_data\n",
    "from models.cnn_geo import CNN_geo\n",
    "\n",
    "from debug_tools import data, train, visualize\n",
    "from utils import image\n",
    "import geo_transform as tps\n",
    "import CNNgeo_debug"
   ]
  },
  {
   "cell_type": "markdown",
   "metadata": {},
   "source": [
    "# 1. Read configuration file"
   ]
  },
  {
   "cell_type": "code",
   "execution_count": 3,
   "metadata": {},
   "outputs": [],
   "source": [
    "with open('../overfit.json') as fp:\n",
    "    config = json.load(fp)\n",
    "split = 'val'"
   ]
  },
  {
   "cell_type": "code",
   "execution_count": 4,
   "metadata": {},
   "outputs": [
    {
     "name": "stdout",
     "output_type": "stream",
     "text": [
      "{'exp_desc': '200507_regressor_filter_size_up', 'dataset_name': 'mini_imagenet', 'data_dir': '/home/files/datasets/mini_imagenet', 'image_shape': [64, 64, 3], 'model_name': 'CNNgeo', 'backbone': 'prototypical_network', 'data': {'method': 'synthesized_pair', 'tps_random_rate': 0.2, 'pad_ratio': 0.2}, 'ckpt': {'save_type': 'latest', 'max_to_keep': 10}, 'train': {'n_examples': 1, 'learning_rate': 0.0001, 'batch_size': 1, 'epochs': 200, 'print_step': 10}, 'val': {'n_examples': 1, 'batch_size': 1}, 'test': {'n_examples': -1, 'batch_size': 128}}\n"
     ]
    }
   ],
   "source": [
    "print(config)"
   ]
  },
  {
   "cell_type": "code",
   "execution_count": 5,
   "metadata": {},
   "outputs": [
    {
     "name": "stdout",
     "output_type": "stream",
     "text": [
      "{'n_examples': 1, 'learning_rate': 0.0001, 'batch_size': 1, 'epochs': 200, 'print_step': 10}\n"
     ]
    }
   ],
   "source": [
    "print(config['train'])"
   ]
  },
  {
   "cell_type": "code",
   "execution_count": 6,
   "metadata": {},
   "outputs": [
    {
     "name": "stdout",
     "output_type": "stream",
     "text": [
      "backbone :  prototypical_network\n",
      "n_examples :  1\n",
      "learning_rate :  0.0001\n",
      "batch_size :  1\n",
      "epoch num :  200\n"
     ]
    }
   ],
   "source": [
    "print(\"backbone : \", config['backbone'])\n",
    "print(\"n_examples : \", config['train']['n_examples'])\n",
    "print(\"learning_rate : \", config['train']['learning_rate'])\n",
    "print(\"batch_size : \", config['train']['batch_size'])\n",
    "print(\"epoch num : \", config['train']['epochs'])"
   ]
  },
  {
   "cell_type": "markdown",
   "metadata": {},
   "source": [
    "# 2. Train model on the config parameters"
   ]
  },
  {
   "cell_type": "code",
   "execution_count": 7,
   "metadata": {},
   "outputs": [
    {
     "name": "stdout",
     "output_type": "stream",
     "text": [
      "train dataset amount : 1\n",
      "val dataset amount : 1\n",
      "start of epoch 1\n",
      "Training loss (for one batch) at step 0: 0.43902745842933655\n",
      "Epoch 1, Loss: 0.43902745842933655, Val Loss: 0.5827353596687317\n",
      "end of epoch.\n",
      "start of epoch 2\n",
      "Training loss (for one batch) at step 0: 0.6366850733757019\n",
      "Epoch 2, Loss: 0.6366850733757019, Val Loss: 0.5820740461349487\n",
      "end of epoch.\n",
      "start of epoch 3\n",
      "Training loss (for one batch) at step 0: 0.5825507640838623\n",
      "Epoch 3, Loss: 0.5825507640838623, Val Loss: 0.5469998717308044\n",
      "end of epoch.\n",
      "start of epoch 4\n",
      "Training loss (for one batch) at step 0: 0.5997215509414673\n",
      "Epoch 4, Loss: 0.5997215509414673, Val Loss: 0.5166281461715698\n",
      "end of epoch.\n",
      "start of epoch 5\n",
      "Training loss (for one batch) at step 0: 0.693054735660553\n",
      "Epoch 5, Loss: 0.693054735660553, Val Loss: 0.6074742078781128\n",
      "end of epoch.\n",
      "start of epoch 6\n",
      "Training loss (for one batch) at step 0: 0.5771002769470215\n",
      "Epoch 6, Loss: 0.5771002769470215, Val Loss: 0.5495776534080505\n",
      "end of epoch.\n",
      "start of epoch 7\n",
      "Training loss (for one batch) at step 0: 0.47373002767562866\n",
      "Epoch 7, Loss: 0.47373002767562866, Val Loss: 0.4683365523815155\n",
      "end of epoch.\n",
      "start of epoch 8\n",
      "Training loss (for one batch) at step 0: 0.4825614392757416\n",
      "Epoch 8, Loss: 0.4825614392757416, Val Loss: 0.43670403957366943\n",
      "end of epoch.\n",
      "start of epoch 9\n",
      "Training loss (for one batch) at step 0: 0.43629616498947144\n",
      "Epoch 9, Loss: 0.43629616498947144, Val Loss: 0.5164625644683838\n",
      "end of epoch.\n",
      "start of epoch 10\n",
      "Training loss (for one batch) at step 0: 0.5255681872367859\n",
      "Epoch 10, Loss: 0.5255681872367859, Val Loss: 0.576608419418335\n",
      "end of epoch.\n",
      "start of epoch 11\n",
      "Training loss (for one batch) at step 0: 0.5440493822097778\n",
      "Epoch 11, Loss: 0.5440493822097778, Val Loss: 0.5349236130714417\n",
      "end of epoch.\n",
      "start of epoch 12\n",
      "Training loss (for one batch) at step 0: 0.5173596739768982\n",
      "Epoch 12, Loss: 0.5173596739768982, Val Loss: 0.45058682560920715\n",
      "end of epoch.\n",
      "start of epoch 13\n",
      "Training loss (for one batch) at step 0: 0.4627838730812073\n",
      "Epoch 13, Loss: 0.4627838730812073, Val Loss: 0.5170693397521973\n",
      "end of epoch.\n",
      "start of epoch 14\n",
      "Training loss (for one batch) at step 0: 0.5896347165107727\n",
      "Epoch 14, Loss: 0.5896347165107727, Val Loss: 0.43276238441467285\n",
      "end of epoch.\n",
      "start of epoch 15\n",
      "Training loss (for one batch) at step 0: 0.5545815825462341\n",
      "Epoch 15, Loss: 0.5545815825462341, Val Loss: 0.4912371337413788\n",
      "end of epoch.\n",
      "start of epoch 16\n",
      "Training loss (for one batch) at step 0: 0.532599925994873\n",
      "Epoch 16, Loss: 0.532599925994873, Val Loss: 0.47356680035591125\n",
      "end of epoch.\n",
      "start of epoch 17\n",
      "Training loss (for one batch) at step 0: 0.5716674327850342\n",
      "Epoch 17, Loss: 0.5716674327850342, Val Loss: 0.4604819118976593\n",
      "end of epoch.\n",
      "start of epoch 18\n",
      "Training loss (for one batch) at step 0: 0.4724253714084625\n",
      "Epoch 18, Loss: 0.4724253714084625, Val Loss: 0.46244579553604126\n",
      "end of epoch.\n",
      "start of epoch 19\n",
      "Training loss (for one batch) at step 0: 0.5099226236343384\n",
      "Epoch 19, Loss: 0.5099226236343384, Val Loss: 0.5108639597892761\n",
      "end of epoch.\n",
      "start of epoch 20\n",
      "Training loss (for one batch) at step 0: 0.43555113673210144\n",
      "Epoch 20, Loss: 0.43555113673210144, Val Loss: 0.4564078152179718\n",
      "end of epoch.\n",
      "start of epoch 21\n",
      "Training loss (for one batch) at step 0: 0.46616923809051514\n",
      "Epoch 21, Loss: 0.46616923809051514, Val Loss: 0.4556156396865845\n",
      "end of epoch.\n",
      "start of epoch 22\n",
      "Training loss (for one batch) at step 0: 0.4560937285423279\n",
      "Epoch 22, Loss: 0.4560937285423279, Val Loss: 0.5107172131538391\n",
      "end of epoch.\n",
      "start of epoch 23\n",
      "Training loss (for one batch) at step 0: 0.35416629910469055\n",
      "Epoch 23, Loss: 0.35416629910469055, Val Loss: 0.4531729519367218\n",
      "end of epoch.\n",
      "start of epoch 24\n",
      "Training loss (for one batch) at step 0: 0.357946515083313\n",
      "Epoch 24, Loss: 0.357946515083313, Val Loss: 0.46611207723617554\n",
      "end of epoch.\n",
      "start of epoch 25\n",
      "Training loss (for one batch) at step 0: 0.47701171040534973\n",
      "Epoch 25, Loss: 0.47701171040534973, Val Loss: 0.4735853970050812\n",
      "end of epoch.\n",
      "start of epoch 26\n",
      "Training loss (for one batch) at step 0: 0.4817088544368744\n",
      "Epoch 26, Loss: 0.4817088544368744, Val Loss: 0.47542843222618103\n",
      "end of epoch.\n",
      "start of epoch 27\n",
      "Training loss (for one batch) at step 0: 0.4007541537284851\n",
      "Epoch 27, Loss: 0.4007541537284851, Val Loss: 0.4977896511554718\n",
      "end of epoch.\n",
      "start of epoch 28\n",
      "Training loss (for one batch) at step 0: 0.6214612722396851\n",
      "Epoch 28, Loss: 0.6214612722396851, Val Loss: 0.5135418772697449\n",
      "end of epoch.\n",
      "start of epoch 29\n",
      "Training loss (for one batch) at step 0: 0.42934513092041016\n",
      "Epoch 29, Loss: 0.42934513092041016, Val Loss: 0.4523440897464752\n",
      "end of epoch.\n",
      "start of epoch 30\n",
      "Training loss (for one batch) at step 0: 0.4665832221508026\n",
      "Epoch 30, Loss: 0.4665832221508026, Val Loss: 0.41822075843811035\n",
      "end of epoch.\n",
      "start of epoch 31\n",
      "Training loss (for one batch) at step 0: 0.487364798784256\n",
      "Epoch 31, Loss: 0.487364798784256, Val Loss: 0.42433008551597595\n",
      "end of epoch.\n",
      "start of epoch 32\n",
      "Training loss (for one batch) at step 0: 0.5436000227928162\n",
      "Epoch 32, Loss: 0.5436000227928162, Val Loss: 0.42627575993537903\n",
      "end of epoch.\n",
      "start of epoch 33\n",
      "Training loss (for one batch) at step 0: 0.5012146234512329\n",
      "Epoch 33, Loss: 0.5012146234512329, Val Loss: 0.6023399233818054\n",
      "end of epoch.\n",
      "start of epoch 34\n",
      "Training loss (for one batch) at step 0: 0.5309406518936157\n",
      "Epoch 34, Loss: 0.5309406518936157, Val Loss: 0.5179280042648315\n",
      "end of epoch.\n",
      "start of epoch 35\n",
      "Training loss (for one batch) at step 0: 0.5092430710792542\n",
      "Epoch 35, Loss: 0.5092430710792542, Val Loss: 0.4506359100341797\n",
      "end of epoch.\n",
      "start of epoch 36\n",
      "Training loss (for one batch) at step 0: 0.4240350127220154\n",
      "Epoch 36, Loss: 0.4240350127220154, Val Loss: 0.5696688294410706\n",
      "end of epoch.\n",
      "start of epoch 37\n",
      "Training loss (for one batch) at step 0: 0.5494002103805542\n",
      "Epoch 37, Loss: 0.5494002103805542, Val Loss: 0.5300684571266174\n",
      "end of epoch.\n",
      "start of epoch 38\n",
      "Training loss (for one batch) at step 0: 0.4868069291114807\n",
      "Epoch 38, Loss: 0.4868069291114807, Val Loss: 0.4399300515651703\n",
      "end of epoch.\n",
      "start of epoch 39\n",
      "Training loss (for one batch) at step 0: 0.5433698296546936\n",
      "Epoch 39, Loss: 0.5433698296546936, Val Loss: 0.5746111869812012\n",
      "end of epoch.\n",
      "start of epoch 40\n",
      "Training loss (for one batch) at step 0: 0.4977445900440216\n",
      "Epoch 40, Loss: 0.4977445900440216, Val Loss: 0.5192562341690063\n",
      "end of epoch.\n",
      "start of epoch 41\n",
      "Training loss (for one batch) at step 0: 0.48933184146881104\n",
      "Epoch 41, Loss: 0.48933184146881104, Val Loss: 0.5756078362464905\n",
      "end of epoch.\n",
      "start of epoch 42\n",
      "Training loss (for one batch) at step 0: 0.3503595292568207\n",
      "Epoch 42, Loss: 0.3503595292568207, Val Loss: 0.5091153979301453\n",
      "end of epoch.\n",
      "start of epoch 43\n",
      "Training loss (for one batch) at step 0: 0.45660603046417236\n",
      "Epoch 43, Loss: 0.45660603046417236, Val Loss: 0.48571276664733887\n",
      "end of epoch.\n",
      "start of epoch 44\n",
      "Training loss (for one batch) at step 0: 0.47132885456085205\n",
      "Epoch 44, Loss: 0.47132885456085205, Val Loss: 0.5314492583274841\n",
      "end of epoch.\n",
      "start of epoch 45\n",
      "Training loss (for one batch) at step 0: 0.40036919713020325\n",
      "Epoch 45, Loss: 0.40036919713020325, Val Loss: 0.3984645903110504\n",
      "end of epoch.\n",
      "start of epoch 46\n",
      "Training loss (for one batch) at step 0: 0.39071232080459595\n",
      "Epoch 46, Loss: 0.39071232080459595, Val Loss: 0.5186546444892883\n",
      "end of epoch.\n",
      "start of epoch 47\n",
      "Training loss (for one batch) at step 0: 0.4674946665763855\n",
      "Epoch 47, Loss: 0.4674946665763855, Val Loss: 0.5041317343711853\n",
      "end of epoch.\n",
      "start of epoch 48\n",
      "Training loss (for one batch) at step 0: 0.389235258102417\n",
      "Epoch 48, Loss: 0.389235258102417, Val Loss: 0.5111089944839478\n",
      "end of epoch.\n",
      "start of epoch 49\n",
      "Training loss (for one batch) at step 0: 0.5245325565338135\n",
      "Epoch 49, Loss: 0.5245325565338135, Val Loss: 0.44669002294540405\n",
      "end of epoch.\n",
      "start of epoch 50\n",
      "Training loss (for one batch) at step 0: 0.5620603561401367\n",
      "Epoch 50, Loss: 0.5620603561401367, Val Loss: 0.4771091043949127\n",
      "end of epoch.\n",
      "start of epoch 51\n",
      "Training loss (for one batch) at step 0: 0.49361804127693176\n",
      "Epoch 51, Loss: 0.49361804127693176, Val Loss: 0.4541855454444885\n",
      "end of epoch.\n",
      "start of epoch 52\n",
      "Training loss (for one batch) at step 0: 0.46197807788848877\n",
      "Epoch 52, Loss: 0.46197807788848877, Val Loss: 0.4945034980773926\n",
      "end of epoch.\n",
      "start of epoch 53\n",
      "Training loss (for one batch) at step 0: 0.5565651059150696\n",
      "Epoch 53, Loss: 0.5565651059150696, Val Loss: 0.4591946005821228\n",
      "end of epoch.\n"
     ]
    },
    {
     "name": "stdout",
     "output_type": "stream",
     "text": [
      "start of epoch 54\n",
      "Training loss (for one batch) at step 0: 0.45287981629371643\n",
      "Epoch 54, Loss: 0.45287981629371643, Val Loss: 0.5369423627853394\n",
      "end of epoch.\n",
      "start of epoch 55\n",
      "Training loss (for one batch) at step 0: 0.4947085976600647\n",
      "Epoch 55, Loss: 0.4947085976600647, Val Loss: 0.41329246759414673\n",
      "end of epoch.\n",
      "start of epoch 56\n",
      "Training loss (for one batch) at step 0: 0.5097077488899231\n",
      "Epoch 56, Loss: 0.5097077488899231, Val Loss: 0.46729469299316406\n",
      "end of epoch.\n",
      "start of epoch 57\n",
      "Training loss (for one batch) at step 0: 0.580666184425354\n",
      "Epoch 57, Loss: 0.580666184425354, Val Loss: 0.4069864749908447\n",
      "end of epoch.\n",
      "start of epoch 58\n",
      "Training loss (for one batch) at step 0: 0.5493994355201721\n",
      "Epoch 58, Loss: 0.5493994355201721, Val Loss: 0.47990331053733826\n",
      "end of epoch.\n",
      "start of epoch 59\n",
      "Training loss (for one batch) at step 0: 0.45678627490997314\n",
      "Epoch 59, Loss: 0.45678627490997314, Val Loss: 0.5390716195106506\n",
      "end of epoch.\n",
      "start of epoch 60\n",
      "Training loss (for one batch) at step 0: 0.5771216750144958\n",
      "Epoch 60, Loss: 0.5771216750144958, Val Loss: 0.47866928577423096\n",
      "end of epoch.\n",
      "start of epoch 61\n",
      "Training loss (for one batch) at step 0: 0.5619413256645203\n",
      "Epoch 61, Loss: 0.5619413256645203, Val Loss: 0.4741513729095459\n",
      "end of epoch.\n",
      "start of epoch 62\n",
      "Training loss (for one batch) at step 0: 0.5709774494171143\n",
      "Epoch 62, Loss: 0.5709774494171143, Val Loss: 0.6078897714614868\n",
      "end of epoch.\n",
      "start of epoch 63\n",
      "Training loss (for one batch) at step 0: 0.462677538394928\n",
      "Epoch 63, Loss: 0.462677538394928, Val Loss: 0.5288618206977844\n",
      "end of epoch.\n",
      "start of epoch 64\n",
      "Training loss (for one batch) at step 0: 0.5302935838699341\n",
      "Epoch 64, Loss: 0.5302935838699341, Val Loss: 0.4148883819580078\n",
      "end of epoch.\n",
      "start of epoch 65\n",
      "Training loss (for one batch) at step 0: 0.4469018876552582\n",
      "Epoch 65, Loss: 0.4469018876552582, Val Loss: 0.4442751407623291\n",
      "end of epoch.\n",
      "start of epoch 66\n",
      "Training loss (for one batch) at step 0: 0.5228754878044128\n",
      "Epoch 66, Loss: 0.5228754878044128, Val Loss: 0.3969653248786926\n",
      "end of epoch.\n",
      "start of epoch 67\n",
      "Training loss (for one batch) at step 0: 0.572143018245697\n",
      "Epoch 67, Loss: 0.572143018245697, Val Loss: 0.36314618587493896\n",
      "end of epoch.\n",
      "start of epoch 68\n",
      "Training loss (for one batch) at step 0: 0.5394014120101929\n",
      "Epoch 68, Loss: 0.5394014120101929, Val Loss: 0.4996417164802551\n",
      "end of epoch.\n",
      "start of epoch 69\n",
      "Training loss (for one batch) at step 0: 0.5114014744758606\n",
      "Epoch 69, Loss: 0.5114014744758606, Val Loss: 0.518428385257721\n",
      "end of epoch.\n",
      "start of epoch 70\n",
      "Training loss (for one batch) at step 0: 0.5030130743980408\n",
      "Epoch 70, Loss: 0.5030130743980408, Val Loss: 0.5576179027557373\n",
      "end of epoch.\n",
      "start of epoch 71\n",
      "Training loss (for one batch) at step 0: 0.4875876009464264\n",
      "Epoch 71, Loss: 0.4875876009464264, Val Loss: 0.41538721323013306\n",
      "end of epoch.\n",
      "start of epoch 72\n",
      "Training loss (for one batch) at step 0: 0.4464266300201416\n",
      "Epoch 72, Loss: 0.4464266300201416, Val Loss: 0.4088311791419983\n",
      "end of epoch.\n",
      "start of epoch 73\n",
      "Training loss (for one batch) at step 0: 0.517137348651886\n",
      "Epoch 73, Loss: 0.517137348651886, Val Loss: 0.43714913725852966\n",
      "end of epoch.\n",
      "start of epoch 74\n",
      "Training loss (for one batch) at step 0: 0.4354715049266815\n",
      "Epoch 74, Loss: 0.4354715049266815, Val Loss: 0.4660329520702362\n",
      "end of epoch.\n",
      "start of epoch 75\n",
      "Training loss (for one batch) at step 0: 0.4402250647544861\n",
      "Epoch 75, Loss: 0.4402250647544861, Val Loss: 0.48434147238731384\n",
      "end of epoch.\n",
      "start of epoch 76\n",
      "Training loss (for one batch) at step 0: 0.5970737338066101\n",
      "Epoch 76, Loss: 0.5970737338066101, Val Loss: 0.3532908260822296\n",
      "end of epoch.\n",
      "start of epoch 77\n",
      "Training loss (for one batch) at step 0: 0.5373247861862183\n",
      "Epoch 77, Loss: 0.5373247861862183, Val Loss: 0.6307569742202759\n",
      "end of epoch.\n",
      "start of epoch 78\n",
      "Training loss (for one batch) at step 0: 0.5568571090698242\n",
      "Epoch 78, Loss: 0.5568571090698242, Val Loss: 0.4702351987361908\n",
      "end of epoch.\n",
      "start of epoch 79\n",
      "Training loss (for one batch) at step 0: 0.46420109272003174\n",
      "Epoch 79, Loss: 0.46420109272003174, Val Loss: 0.432169646024704\n",
      "end of epoch.\n",
      "start of epoch 80\n",
      "Training loss (for one batch) at step 0: 0.46890655159950256\n",
      "Epoch 80, Loss: 0.46890655159950256, Val Loss: 0.5597058534622192\n",
      "end of epoch.\n",
      "start of epoch 81\n",
      "Training loss (for one batch) at step 0: 0.5398284196853638\n",
      "Epoch 81, Loss: 0.5398284196853638, Val Loss: 0.4512825310230255\n",
      "end of epoch.\n",
      "start of epoch 82\n",
      "Training loss (for one batch) at step 0: 0.4950273036956787\n",
      "Epoch 82, Loss: 0.4950273036956787, Val Loss: 0.5521008968353271\n",
      "end of epoch.\n",
      "start of epoch 83\n",
      "Training loss (for one batch) at step 0: 0.48285403847694397\n",
      "Epoch 83, Loss: 0.48285403847694397, Val Loss: 0.5060375928878784\n",
      "end of epoch.\n",
      "start of epoch 84\n",
      "Training loss (for one batch) at step 0: 0.5692945122718811\n",
      "Epoch 84, Loss: 0.5692945122718811, Val Loss: 0.4987693130970001\n",
      "end of epoch.\n",
      "start of epoch 85\n",
      "Training loss (for one batch) at step 0: 0.46682560443878174\n",
      "Epoch 85, Loss: 0.46682560443878174, Val Loss: 0.49508601427078247\n",
      "end of epoch.\n",
      "start of epoch 86\n",
      "Training loss (for one batch) at step 0: 0.5728468894958496\n",
      "Epoch 86, Loss: 0.5728468894958496, Val Loss: 0.3943217694759369\n",
      "end of epoch.\n",
      "start of epoch 87\n",
      "Training loss (for one batch) at step 0: 0.4201534688472748\n",
      "Epoch 87, Loss: 0.4201534688472748, Val Loss: 0.45797157287597656\n",
      "end of epoch.\n",
      "start of epoch 88\n",
      "Training loss (for one batch) at step 0: 0.49954572319984436\n",
      "Epoch 88, Loss: 0.49954572319984436, Val Loss: 0.5312100648880005\n",
      "end of epoch.\n",
      "start of epoch 89\n",
      "Training loss (for one batch) at step 0: 0.47001686692237854\n",
      "Epoch 89, Loss: 0.47001686692237854, Val Loss: 0.5098989605903625\n",
      "end of epoch.\n",
      "start of epoch 90\n",
      "Training loss (for one batch) at step 0: 0.41102030873298645\n",
      "Epoch 90, Loss: 0.41102030873298645, Val Loss: 0.49674689769744873\n",
      "end of epoch.\n",
      "start of epoch 91\n",
      "Training loss (for one batch) at step 0: 0.4283805787563324\n",
      "Epoch 91, Loss: 0.4283805787563324, Val Loss: 0.5674243569374084\n",
      "end of epoch.\n",
      "start of epoch 92\n",
      "Training loss (for one batch) at step 0: 0.4978751540184021\n",
      "Epoch 92, Loss: 0.4978751540184021, Val Loss: 0.45032772421836853\n",
      "end of epoch.\n",
      "start of epoch 93\n",
      "Training loss (for one batch) at step 0: 0.4605185091495514\n",
      "Epoch 93, Loss: 0.4605185091495514, Val Loss: 0.5949109792709351\n",
      "end of epoch.\n",
      "start of epoch 94\n",
      "Training loss (for one batch) at step 0: 0.4387991428375244\n",
      "Epoch 94, Loss: 0.4387991428375244, Val Loss: 0.53056401014328\n",
      "end of epoch.\n",
      "start of epoch 95\n",
      "Training loss (for one batch) at step 0: 0.3901731073856354\n",
      "Epoch 95, Loss: 0.3901731073856354, Val Loss: 0.44462597370147705\n",
      "end of epoch.\n",
      "start of epoch 96\n",
      "Training loss (for one batch) at step 0: 0.5194979310035706\n",
      "Epoch 96, Loss: 0.5194979310035706, Val Loss: 0.4496733546257019\n",
      "end of epoch.\n",
      "start of epoch 97\n",
      "Training loss (for one batch) at step 0: 0.4011702835559845\n",
      "Epoch 97, Loss: 0.4011702835559845, Val Loss: 0.4536875784397125\n",
      "end of epoch.\n",
      "start of epoch 98\n",
      "Training loss (for one batch) at step 0: 0.4896993637084961\n",
      "Epoch 98, Loss: 0.4896993637084961, Val Loss: 0.4678359627723694\n",
      "end of epoch.\n",
      "start of epoch 99\n",
      "Training loss (for one batch) at step 0: 0.5215643644332886\n",
      "Epoch 99, Loss: 0.5215643644332886, Val Loss: 0.537014901638031\n",
      "end of epoch.\n",
      "start of epoch 100\n",
      "Training loss (for one batch) at step 0: 0.4707207977771759\n",
      "Epoch 100, Loss: 0.4707207977771759, Val Loss: 0.4653102159500122\n",
      "end of epoch.\n",
      "start of epoch 101\n",
      "Training loss (for one batch) at step 0: 0.5024776458740234\n",
      "Epoch 101, Loss: 0.5024776458740234, Val Loss: 0.5042104125022888\n",
      "end of epoch.\n",
      "start of epoch 102\n",
      "Training loss (for one batch) at step 0: 0.5299534201622009\n",
      "Epoch 102, Loss: 0.5299534201622009, Val Loss: 0.581088662147522\n",
      "end of epoch.\n",
      "start of epoch 103\n",
      "Training loss (for one batch) at step 0: 0.4832981824874878\n",
      "Epoch 103, Loss: 0.4832981824874878, Val Loss: 0.5696130990982056\n",
      "end of epoch.\n",
      "start of epoch 104\n",
      "Training loss (for one batch) at step 0: 0.5264582633972168\n",
      "Epoch 104, Loss: 0.5264582633972168, Val Loss: 0.543929398059845\n",
      "end of epoch.\n",
      "start of epoch 105\n",
      "Training loss (for one batch) at step 0: 0.5949325561523438\n",
      "Epoch 105, Loss: 0.5949325561523438, Val Loss: 0.4754961133003235\n",
      "end of epoch.\n",
      "start of epoch 106\n",
      "Training loss (for one batch) at step 0: 0.43270355463027954\n",
      "Epoch 106, Loss: 0.43270355463027954, Val Loss: 0.49677300453186035\n",
      "end of epoch.\n",
      "start of epoch 107\n"
     ]
    },
    {
     "name": "stdout",
     "output_type": "stream",
     "text": [
      "Training loss (for one batch) at step 0: 0.5014543533325195\n",
      "Epoch 107, Loss: 0.5014543533325195, Val Loss: 0.5060539841651917\n",
      "end of epoch.\n",
      "start of epoch 108\n",
      "Training loss (for one batch) at step 0: 0.4728673994541168\n",
      "Epoch 108, Loss: 0.4728673994541168, Val Loss: 0.4759911000728607\n",
      "end of epoch.\n",
      "start of epoch 109\n",
      "Training loss (for one batch) at step 0: 0.45149749517440796\n",
      "Epoch 109, Loss: 0.45149749517440796, Val Loss: 0.5931161046028137\n",
      "end of epoch.\n",
      "start of epoch 110\n",
      "Training loss (for one batch) at step 0: 0.4221637547016144\n",
      "Epoch 110, Loss: 0.4221637547016144, Val Loss: 0.44368699193000793\n",
      "end of epoch.\n",
      "start of epoch 111\n",
      "Training loss (for one batch) at step 0: 0.45260652899742126\n",
      "Epoch 111, Loss: 0.45260652899742126, Val Loss: 0.5177887678146362\n",
      "end of epoch.\n",
      "start of epoch 112\n",
      "Training loss (for one batch) at step 0: 0.5156881809234619\n",
      "Epoch 112, Loss: 0.5156881809234619, Val Loss: 0.4487312436103821\n",
      "end of epoch.\n",
      "start of epoch 113\n",
      "Training loss (for one batch) at step 0: 0.5213077664375305\n",
      "Epoch 113, Loss: 0.5213077664375305, Val Loss: 0.3943643569946289\n",
      "end of epoch.\n",
      "start of epoch 114\n",
      "Training loss (for one batch) at step 0: 0.4319222569465637\n",
      "Epoch 114, Loss: 0.4319222569465637, Val Loss: 0.4178953170776367\n",
      "end of epoch.\n",
      "start of epoch 115\n",
      "Training loss (for one batch) at step 0: 0.4657941162586212\n",
      "Epoch 115, Loss: 0.4657941162586212, Val Loss: 0.3918744921684265\n",
      "end of epoch.\n",
      "start of epoch 116\n",
      "Training loss (for one batch) at step 0: 0.5168048143386841\n",
      "Epoch 116, Loss: 0.5168048143386841, Val Loss: 0.5862359404563904\n",
      "end of epoch.\n",
      "start of epoch 117\n",
      "Training loss (for one batch) at step 0: 0.5110245943069458\n",
      "Epoch 117, Loss: 0.5110245943069458, Val Loss: 0.4098794758319855\n",
      "end of epoch.\n",
      "start of epoch 118\n",
      "Training loss (for one batch) at step 0: 0.4638950526714325\n",
      "Epoch 118, Loss: 0.4638950526714325, Val Loss: 0.43216773867607117\n",
      "end of epoch.\n",
      "start of epoch 119\n",
      "Training loss (for one batch) at step 0: 0.4182480573654175\n",
      "Epoch 119, Loss: 0.4182480573654175, Val Loss: 0.5503790974617004\n",
      "end of epoch.\n",
      "start of epoch 120\n",
      "Training loss (for one batch) at step 0: 0.4913565516471863\n",
      "Epoch 120, Loss: 0.4913565516471863, Val Loss: 0.5624380707740784\n",
      "end of epoch.\n",
      "start of epoch 121\n",
      "Training loss (for one batch) at step 0: 0.516906201839447\n",
      "Epoch 121, Loss: 0.516906201839447, Val Loss: 0.4505915641784668\n",
      "end of epoch.\n",
      "start of epoch 122\n",
      "Training loss (for one batch) at step 0: 0.5001270174980164\n",
      "Epoch 122, Loss: 0.5001270174980164, Val Loss: 0.4541977643966675\n",
      "end of epoch.\n",
      "start of epoch 123\n",
      "Training loss (for one batch) at step 0: 0.5791006684303284\n",
      "Epoch 123, Loss: 0.5791006684303284, Val Loss: 0.4400692582130432\n",
      "end of epoch.\n",
      "start of epoch 124\n",
      "Training loss (for one batch) at step 0: 0.44455331563949585\n",
      "Epoch 124, Loss: 0.44455331563949585, Val Loss: 0.5130704045295715\n",
      "end of epoch.\n",
      "start of epoch 125\n",
      "Training loss (for one batch) at step 0: 0.4632798731327057\n",
      "Epoch 125, Loss: 0.4632798731327057, Val Loss: 0.49257659912109375\n",
      "end of epoch.\n",
      "start of epoch 126\n",
      "Training loss (for one batch) at step 0: 0.443040668964386\n",
      "Epoch 126, Loss: 0.443040668964386, Val Loss: 0.5325658321380615\n",
      "end of epoch.\n",
      "start of epoch 127\n",
      "Training loss (for one batch) at step 0: 0.5215174555778503\n",
      "Epoch 127, Loss: 0.5215174555778503, Val Loss: 0.4862079918384552\n",
      "end of epoch.\n",
      "start of epoch 128\n",
      "Training loss (for one batch) at step 0: 0.5038790106773376\n",
      "Epoch 128, Loss: 0.5038790106773376, Val Loss: 0.38146549463272095\n",
      "end of epoch.\n",
      "start of epoch 129\n",
      "Training loss (for one batch) at step 0: 0.48047950863838196\n",
      "Epoch 129, Loss: 0.48047950863838196, Val Loss: 0.46073782444000244\n",
      "end of epoch.\n",
      "start of epoch 130\n",
      "Training loss (for one batch) at step 0: 0.44793611764907837\n",
      "Epoch 130, Loss: 0.44793611764907837, Val Loss: 0.46042224764823914\n",
      "end of epoch.\n",
      "start of epoch 131\n",
      "Training loss (for one batch) at step 0: 0.45762696862220764\n",
      "Epoch 131, Loss: 0.45762696862220764, Val Loss: 0.4820408523082733\n",
      "end of epoch.\n",
      "start of epoch 132\n",
      "Training loss (for one batch) at step 0: 0.5183168649673462\n",
      "Epoch 132, Loss: 0.5183168649673462, Val Loss: 0.45445120334625244\n",
      "end of epoch.\n",
      "start of epoch 133\n",
      "Training loss (for one batch) at step 0: 0.5426384806632996\n",
      "Epoch 133, Loss: 0.5426384806632996, Val Loss: 0.46429941058158875\n",
      "end of epoch.\n",
      "start of epoch 134\n",
      "Training loss (for one batch) at step 0: 0.39315375685691833\n",
      "Epoch 134, Loss: 0.39315375685691833, Val Loss: 0.5110480189323425\n",
      "end of epoch.\n",
      "start of epoch 135\n",
      "Training loss (for one batch) at step 0: 0.5844286680221558\n",
      "Epoch 135, Loss: 0.5844286680221558, Val Loss: 0.5775271058082581\n",
      "end of epoch.\n",
      "start of epoch 136\n",
      "Training loss (for one batch) at step 0: 0.4538149833679199\n",
      "Epoch 136, Loss: 0.4538149833679199, Val Loss: 0.544631838798523\n",
      "end of epoch.\n",
      "start of epoch 137\n",
      "Training loss (for one batch) at step 0: 0.4354124069213867\n",
      "Epoch 137, Loss: 0.4354124069213867, Val Loss: 0.5291268229484558\n",
      "end of epoch.\n",
      "start of epoch 138\n",
      "Training loss (for one batch) at step 0: 0.49396172165870667\n",
      "Epoch 138, Loss: 0.49396172165870667, Val Loss: 0.42556270956993103\n",
      "end of epoch.\n",
      "start of epoch 139\n",
      "Training loss (for one batch) at step 0: 0.5226142406463623\n",
      "Epoch 139, Loss: 0.5226142406463623, Val Loss: 0.5502382516860962\n",
      "end of epoch.\n",
      "start of epoch 140\n",
      "Training loss (for one batch) at step 0: 0.5315974950790405\n",
      "Epoch 140, Loss: 0.5315974950790405, Val Loss: 0.529771625995636\n",
      "end of epoch.\n",
      "start of epoch 141\n",
      "Training loss (for one batch) at step 0: 0.5459620356559753\n",
      "Epoch 141, Loss: 0.5459620356559753, Val Loss: 0.5353810787200928\n",
      "end of epoch.\n",
      "start of epoch 142\n",
      "Training loss (for one batch) at step 0: 0.48085588216781616\n",
      "Epoch 142, Loss: 0.48085588216781616, Val Loss: 0.4926302433013916\n",
      "end of epoch.\n",
      "start of epoch 143\n",
      "Training loss (for one batch) at step 0: 0.46881750226020813\n",
      "Epoch 143, Loss: 0.46881750226020813, Val Loss: 0.4738389849662781\n",
      "end of epoch.\n",
      "start of epoch 144\n",
      "Training loss (for one batch) at step 0: 0.4402118921279907\n",
      "Epoch 144, Loss: 0.4402118921279907, Val Loss: 0.4854707717895508\n",
      "end of epoch.\n",
      "start of epoch 145\n",
      "Training loss (for one batch) at step 0: 0.46417975425720215\n",
      "Epoch 145, Loss: 0.46417975425720215, Val Loss: 0.4797278642654419\n",
      "end of epoch.\n",
      "start of epoch 146\n",
      "Training loss (for one batch) at step 0: 0.491179496049881\n",
      "Epoch 146, Loss: 0.491179496049881, Val Loss: 0.3497605621814728\n",
      "end of epoch.\n",
      "start of epoch 147\n",
      "Training loss (for one batch) at step 0: 0.4592375159263611\n",
      "Epoch 147, Loss: 0.4592375159263611, Val Loss: 0.5115609169006348\n",
      "end of epoch.\n",
      "start of epoch 148\n",
      "Training loss (for one batch) at step 0: 0.5528627634048462\n",
      "Epoch 148, Loss: 0.5528627634048462, Val Loss: 0.5036245584487915\n",
      "end of epoch.\n",
      "start of epoch 149\n",
      "Training loss (for one batch) at step 0: 0.47698378562927246\n",
      "Epoch 149, Loss: 0.47698378562927246, Val Loss: 0.46953120827674866\n",
      "end of epoch.\n",
      "start of epoch 150\n",
      "Training loss (for one batch) at step 0: 0.5828742980957031\n",
      "Epoch 150, Loss: 0.5828742980957031, Val Loss: 0.5925261974334717\n",
      "end of epoch.\n",
      "start of epoch 151\n",
      "Training loss (for one batch) at step 0: 0.43766161799430847\n",
      "Epoch 151, Loss: 0.43766161799430847, Val Loss: 0.4975365996360779\n",
      "end of epoch.\n",
      "start of epoch 152\n",
      "Training loss (for one batch) at step 0: 0.5018948316574097\n",
      "Epoch 152, Loss: 0.5018948316574097, Val Loss: 0.4419914782047272\n",
      "end of epoch.\n",
      "start of epoch 153\n",
      "Training loss (for one batch) at step 0: 0.4528547525405884\n",
      "Epoch 153, Loss: 0.4528547525405884, Val Loss: 0.5409974455833435\n",
      "end of epoch.\n",
      "start of epoch 154\n",
      "Training loss (for one batch) at step 0: 0.48548462986946106\n",
      "Epoch 154, Loss: 0.48548462986946106, Val Loss: 0.4137077033519745\n",
      "end of epoch.\n",
      "start of epoch 155\n",
      "Training loss (for one batch) at step 0: 0.5588396191596985\n",
      "Epoch 155, Loss: 0.5588396191596985, Val Loss: 0.5879209637641907\n",
      "end of epoch.\n",
      "start of epoch 156\n",
      "Training loss (for one batch) at step 0: 0.4773223102092743\n",
      "Epoch 156, Loss: 0.4773223102092743, Val Loss: 0.5496983528137207\n",
      "end of epoch.\n",
      "start of epoch 157\n",
      "Training loss (for one batch) at step 0: 0.47742462158203125\n",
      "Epoch 157, Loss: 0.47742462158203125, Val Loss: 0.5195779204368591\n",
      "end of epoch.\n",
      "start of epoch 158\n",
      "Training loss (for one batch) at step 0: 0.529188334941864\n",
      "Epoch 158, Loss: 0.529188334941864, Val Loss: 0.47860080003738403\n",
      "end of epoch.\n",
      "start of epoch 159\n",
      "Training loss (for one batch) at step 0: 0.3509855270385742\n",
      "Epoch 159, Loss: 0.3509855270385742, Val Loss: 0.4958791136741638\n",
      "end of epoch.\n"
     ]
    },
    {
     "name": "stdout",
     "output_type": "stream",
     "text": [
      "start of epoch 160\n",
      "Training loss (for one batch) at step 0: 0.500227689743042\n",
      "Epoch 160, Loss: 0.500227689743042, Val Loss: 0.45620670914649963\n",
      "end of epoch.\n",
      "start of epoch 161\n",
      "Training loss (for one batch) at step 0: 0.4913319945335388\n",
      "Epoch 161, Loss: 0.4913319945335388, Val Loss: 0.5304445028305054\n",
      "end of epoch.\n",
      "start of epoch 162\n",
      "Training loss (for one batch) at step 0: 0.47823089361190796\n",
      "Epoch 162, Loss: 0.47823089361190796, Val Loss: 0.4983280897140503\n",
      "end of epoch.\n",
      "start of epoch 163\n",
      "Training loss (for one batch) at step 0: 0.44208139181137085\n",
      "Epoch 163, Loss: 0.44208139181137085, Val Loss: 0.5725592970848083\n",
      "end of epoch.\n",
      "start of epoch 164\n",
      "Training loss (for one batch) at step 0: 0.5530843138694763\n",
      "Epoch 164, Loss: 0.5530843138694763, Val Loss: 0.550096333026886\n",
      "end of epoch.\n",
      "start of epoch 165\n",
      "Training loss (for one batch) at step 0: 0.4396674335002899\n",
      "Epoch 165, Loss: 0.4396674335002899, Val Loss: 0.4560273587703705\n",
      "end of epoch.\n",
      "start of epoch 166\n",
      "Training loss (for one batch) at step 0: 0.4320494830608368\n",
      "Epoch 166, Loss: 0.4320494830608368, Val Loss: 0.49572834372520447\n",
      "end of epoch.\n",
      "start of epoch 167\n",
      "Training loss (for one batch) at step 0: 0.5024706721305847\n",
      "Epoch 167, Loss: 0.5024706721305847, Val Loss: 0.4632038176059723\n",
      "end of epoch.\n",
      "start of epoch 168\n",
      "Training loss (for one batch) at step 0: 0.5492572784423828\n",
      "Epoch 168, Loss: 0.5492572784423828, Val Loss: 0.46095335483551025\n",
      "end of epoch.\n",
      "start of epoch 169\n",
      "Training loss (for one batch) at step 0: 0.49564382433891296\n",
      "Epoch 169, Loss: 0.49564382433891296, Val Loss: 0.48916494846343994\n",
      "end of epoch.\n",
      "start of epoch 170\n",
      "Training loss (for one batch) at step 0: 0.4697498083114624\n",
      "Epoch 170, Loss: 0.4697498083114624, Val Loss: 0.5497353672981262\n",
      "end of epoch.\n",
      "start of epoch 171\n",
      "Training loss (for one batch) at step 0: 0.5128835439682007\n",
      "Epoch 171, Loss: 0.5128835439682007, Val Loss: 0.5297508239746094\n",
      "end of epoch.\n",
      "start of epoch 172\n",
      "Training loss (for one batch) at step 0: 0.5420776009559631\n",
      "Epoch 172, Loss: 0.5420776009559631, Val Loss: 0.4583689272403717\n",
      "end of epoch.\n",
      "start of epoch 173\n",
      "Training loss (for one batch) at step 0: 0.5420240759849548\n",
      "Epoch 173, Loss: 0.5420240759849548, Val Loss: 0.48158299922943115\n",
      "end of epoch.\n",
      "start of epoch 174\n",
      "Training loss (for one batch) at step 0: 0.49218276143074036\n",
      "Epoch 174, Loss: 0.49218276143074036, Val Loss: 0.4892013669013977\n",
      "end of epoch.\n",
      "start of epoch 175\n",
      "Training loss (for one batch) at step 0: 0.4821133315563202\n",
      "Epoch 175, Loss: 0.4821133315563202, Val Loss: 0.44175899028778076\n",
      "end of epoch.\n",
      "start of epoch 176\n",
      "Training loss (for one batch) at step 0: 0.4957978129386902\n",
      "Epoch 176, Loss: 0.4957978129386902, Val Loss: 0.41188570857048035\n",
      "end of epoch.\n",
      "start of epoch 177\n",
      "Training loss (for one batch) at step 0: 0.5019494295120239\n",
      "Epoch 177, Loss: 0.5019494295120239, Val Loss: 0.5189571976661682\n",
      "end of epoch.\n",
      "start of epoch 178\n",
      "Training loss (for one batch) at step 0: 0.38035574555397034\n",
      "Epoch 178, Loss: 0.38035574555397034, Val Loss: 0.44738706946372986\n",
      "end of epoch.\n",
      "start of epoch 179\n",
      "Training loss (for one batch) at step 0: 0.412549763917923\n",
      "Epoch 179, Loss: 0.412549763917923, Val Loss: 0.49411630630493164\n",
      "end of epoch.\n",
      "start of epoch 180\n",
      "Training loss (for one batch) at step 0: 0.4560427963733673\n",
      "Epoch 180, Loss: 0.4560427963733673, Val Loss: 0.42003071308135986\n",
      "end of epoch.\n",
      "start of epoch 181\n",
      "Training loss (for one batch) at step 0: 0.4950125813484192\n",
      "Epoch 181, Loss: 0.4950125813484192, Val Loss: 0.4676395058631897\n",
      "end of epoch.\n",
      "start of epoch 182\n",
      "Training loss (for one batch) at step 0: 0.46368536353111267\n",
      "Epoch 182, Loss: 0.46368536353111267, Val Loss: 0.4595062732696533\n",
      "end of epoch.\n",
      "start of epoch 183\n",
      "Training loss (for one batch) at step 0: 0.43864819407463074\n",
      "Epoch 183, Loss: 0.43864819407463074, Val Loss: 0.5499395132064819\n",
      "end of epoch.\n",
      "start of epoch 184\n",
      "Training loss (for one batch) at step 0: 0.44636714458465576\n",
      "Epoch 184, Loss: 0.44636714458465576, Val Loss: 0.4821222722530365\n",
      "end of epoch.\n",
      "start of epoch 185\n",
      "Training loss (for one batch) at step 0: 0.5950595736503601\n",
      "Epoch 185, Loss: 0.5950595736503601, Val Loss: 0.5322311520576477\n",
      "end of epoch.\n",
      "start of epoch 186\n",
      "Training loss (for one batch) at step 0: 0.48587578535079956\n",
      "Epoch 186, Loss: 0.48587578535079956, Val Loss: 0.5061637163162231\n",
      "end of epoch.\n",
      "start of epoch 187\n",
      "Training loss (for one batch) at step 0: 0.45997968316078186\n",
      "Epoch 187, Loss: 0.45997968316078186, Val Loss: 0.4413011372089386\n",
      "end of epoch.\n",
      "start of epoch 188\n",
      "Training loss (for one batch) at step 0: 0.4214109480381012\n",
      "Epoch 188, Loss: 0.4214109480381012, Val Loss: 0.5305286049842834\n",
      "end of epoch.\n",
      "start of epoch 189\n",
      "Training loss (for one batch) at step 0: 0.4346986413002014\n",
      "Epoch 189, Loss: 0.4346986413002014, Val Loss: 0.5546144247055054\n",
      "end of epoch.\n",
      "start of epoch 190\n",
      "Training loss (for one batch) at step 0: 0.5391134023666382\n",
      "Epoch 190, Loss: 0.5391134023666382, Val Loss: 0.5462009310722351\n",
      "end of epoch.\n",
      "start of epoch 191\n",
      "Training loss (for one batch) at step 0: 0.42604756355285645\n",
      "Epoch 191, Loss: 0.42604756355285645, Val Loss: 0.4690019488334656\n",
      "end of epoch.\n",
      "start of epoch 192\n",
      "Training loss (for one batch) at step 0: 0.45922037959098816\n",
      "Epoch 192, Loss: 0.45922037959098816, Val Loss: 0.5138146877288818\n",
      "end of epoch.\n",
      "start of epoch 193\n",
      "Training loss (for one batch) at step 0: 0.5329889059066772\n",
      "Epoch 193, Loss: 0.5329889059066772, Val Loss: 0.4945200979709625\n",
      "end of epoch.\n",
      "start of epoch 194\n",
      "Training loss (for one batch) at step 0: 0.4799555242061615\n",
      "Epoch 194, Loss: 0.4799555242061615, Val Loss: 0.5439692735671997\n",
      "end of epoch.\n",
      "start of epoch 195\n",
      "Training loss (for one batch) at step 0: 0.5068517923355103\n",
      "Epoch 195, Loss: 0.5068517923355103, Val Loss: 0.5874099731445312\n",
      "end of epoch.\n",
      "start of epoch 196\n",
      "Training loss (for one batch) at step 0: 0.44482725858688354\n",
      "Epoch 196, Loss: 0.44482725858688354, Val Loss: 0.5220542550086975\n",
      "end of epoch.\n",
      "start of epoch 197\n",
      "Training loss (for one batch) at step 0: 0.4740114212036133\n",
      "Epoch 197, Loss: 0.4740114212036133, Val Loss: 0.5676694512367249\n",
      "end of epoch.\n",
      "start of epoch 198\n",
      "Training loss (for one batch) at step 0: 0.44327405095100403\n",
      "Epoch 198, Loss: 0.44327405095100403, Val Loss: 0.47014120221138\n",
      "end of epoch.\n",
      "start of epoch 199\n",
      "Training loss (for one batch) at step 0: 0.504882276058197\n",
      "Epoch 199, Loss: 0.504882276058197, Val Loss: 0.44429492950439453\n",
      "end of epoch.\n",
      "start of epoch 200\n",
      "Training loss (for one batch) at step 0: 0.4452650249004364\n",
      "Epoch 200, Loss: 0.4452650249004364, Val Loss: 0.5780103206634521\n",
      "end of epoch.\n",
      "Checkpoint directory :  checkpoints/CNNgeo/200507_regressor_filter_size_up\n",
      "Tensorboard log directory :  logs/CNNgeo/200507_regressor_filter_size_up\n"
     ]
    }
   ],
   "source": [
    "model = CNNgeo_debug.train(config)"
   ]
  },
  {
   "cell_type": "code",
   "execution_count": 8,
   "metadata": {},
   "outputs": [
    {
     "name": "stdout",
     "output_type": "stream",
     "text": [
      "Model: \"cnn_geo\"\n",
      "_________________________________________________________________\n",
      "Layer (type)                 Output Shape              Param #   \n",
      "=================================================================\n",
      "feature__extractor (Feature_ multiple                  113600    \n",
      "_________________________________________________________________\n",
      "correlation_network (Correla multiple                  0         \n",
      "_________________________________________________________________\n",
      "spatial_transformer_regresso multiple                  875250    \n",
      "=================================================================\n",
      "Total params: 988,850\n",
      "Trainable params: 988,146\n",
      "Non-trainable params: 704\n",
      "_________________________________________________________________\n"
     ]
    }
   ],
   "source": [
    "model.summary()"
   ]
  },
  {
   "cell_type": "markdown",
   "metadata": {},
   "source": [
    "# 3. Debug"
   ]
  },
  {
   "cell_type": "code",
   "execution_count": 9,
   "metadata": {},
   "outputs": [
    {
     "name": "stdout",
     "output_type": "stream",
     "text": [
      "train dataset amount : 1\n"
     ]
    }
   ],
   "source": [
    "datasets = load_data(['train'], config)\n",
    "ds = datasets['train'].batch(1)"
   ]
  },
  {
   "cell_type": "code",
   "execution_count": 10,
   "metadata": {},
   "outputs": [],
   "source": [
    "for image_A, image_B, parameters in ds.take(1):\n",
    "    image_A = image_A.numpy()\n",
    "    image_B = image_B.numpy()\n",
    "    parameters = parameters.numpy()\n",
    "#image_B_hat = np.ones([1, 64, 64, 3])\n",
    "pred, score = model(image_A, image_B)"
   ]
  },
  {
   "cell_type": "code",
   "execution_count": 11,
   "metadata": {},
   "outputs": [
    {
     "name": "stdout",
     "output_type": "stream",
     "text": [
      "parameter shape (1, 9, 2)\n",
      "score shape (1, 16, 16, 16, 16)\n",
      "(1, 64, 64, 3)\n"
     ]
    }
   ],
   "source": [
    "print(\"parameter shape\", pred.shape)\n",
    "print(\"score shape\", score.shape)\n",
    "print(image_A.shape)"
   ]
  },
  {
   "cell_type": "markdown",
   "metadata": {},
   "source": [
    "## 3.1. 입력 영상에 따른 모델 추정 확인"
   ]
  },
  {
   "cell_type": "markdown",
   "metadata": {},
   "source": [
    "### case 1) 임의의 기하관계를 갖는 영상 쌍 (image A, image B)"
   ]
  },
  {
   "cell_type": "code",
   "execution_count": 12,
   "metadata": {},
   "outputs": [
    {
     "name": "stderr",
     "output_type": "stream",
     "text": [
      "Clipping input data to the valid range for imshow with RGB data ([0..1] for floats or [0..255] for integers).\n",
      "Clipping input data to the valid range for imshow with RGB data ([0..1] for floats or [0..255] for integers).\n",
      "Clipping input data to the valid range for imshow with RGB data ([0..1] for floats or [0..255] for integers).\n"
     ]
    },
    {
     "name": "stdout",
     "output_type": "stream",
     "text": [
      "compare gt : [[[ 0.09754401 -0.13372193]\n",
      "  [-0.19056873 -0.11294842]\n",
      "  [ 0.01910443 -0.03873439]\n",
      "  [ 0.19635105  0.03928862]\n",
      "  [ 0.16262393 -0.14805971]\n",
      "  [ 0.15199251 -0.03708296]\n",
      "  [ 0.00964065  0.08787113]\n",
      "  [ 0.1878798  -0.05855036]\n",
      "  [ 0.05249725 -0.13828455]]] and \n",
      " pred : [[[-2.8081583e-03  3.1856457e-03]\n",
      "  [-2.1162543e-03 -4.5380862e-03]\n",
      "  [-2.0272008e-03  3.7736213e-04]\n",
      "  [-5.3545679e-03  4.4085295e-03]\n",
      "  [-2.4636951e-03 -3.3418805e-04]\n",
      "  [-2.1106810e-03  1.4780858e-04]\n",
      "  [ 6.9935486e-05  4.3442319e-03]\n",
      "  [-6.8207161e-04  1.9229407e-03]\n",
      "  [-5.8458420e-05  5.9187640e-03]]]\n",
      "loss : [0.13200387]\n"
     ]
    },
    {
     "data": {
      "image/png": "[encoded data removed]",
      "text/plain": [
       "<Figure size 432x288 with 3 Axes>"
      ]
     },
     "metadata": {
      "needs_background": "light"
     },
     "output_type": "display_data"
    }
   ],
   "source": [
    "for image_A, image_B, parameters in ds.take(1):\n",
    "    image_A = image_A.numpy()\n",
    "    image_B = image_B.numpy()\n",
    "    parameters = parameters.numpy()\n",
    "pred, score = model(image_A, image_B)\n",
    "\n",
    "print(\"compare gt : {} and \\n pred : {}\".format(parameters, pred))\n",
    "loss = tf.reduce_sum(tf.keras.losses.MSE(pred, parameters), axis=1)\n",
    "print(\"loss : {}\".format(loss))\n",
    "\n",
    "pred = pred.numpy()\n",
    "image_C = list(map(lambda x : image.synthesize_image(x[0], x[1], (64, 64), bbox=None, pad_ratio=None),\n",
    "                   zip(image_A.copy(), pred.copy())))    \n",
    "image_C = np.array(image_C)\n",
    "visualize.show_TPS_image([image_A, image_B, image_C], [np.ones_like(parameters), parameters, pred])    \n",
    "\n",
    "pred1 = pred.copy()"
   ]
  },
  {
   "cell_type": "markdown",
   "metadata": {},
   "source": [
    "### case 2) 임의의 다른 기하관계를 갖는 영상 쌍 (image A, image B)"
   ]
  },
  {
   "cell_type": "code",
   "execution_count": 13,
   "metadata": {},
   "outputs": [
    {
     "name": "stderr",
     "output_type": "stream",
     "text": [
      "Clipping input data to the valid range for imshow with RGB data ([0..1] for floats or [0..255] for integers).\n",
      "Clipping input data to the valid range for imshow with RGB data ([0..1] for floats or [0..255] for integers).\n",
      "Clipping input data to the valid range for imshow with RGB data ([0..1] for floats or [0..255] for integers).\n"
     ]
    },
    {
     "name": "stdout",
     "output_type": "stream",
     "text": [
      "compare gt : [[[ 0.18370004 -0.01576309]\n",
      "  [-0.16862397 -0.16131316]\n",
      "  [-0.04334063 -0.17331944]\n",
      "  [ 0.00308113 -0.09640288]\n",
      "  [ 0.18076883 -0.16944905]\n",
      "  [ 0.06326161 -0.14166208]\n",
      "  [ 0.13526407  0.10226946]\n",
      "  [-0.12716489 -0.01316743]\n",
      "  [-0.01787152 -0.19832592]]] and \n",
      " pred : [[[-2.8081583e-03  3.1856457e-03]\n",
      "  [-2.1162543e-03 -4.5380862e-03]\n",
      "  [-2.0272008e-03  3.7736213e-04]\n",
      "  [-5.3545679e-03  4.4085295e-03]\n",
      "  [-2.4636951e-03 -3.3418805e-04]\n",
      "  [-2.1106810e-03  1.4780858e-04]\n",
      "  [ 6.9935486e-05  4.3442319e-03]\n",
      "  [-6.8207161e-04  1.9229407e-03]\n",
      "  [-5.8458420e-05  5.9187640e-03]]]\n",
      "loss : [0.15112114]\n"
     ]
    },
    {
     "data": {
      "image/png": "[encoded data removed]",
      "text/plain": [
       "<Figure size 432x288 with 3 Axes>"
      ]
     },
     "metadata": {
      "needs_background": "light"
     },
     "output_type": "display_data"
    }
   ],
   "source": [
    "for image_A, image_B, parameters in ds.take(1):\n",
    "    image_A = image_A.numpy()\n",
    "    image_B = image_B.numpy()\n",
    "    parameters = parameters.numpy()\n",
    "pred, score = model(image_A, image_B)\n",
    "\n",
    "print(\"compare gt : {} and \\n pred : {}\".format(parameters, pred))\n",
    "loss = tf.reduce_sum(tf.keras.losses.MSE(pred, parameters), axis=1)\n",
    "print(\"loss : {}\".format(loss))\n",
    "\n",
    "pred = pred.numpy()\n",
    "image_C = list(map(lambda x : image.synthesize_image(x[0], x[1], (64, 64), bbox=None, pad_ratio=None),\n",
    "                   zip(image_A.copy(), pred.copy())))    \n",
    "image_C = np.array(image_C)\n",
    "visualize.show_TPS_image([image_A, image_B, image_C], [np.ones_like(parameters), parameters, pred])    \n",
    "\n",
    "pred2 = pred.copy()"
   ]
  },
  {
   "cell_type": "markdown",
   "metadata": {},
   "source": [
    "### case 3) Image A와 연관 없는 image B(백색 사진)의 영상 쌍 "
   ]
  },
  {
   "cell_type": "code",
   "execution_count": 14,
   "metadata": {},
   "outputs": [
    {
     "name": "stdout",
     "output_type": "stream",
     "text": [
      "WARNING:tensorflow:Layer feature__extractor is casting an input tensor from dtype float64 to the layer's dtype of float32, which is new behavior in TensorFlow 2.  The layer has dtype float32 because it's dtype defaults to floatx.\n",
      "\n",
      "If you intended to run this layer in float32, you can safely ignore this warning. If in doubt, this warning is likely only an issue if you are porting a TensorFlow 1.X model to TensorFlow 2.\n",
      "\n",
      "To change all layers to have dtype float64 by default, call `tf.keras.backend.set_floatx('float64')`. To change just this layer, pass dtype='float64' to the layer constructor. If you are the author of this layer, you can disable autocasting by passing autocast=False to the base Layer constructor.\n",
      "\n"
     ]
    },
    {
     "name": "stderr",
     "output_type": "stream",
     "text": [
      "Clipping input data to the valid range for imshow with RGB data ([0..1] for floats or [0..255] for integers).\n",
      "Clipping input data to the valid range for imshow with RGB data ([0..1] for floats or [0..255] for integers).\n",
      "Clipping input data to the valid range for imshow with RGB data ([0..1] for floats or [0..255] for integers).\n"
     ]
    },
    {
     "name": "stdout",
     "output_type": "stream",
     "text": [
      "compare gt : [[[ 0.18370004 -0.01576309]\n",
      "  [-0.16862397 -0.16131316]\n",
      "  [-0.04334063 -0.17331944]\n",
      "  [ 0.00308113 -0.09640288]\n",
      "  [ 0.18076883 -0.16944905]\n",
      "  [ 0.06326161 -0.14166208]\n",
      "  [ 0.13526407  0.10226946]\n",
      "  [-0.12716489 -0.01316743]\n",
      "  [-0.01787152 -0.19832592]]] and \n",
      " pred : [[[-2.8081583e-03  3.1856457e-03]\n",
      "  [-2.1162543e-03 -4.5380862e-03]\n",
      "  [-2.0272008e-03  3.7736213e-04]\n",
      "  [-5.3545679e-03  4.4085295e-03]\n",
      "  [-2.4636951e-03 -3.3418805e-04]\n",
      "  [-2.1106810e-03  1.4780858e-04]\n",
      "  [ 6.9935486e-05  4.3442319e-03]\n",
      "  [-6.8207161e-04  1.9229407e-03]\n",
      "  [-5.8458420e-05  5.9187640e-03]]]\n",
      "loss : [0.15112114]\n"
     ]
    },
    {
     "data": {
      "image/png": "[encoded data removed]",
      "text/plain": [
       "<Figure size 432x288 with 3 Axes>"
      ]
     },
     "metadata": {
      "needs_background": "light"
     },
     "output_type": "display_data"
    }
   ],
   "source": [
    "image_B = np.ones([1, 64, 64, 3])\n",
    "pred, score = model(image_A, image_B)\n",
    "\n",
    "print(\"compare gt : {} and \\n pred : {}\".format(parameters, pred))\n",
    "loss = tf.reduce_sum(tf.keras.losses.MSE(pred, parameters), axis=1)\n",
    "print(\"loss : {}\".format(loss))\n",
    "\n",
    "pred = pred.numpy()\n",
    "image_C = list(map(lambda x : image.synthesize_image(x[0], x[1], (64, 64), bbox=None, pad_ratio=None),\n",
    "                   zip(image_A.copy(), pred.copy())))    \n",
    "image_C = np.array(image_C)\n",
    "visualize.show_TPS_image([image_A, image_B, image_C], [np.ones_like(parameters), parameters, pred])    \n",
    "\n",
    "pred3 = pred.copy()"
   ]
  },
  {
   "cell_type": "code",
   "execution_count": 15,
   "metadata": {},
   "outputs": [
    {
     "name": "stdout",
     "output_type": "stream",
     "text": [
      "[[[-2.8081583e-03  3.1856457e-03]\n",
      "  [-2.1162543e-03 -4.5380862e-03]\n",
      "  [-2.0272008e-03  3.7736213e-04]\n",
      "  [-5.3545679e-03  4.4085295e-03]\n",
      "  [-2.4636951e-03 -3.3418805e-04]\n",
      "  [-2.1106810e-03  1.4780858e-04]\n",
      "  [ 6.9935486e-05  4.3442319e-03]\n",
      "  [-6.8207161e-04  1.9229407e-03]\n",
      "  [-5.8458420e-05  5.9187640e-03]]] \n",
      " [[[-2.8081583e-03  3.1856457e-03]\n",
      "  [-2.1162543e-03 -4.5380862e-03]\n",
      "  [-2.0272008e-03  3.7736213e-04]\n",
      "  [-5.3545679e-03  4.4085295e-03]\n",
      "  [-2.4636951e-03 -3.3418805e-04]\n",
      "  [-2.1106810e-03  1.4780858e-04]\n",
      "  [ 6.9935486e-05  4.3442319e-03]\n",
      "  [-6.8207161e-04  1.9229407e-03]\n",
      "  [-5.8458420e-05  5.9187640e-03]]] \n",
      " [[[-2.8081583e-03  3.1856457e-03]\n",
      "  [-2.1162543e-03 -4.5380862e-03]\n",
      "  [-2.0272008e-03  3.7736213e-04]\n",
      "  [-5.3545679e-03  4.4085295e-03]\n",
      "  [-2.4636951e-03 -3.3418805e-04]\n",
      "  [-2.1106810e-03  1.4780858e-04]\n",
      "  [ 6.9935486e-05  4.3442319e-03]\n",
      "  [-6.8207161e-04  1.9229407e-03]\n",
      "  [-5.8458420e-05  5.9187640e-03]]]\n"
     ]
    }
   ],
   "source": [
    "print(pred1, \"\\n\", pred2, \"\\n\", pred3)"
   ]
  },
  {
   "cell_type": "markdown",
   "metadata": {},
   "source": [
    "case 1)와 case 2)는 동일한 영상을 다른 기하관계를 사용하여 두 개의 영상쌍(image pair)을 만든 경우를 말한다. 모델이 정상적이라면 각 영상쌍의 기하관계를 추정할 수 있을 것이다. 그러나 두 영상쌍이 다른 기하관계를 갖음에도 동일한 모션파라미터를 추정하였다. case 3)에서는 전혀 연관 없는 영상을 image B로 사용하였다. image B는 어떤 특징 정보도 없는 백색 사진임에도 불구하고 모델은 case 1)과 case 2)에서와 같은 모션파라미터를 추정하였다."
   ]
  },
  {
   "cell_type": "code",
   "execution_count": 16,
   "metadata": {},
   "outputs": [
    {
     "name": "stdout",
     "output_type": "stream",
     "text": [
      "Model: \"cnn_geo\"\n",
      "_________________________________________________________________\n",
      "Layer (type)                 Output Shape              Param #   \n",
      "=================================================================\n",
      "feature__extractor (Feature_ multiple                  113600    \n",
      "_________________________________________________________________\n",
      "correlation_network (Correla multiple                  0         \n",
      "_________________________________________________________________\n",
      "spatial_transformer_regresso multiple                  875250    \n",
      "=================================================================\n",
      "Total params: 988,850\n",
      "Trainable params: 988,146\n",
      "Non-trainable params: 704\n",
      "_________________________________________________________________\n"
     ]
    }
   ],
   "source": [
    "model.summary()"
   ]
  },
  {
   "cell_type": "markdown",
   "metadata": {},
   "source": [
    "## 3.2 Correlation 분포에 따른 Regressor 예측"
   ]
  },
  {
   "cell_type": "markdown",
   "metadata": {},
   "source": [
    "3.1의 case 1, 2, 3에서 Regressor은 같은 모션파라미터를 예측했다. 명확한 이유를 파악하기 위해 입력 correlation(matching scores)를 제어하며 spatial parameter regressor의 출력을 분석했다."
   ]
  },
  {
   "cell_type": "code",
   "execution_count": 18,
   "metadata": {},
   "outputs": [
    {
     "name": "stdout",
     "output_type": "stream",
     "text": [
      "WARNING:tensorflow:Layer spatial_transformer_regressor is casting an input tensor from dtype float64 to the layer's dtype of float32, which is new behavior in TensorFlow 2.  The layer has dtype float32 because it's dtype defaults to floatx.\n",
      "\n",
      "If you intended to run this layer in float32, you can safely ignore this warning. If in doubt, this warning is likely only an issue if you are porting a TensorFlow 1.X model to TensorFlow 2.\n",
      "\n",
      "To change all layers to have dtype float64 by default, call `tf.keras.backend.set_floatx('float64')`. To change just this layer, pass dtype='float64' to the layer constructor. If you are the author of this layer, you can disable autocasting by passing autocast=False to the base Layer constructor.\n",
      "\n",
      "tf.Tensor(\n",
      "[[-2.8081583e-03  3.1856457e-03 -2.1162543e-03 -4.5380862e-03\n",
      "  -2.0272008e-03  3.7736213e-04 -5.3545679e-03  4.4085295e-03\n",
      "  -2.4636951e-03 -3.3418805e-04 -2.1106810e-03  1.4780858e-04\n",
      "   6.9935486e-05  4.3442319e-03 -6.8207161e-04  1.9229407e-03\n",
      "  -5.8458420e-05  5.9187640e-03]], shape=(1, 18), dtype=float32)\n"
     ]
    }
   ],
   "source": [
    "x = np.zeros([1, 16, 16, 16, 16]) # all correlations are zero\n",
    "y = model.layers[2](x)\n",
    "print(y)"
   ]
  },
  {
   "cell_type": "code",
   "execution_count": 19,
   "metadata": {},
   "outputs": [
    {
     "name": "stdout",
     "output_type": "stream",
     "text": [
      "tf.Tensor(\n",
      "[[-2.8081583e-03  3.1856457e-03 -2.1162543e-03 -4.5380862e-03\n",
      "  -2.0272008e-03  3.7736213e-04 -5.3545679e-03  4.4085295e-03\n",
      "  -2.4636951e-03 -3.3418805e-04 -2.1106810e-03  1.4780858e-04\n",
      "   6.9935486e-05  4.3442319e-03 -6.8207161e-04  1.9229407e-03\n",
      "  -5.8458420e-05  5.9187640e-03]], shape=(1, 18), dtype=float32)\n"
     ]
    }
   ],
   "source": [
    "x = np.ones([1, 16, 16, 16, 16]) # all correlations are one\n",
    "y = model.layers[2](x)\n",
    "print(y)"
   ]
  },
  {
   "cell_type": "code",
   "execution_count": 22,
   "metadata": {},
   "outputs": [
    {
     "name": "stdout",
     "output_type": "stream",
     "text": [
      "tf.Tensor(\n",
      "[[-2.8081583e-03  3.1856457e-03 -2.1162543e-03 -4.5380862e-03\n",
      "  -2.0272008e-03  3.7736213e-04 -5.3545679e-03  4.4085295e-03\n",
      "  -2.4636951e-03 -3.3418805e-04 -2.1106810e-03  1.4780858e-04\n",
      "   6.9935486e-05  4.3442319e-03 -6.8207161e-04  1.9229407e-03\n",
      "  -5.8458420e-05  5.9187640e-03]], shape=(1, 18), dtype=float32)\n"
     ]
    }
   ],
   "source": [
    "x = np.random.normal(loc=0.5, scale=0.0, size=[1, 16, 16, 16, 16])\n",
    "y = model.layers[2](x)\n",
    "print(y)"
   ]
  },
  {
   "cell_type": "code",
   "execution_count": 23,
   "metadata": {},
   "outputs": [
    {
     "name": "stdout",
     "output_type": "stream",
     "text": [
      "tf.Tensor(\n",
      "[[ 0.00394962 -0.01790469  0.05764657  0.01544581  0.00590207 -0.04274273\n",
      "  -0.01870706 -0.02243117 -0.08493273  0.00087138  0.04015159 -0.0439481\n",
      "  -0.04103261 -0.01469471 -0.01763722 -0.06848349 -0.01065879 -0.02943587]], shape=(1, 18), dtype=float32)\n"
     ]
    }
   ],
   "source": [
    "x = np.random.normal(loc=0.5, scale=0.3, size=[1, 16, 16, 16, 16])\n",
    "y = model.layers[2](x)\n",
    "print(y)"
   ]
  },
  {
   "cell_type": "markdown",
   "metadata": {},
   "source": [
    "위 실험의 결과를 토대로 확인할 수 있는 것은 regressor의 출력은 입력 correlation의 크기가 아닌 편차에 따라 달라진다는 것이다. correlation의 분포의 표준편차를 변화시키며 출력의 변화 정도를 추정해주었다."
   ]
  },
  {
   "cell_type": "code",
   "execution_count": 33,
   "metadata": {},
   "outputs": [
    {
     "name": "stdout",
     "output_type": "stream",
     "text": [
      "[0.         0.02040816 0.04081633 0.06122449 0.08163265 0.10204082\n",
      " 0.12244898 0.14285714 0.16326531 0.18367347 0.20408163 0.2244898\n",
      " 0.24489796 0.26530612 0.28571429 0.30612245 0.32653061 0.34693878\n",
      " 0.36734694 0.3877551  0.40816327 0.42857143 0.44897959 0.46938776\n",
      " 0.48979592 0.51020408 0.53061224 0.55102041 0.57142857 0.59183673\n",
      " 0.6122449  0.63265306 0.65306122 0.67346939 0.69387755 0.71428571\n",
      " 0.73469388 0.75510204 0.7755102  0.79591837 0.81632653 0.83673469\n",
      " 0.85714286 0.87755102 0.89795918 0.91836735 0.93877551 0.95918367\n",
      " 0.97959184 1.        ]\n"
     ]
    }
   ],
   "source": [
    "_range = np.linspace(0, 1.0, 50)\n",
    "print(_range)"
   ]
  },
  {
   "cell_type": "code",
   "execution_count": 34,
   "metadata": {},
   "outputs": [],
   "source": [
    "variations_via_std = []\n",
    "variations_via_mean = []\n",
    "for std in _range:\n",
    "    x = np.random.normal(loc=0.5, scale=std, size=[1, 16, 16, 16, 16])\n",
    "    _y = model.layers[2](x)\n",
    "    variation = np.square(np.sum(np.power((y - _y), 2)))\n",
    "    variations_via_std.append(variation)\n",
    "for mean in _range:\n",
    "    x = np.random.normal(loc=mean, scale=0.1, size=[1, 16, 16, 16, 16])\n",
    "    _y = model.layers[2](x)\n",
    "    variation = np.square(np.sum(np.power((y - _y), 2)))\n",
    "    variations_via_mean.append(variation)"
   ]
  },
  {
   "cell_type": "code",
   "execution_count": 37,
   "metadata": {},
   "outputs": [
    {
     "data": {
      "image/png": "[encoded data removed]",
      "text/plain": [
       "<Figure size 432x288 with 1 Axes>"
      ]
     },
     "metadata": {
      "needs_background": "light"
     },
     "output_type": "display_data"
    }
   ],
   "source": [
    "plt.ylabel(\"variation of motion parameters\")\n",
    "plt.xlabel(\"std-dev or mean\")\n",
    "plt.plot(_range, variations_via_std, label='variation_via_std')\n",
    "plt.plot(_range, variations_via_mean, label='variation_via_mean')\n",
    "plt.legend()\n",
    "plt.show()"
   ]
  },
  {
   "cell_type": "markdown",
   "metadata": {},
   "source": [
    "1. VGG16을 통한 correlations\n",
    "2. 시각화 방식 개선\n",
    "3. tentative penalty"
   ]
  },
  {
   "cell_type": "code",
   "execution_count": null,
   "metadata": {},
   "outputs": [],
   "source": []
  },
  {
   "cell_type": "code",
   "execution_count": null,
   "metadata": {},
   "outputs": [],
   "source": []
  },
  {
   "cell_type": "code",
   "execution_count": null,
   "metadata": {},
   "outputs": [],
   "source": []
  },
  {
   "cell_type": "markdown",
   "metadata": {},
   "source": [
    "## b. 특징추출기의 정상 동작 검증"
   ]
  },
  {
   "cell_type": "markdown",
   "metadata": {},
   "source": [
    "### 동일 영상에 대한 correlation"
   ]
  },
  {
   "cell_type": "code",
   "execution_count": 11,
   "metadata": {},
   "outputs": [
    {
     "name": "stdout",
     "output_type": "stream",
     "text": [
      "(16, 16, 16, 16) (9, 2) (64, 64, 3)\n"
     ]
    }
   ],
   "source": [
    "for image_A, image_B, parameters in ds.take(1):\n",
    "    image_A = image_A.numpy()\n",
    "    image_B = image_B.numpy()\n",
    "    parameters = parameters.numpy()\n",
    "pred, score = model(image_A, image_A)\n",
    "\n",
    "score = score.numpy()[0]\n",
    "parameters = parameters[0]\n",
    "image_A = image_A[0]\n",
    "image_B = image_B[0]\n",
    "\n",
    "print(score.shape, parameters.shape, image_A.shape)"
   ]
  },
  {
   "cell_type": "code",
   "execution_count": 12,
   "metadata": {},
   "outputs": [],
   "source": [
    "def get_matching_grid_from_B(parameters, center_point):\n",
    "    src_points = np.array([[0.0, 0.0], [0.5, 0.0], [1.0, 0.0],\n",
    "                                   [0.0, 0.5], [0.5, 0.5], [1.0, 0.5],\n",
    "                                   [0.0, 1.0], [0.5, 1.0], [1.0, 1.0]])\n",
    "\n",
    "    dst_points = src_points +parameters\n",
    "\n",
    "    theta = tps.tps_theta_from_points(src_points, dst_points, reduced=True)\n",
    "    dshape = (64, 64)\n",
    "    grid = tps.tps_grid(theta, dst_points, dshape)\n",
    "    mapx, mapy = tps.tps_grid_to_remap(grid, (64, 64))\n",
    "    points = np.concatenate([mapy[:,:,np.newaxis], mapx[:,:,np.newaxis]], axis=2)\n",
    "    #print(\"points :\", points)\n",
    "    center_point = np.array(center_point)\n",
    "    #print(\"grid center : \", center_point)\n",
    "    center_point = center_point[np.newaxis, np.newaxis, :]\n",
    "    distance = np.sum(np.power((points - center_point), 2), axis=2)\n",
    "    #print(\"distance : \", distance)\n",
    "    ri, ci = distance.argmin()//distance.shape[1], distance.argmin()%distance.shape[1]\n",
    "    return (ri, ci)"
   ]
  },
  {
   "cell_type": "code",
   "execution_count": null,
   "metadata": {},
   "outputs": [],
   "source": [
    "def score_test(grid_coord, score, parameters, images, grid_shape=(16,16)):\n",
    "    image_A, image_B = images\n",
    "    score = score[grid_coord[0], grid_coord[1]]\n",
    "    H, W, C = image_A.shape\n",
    "    grid_size = H/grid_shape[0], W/grid_shape[1]\n",
    "\n",
    "    start_pix_h = int(grid_size[0]*grid_coord[0])\n",
    "    end_pix_h = int(grid_size[0]*(1+grid_coord[0]))\n",
    "    start_pix_w = int(grid_size[1]*grid_coord[1])\n",
    "    end_pix_w = int(grid_size[1]*(1+grid_coord[1]))\n",
    "    \n",
    "    drawn_grid_image_A = image_A.copy()\n",
    "    drawn_grid_image_A[start_pix_h:end_pix_h, start_pix_w:end_pix_w] = (0,0,0)   \n",
    "    \n",
    "    expected_drawn_grid_image_B = image_B.copy()\n",
    "    grid_center_A = (int(start_pix_h+grid_size[0]/2), int(start_pix_w+grid_size[1]/2))\n",
    "    grid_center_B = get_matching_grid_from_B(parameters, grid_center_A)\n",
    "    start_pix_h = int(grid_center_B[0] - grid_size[0]/2)\n",
    "    start_pix_w = int(grid_center_B[1] - grid_size[1]/2)\n",
    "    end_pix_h = int(grid_center_B[0] + grid_size[0]/2)\n",
    "    end_pix_w = int(grid_center_B[1] + grid_size[1]/2)\n",
    "    expected_drawn_grid_image_B[start_pix_h:end_pix_h, start_pix_w:end_pix_w] = (0,0,0)\n",
    "    \n",
    "    drawn_grid_image_B = image_B.copy()\n",
    "    max_correlation_grid_index = score.argmax()//score.shape[1], score.argmax()%score.shape[1]\n",
    "    start_pix_h = int(grid_size[0]*max_correlation_grid_index[0])\n",
    "    end_pix_h = int(grid_size[0]*(1+max_correlation_grid_index[0]))\n",
    "    start_pix_w = int(grid_size[1]*max_correlation_grid_index[1])\n",
    "    end_pix_w = int(grid_size[1]*(1+max_correlation_grid_index[1]))\n",
    "\n",
    "    drawn_grid_image_B[start_pix_h:end_pix_h, start_pix_w:end_pix_w] = (0,0,0)\n",
    "    \n",
    "    print(\"top 10 correlation values in descending : \", np.sort(score.flatten())[::-1][:10])\n",
    "    \n",
    "    return drawn_grid_image_A, expected_drawn_grid_image_B, drawn_grid_image_B"
   ]
  },
  {
   "cell_type": "code",
   "execution_count": null,
   "metadata": {},
   "outputs": [],
   "source": [
    "drawn_image_A, expected_drawn_grid_image_B, drawn_grid_image_B = score_test(grid_coord=(5,10), \n",
    "                                                                            score=score, \n",
    "                                                                            parameters=np.zeros([9,2]), \n",
    "                                                                            images=(image_A, image_A))"
   ]
  },
  {
   "cell_type": "code",
   "execution_count": null,
   "metadata": {},
   "outputs": [],
   "source": [
    "fig = plt.figure()\n",
    "\n",
    "ax1 = fig.add_subplot(131)\n",
    "ax2 = fig.add_subplot(132)\n",
    "ax3 = fig.add_subplot(133)\n",
    "\n",
    "ax1.imshow(drawn_image_A)\n",
    "ax2.imshow(expected_drawn_grid_image_B)\n",
    "ax3.imshow(drawn_grid_image_B)\n",
    "\n",
    "plt.show()"
   ]
  },
  {
   "cell_type": "code",
   "execution_count": null,
   "metadata": {},
   "outputs": [],
   "source": [
    "drawn_image_A.shape\n",
    "expected_drawn_grid_image_B.shape\n",
    "drawn_grid_image_B.shape"
   ]
  },
  {
   "cell_type": "markdown",
   "metadata": {},
   "source": [
    "### b.1 ) 동일한 사진의 경우"
   ]
  },
  {
   "cell_type": "code",
   "execution_count": null,
   "metadata": {},
   "outputs": [],
   "source": [
    "for i in range(16):\n",
    "    drawn_image_A, expected_drawn_grid_image_B, drawn_grid_image_B = score_test(grid_coord=(i,i), \n",
    "                                                                                score=score, \n",
    "                                                                                parameters=np.zeros([9,2]), \n",
    "                                                                                images=(image_A, image_A))   \n",
    "    fig = plt.figure()\n",
    "\n",
    "    ax1 = fig.add_subplot(131)\n",
    "    ax2 = fig.add_subplot(132)\n",
    "    ax3 = fig.add_subplot(133)\n",
    "\n",
    "    ax1.imshow(drawn_image_A)\n",
    "    ax2.imshow(expected_drawn_grid_image_B)\n",
    "    ax3.imshow(drawn_grid_image_B)\n",
    "\n",
    "    plt.show()"
   ]
  },
  {
   "cell_type": "markdown",
   "metadata": {},
   "source": [
    "### b.2 ) 다른 사진의 경우"
   ]
  },
  {
   "cell_type": "code",
   "execution_count": null,
   "metadata": {},
   "outputs": [],
   "source": [
    "for image_A, image_B, parameters in ds.take(1):\n",
    "    image_A = image_A.numpy()\n",
    "    image_B = image_B.numpy()\n",
    "    parameters = parameters.numpy()\n",
    "pred, score = model(image_A, image_A)\n",
    "\n",
    "score = score.numpy()[0]\n",
    "parameters = parameters[0]\n",
    "image_A = image_A[0]\n",
    "image_B = image_B[0]\n",
    "\n",
    "print(score.shape, parameters.shape, image_A.shape)"
   ]
  },
  {
   "cell_type": "code",
   "execution_count": null,
   "metadata": {},
   "outputs": [],
   "source": [
    "for i in range(16):\n",
    "    drawn_image_A, expected_drawn_grid_image_B, drawn_grid_image_B = score_test(grid_coord=(i,i), \n",
    "                                                                                score=score, \n",
    "                                                                                parameters=parameters, \n",
    "                                                                                images=(image_A, image_B))   \n",
    "    fig = plt.figure()\n",
    "\n",
    "    ax1 = fig.add_subplot(131)\n",
    "    ax2 = fig.add_subplot(132)\n",
    "    ax3 = fig.add_subplot(133)\n",
    "\n",
    "    ax1.imshow(drawn_image_A)\n",
    "    ax2.imshow(expected_drawn_grid_image_B)\n",
    "    ax3.imshow(drawn_grid_image_B)\n",
    "\n",
    "    plt.show()\n"
   ]
  },
  {
   "cell_type": "code",
   "execution_count": null,
   "metadata": {},
   "outputs": [],
   "source": []
  },
  {
   "cell_type": "code",
   "execution_count": null,
   "metadata": {},
   "outputs": [],
   "source": []
  },
  {
   "cell_type": "code",
   "execution_count": null,
   "metadata": {},
   "outputs": [],
   "source": []
  },
  {
   "cell_type": "code",
   "execution_count": null,
   "metadata": {},
   "outputs": [],
   "source": []
  },
  {
   "cell_type": "code",
   "execution_count": null,
   "metadata": {},
   "outputs": [],
   "source": []
  },
  {
   "cell_type": "code",
   "execution_count": null,
   "metadata": {},
   "outputs": [],
   "source": []
  },
  {
   "cell_type": "code",
   "execution_count": null,
   "metadata": {},
   "outputs": [],
   "source": [
    "from models.cnn_geo import CNN_geo\n",
    "from data_loader import load_data\n",
    "import numpy as np\n",
    "from matplotlib import pyplot as plt"
   ]
  },
  {
   "cell_type": "code",
   "execution_count": null,
   "metadata": {},
   "outputs": [],
   "source": [
    "model = CNN_geo(config['backbone'])\n",
    "ckpt_dir = os.path.join(\n",
    "        'checkpoints', config['model_name'], config['exp_desc'])\n",
    "ckpt = os.path.join(ckpt_dir, \"{}-{}.h5\".format(config['model_name'], str(config['train']['epochs'])))\n",
    "model.load(ckpt)"
   ]
  },
  {
   "cell_type": "code",
   "execution_count": null,
   "metadata": {},
   "outputs": [],
   "source": [
    "model.layers"
   ]
  },
  {
   "cell_type": "code",
   "execution_count": null,
   "metadata": {},
   "outputs": [],
   "source": [
    "model.layers[2](np.ones([1, 16,16,16,16]))"
   ]
  },
  {
   "cell_type": "code",
   "execution_count": null,
   "metadata": {},
   "outputs": [],
   "source": [
    "datasets = load_data(['train'], config)\n",
    "ds = datasets['train'].batch(1)\n",
    "for image_A, image_B, parameters in ds.take(1):\n",
    "    image_A = image_A.numpy()\n",
    "    image_B = image_B.numpy()\n",
    "    parameters = parameters.numpy()"
   ]
  },
  {
   "cell_type": "code",
   "execution_count": null,
   "metadata": {},
   "outputs": [],
   "source": [
    "image_A.shape, image_B.shape\n",
    "\n",
    "x = model.layers[0](image_A)\n",
    "y = model.layers[0](image_B)"
   ]
  },
  {
   "cell_type": "code",
   "execution_count": null,
   "metadata": {},
   "outputs": [],
   "source": [
    "plt.imshow(image_A[0])"
   ]
  },
  {
   "cell_type": "code",
   "execution_count": null,
   "metadata": {},
   "outputs": [],
   "source": [
    "plt.imshow(image_B[0])"
   ]
  },
  {
   "cell_type": "code",
   "execution_count": null,
   "metadata": {},
   "outputs": [],
   "source": []
  },
  {
   "cell_type": "code",
   "execution_count": null,
   "metadata": {},
   "outputs": [],
   "source": [
    "import tensorflow as tf"
   ]
  },
  {
   "cell_type": "code",
   "execution_count": null,
   "metadata": {},
   "outputs": [],
   "source": [
    "score = model.layers[1](x, y)"
   ]
  },
  {
   "cell_type": "code",
   "execution_count": null,
   "metadata": {},
   "outputs": [],
   "source": [
    "float_formatter = \"{:.3f}\".format\n",
    "np.set_printoptions(formatter={'float_kind':float_formatter})"
   ]
  },
  {
   "cell_type": "code",
   "execution_count": null,
   "metadata": {},
   "outputs": [],
   "source": [
    "print(np.max(score[0, 0,0]))"
   ]
  },
  {
   "cell_type": "code",
   "execution_count": null,
   "metadata": {},
   "outputs": [],
   "source": [
    "print(score[0,0,0])"
   ]
  },
  {
   "cell_type": "code",
   "execution_count": null,
   "metadata": {},
   "outputs": [],
   "source": [
    "parameters"
   ]
  },
  {
   "cell_type": "code",
   "execution_count": null,
   "metadata": {},
   "outputs": [],
   "source": [
    "model.layers[2](score)"
   ]
  },
  {
   "cell_type": "code",
   "execution_count": null,
   "metadata": {},
   "outputs": [],
   "source": [
    "vgg = tf.keras.applications.VGG16(weights='imagenet', input_shape=(64, 64, 3), include_top=False)"
   ]
  },
  {
   "cell_type": "code",
   "execution_count": null,
   "metadata": {},
   "outputs": [],
   "source": [
    "model = tf.keras.Model(inputs=vgg.layers[0].input, outputs=vgg.layers[9].output)"
   ]
  },
  {
   "cell_type": "code",
   "execution_count": null,
   "metadata": {},
   "outputs": [],
   "source": [
    "model.summary()"
   ]
  },
  {
   "cell_type": "code",
   "execution_count": null,
   "metadata": {},
   "outputs": [],
   "source": []
  }
 ],
 "metadata": {
  "kernelspec": {
   "display_name": "Python 3",
   "language": "python",
   "name": "python3"
  },
  "language_info": {
   "codemirror_mode": {
    "name": "ipython",
    "version": 3
   },
   "file_extension": ".py",
   "mimetype": "text/x-python",
   "name": "python",
   "nbconvert_exporter": "python",
   "pygments_lexer": "ipython3",
   "version": "3.6.9"
  }
 },
 "nbformat": 4,
 "nbformat_minor": 4
}

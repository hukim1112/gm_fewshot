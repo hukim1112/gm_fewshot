{
 "cells": [
  {
   "cell_type": "code",
   "execution_count": 1,
   "metadata": {},
   "outputs": [],
   "source": [
    "import os, sys\n",
    "root_path = os.path.abspath('.').split('jupyters')[0]\n",
    "sys.path.append(root_path)"
   ]
  },
  {
   "cell_type": "code",
   "execution_count": 2,
   "metadata": {},
   "outputs": [],
   "source": [
    "import json\n",
    "import argparse\n",
    "import tensorflow as tf\n",
    "import numpy as np\n",
    "from matplotlib import pyplot as plt\n",
    "from functools import partial\n",
    "import simulator as sim"
   ]
  },
  {
   "cell_type": "code",
   "execution_count": 3,
   "metadata": {},
   "outputs": [],
   "source": [
    "class Spatial_transformer_regressor(tf.keras.layers.Layer):\n",
    "    def __init__(self, num_param):\n",
    "        super(Spatial_transformer_regressor, self).__init__()\n",
    "        self.regressor = tf.keras.Sequential([\n",
    "            tf.keras.layers.Conv2D(64, (3, 3), activation='relu'),\n",
    "            tf.keras.layers.BatchNormalization(),\n",
    "            tf.keras.layers.Conv2D(64, (3, 3), activation='relu'),\n",
    "            tf.keras.layers.BatchNormalization(),\n",
    "            tf.keras.layers.Conv2D(64, (3, 3), activation='relu'),\n",
    "            tf.keras.layers.BatchNormalization(), \n",
    "            tf.keras.layers.Conv2D(64, (3, 3), activation='relu'),\n",
    "            tf.keras.layers.BatchNormalization(),   \n",
    "            tf.keras.layers.Flatten(),\n",
    "            tf.keras.layers.Dense(num_param),\n",
    "        ])\n",
    "\n",
    "    def call(self, correlation):\n",
    "        correlation = tf.reshape(correlation, [-1,16,16,256])\n",
    "        return self.regressor(correlation)"
   ]
  },
  {
   "cell_type": "code",
   "execution_count": 4,
   "metadata": {},
   "outputs": [],
   "source": [
    "def gen_motion_parameter(shape):\n",
    "    while True:\n",
    "        yield (tf.random.uniform(shape) - 0.5) * 2 * 0.2"
   ]
  },
  {
   "cell_type": "code",
   "execution_count": 5,
   "metadata": {},
   "outputs": [],
   "source": [
    "gen = partial(gen_motion_parameter, (9,2))\n",
    "ds = tf.data.Dataset.from_generator(gen, output_types=tf.float32)"
   ]
  },
  {
   "cell_type": "code",
   "execution_count": 6,
   "metadata": {},
   "outputs": [],
   "source": [
    "def data_process(motion_parameters, axay, map_size):\n",
    "    motion_parameters = motion_parameters.numpy()\n",
    "    bxby = sim.get_tgt_from_src(motion_parameters, axay, map_size)\n",
    "    axybxy = np.concatenate([axay, bxby], axis = -1)\n",
    "    correlations = sim.generate_correlations(axybxy, map_size)\n",
    "    return motion_parameters, correlations"
   ]
  },
  {
   "cell_type": "code",
   "execution_count": 7,
   "metadata": {},
   "outputs": [],
   "source": [
    "axay = np.array([[0.0, 0.0], [0.5, 0.0], [1.0, 0.0],\n",
    "                           [0.0, 0.5], [0.5, 0.5], [1.0, 0.5],\n",
    "                           [0.0, 1.0], [0.5, 1.0], [1.0, 1.0]])\n",
    "map_size = (16, 16)\n",
    "axay = axay*(map_size[1]-1, map_size[0]-1)\n",
    "axay = axay.astype(np.int32)\n",
    "\n",
    "py_func = partial(data_process, axay = axay, map_size = map_size)"
   ]
  },
  {
   "cell_type": "code",
   "execution_count": 8,
   "metadata": {},
   "outputs": [],
   "source": [
    "def map_function(motion_paramters):\n",
    "    return tf.py_function(py_func, [motion_paramters], [tf.float32, tf.float32])"
   ]
  },
  {
   "cell_type": "code",
   "execution_count": 9,
   "metadata": {},
   "outputs": [],
   "source": [
    "ds = ds.map(map_function)\n",
    "ds = ds.batch(16)"
   ]
  },
  {
   "cell_type": "code",
   "execution_count": 10,
   "metadata": {},
   "outputs": [
    {
     "name": "stdout",
     "output_type": "stream",
     "text": [
      "(16, 9, 2)\n",
      "(16, 16, 16, 16, 16)\n"
     ]
    }
   ],
   "source": [
    "for mp, corr in ds.take(1):\n",
    "    print(mp.shape)\n",
    "    print(corr.shape)"
   ]
  },
  {
   "cell_type": "code",
   "execution_count": 11,
   "metadata": {},
   "outputs": [],
   "source": [
    "regressor = Spatial_transformer_regressor(18)"
   ]
  },
  {
   "cell_type": "code",
   "execution_count": 12,
   "metadata": {},
   "outputs": [],
   "source": [
    "def loss_fn(pred, label):\n",
    "    loss = tf.sqrt(tf.reduce_sum(tf.pow(pred - label, 2), axis=[-1, -2]))\n",
    "    loss_mean = tf.reduce_mean(loss)\n",
    "    return loss_mean"
   ]
  },
  {
   "cell_type": "code",
   "execution_count": 13,
   "metadata": {},
   "outputs": [
    {
     "name": "stdout",
     "output_type": "stream",
     "text": [
      "100 iter loss :  0.4900506\n",
      "200 iter loss :  0.49436042\n",
      "300 iter loss :  0.4935472\n",
      "400 iter loss :  0.48306155\n",
      "500 iter loss :  0.493254\n",
      "600 iter loss :  0.47798002\n",
      "700 iter loss :  0.46125975\n",
      "800 iter loss :  0.49761203\n",
      "900 iter loss :  0.48447996\n",
      "1000 iter loss :  0.49546596\n",
      "1100 iter loss :  0.4746144\n",
      "1200 iter loss :  0.48263854\n",
      "1300 iter loss :  0.4766081\n",
      "1400 iter loss :  0.49071753\n",
      "1500 iter loss :  0.46363997\n",
      "1600 iter loss :  0.4829491\n",
      "1700 iter loss :  0.48769325\n",
      "1800 iter loss :  0.50938743\n",
      "1900 iter loss :  0.5034105\n",
      "2000 iter loss :  0.48691016\n",
      "2100 iter loss :  0.4758135\n",
      "2200 iter loss :  0.48507568\n",
      "2300 iter loss :  0.4715015\n",
      "2400 iter loss :  0.51024127\n",
      "2500 iter loss :  0.48510873\n",
      "2600 iter loss :  0.4809578\n",
      "2700 iter loss :  0.4575867\n",
      "2800 iter loss :  0.4896366\n",
      "2900 iter loss :  0.4927686\n",
      "3000 iter loss :  0.50103676\n",
      "3100 iter loss :  0.4872526\n",
      "3200 iter loss :  0.4684784\n",
      "3300 iter loss :  0.48500448\n",
      "3400 iter loss :  0.47471148\n",
      "3500 iter loss :  0.45821714\n",
      "3600 iter loss :  0.47700518\n",
      "3700 iter loss :  0.48153085\n",
      "3800 iter loss :  0.4859385\n",
      "3900 iter loss :  0.47319138\n",
      "4000 iter loss :  0.48602313\n",
      "4100 iter loss :  0.478521\n",
      "4200 iter loss :  0.47865283\n",
      "4300 iter loss :  0.46950933\n",
      "4400 iter loss :  0.48992708\n",
      "4500 iter loss :  0.4762957\n",
      "4600 iter loss :  0.46762958\n",
      "4700 iter loss :  0.45909828\n",
      "4800 iter loss :  0.46961117\n",
      "4900 iter loss :  0.48068807\n",
      "5000 iter loss :  0.46995538\n",
      "5100 iter loss :  0.47868416\n",
      "5200 iter loss :  0.49143708\n",
      "5300 iter loss :  0.50836515\n",
      "5400 iter loss :  0.47226298\n",
      "5500 iter loss :  0.48009372\n",
      "5600 iter loss :  0.46747842\n",
      "5700 iter loss :  0.4749719\n",
      "5800 iter loss :  0.5168309\n",
      "5900 iter loss :  0.44462004\n",
      "6000 iter loss :  0.45665774\n",
      "6100 iter loss :  0.4651338\n",
      "6200 iter loss :  0.4733307\n",
      "6300 iter loss :  0.48644733\n",
      "6400 iter loss :  0.48382983\n",
      "6500 iter loss :  0.5022163\n",
      "6600 iter loss :  0.46784076\n",
      "6700 iter loss :  0.43834013\n",
      "6800 iter loss :  0.48093772\n",
      "6900 iter loss :  0.4724317\n",
      "7000 iter loss :  0.4795112\n",
      "7100 iter loss :  0.4614904\n",
      "7200 iter loss :  0.4805773\n",
      "7300 iter loss :  0.4738422\n",
      "7400 iter loss :  0.44960618\n",
      "7500 iter loss :  0.4422493\n",
      "7600 iter loss :  0.46326026\n",
      "7700 iter loss :  0.48303086\n",
      "7800 iter loss :  0.46707115\n",
      "7900 iter loss :  0.48281416\n",
      "8000 iter loss :  0.45508227\n",
      "8100 iter loss :  0.45261732\n",
      "8200 iter loss :  0.4593622\n",
      "8300 iter loss :  0.43361884\n",
      "8400 iter loss :  0.483648\n",
      "8500 iter loss :  0.46971455\n",
      "8600 iter loss :  0.46015224\n",
      "8700 iter loss :  0.472231\n",
      "8800 iter loss :  0.47793743\n",
      "8900 iter loss :  0.44359595\n",
      "9000 iter loss :  0.48338783\n",
      "9100 iter loss :  0.47065538\n",
      "9200 iter loss :  0.48005044\n",
      "9300 iter loss :  0.4685792\n",
      "9400 iter loss :  0.45453888\n",
      "9500 iter loss :  0.4586763\n",
      "9600 iter loss :  0.45925668\n",
      "9700 iter loss :  0.45072615\n",
      "9800 iter loss :  0.46458632\n",
      "9900 iter loss :  0.44651446\n",
      "10000 iter loss :  0.46624354\n",
      "10100 iter loss :  0.45883083\n",
      "10200 iter loss :  0.44906807\n",
      "10300 iter loss :  0.4607375\n",
      "10400 iter loss :  0.44705772\n",
      "10500 iter loss :  0.4440758\n",
      "10600 iter loss :  0.45178783\n",
      "10700 iter loss :  0.46350986\n",
      "10800 iter loss :  0.45622173\n",
      "10900 iter loss :  0.46205768\n",
      "11000 iter loss :  0.47805896\n",
      "11100 iter loss :  0.4229692\n",
      "11200 iter loss :  0.4529012\n",
      "11300 iter loss :  0.43388698\n",
      "11400 iter loss :  0.4502896\n",
      "11500 iter loss :  0.42212957\n",
      "11600 iter loss :  0.44917756\n",
      "11700 iter loss :  0.46967518\n",
      "11800 iter loss :  0.4520594\n",
      "11900 iter loss :  0.45412898\n",
      "12000 iter loss :  0.45586306\n",
      "12100 iter loss :  0.44686806\n",
      "12200 iter loss :  0.45437586\n",
      "12300 iter loss :  0.45752305\n",
      "12400 iter loss :  0.45813608\n",
      "12500 iter loss :  0.4686137\n",
      "12600 iter loss :  0.439021\n",
      "12700 iter loss :  0.439494\n",
      "12800 iter loss :  0.4475281\n",
      "12900 iter loss :  0.4719592\n",
      "13000 iter loss :  0.4431858\n",
      "13100 iter loss :  0.45151114\n",
      "13200 iter loss :  0.47583973\n",
      "13300 iter loss :  0.46083468\n",
      "13400 iter loss :  0.45376608\n",
      "13500 iter loss :  0.44886208\n",
      "13600 iter loss :  0.4218939\n",
      "13700 iter loss :  0.4652609\n",
      "13800 iter loss :  0.43330017\n",
      "13900 iter loss :  0.47103\n",
      "14000 iter loss :  0.46442217\n",
      "14100 iter loss :  0.44508564\n",
      "14200 iter loss :  0.44899106\n",
      "14300 iter loss :  0.4521995\n",
      "14400 iter loss :  0.4576739\n",
      "14500 iter loss :  0.4671032\n",
      "14600 iter loss :  0.46608716\n",
      "14700 iter loss :  0.4618236\n",
      "14800 iter loss :  0.4797753\n",
      "14900 iter loss :  0.4424426\n",
      "15000 iter loss :  0.45824003\n",
      "15100 iter loss :  0.4653013\n",
      "15200 iter loss :  0.43304685\n",
      "15300 iter loss :  0.46414363\n",
      "15400 iter loss :  0.44105217\n",
      "15500 iter loss :  0.4558938\n",
      "15600 iter loss :  0.4226713\n",
      "15700 iter loss :  0.46820623\n",
      "15800 iter loss :  0.45226514\n",
      "15900 iter loss :  0.42957944\n",
      "16000 iter loss :  0.42701638\n",
      "16100 iter loss :  0.44076425\n",
      "16200 iter loss :  0.4512536\n",
      "16300 iter loss :  0.41654515\n",
      "16400 iter loss :  0.4442204\n",
      "16500 iter loss :  0.46014437\n",
      "16600 iter loss :  0.44642088\n",
      "16700 iter loss :  0.4507093\n",
      "16800 iter loss :  0.4618482\n",
      "16900 iter loss :  0.44742322\n",
      "17000 iter loss :  0.43614152\n",
      "17100 iter loss :  0.43147272\n",
      "17200 iter loss :  0.4436128\n",
      "17300 iter loss :  0.4539484\n",
      "17400 iter loss :  0.43849108\n",
      "17500 iter loss :  0.43080795\n",
      "17600 iter loss :  0.44504976\n",
      "17700 iter loss :  0.42768782\n",
      "17800 iter loss :  0.43015042\n",
      "17900 iter loss :  0.44844896\n",
      "18000 iter loss :  0.4262568\n",
      "18100 iter loss :  0.4452014\n",
      "18200 iter loss :  0.43484655\n",
      "18300 iter loss :  0.43690038\n",
      "18400 iter loss :  0.43154258\n",
      "18500 iter loss :  0.4509371\n",
      "18600 iter loss :  0.43031627\n",
      "18700 iter loss :  0.4367061\n",
      "18800 iter loss :  0.4590991\n",
      "18900 iter loss :  0.426956\n",
      "19000 iter loss :  0.42219505\n",
      "19100 iter loss :  0.39798385\n",
      "19200 iter loss :  0.42473057\n",
      "19300 iter loss :  0.4304739\n",
      "19400 iter loss :  0.4244995\n",
      "19500 iter loss :  0.41484872\n",
      "19600 iter loss :  0.4304706\n",
      "19700 iter loss :  0.40480524\n",
      "19800 iter loss :  0.4132068\n",
      "19900 iter loss :  0.39902547\n",
      "20000 iter loss :  0.4087714\n"
     ]
    }
   ],
   "source": [
    "i = 0\n",
    "x = []\n",
    "x_loss = []\n",
    "optimizer = tf.keras.optimizers.SGD(learning_rate=0.005)\n",
    "for epoch in range(20000):\n",
    "    i+= 1\n",
    "    x.append(i)\n",
    "    for mp, correlations in ds.take(1):\n",
    "        with tf.GradientTape() as tape:\n",
    "            pred = regressor(correlations)\n",
    "            pred = tf.reshape(pred, [-1, 9, 2])\n",
    "            loss = loss_fn(pred, mp)\n",
    "            x_loss.append(loss)\n",
    "        gradients = tape.gradient(loss, regressor.trainable_variables)\n",
    "        optimizer.apply_gradients(zip(gradients, regressor.trainable_variables)) \n",
    "        if i % 100 == 0:\n",
    "            print(i, \"iter loss : \", loss.numpy())"
   ]
  },
  {
   "cell_type": "code",
   "execution_count": 14,
   "metadata": {},
   "outputs": [
    {
     "data": {
      "text/plain": [
       "[<matplotlib.lines.Line2D at 0x7f5395d606d8>]"
      ]
     },
     "execution_count": 14,
     "metadata": {},
     "output_type": "execute_result"
    },
    {
     "data": {
      "image/png": "[encoded data removed]",
      "text/plain": [
       "<Figure size 432x288 with 1 Axes>"
      ]
     },
     "metadata": {
      "needs_background": "light"
     },
     "output_type": "display_data"
    }
   ],
   "source": [
    "fig = plt.figure()\n",
    "ax1 = fig.add_subplot(111)\n",
    "#ax2 = fig.add_subplot(122)\n",
    "ax1.title.set_text(\"training loss\")\n",
    "ax1.set_xlabel(\"epoch\")\n",
    "ax1.set_ylabel(\"training loss\")\n",
    "ax1.plot(np.array(x), np.array(x_loss))\n",
    "\n",
    "# ax2.title.set_text(\"std-dev of correlations\")\n",
    "# ax2.set_xlabel(\"epoch\")\n",
    "# ax2.set_ylabel(\"std-dev\")\n",
    "# ax2.plot(np.array(x), np.array(y_score_std))"
   ]
  },
  {
   "cell_type": "code",
   "execution_count": 15,
   "metadata": {},
   "outputs": [],
   "source": [
    "for mp, corr in ds.take(1):\n",
    "    pred = regressor(corr)\n",
    "    pred = tf.reshape(pred, [-1, 9, 2])"
   ]
  },
  {
   "cell_type": "code",
   "execution_count": 16,
   "metadata": {
    "scrolled": true
   },
   "outputs": [
    {
     "data": {
      "text/plain": [
       "<tf.Tensor: shape=(9, 2), dtype=float32, numpy=\n",
       "array([[ 0.00964965,  0.00374355],\n",
       "       [ 0.04897088, -0.02365645],\n",
       "       [ 0.00529691,  0.00356879],\n",
       "       [-0.02934665, -0.00535517],\n",
       "       [-0.14038405, -0.14368048],\n",
       "       [-0.00926938, -0.01209729],\n",
       "       [-0.0013135 , -0.00778256],\n",
       "       [ 0.00821051, -0.01628378],\n",
       "       [-0.00216653, -0.00038172]], dtype=float32)>"
      ]
     },
     "execution_count": 16,
     "metadata": {},
     "output_type": "execute_result"
    }
   ],
   "source": [
    "pred[0]"
   ]
  },
  {
   "cell_type": "code",
   "execution_count": 17,
   "metadata": {},
   "outputs": [
    {
     "data": {
      "text/plain": [
       "<tf.Tensor: shape=(9, 2), dtype=float32, numpy=\n",
       "array([[-0.10302782, -0.02448678],\n",
       "       [ 0.16010332, -0.03199015],\n",
       "       [-0.11073451,  0.15781331],\n",
       "       [-0.00590963, -0.02322154],\n",
       "       [-0.16009454, -0.11472025],\n",
       "       [-0.16955252, -0.17305575],\n",
       "       [-0.0180481 ,  0.08438478],\n",
       "       [ 0.09218264, -0.17355815],\n",
       "       [ 0.04372592, -0.02750063]], dtype=float32)>"
      ]
     },
     "execution_count": 17,
     "metadata": {},
     "output_type": "execute_result"
    }
   ],
   "source": [
    "mp[0]"
   ]
  },
  {
   "cell_type": "code",
   "execution_count": 18,
   "metadata": {},
   "outputs": [
    {
     "data": {
      "text/plain": [
       "<tf.Tensor: shape=(), dtype=float32, numpy=0.4003307>"
      ]
     },
     "execution_count": 18,
     "metadata": {},
     "output_type": "execute_result"
    }
   ],
   "source": [
    "tf.sqrt(tf.reduce_sum(tf.pow(pred[0] - mp[0], 2), axis=[-1, -2]))"
   ]
  },
  {
   "cell_type": "code",
   "execution_count": 19,
   "metadata": {},
   "outputs": [],
   "source": [
    "def loss_fn(pred, label):\n",
    "    loss = tf.sqrt(tf.reduce_sum(tf.pow(pred - label, 2), axis=[-1, -2]))\n",
    "    loss_mean = tf.reduce_mean(loss)\n",
    "    return loss_mean"
   ]
  },
  {
   "cell_type": "markdown",
   "metadata": {},
   "source": [
    "# Smaller grid map"
   ]
  },
  {
   "cell_type": "code",
   "execution_count": 20,
   "metadata": {},
   "outputs": [],
   "source": [
    "map_size = (3,3)"
   ]
  },
  {
   "cell_type": "code",
   "execution_count": 21,
   "metadata": {},
   "outputs": [],
   "source": [
    "gen = partial(gen_motion_parameter, (9,2))\n",
    "ds = tf.data.Dataset.from_generator(gen, output_types=tf.float32)"
   ]
  },
  {
   "cell_type": "code",
   "execution_count": null,
   "metadata": {},
   "outputs": [],
   "source": []
  },
  {
   "cell_type": "code",
   "execution_count": null,
   "metadata": {},
   "outputs": [],
   "source": []
  },
  {
   "cell_type": "code",
   "execution_count": null,
   "metadata": {},
   "outputs": [],
   "source": []
  },
  {
   "cell_type": "code",
   "execution_count": null,
   "metadata": {},
   "outputs": [],
   "source": []
  }
 ],
 "metadata": {
  "kernelspec": {
   "display_name": "Python 3",
   "language": "python",
   "name": "python3"
  },
  "language_info": {
   "codemirror_mode": {
    "name": "ipython",
    "version": 3
   },
   "file_extension": ".py",
   "mimetype": "text/x-python",
   "name": "python",
   "nbconvert_exporter": "python",
   "pygments_lexer": "ipython3",
   "version": "3.6.9"
  }
 },
 "nbformat": 4,
 "nbformat_minor": 4
}

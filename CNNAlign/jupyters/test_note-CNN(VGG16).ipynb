{
 "cells": [
  {
   "cell_type": "code",
   "execution_count": null,
   "metadata": {},
   "outputs": [],
   "source": [
    "import os, sys\n",
    "root_path = os.path.abspath('.').split('jupyters')[0]\n",
    "sys.path.append(root_path)"
   ]
  },
  {
   "cell_type": "code",
   "execution_count": null,
   "metadata": {},
   "outputs": [],
   "source": [
    "import json\n",
    "import argparse\n",
    "import tensorflow as tf\n",
    "import numpy as np\n",
    "from matplotlib import pyplot as plt\n",
    "\n",
    "from data_loader import load_data\n",
    "from models.cnn_geo import CNN_geo\n",
    "\n",
    "from debug_tools import data, train, visualize\n",
    "from utils import image\n",
    "import geo_transform as tps\n",
    "import CNNgeo_debug"
   ]
  },
  {
   "cell_type": "markdown",
   "metadata": {},
   "source": [
    "# 1. Read configuration file"
   ]
  },
  {
   "cell_type": "code",
   "execution_count": null,
   "metadata": {},
   "outputs": [],
   "source": [
    "with open('../overfit.json') as fp:\n",
    "    config = json.load(fp)\n",
    "split = 'val'"
   ]
  },
  {
   "cell_type": "code",
   "execution_count": null,
   "metadata": {},
   "outputs": [],
   "source": [
    "print(config)"
   ]
  },
  {
   "cell_type": "code",
   "execution_count": null,
   "metadata": {},
   "outputs": [],
   "source": [
    "print(config['train'])"
   ]
  },
  {
   "cell_type": "code",
   "execution_count": null,
   "metadata": {},
   "outputs": [],
   "source": [
    "config['backbone'] = 'vgg16'\n",
    "config['train']['epochs'] = 200"
   ]
  },
  {
   "cell_type": "code",
   "execution_count": null,
   "metadata": {},
   "outputs": [],
   "source": [
    "print(\"backbone : \", config['backbone'])\n",
    "print(\"n_examples : \", config['train']['n_examples'])\n",
    "print(\"learning_rate : \", config['train']['learning_rate'])\n",
    "print(\"batch_size : \", config['train']['batch_size'])\n",
    "print(\"epoch num : \", config['train']['epochs'])"
   ]
  },
  {
   "cell_type": "markdown",
   "metadata": {},
   "source": [
    "# 2. Train model on the config parameters"
   ]
  },
  {
   "cell_type": "code",
   "execution_count": null,
   "metadata": {},
   "outputs": [],
   "source": [
    "model = CNNgeo_debug.train(config)"
   ]
  },
  {
   "cell_type": "code",
   "execution_count": null,
   "metadata": {},
   "outputs": [],
   "source": [
    "model.summary()"
   ]
  },
  {
   "cell_type": "markdown",
   "metadata": {},
   "source": [
    "# 3. Debug"
   ]
  },
  {
   "cell_type": "code",
   "execution_count": null,
   "metadata": {},
   "outputs": [],
   "source": [
    "datasets = load_data(['train'], config)\n",
    "ds = datasets['train'].batch(1)"
   ]
  },
  {
   "cell_type": "code",
   "execution_count": null,
   "metadata": {},
   "outputs": [],
   "source": [
    "for image_A, image_B, parameters in ds.take(1):\n",
    "    image_A = image_A.numpy()\n",
    "    image_B = image_B.numpy()\n",
    "    parameters = parameters.numpy()\n",
    "#image_B_hat = np.ones([1, 64, 64, 3])\n",
    "pred, score = model(image_A, image_B)"
   ]
  },
  {
   "cell_type": "code",
   "execution_count": null,
   "metadata": {},
   "outputs": [],
   "source": [
    "print(\"parameter shape\", pred.shape)\n",
    "print(\"score shape\", score.shape)\n",
    "print(image_A.shape)"
   ]
  },
  {
   "cell_type": "markdown",
   "metadata": {},
   "source": [
    "## 3.1. 입력 영상에 따른 모델 추정 확인"
   ]
  },
  {
   "cell_type": "markdown",
   "metadata": {},
   "source": [
    "### case 1) 임의의 기하관계를 갖는 영상 쌍 (image A, image B)"
   ]
  },
  {
   "cell_type": "code",
   "execution_count": null,
   "metadata": {},
   "outputs": [],
   "source": [
    "for image_A, image_B, parameters in ds.take(1):\n",
    "    image_A = image_A.numpy()\n",
    "    image_B = image_B.numpy()\n",
    "    parameters = parameters.numpy()\n",
    "pred, score = model(image_A, image_B)\n",
    "\n",
    "print(\"compare gt : {} and \\n pred : {}\".format(parameters, pred))\n",
    "loss = tf.reduce_sum(tf.keras.losses.MSE(pred, parameters), axis=1)\n",
    "print(\"loss : {}\".format(loss))\n",
    "\n",
    "pred = pred.numpy()\n",
    "image_C = list(map(lambda x : image.synthesize_image(x[0], x[1], (64, 64), bbox=None, pad_ratio=None),\n",
    "                   zip(image_A.copy(), pred.copy())))    \n",
    "image_C = np.array(image_C)\n",
    "visualize.show_TPS_image([image_A, image_B, image_C], [np.ones_like(parameters), parameters, pred])    \n",
    "\n",
    "pred1 = pred.copy()"
   ]
  },
  {
   "cell_type": "markdown",
   "metadata": {},
   "source": [
    "### case 2) 임의의 다른 기하관계를 갖는 영상 쌍 (image A, image B)"
   ]
  },
  {
   "cell_type": "code",
   "execution_count": null,
   "metadata": {
    "scrolled": false
   },
   "outputs": [],
   "source": [
    "for image_A, image_B, parameters in ds.take(1):\n",
    "    image_A = image_A.numpy()\n",
    "    image_B = image_B.numpy()\n",
    "    parameters = parameters.numpy()\n",
    "pred, score = model(image_A, image_B)\n",
    "\n",
    "print(\"compare gt : {} and \\n pred : {}\".format(parameters, pred))\n",
    "loss = tf.reduce_sum(tf.keras.losses.MSE(pred, parameters), axis=1)\n",
    "print(\"loss : {}\".format(loss))\n",
    "\n",
    "pred = pred.numpy()\n",
    "image_C = list(map(lambda x : image.synthesize_image(x[0], x[1], (64, 64), bbox=None, pad_ratio=None),\n",
    "                   zip(image_A.copy(), pred.copy())))    \n",
    "image_C = np.array(image_C)\n",
    "visualize.show_TPS_image([image_A, image_B, image_C], [np.ones_like(parameters), parameters, pred])    \n",
    "\n",
    "pred2 = pred.copy()"
   ]
  },
  {
   "cell_type": "markdown",
   "metadata": {},
   "source": [
    "### case 3) Image A와 연관 없는 image B(백색 사진)의 영상 쌍 "
   ]
  },
  {
   "cell_type": "code",
   "execution_count": null,
   "metadata": {},
   "outputs": [],
   "source": [
    "image_B = np.ones([1, 64, 64, 3])\n",
    "pred, score = model(image_A, image_B)\n",
    "\n",
    "print(\"compare gt : {} and \\n pred : {}\".format(parameters, pred))\n",
    "loss = tf.reduce_sum(tf.keras.losses.MSE(pred, parameters), axis=1)\n",
    "print(\"loss : {}\".format(loss))\n",
    "\n",
    "pred = pred.numpy()\n",
    "image_C = list(map(lambda x : image.synthesize_image(x[0], x[1], (64, 64), bbox=None, pad_ratio=None),\n",
    "                   zip(image_A.copy(), pred.copy())))    \n",
    "image_C = np.array(image_C)\n",
    "visualize.show_TPS_image([image_A, image_B, image_C], [np.ones_like(parameters), parameters, pred])    \n",
    "\n",
    "pred3 = pred.copy()"
   ]
  },
  {
   "cell_type": "code",
   "execution_count": null,
   "metadata": {},
   "outputs": [],
   "source": [
    "print(pred1, \"\\n\", pred2, \"\\n\", pred3)"
   ]
  },
  {
   "cell_type": "markdown",
   "metadata": {},
   "source": [
    "case 1)와 case 2)는 동일한 영상을 다른 기하관계를 사용하여 두 개의 영상쌍(image pair)을 만든 경우를 말한다. 모델이 정상적이라면 각 영상쌍의 기하관계를 추정할 수 있을 것이다. 그러나 두 영상쌍이 다른 기하관계를 갖음에도 동일한 모션파라미터를 추정하였다. case 3)에서는 전혀 연관 없는 영상을 image B로 사용하였다. image B는 어떤 특징 정보도 없는 백색 사진임에도 불구하고 모델은 case 1)과 case 2)에서와 같은 모션파라미터를 추정하였다."
   ]
  },
  {
   "cell_type": "code",
   "execution_count": null,
   "metadata": {},
   "outputs": [],
   "source": [
    "model.summary()"
   ]
  },
  {
   "cell_type": "markdown",
   "metadata": {},
   "source": [
    "## 3.2 Correlation 분포에 따른 Regressor 예측"
   ]
  },
  {
   "cell_type": "markdown",
   "metadata": {},
   "source": [
    "3.1의 case 1, 2, 3에서 Regressor은 같은 모션파라미터를 예측했다. 명확한 이유를 파악하기 위해 입력 correlation(matching scores)를 제어하며 spatial parameter regressor의 출력을 분석했다."
   ]
  },
  {
   "cell_type": "code",
   "execution_count": null,
   "metadata": {},
   "outputs": [],
   "source": [
    "x = np.zeros([1, 16, 16, 16, 16]) # all correlations are zero\n",
    "y = model.layers[2](x)\n",
    "print(y)"
   ]
  },
  {
   "cell_type": "code",
   "execution_count": null,
   "metadata": {},
   "outputs": [],
   "source": [
    "x = np.ones([1, 16, 16, 16, 16]) # all correlations are one\n",
    "y = model.layers[2](x)\n",
    "print(y)"
   ]
  },
  {
   "cell_type": "code",
   "execution_count": null,
   "metadata": {},
   "outputs": [],
   "source": [
    "x = np.random.normal(loc=0.5, scale=0.0, size=[1, 16, 16, 16, 16])\n",
    "y = model.layers[2](x)\n",
    "print(y)"
   ]
  },
  {
   "cell_type": "code",
   "execution_count": null,
   "metadata": {},
   "outputs": [],
   "source": [
    "x = np.random.normal(loc=0.5, scale=0.3, size=[1, 16, 16, 16, 16])\n",
    "y = model.layers[2](x)\n",
    "print(y)"
   ]
  },
  {
   "cell_type": "markdown",
   "metadata": {},
   "source": [
    "위 실험의 결과를 토대로 확인할 수 있는 것은 regressor의 출력은 입력 correlation의 크기가 아닌 편차에 따라 달라진다는 것이다. correlation의 분포의 표준편차를 변화시키며 출력의 변화 정도를 추정해주었다."
   ]
  },
  {
   "cell_type": "code",
   "execution_count": null,
   "metadata": {},
   "outputs": [],
   "source": [
    "_range = np.linspace(0, 1.0, 50)\n",
    "print(_range)"
   ]
  },
  {
   "cell_type": "code",
   "execution_count": null,
   "metadata": {},
   "outputs": [],
   "source": [
    "variations_via_std = []\n",
    "variations_via_mean = []\n",
    "for std in _range:\n",
    "    variations = []\n",
    "    for i in range(1000):\n",
    "        x = np.random.normal(loc=0.5, scale=std, size=[1, 16, 16, 16, 16])\n",
    "        _y = model.layers[2](x)\n",
    "        variations.append(_y)\n",
    "    variations_via_std.append(np.sum(np.std(np.array(variations), axis = 0)))\n",
    "    \n",
    "for mean in _range:\n",
    "    variations = []\n",
    "    for i in range(1000):\n",
    "        x = np.random.normal(loc=mean, scale=0.1, size=[1, 16, 16, 16, 16])\n",
    "        _y = model.layers[2](x)\n",
    "        variations.append(_y)\n",
    "    variations_via_mean.append(np.sum(np.std(np.array(variations), axis = 0)))"
   ]
  },
  {
   "cell_type": "code",
   "execution_count": null,
   "metadata": {},
   "outputs": [],
   "source": [
    "variations"
   ]
  },
  {
   "cell_type": "code",
   "execution_count": null,
   "metadata": {},
   "outputs": [],
   "source": [
    "plt.ylabel(\"variations of motion parameters\")\n",
    "plt.xlabel(\"via sigma, mean. \\n correlations are sampled from N(0.5, sigma), N(mean, 0.1)\")\n",
    "plt.plot(_range, variations_via_std, label='via sigma')\n",
    "plt.plot(_range, variations_via_mean, label='via mean')\n",
    "plt.legend()\n",
    "plt.show()"
   ]
  },
  {
   "cell_type": "markdown",
   "metadata": {},
   "source": [
    "1. VGG16을 통한 correlations\n",
    "2. 시각화 방식 개선\n",
    "3. tentative penalty"
   ]
  },
  {
   "cell_type": "code",
   "execution_count": null,
   "metadata": {},
   "outputs": [],
   "source": []
  },
  {
   "cell_type": "markdown",
   "metadata": {},
   "source": [
    "## b. 특징추출기의 정상 동작 검증"
   ]
  },
  {
   "cell_type": "code",
   "execution_count": null,
   "metadata": {},
   "outputs": [],
   "source": [
    "np.set_printoptions(formatter = {\"float_kind\" : lambda x : \"{0:0.4f}\".format(x)} )\n",
    "#np.set_printoptions(formatter={'float_kind': lambda x: \"{0:0.3f}\".format(x)})"
   ]
  },
  {
   "cell_type": "markdown",
   "metadata": {},
   "source": [
    "### 동일 영상에 대한 correlation"
   ]
  },
  {
   "cell_type": "code",
   "execution_count": null,
   "metadata": {},
   "outputs": [],
   "source": [
    "for image_A, image_B, parameters in ds.take(1):\n",
    "    image_A = image_A.numpy()\n",
    "    image_B = image_B.numpy()\n",
    "    parameters = parameters.numpy()\n",
    "pred, score = model(image_A, image_A)\n",
    "\n",
    "score = score.numpy()[0]\n",
    "parameters = parameters[0]\n",
    "image_A = image_A[0]\n",
    "image_B = image_B[0]\n",
    "\n",
    "print(score.shape, parameters.shape, image_A.shape)"
   ]
  },
  {
   "cell_type": "code",
   "execution_count": null,
   "metadata": {},
   "outputs": [],
   "source": [
    "def get_matching_grid_from_B(parameters, center_point):\n",
    "    src_points = np.array([[0.0, 0.0], [0.5, 0.0], [1.0, 0.0],\n",
    "                                   [0.0, 0.5], [0.5, 0.5], [1.0, 0.5],\n",
    "                                   [0.0, 1.0], [0.5, 1.0], [1.0, 1.0]])\n",
    "\n",
    "    dst_points = src_points +parameters\n",
    "\n",
    "    theta = tps.tps_theta_from_points(src_points, dst_points, reduced=True)\n",
    "    dshape = (64, 64)\n",
    "    grid = tps.tps_grid(theta, dst_points, dshape)\n",
    "    mapx, mapy = tps.tps_grid_to_remap(grid, (64, 64))\n",
    "    points = np.concatenate([mapy[:,:,np.newaxis], mapx[:,:,np.newaxis]], axis=2)\n",
    "    #print(\"points :\", points)\n",
    "    center_point = np.array(center_point)\n",
    "    #print(\"grid center : \", center_point)\n",
    "    center_point = center_point[np.newaxis, np.newaxis, :]\n",
    "    distance = np.sum(np.power((points - center_point), 2), axis=2)\n",
    "    #print(\"distance : \", distance)\n",
    "    ri, ci = distance.argmin()//distance.shape[1], distance.argmin()%distance.shape[1]\n",
    "    return (ri, ci)"
   ]
  },
  {
   "cell_type": "code",
   "execution_count": null,
   "metadata": {},
   "outputs": [],
   "source": [
    "def score_test(grid_coord, score, parameters, images, grid_shape=(16,16)):\n",
    "    image_A, image_B = images\n",
    "    score = score[grid_coord[0], grid_coord[1]]\n",
    "    H, W, C = image_A.shape\n",
    "    grid_size = H/grid_shape[0], W/grid_shape[1]\n",
    "\n",
    "    start_pix_h = int(grid_size[0]*grid_coord[0])\n",
    "    end_pix_h = int(grid_size[0]*(1+grid_coord[0]))\n",
    "    start_pix_w = int(grid_size[1]*grid_coord[1])\n",
    "    end_pix_w = int(grid_size[1]*(1+grid_coord[1]))\n",
    "    \n",
    "    drawn_grid_image_A = image_A.copy()\n",
    "    drawn_grid_image_A[start_pix_h:end_pix_h, start_pix_w:end_pix_w] = (0,0,0)   \n",
    "    \n",
    "    expected_drawn_grid_image_B = image_B.copy()\n",
    "    grid_center_A = (int(start_pix_h+grid_size[0]/2), int(start_pix_w+grid_size[1]/2))\n",
    "    grid_center_B = get_matching_grid_from_B(parameters, grid_center_A)\n",
    "    start_pix_h = int(grid_center_B[0] - grid_size[0]/2)\n",
    "    start_pix_w = int(grid_center_B[1] - grid_size[1]/2)\n",
    "    end_pix_h = int(grid_center_B[0] + grid_size[0]/2)\n",
    "    end_pix_w = int(grid_center_B[1] + grid_size[1]/2)\n",
    "    expected_drawn_grid_image_B[start_pix_h:end_pix_h, start_pix_w:end_pix_w] = (0,0,0)\n",
    "    \n",
    "    drawn_grid_image_B = image_B.copy()\n",
    "    max_correlation_grid_index = score.argmax()//score.shape[1], score.argmax()%score.shape[1]\n",
    "    start_pix_h = int(grid_size[0]*max_correlation_grid_index[0])\n",
    "    end_pix_h = int(grid_size[0]*(1+max_correlation_grid_index[0]))\n",
    "    start_pix_w = int(grid_size[1]*max_correlation_grid_index[1])\n",
    "    end_pix_w = int(grid_size[1]*(1+max_correlation_grid_index[1]))\n",
    "\n",
    "    drawn_grid_image_B[start_pix_h:end_pix_h, start_pix_w:end_pix_w] = (0,0,0)\n",
    "    \n",
    "    print(\"top 10 correlation values in descending : \", np.sort(score.flatten())[::-1][:10])\n",
    "    print(\"standard deviation : {}\".format(np.std(score)))\n",
    "    return drawn_grid_image_A, expected_drawn_grid_image_B, drawn_grid_image_B, score"
   ]
  },
  {
   "cell_type": "code",
   "execution_count": null,
   "metadata": {},
   "outputs": [],
   "source": [
    "drawn_image_A, expected_drawn_grid_image_B, drawn_grid_image_B, patch_score= score_test(grid_coord=(5,10), \n",
    "                                                                            score=score, \n",
    "                                                                            parameters=np.zeros([9,2]), \n",
    "                                                                            images=(image_A, image_A))"
   ]
  },
  {
   "cell_type": "code",
   "execution_count": null,
   "metadata": {},
   "outputs": [],
   "source": [
    "# n, bins, patches = plt.hist(patch_score, bins=10, density=False, facecolor='blue', alpha=0.5)\n",
    "# plt.xlabel('X bins')\n",
    "# plt.ylabel('Frequency')\n",
    "# plt.title('Histogram of correlations')\n",
    "\n",
    "\n",
    "fig = plt.figure()\n",
    "\n",
    "ax1 = fig.add_subplot(131)\n",
    "ax2 = fig.add_subplot(132)\n",
    "ax3 = fig.add_subplot(133)\n",
    "ax1.imshow(drawn_image_A)\n",
    "ax2.imshow(expected_drawn_grid_image_B)\n",
    "ax3.imshow(drawn_grid_image_B)\n",
    "plt.show()\n",
    "n, bins, patches = plt.hist(patch_score, bins=5, density=False, facecolor='blue', alpha=0.5)\n",
    "plt.show()"
   ]
  },
  {
   "cell_type": "code",
   "execution_count": null,
   "metadata": {},
   "outputs": [],
   "source": [
    "drawn_image_A.shape\n",
    "expected_drawn_grid_image_B.shape\n",
    "drawn_grid_image_B.shape"
   ]
  },
  {
   "cell_type": "markdown",
   "metadata": {},
   "source": [
    "### b.1 ) 동일한 사진의 경우"
   ]
  },
  {
   "cell_type": "code",
   "execution_count": null,
   "metadata": {
    "scrolled": false
   },
   "outputs": [],
   "source": [
    "for i in range(16):\n",
    "    drawn_image_A, expected_drawn_grid_image_B, drawn_grid_image_B, patch_score= score_test(grid_coord=(i,i), \n",
    "                                                                                score=score, \n",
    "                                                                                parameters=np.zeros([9,2]), \n",
    "                                                                                images=(image_A, image_A))   \n",
    "    fig = plt.figure()\n",
    "    \n",
    "    ax1 = fig.add_subplot(131)\n",
    "    ax2 = fig.add_subplot(132)\n",
    "    ax3 = fig.add_subplot(133)\n",
    "\n",
    "    ax1.imshow(drawn_image_A)\n",
    "    ax2.imshow(expected_drawn_grid_image_B)\n",
    "    ax3.imshow(drawn_grid_image_B)\n",
    "\n",
    "    plt.show()\n",
    "    n, bins, patches = plt.hist(patch_score, bins=5, density=False, facecolor='blue', alpha=0.5)\n",
    "    plt.axis([0.0, 0.070, 0, 20])\n",
    "    plt.show()"
   ]
  },
  {
   "cell_type": "markdown",
   "metadata": {},
   "source": [
    "### b.2 ) 다른 사진의 경우"
   ]
  },
  {
   "cell_type": "code",
   "execution_count": null,
   "metadata": {},
   "outputs": [],
   "source": [
    "for image_A, image_B, parameters in ds.take(1):\n",
    "    image_A = image_A.numpy()\n",
    "    image_B = image_B.numpy()\n",
    "    parameters = parameters.numpy()\n",
    "pred, score = model(image_A, image_A)\n",
    "\n",
    "score = score.numpy()[0]\n",
    "parameters = parameters[0]\n",
    "image_A = image_A[0]\n",
    "image_B = image_B[0]\n",
    "\n",
    "print(score.shape, parameters.shape, image_A.shape)"
   ]
  },
  {
   "cell_type": "code",
   "execution_count": null,
   "metadata": {
    "scrolled": false
   },
   "outputs": [],
   "source": [
    "for i in range(16):\n",
    "    drawn_image_A, expected_drawn_grid_image_B, drawn_grid_image_B, patch_score = score_test(grid_coord=(i,i), \n",
    "                                                                                score=score, \n",
    "                                                                                parameters=parameters, \n",
    "                                                                                images=(image_A, image_B))   \n",
    "    fig = plt.figure()\n",
    "\n",
    "    ax1 = fig.add_subplot(131)\n",
    "    ax2 = fig.add_subplot(132)\n",
    "    ax3 = fig.add_subplot(133)\n",
    "\n",
    "    ax1.imshow(drawn_image_A)\n",
    "    ax2.imshow(expected_drawn_grid_image_B)\n",
    "    ax3.imshow(drawn_grid_image_B)\n",
    "\n",
    "    plt.show()\n",
    "    n, bins, patches = plt.hist(patch_score, bins=5, density=False, facecolor='blue', alpha=0.5)\n",
    "    plt.axis([0.055, 0.070, 0, 30])\n",
    "    plt.show()"
   ]
  },
  {
   "cell_type": "code",
   "execution_count": null,
   "metadata": {},
   "outputs": [],
   "source": []
  },
  {
   "cell_type": "code",
   "execution_count": null,
   "metadata": {},
   "outputs": [],
   "source": []
  }
 ],
 "metadata": {
  "kernelspec": {
   "display_name": "Python 3",
   "language": "python",
   "name": "python3"
  },
  "language_info": {
   "codemirror_mode": {
    "name": "ipython",
    "version": 3
   },
   "file_extension": ".py",
   "mimetype": "text/x-python",
   "name": "python",
   "nbconvert_exporter": "python",
   "pygments_lexer": "ipython3",
   "version": "3.6.7"
  }
 },
 "nbformat": 4,
 "nbformat_minor": 4
}

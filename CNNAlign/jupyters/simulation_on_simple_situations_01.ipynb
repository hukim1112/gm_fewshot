{
 "cells": [
  {
   "cell_type": "code",
   "execution_count": 1,
   "metadata": {},
   "outputs": [],
   "source": [
    "import os, sys\n",
    "root_path = os.path.abspath('.').split('jupyters')[0]\n",
    "sys.path.append(root_path)"
   ]
  },
  {
   "cell_type": "code",
   "execution_count": 2,
   "metadata": {},
   "outputs": [],
   "source": [
    "import json\n",
    "import argparse\n",
    "import tensorflow as tf\n",
    "import numpy as np\n",
    "from matplotlib import pyplot as plt\n",
    "\n",
    "from functools import partial"
   ]
  },
  {
   "cell_type": "code",
   "execution_count": null,
   "metadata": {},
   "outputs": [],
   "source": []
  },
  {
   "cell_type": "code",
   "execution_count": 3,
   "metadata": {},
   "outputs": [],
   "source": [
    "map_size = (5, 5)\n",
    "#py_func = partial(data_process, map_size = map_size)"
   ]
  },
  {
   "cell_type": "code",
   "execution_count": 4,
   "metadata": {},
   "outputs": [],
   "source": [
    "correlations = np.zeros(map_size, np.float32)"
   ]
  },
  {
   "cell_type": "code",
   "execution_count": 5,
   "metadata": {},
   "outputs": [
    {
     "data": {
      "text/plain": [
       "array([[0., 0., 0., 0., 0.],\n",
       "       [0., 0., 0., 0., 0.],\n",
       "       [0., 0., 0., 0., 0.],\n",
       "       [0., 0., 0., 0., 0.],\n",
       "       [0., 0., 0., 0., 0.]], dtype=float32)"
      ]
     },
     "execution_count": 5,
     "metadata": {},
     "output_type": "execute_result"
    }
   ],
   "source": [
    "correlations"
   ]
  },
  {
   "cell_type": "code",
   "execution_count": 6,
   "metadata": {},
   "outputs": [],
   "source": [
    "def make_corr_map(mp, map_size):\n",
    "    #mp = mp.numpy()\n",
    "    correlations = np.zeros(map_size, np.float32)\n",
    "    for i in range(map_size[0]):\n",
    "        for j in range(map_size[1]):\n",
    "            if i+mp == j:\n",
    "                correlations[i,j] += 1\n",
    "    return correlations"
   ]
  },
  {
   "cell_type": "code",
   "execution_count": 7,
   "metadata": {},
   "outputs": [
    {
     "name": "stdout",
     "output_type": "stream",
     "text": [
      "[[1. 0. 0. 0. 0.]\n",
      " [0. 1. 0. 0. 0.]\n",
      " [0. 0. 1. 0. 0.]\n",
      " [0. 0. 0. 1. 0.]\n",
      " [0. 0. 0. 0. 1.]]\n"
     ]
    }
   ],
   "source": [
    "correlations = make_corr_map(0, (5,5))\n",
    "print(correlations)"
   ]
  },
  {
   "cell_type": "code",
   "execution_count": 8,
   "metadata": {},
   "outputs": [
    {
     "name": "stdout",
     "output_type": "stream",
     "text": [
      "[[0. 1. 0. 0. 0.]\n",
      " [0. 0. 1. 0. 0.]\n",
      " [0. 0. 0. 1. 0.]\n",
      " [0. 0. 0. 0. 1.]\n",
      " [0. 0. 0. 0. 0.]]\n"
     ]
    }
   ],
   "source": [
    "correlations = make_corr_map(1, (5,5))\n",
    "print(correlations)"
   ]
  },
  {
   "cell_type": "code",
   "execution_count": 9,
   "metadata": {},
   "outputs": [
    {
     "name": "stdout",
     "output_type": "stream",
     "text": [
      "[[0. 0. 1. 0. 0.]\n",
      " [0. 0. 0. 1. 0.]\n",
      " [0. 0. 0. 0. 1.]\n",
      " [0. 0. 0. 0. 0.]\n",
      " [0. 0. 0. 0. 0.]]\n"
     ]
    }
   ],
   "source": [
    "correlations = make_corr_map(2, (5,5))\n",
    "print(correlations)"
   ]
  },
  {
   "cell_type": "code",
   "execution_count": 10,
   "metadata": {},
   "outputs": [
    {
     "name": "stdout",
     "output_type": "stream",
     "text": [
      "[[0. 0. 0. 0. 0.]\n",
      " [1. 0. 0. 0. 0.]\n",
      " [0. 1. 0. 0. 0.]\n",
      " [0. 0. 1. 0. 0.]\n",
      " [0. 0. 0. 1. 0.]]\n"
     ]
    }
   ],
   "source": [
    "correlations = make_corr_map(-1, (5,5))\n",
    "print(correlations)"
   ]
  },
  {
   "cell_type": "code",
   "execution_count": 11,
   "metadata": {},
   "outputs": [
    {
     "name": "stdout",
     "output_type": "stream",
     "text": [
      "[[0. 0. 0. 0. 0.]\n",
      " [0. 0. 0. 0. 0.]\n",
      " [1. 0. 0. 0. 0.]\n",
      " [0. 1. 0. 0. 0.]\n",
      " [0. 0. 1. 0. 0.]]\n"
     ]
    }
   ],
   "source": [
    "correlations = make_corr_map(-2, (5,5))\n",
    "print(correlations)"
   ]
  },
  {
   "cell_type": "code",
   "execution_count": null,
   "metadata": {},
   "outputs": [],
   "source": []
  },
  {
   "cell_type": "code",
   "execution_count": 12,
   "metadata": {},
   "outputs": [],
   "source": [
    "def gen_integer():\n",
    "    while True:\n",
    "        yield tf.random.uniform(shape=[1], minval = -3, maxval=4, dtype=tf.int32, seed=10)"
   ]
  },
  {
   "cell_type": "code",
   "execution_count": 13,
   "metadata": {},
   "outputs": [],
   "source": [
    "def data_process(mp, map_size):\n",
    "    mp = mp.numpy()\n",
    "    correlations = np.zeros(map_size, np.float32)\n",
    "    for i in range(map_size[0]):\n",
    "        for j in range(map_size[1]):\n",
    "            if i+mp == j:\n",
    "                correlations[i,j] += 1\n",
    "    return mp, correlations"
   ]
  },
  {
   "cell_type": "code",
   "execution_count": 14,
   "metadata": {},
   "outputs": [],
   "source": [
    "py_func = partial(data_process, map_size = map_size)\n",
    "def map_function(motion_paramters):\n",
    "    return tf.py_function(py_func, [motion_paramters], [tf.float32, tf.float32])"
   ]
  },
  {
   "cell_type": "code",
   "execution_count": 15,
   "metadata": {},
   "outputs": [],
   "source": [
    "ds = tf.data.Dataset.from_generator(gen_integer, output_types=tf.int32)\n",
    "ds = ds.map(map_function)\n",
    "ds = ds.batch(100)"
   ]
  },
  {
   "cell_type": "code",
   "execution_count": 16,
   "metadata": {},
   "outputs": [
    {
     "name": "stdout",
     "output_type": "stream",
     "text": [
      "tf.Tensor(\n",
      "[[ 2.]\n",
      " [-3.]\n",
      " [ 1.]\n",
      " [-3.]\n",
      " [ 0.]\n",
      " [-1.]\n",
      " [ 2.]\n",
      " [ 2.]\n",
      " [ 3.]\n",
      " [-1.]\n",
      " [-2.]\n",
      " [-1.]\n",
      " [ 0.]\n",
      " [ 3.]\n",
      " [ 0.]\n",
      " [ 3.]\n",
      " [ 0.]\n",
      " [-1.]\n",
      " [ 2.]\n",
      " [ 0.]\n",
      " [ 2.]\n",
      " [ 3.]\n",
      " [ 2.]\n",
      " [ 1.]\n",
      " [ 1.]\n",
      " [ 3.]\n",
      " [ 0.]\n",
      " [ 0.]\n",
      " [ 3.]\n",
      " [ 1.]\n",
      " [ 1.]\n",
      " [-2.]\n",
      " [-2.]\n",
      " [ 0.]\n",
      " [ 1.]\n",
      " [ 1.]\n",
      " [-3.]\n",
      " [ 2.]\n",
      " [ 2.]\n",
      " [-1.]\n",
      " [-3.]\n",
      " [ 0.]\n",
      " [ 1.]\n",
      " [-2.]\n",
      " [-3.]\n",
      " [-3.]\n",
      " [ 0.]\n",
      " [ 3.]\n",
      " [-1.]\n",
      " [ 3.]\n",
      " [ 2.]\n",
      " [-3.]\n",
      " [-1.]\n",
      " [-1.]\n",
      " [-1.]\n",
      " [ 3.]\n",
      " [ 1.]\n",
      " [ 2.]\n",
      " [ 2.]\n",
      " [-3.]\n",
      " [-1.]\n",
      " [-2.]\n",
      " [ 3.]\n",
      " [ 2.]\n",
      " [ 2.]\n",
      " [-1.]\n",
      " [ 0.]\n",
      " [ 0.]\n",
      " [ 1.]\n",
      " [ 3.]\n",
      " [ 0.]\n",
      " [-2.]\n",
      " [-1.]\n",
      " [-3.]\n",
      " [-1.]\n",
      " [ 2.]\n",
      " [ 0.]\n",
      " [ 0.]\n",
      " [ 2.]\n",
      " [ 1.]\n",
      " [-2.]\n",
      " [ 0.]\n",
      " [-2.]\n",
      " [-3.]\n",
      " [ 2.]\n",
      " [ 1.]\n",
      " [ 2.]\n",
      " [ 0.]\n",
      " [ 0.]\n",
      " [ 0.]\n",
      " [ 2.]\n",
      " [ 2.]\n",
      " [-1.]\n",
      " [-2.]\n",
      " [-1.]\n",
      " [ 2.]\n",
      " [ 1.]\n",
      " [ 3.]\n",
      " [ 2.]\n",
      " [ 3.]], shape=(100, 1), dtype=float32)\n",
      "tf.Tensor([-3.], shape=(1,), dtype=float32) tf.Tensor([3.], shape=(1,), dtype=float32)\n",
      "tf.Tensor(\n",
      "[[[0. 0. 1. 0. 0.]\n",
      "  [0. 0. 0. 1. 0.]\n",
      "  [0. 0. 0. 0. 1.]\n",
      "  [0. 0. 0. 0. 0.]\n",
      "  [0. 0. 0. 0. 0.]]\n",
      "\n",
      " [[0. 0. 0. 0. 0.]\n",
      "  [0. 0. 0. 0. 0.]\n",
      "  [0. 0. 0. 0. 0.]\n",
      "  [1. 0. 0. 0. 0.]\n",
      "  [0. 1. 0. 0. 0.]]\n",
      "\n",
      " [[0. 1. 0. 0. 0.]\n",
      "  [0. 0. 1. 0. 0.]\n",
      "  [0. 0. 0. 1. 0.]\n",
      "  [0. 0. 0. 0. 1.]\n",
      "  [0. 0. 0. 0. 0.]]\n",
      "\n",
      " ...\n",
      "\n",
      " [[0. 0. 0. 1. 0.]\n",
      "  [0. 0. 0. 0. 1.]\n",
      "  [0. 0. 0. 0. 0.]\n",
      "  [0. 0. 0. 0. 0.]\n",
      "  [0. 0. 0. 0. 0.]]\n",
      "\n",
      " [[0. 0. 1. 0. 0.]\n",
      "  [0. 0. 0. 1. 0.]\n",
      "  [0. 0. 0. 0. 1.]\n",
      "  [0. 0. 0. 0. 0.]\n",
      "  [0. 0. 0. 0. 0.]]\n",
      "\n",
      " [[0. 0. 0. 1. 0.]\n",
      "  [0. 0. 0. 0. 1.]\n",
      "  [0. 0. 0. 0. 0.]\n",
      "  [0. 0. 0. 0. 0.]\n",
      "  [0. 0. 0. 0. 0.]]], shape=(100, 5, 5), dtype=float32)\n"
     ]
    }
   ],
   "source": [
    "for mp, corr in ds.take(1):\n",
    "    print(mp)\n",
    "    print(min(mp), max(mp))\n",
    "    print(corr)"
   ]
  },
  {
   "cell_type": "code",
   "execution_count": 17,
   "metadata": {},
   "outputs": [],
   "source": [
    "layers = tf.keras.layers\n",
    "#dir(layers)"
   ]
  },
  {
   "cell_type": "code",
   "execution_count": 18,
   "metadata": {},
   "outputs": [],
   "source": [
    "regressor = tf.keras.Sequential([layers.Conv1D(3, 3),\n",
    "                             layers.Conv1D(1, 3),\n",
    "                             layers.Dense(1)])"
   ]
  },
  {
   "cell_type": "code",
   "execution_count": 19,
   "metadata": {},
   "outputs": [
    {
     "name": "stdout",
     "output_type": "stream",
     "text": [
      "WARNING:tensorflow:Layer conv1d is casting an input tensor from dtype float64 to the layer's dtype of float32, which is new behavior in TensorFlow 2.  The layer has dtype float32 because it's dtype defaults to floatx.\n",
      "\n",
      "If you intended to run this layer in float32, you can safely ignore this warning. If in doubt, this warning is likely only an issue if you are porting a TensorFlow 1.X model to TensorFlow 2.\n",
      "\n",
      "To change all layers to have dtype float64 by default, call `tf.keras.backend.set_floatx('float64')`. To change just this layer, pass dtype='float64' to the layer constructor. If you are the author of this layer, you can disable autocasting by passing autocast=False to the base Layer constructor.\n",
      "\n",
      "tf.Tensor(\n",
      "[[3.0086262]\n",
      " [3.0086262]\n",
      " [3.0086262]\n",
      " [3.0086262]\n",
      " [3.0086262]\n",
      " [3.0086262]\n",
      " [3.0086262]\n",
      " [3.0086262]\n",
      " [3.0086262]\n",
      " [3.0086262]\n",
      " [3.0086262]\n",
      " [3.0086262]\n",
      " [3.0086262]\n",
      " [3.0086262]\n",
      " [3.0086262]\n",
      " [3.0086262]], shape=(16, 1), dtype=float32)\n"
     ]
    }
   ],
   "source": [
    "pred = regressor(np.ones([16,5,5]))\n",
    "pred = tf.reshape(pred, [-1, 1])\n",
    "print(pred)"
   ]
  },
  {
   "cell_type": "code",
   "execution_count": 20,
   "metadata": {},
   "outputs": [
    {
     "name": "stdout",
     "output_type": "stream",
     "text": [
      "Model: \"sequential\"\n",
      "_________________________________________________________________\n",
      "Layer (type)                 Output Shape              Param #   \n",
      "=================================================================\n",
      "conv1d (Conv1D)              multiple                  48        \n",
      "_________________________________________________________________\n",
      "conv1d_1 (Conv1D)            multiple                  10        \n",
      "_________________________________________________________________\n",
      "dense (Dense)                multiple                  2         \n",
      "=================================================================\n",
      "Total params: 60\n",
      "Trainable params: 60\n",
      "Non-trainable params: 0\n",
      "_________________________________________________________________\n"
     ]
    }
   ],
   "source": [
    "regressor.summary()"
   ]
  },
  {
   "cell_type": "code",
   "execution_count": 21,
   "metadata": {},
   "outputs": [],
   "source": [
    "def loss_fn(pred, label):\n",
    "    loss = tf.sqrt(tf.pow(pred - label, 2))\n",
    "    loss_mean = tf.reduce_mean(loss)\n",
    "    return loss_mean"
   ]
  },
  {
   "cell_type": "code",
   "execution_count": 22,
   "metadata": {},
   "outputs": [
    {
     "name": "stdout",
     "output_type": "stream",
     "text": [
      "10 iter loss :  1.6490821\n",
      "20 iter loss :  1.6282789\n",
      "30 iter loss :  1.4059764\n",
      "40 iter loss :  1.4682002\n",
      "50 iter loss :  1.3607767\n",
      "60 iter loss :  1.3837875\n",
      "70 iter loss :  1.2364552\n",
      "80 iter loss :  1.3803214\n",
      "90 iter loss :  1.2270337\n",
      "100 iter loss :  1.1180118\n",
      "110 iter loss :  1.1233838\n",
      "120 iter loss :  0.8941784\n",
      "130 iter loss :  0.9344401\n",
      "140 iter loss :  0.9494345\n",
      "150 iter loss :  0.6427027\n",
      "160 iter loss :  0.6643688\n",
      "170 iter loss :  0.6914579\n",
      "180 iter loss :  0.5946195\n",
      "190 iter loss :  0.5097621\n",
      "200 iter loss :  0.57111204\n",
      "210 iter loss :  0.55393857\n",
      "220 iter loss :  0.4083116\n",
      "230 iter loss :  0.3914561\n",
      "240 iter loss :  0.5536093\n",
      "250 iter loss :  0.36904407\n",
      "260 iter loss :  0.40700957\n",
      "270 iter loss :  0.40685055\n",
      "280 iter loss :  0.38415188\n",
      "290 iter loss :  0.19547887\n",
      "300 iter loss :  0.33504242\n",
      "310 iter loss :  0.18891697\n",
      "320 iter loss :  0.24212442\n",
      "330 iter loss :  0.24854547\n",
      "340 iter loss :  0.18404011\n",
      "350 iter loss :  0.16429117\n",
      "360 iter loss :  0.109488174\n",
      "370 iter loss :  0.13701478\n",
      "380 iter loss :  0.120818\n",
      "390 iter loss :  0.12818952\n",
      "400 iter loss :  0.08994742\n",
      "410 iter loss :  0.075301595\n",
      "420 iter loss :  0.06298763\n",
      "430 iter loss :  0.042727675\n",
      "440 iter loss :  0.048801836\n",
      "450 iter loss :  0.058801576\n",
      "460 iter loss :  0.061275784\n",
      "470 iter loss :  0.023361437\n",
      "480 iter loss :  0.03480413\n",
      "490 iter loss :  0.033124283\n",
      "500 iter loss :  0.035177432\n",
      "510 iter loss :  0.048839785\n",
      "520 iter loss :  0.05175066\n",
      "530 iter loss :  0.038506903\n",
      "540 iter loss :  0.05920155\n",
      "550 iter loss :  0.053295497\n",
      "560 iter loss :  0.02471546\n",
      "570 iter loss :  0.029160608\n",
      "580 iter loss :  0.04615392\n",
      "590 iter loss :  0.044209834\n",
      "600 iter loss :  0.04176671\n",
      "610 iter loss :  0.05894317\n",
      "620 iter loss :  0.061254393\n",
      "630 iter loss :  0.05820482\n",
      "640 iter loss :  0.059826404\n",
      "650 iter loss :  0.056739993\n",
      "660 iter loss :  0.0493604\n",
      "670 iter loss :  0.052932736\n",
      "680 iter loss :  0.050503578\n",
      "690 iter loss :  0.07290837\n",
      "700 iter loss :  0.04662279\n",
      "710 iter loss :  0.05644012\n",
      "720 iter loss :  0.07632362\n",
      "730 iter loss :  0.038249064\n",
      "740 iter loss :  0.035647955\n",
      "750 iter loss :  0.055357944\n",
      "760 iter loss :  0.06271331\n",
      "770 iter loss :  0.06488932\n",
      "780 iter loss :  0.06978755\n",
      "790 iter loss :  0.049558707\n",
      "800 iter loss :  0.052419197\n",
      "810 iter loss :  0.03747331\n",
      "820 iter loss :  0.07750986\n",
      "830 iter loss :  0.062161908\n",
      "840 iter loss :  0.06146263\n",
      "850 iter loss :  0.064674184\n",
      "860 iter loss :  0.027606674\n",
      "870 iter loss :  0.05790485\n",
      "880 iter loss :  0.046471227\n",
      "890 iter loss :  0.04296831\n",
      "900 iter loss :  0.059818763\n",
      "910 iter loss :  0.02811127\n",
      "920 iter loss :  0.05241913\n",
      "930 iter loss :  0.05430079\n",
      "940 iter loss :  0.023462549\n",
      "950 iter loss :  0.042872448\n",
      "960 iter loss :  0.04283804\n",
      "970 iter loss :  0.03983075\n",
      "980 iter loss :  0.048912115\n",
      "990 iter loss :  0.026527744\n",
      "1000 iter loss :  0.035845652\n",
      "1010 iter loss :  0.022634828\n",
      "1020 iter loss :  0.05082016\n",
      "1030 iter loss :  0.037335176\n",
      "1040 iter loss :  0.03325595\n",
      "1050 iter loss :  0.040686656\n",
      "1060 iter loss :  0.055485215\n",
      "1070 iter loss :  0.056837507\n",
      "1080 iter loss :  0.059794847\n",
      "1090 iter loss :  0.067628294\n",
      "1100 iter loss :  0.035186388\n",
      "1110 iter loss :  0.032670643\n",
      "1120 iter loss :  0.029292336\n",
      "1130 iter loss :  0.029995615\n",
      "1140 iter loss :  0.021417899\n",
      "1150 iter loss :  0.04800297\n",
      "1160 iter loss :  0.052304916\n",
      "1170 iter loss :  0.013681548\n",
      "1180 iter loss :  0.044625875\n",
      "1190 iter loss :  0.03314739\n",
      "1200 iter loss :  0.03369667\n",
      "1210 iter loss :  0.061939433\n",
      "1220 iter loss :  0.03850176\n",
      "1230 iter loss :  0.041149236\n",
      "1240 iter loss :  0.046292096\n",
      "1250 iter loss :  0.045007974\n",
      "1260 iter loss :  0.053561654\n",
      "1270 iter loss :  0.05787117\n",
      "1280 iter loss :  0.058249217\n",
      "1290 iter loss :  0.062374577\n",
      "1300 iter loss :  0.059618324\n",
      "1310 iter loss :  0.048208214\n",
      "1320 iter loss :  0.053765822\n",
      "1330 iter loss :  0.05562828\n",
      "1340 iter loss :  0.0446416\n",
      "1350 iter loss :  0.04705235\n",
      "1360 iter loss :  0.049980335\n",
      "1370 iter loss :  0.04680421\n",
      "1380 iter loss :  0.043380298\n",
      "1390 iter loss :  0.04470291\n",
      "1400 iter loss :  0.049617328\n",
      "1410 iter loss :  0.030358624\n",
      "1420 iter loss :  0.025840197\n",
      "1430 iter loss :  0.023850825\n",
      "1440 iter loss :  0.04063157\n",
      "1450 iter loss :  0.04302223\n",
      "1460 iter loss :  0.04453462\n",
      "1470 iter loss :  0.042013742\n",
      "1480 iter loss :  0.035092674\n",
      "1490 iter loss :  0.056811657\n",
      "1500 iter loss :  0.03998077\n",
      "1510 iter loss :  0.035826568\n",
      "1520 iter loss :  0.014101382\n",
      "1530 iter loss :  0.059038125\n",
      "1540 iter loss :  0.04765346\n",
      "1550 iter loss :  0.053431172\n",
      "1560 iter loss :  0.051611573\n",
      "1570 iter loss :  0.0237274\n",
      "1580 iter loss :  0.035331424\n",
      "1590 iter loss :  0.04107848\n",
      "1600 iter loss :  0.020554729\n",
      "1610 iter loss :  0.040499803\n",
      "1620 iter loss :  0.032114074\n",
      "1630 iter loss :  0.04574071\n",
      "1640 iter loss :  0.025838342\n",
      "1650 iter loss :  0.02911037\n",
      "1660 iter loss :  0.024322085\n",
      "1670 iter loss :  0.05311842\n",
      "1680 iter loss :  0.059611417\n",
      "1690 iter loss :  0.05151147\n",
      "1700 iter loss :  0.036750067\n",
      "1710 iter loss :  0.04396216\n",
      "1720 iter loss :  0.037137054\n",
      "1730 iter loss :  0.042622585\n",
      "1740 iter loss :  0.04555895\n",
      "1750 iter loss :  0.04587431\n",
      "1760 iter loss :  0.052589893\n",
      "1770 iter loss :  0.051759344\n",
      "1780 iter loss :  0.030949779\n",
      "1790 iter loss :  0.041889105\n",
      "1800 iter loss :  0.048770297\n",
      "1810 iter loss :  0.049360007\n",
      "1820 iter loss :  0.04932167\n",
      "1830 iter loss :  0.03450486\n",
      "1840 iter loss :  0.06263475\n",
      "1850 iter loss :  0.0613286\n",
      "1860 iter loss :  0.045637812\n",
      "1870 iter loss :  0.014393095\n",
      "1880 iter loss :  0.05938113\n",
      "1890 iter loss :  0.04110065\n",
      "1900 iter loss :  0.03339639\n",
      "1910 iter loss :  0.03557207\n",
      "1920 iter loss :  0.03979433\n",
      "1930 iter loss :  0.029866362\n",
      "1940 iter loss :  0.028273208\n",
      "1950 iter loss :  0.031835742\n",
      "1960 iter loss :  0.035263978\n",
      "1970 iter loss :  0.05007555\n",
      "1980 iter loss :  0.04559226\n",
      "1990 iter loss :  0.072399236\n",
      "2000 iter loss :  0.05477675\n"
     ]
    }
   ],
   "source": [
    "i = 0\n",
    "x = []\n",
    "x_loss = []\n",
    "optimizer = tf.keras.optimizers.SGD(learning_rate=0.005)\n",
    "for epoch in range(2000):\n",
    "    i+= 1\n",
    "    x.append(i)\n",
    "    for mp, correlations in ds.take(1):\n",
    "        with tf.GradientTape() as tape:\n",
    "            pred = regressor(correlations)\n",
    "            pred = tf.reshape(pred, [-1, 1])\n",
    "            loss = loss_fn(pred, mp)\n",
    "            x_loss.append(loss)\n",
    "        gradients = tape.gradient(loss, regressor.trainable_variables)\n",
    "        optimizer.apply_gradients(zip(gradients, regressor.trainable_variables)) \n",
    "        if i % 10 == 0:\n",
    "            print(i, \"iter loss : \", loss.numpy())"
   ]
  },
  {
   "cell_type": "code",
   "execution_count": 23,
   "metadata": {},
   "outputs": [
    {
     "name": "stdout",
     "output_type": "stream",
     "text": [
      "[[[0. 0. 0. 1. 0.]\n",
      "  [0. 0. 0. 0. 1.]\n",
      "  [0. 0. 0. 0. 0.]\n",
      "  [0. 0. 0. 0. 0.]\n",
      "  [0. 0. 0. 0. 0.]]]\n"
     ]
    }
   ],
   "source": [
    "correlations = make_corr_map(3, (5,5))\n",
    "correlations = correlations[np.newaxis, :]\n",
    "print(correlations)"
   ]
  },
  {
   "cell_type": "code",
   "execution_count": 24,
   "metadata": {},
   "outputs": [
    {
     "name": "stdout",
     "output_type": "stream",
     "text": [
      "mp : -3\n",
      "correlation map : [[0. 0. 0. 0. 0.]\n",
      " [0. 0. 0. 0. 0.]\n",
      " [0. 0. 0. 0. 0.]\n",
      " [1. 0. 0. 0. 0.]\n",
      " [0. 1. 0. 0. 0.]]\n",
      "pred : [[[-2.9948997]]]\n",
      "mp : -2\n",
      "correlation map : [[0. 0. 0. 0. 0.]\n",
      " [0. 0. 0. 0. 0.]\n",
      " [1. 0. 0. 0. 0.]\n",
      " [0. 1. 0. 0. 0.]\n",
      " [0. 0. 1. 0. 0.]]\n",
      "pred : [[[-1.986789]]]\n",
      "mp : -1\n",
      "correlation map : [[0. 0. 0. 0. 0.]\n",
      " [1. 0. 0. 0. 0.]\n",
      " [0. 1. 0. 0. 0.]\n",
      " [0. 0. 1. 0. 0.]\n",
      " [0. 0. 0. 1. 0.]]\n",
      "pred : [[[-0.9848636]]]\n",
      "mp : 0\n",
      "correlation map : [[1. 0. 0. 0. 0.]\n",
      " [0. 1. 0. 0. 0.]\n",
      " [0. 0. 1. 0. 0.]\n",
      " [0. 0. 0. 1. 0.]\n",
      " [0. 0. 0. 0. 1.]]\n",
      "pred : [[[0.05496991]]]\n",
      "mp : 1\n",
      "correlation map : [[0. 1. 0. 0. 0.]\n",
      " [0. 0. 1. 0. 0.]\n",
      " [0. 0. 0. 1. 0.]\n",
      " [0. 0. 0. 0. 1.]\n",
      " [0. 0. 0. 0. 0.]]\n",
      "pred : [[[1.0475084]]]\n",
      "mp : 2\n",
      "correlation map : [[0. 0. 1. 0. 0.]\n",
      " [0. 0. 0. 1. 0.]\n",
      " [0. 0. 0. 0. 1.]\n",
      " [0. 0. 0. 0. 0.]\n",
      " [0. 0. 0. 0. 0.]]\n",
      "pred : [[[2.0361981]]]\n",
      "mp : 3\n",
      "correlation map : [[0. 0. 0. 1. 0.]\n",
      " [0. 0. 0. 0. 1.]\n",
      " [0. 0. 0. 0. 0.]\n",
      " [0. 0. 0. 0. 0.]\n",
      " [0. 0. 0. 0. 0.]]\n",
      "pred : [[[3.0452375]]]\n"
     ]
    }
   ],
   "source": [
    "for mp in range(-3, 4):\n",
    "    print(\"mp : {}\".format(mp))\n",
    "    correlations = make_corr_map(mp, (5,5))\n",
    "    print(\"correlation map : {}\".format(correlations))\n",
    "    correlations = correlations[np.newaxis, :]\n",
    "    print(\"pred : {}\".format(regressor(correlations)))"
   ]
  },
  {
   "cell_type": "markdown",
   "metadata": {},
   "source": [
    "# learned filter parameters of regressor."
   ]
  },
  {
   "cell_type": "code",
   "execution_count": 29,
   "metadata": {},
   "outputs": [
    {
     "name": "stdout",
     "output_type": "stream",
     "text": [
      "[array([[[-0.21616024, -0.07164529,  0.21611726],\n",
      "        [ 0.37597245,  0.2384891 ,  0.22775249],\n",
      "        [ 0.10117756,  0.28839284,  0.44226915],\n",
      "        [-0.62806594, -0.23552941,  0.2362742 ],\n",
      "        [-0.45106035, -0.01229509,  0.4347627 ]],\n",
      "\n",
      "       [[-0.14611712, -0.3896284 , -0.66714174],\n",
      "        [-0.20161796,  0.28394693, -0.03582788],\n",
      "        [-0.39788336,  0.06856236,  0.07409044],\n",
      "        [-0.38351083,  0.4414069 , -0.14925236],\n",
      "        [-0.63133943,  0.3627522 ,  0.7835112 ]],\n",
      "\n",
      "       [[ 0.54708415, -0.4560891 ,  0.32869297],\n",
      "        [-0.21942271, -0.013087  ,  0.19574928],\n",
      "        [-0.07999551, -0.3606549 , -0.18044701],\n",
      "        [-0.38389963,  0.04623661, -0.12682946],\n",
      "        [-0.6397276 ,  0.07513396,  0.1364916 ]]], dtype=float32), array([ 0.17347491, -0.03592874, -0.15595496], dtype=float32)]\n"
     ]
    }
   ],
   "source": [
    "print(regressor.layers[0].get_weights())"
   ]
  },
  {
   "cell_type": "code",
   "execution_count": 30,
   "metadata": {},
   "outputs": [
    {
     "name": "stdout",
     "output_type": "stream",
     "text": [
      "[array([[[-0.9272377 ],\n",
      "        [-0.18364951],\n",
      "        [ 0.7815141 ]],\n",
      "\n",
      "       [[-0.53639185],\n",
      "        [ 0.63799554],\n",
      "        [-0.08922239]],\n",
      "\n",
      "       [[ 0.49577883],\n",
      "        [ 0.0183778 ],\n",
      "        [ 0.3135811 ]]], dtype=float32), array([-0.18399233], dtype=float32)]\n"
     ]
    }
   ],
   "source": [
    "print(regressor.layers[1].get_weights())"
   ]
  },
  {
   "cell_type": "code",
   "execution_count": 31,
   "metadata": {},
   "outputs": [
    {
     "name": "stdout",
     "output_type": "stream",
     "text": [
      "[array([[1.9567003]], dtype=float32), array([-0.10689998], dtype=float32)]\n"
     ]
    }
   ],
   "source": [
    "print(regressor.layers[2].get_weights())"
   ]
  },
  {
   "cell_type": "code",
   "execution_count": 32,
   "metadata": {},
   "outputs": [
    {
     "name": "stdout",
     "output_type": "stream",
     "text": [
      "[[1.9567003]]\n"
     ]
    }
   ],
   "source": [
    "print(regressor.get_weights()[4])"
   ]
  },
  {
   "cell_type": "code",
   "execution_count": 33,
   "metadata": {},
   "outputs": [
    {
     "name": "stdout",
     "output_type": "stream",
     "text": [
      "[-0.10689998]\n"
     ]
    }
   ],
   "source": [
    "print(regressor.get_weights()[5])"
   ]
  },
  {
   "cell_type": "code",
   "execution_count": null,
   "metadata": {},
   "outputs": [],
   "source": []
  },
  {
   "cell_type": "code",
   "execution_count": null,
   "metadata": {},
   "outputs": [],
   "source": []
  },
  {
   "cell_type": "code",
   "execution_count": null,
   "metadata": {},
   "outputs": [],
   "source": []
  },
  {
   "cell_type": "code",
   "execution_count": null,
   "metadata": {},
   "outputs": [],
   "source": []
  },
  {
   "cell_type": "code",
   "execution_count": null,
   "metadata": {},
   "outputs": [],
   "source": []
  },
  {
   "cell_type": "code",
   "execution_count": null,
   "metadata": {},
   "outputs": [],
   "source": []
  }
 ],
 "metadata": {
  "kernelspec": {
   "display_name": "Python 3",
   "language": "python",
   "name": "python3"
  },
  "language_info": {
   "codemirror_mode": {
    "name": "ipython",
    "version": 3
   },
   "file_extension": ".py",
   "mimetype": "text/x-python",
   "name": "python",
   "nbconvert_exporter": "python",
   "pygments_lexer": "ipython3",
   "version": "3.6.9"
  }
 },
 "nbformat": 4,
 "nbformat_minor": 4
}

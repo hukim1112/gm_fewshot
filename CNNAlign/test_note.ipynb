{
 "cells": [
  {
   "cell_type": "code",
   "execution_count": 1,
   "metadata": {},
   "outputs": [],
   "source": [
    "import json, os\n",
    "import argparse\n",
    "import tensorflow as tf\n",
    "import numpy as np\n",
    "from matplotlib import pyplot as plt\n",
    "\n",
    "from data_loader import load_data\n",
    "from models.cnn_geo import CNN_geo\n",
    "\n",
    "from test_codes import data, train, visualize\n",
    "from utils import image\n",
    "import geo_transform as tps\n",
    "import CNNgeo_debug"
   ]
  },
  {
   "cell_type": "markdown",
   "metadata": {},
   "source": [
    "# 1. Read configuration file"
   ]
  },
  {
   "cell_type": "code",
   "execution_count": 2,
   "metadata": {},
   "outputs": [],
   "source": [
    "with open('overfit.json') as fp:\n",
    "    config = json.load(fp)\n",
    "split = 'val'"
   ]
  },
  {
   "cell_type": "code",
   "execution_count": 3,
   "metadata": {},
   "outputs": [],
   "source": [
    "#data.synthesize_image_pair(config, split)"
   ]
  },
  {
   "cell_type": "code",
   "execution_count": 4,
   "metadata": {},
   "outputs": [
    {
     "name": "stdout",
     "output_type": "stream",
     "text": [
      "{'n_examples': 1, 'learning_rate': 0.0001, 'batch_size': 1, 'epochs': 200, 'print_step': 10}\n"
     ]
    }
   ],
   "source": [
    "print(config['train'])"
   ]
  },
  {
   "cell_type": "code",
   "execution_count": 5,
   "metadata": {},
   "outputs": [
    {
     "name": "stdout",
     "output_type": "stream",
     "text": [
      "backbone :  prototypical_network\n",
      "n_examples :  1\n",
      "learning_rate :  0.0001\n",
      "batch_size :  1\n",
      "epoch num :  200\n"
     ]
    }
   ],
   "source": [
    "print(\"backbone : \", config['backbone'])\n",
    "print(\"n_examples : \", config['train']['n_examples'])\n",
    "print(\"learning_rate : \", config['train']['learning_rate'])\n",
    "print(\"batch_size : \", config['train']['batch_size'])\n",
    "print(\"epoch num : \", config['train']['epochs'])"
   ]
  },
  {
   "cell_type": "markdown",
   "metadata": {},
   "source": [
    "# 2. Train model on the config parameters"
   ]
  },
  {
   "cell_type": "code",
   "execution_count": 6,
   "metadata": {},
   "outputs": [
    {
     "name": "stdout",
     "output_type": "stream",
     "text": [
      "train dataset amount : 1\n",
      "val dataset amount : 1\n",
      "start of epoch 1\n",
      "Training loss (for one batch) at step 0: 0.5269014239311218\n",
      "Epoch 1, Loss: 0.5269014239311218, Val Loss: 0.7749291658401489\n",
      "end of epoch.\n",
      "start of epoch 2\n",
      "Training loss (for one batch) at step 0: 0.715226411819458\n",
      "Epoch 2, Loss: 0.715226411819458, Val Loss: 0.4036211669445038\n",
      "end of epoch.\n",
      "start of epoch 3\n",
      "Training loss (for one batch) at step 0: 0.5578649640083313\n",
      "Epoch 3, Loss: 0.5578649640083313, Val Loss: 0.6289108991622925\n",
      "end of epoch.\n",
      "start of epoch 4\n",
      "Training loss (for one batch) at step 0: 0.5323413014411926\n",
      "Epoch 4, Loss: 0.5323413014411926, Val Loss: 0.5529035925865173\n",
      "end of epoch.\n",
      "start of epoch 5\n",
      "Training loss (for one batch) at step 0: 0.4974164068698883\n",
      "Epoch 5, Loss: 0.4974164068698883, Val Loss: 0.5739873051643372\n",
      "end of epoch.\n",
      "start of epoch 6\n",
      "Training loss (for one batch) at step 0: 0.3967697024345398\n",
      "Epoch 6, Loss: 0.3967697024345398, Val Loss: 0.5400347709655762\n",
      "end of epoch.\n",
      "start of epoch 7\n",
      "Training loss (for one batch) at step 0: 0.5054359436035156\n",
      "Epoch 7, Loss: 0.5054359436035156, Val Loss: 0.6045471429824829\n",
      "end of epoch.\n",
      "start of epoch 8\n",
      "Training loss (for one batch) at step 0: 0.3751567602157593\n",
      "Epoch 8, Loss: 0.3751567602157593, Val Loss: 0.49396318197250366\n",
      "end of epoch.\n",
      "start of epoch 9\n",
      "Training loss (for one batch) at step 0: 0.5101161003112793\n",
      "Epoch 9, Loss: 0.5101161003112793, Val Loss: 0.48659297823905945\n",
      "end of epoch.\n",
      "start of epoch 10\n",
      "Training loss (for one batch) at step 0: 0.5104100108146667\n",
      "Epoch 10, Loss: 0.5104100108146667, Val Loss: 0.6430047154426575\n",
      "end of epoch.\n",
      "start of epoch 11\n",
      "Training loss (for one batch) at step 0: 0.43551281094551086\n",
      "Epoch 11, Loss: 0.43551281094551086, Val Loss: 0.628293514251709\n",
      "end of epoch.\n",
      "start of epoch 12\n",
      "Training loss (for one batch) at step 0: 0.5118529200553894\n",
      "Epoch 12, Loss: 0.5118529200553894, Val Loss: 0.4622349143028259\n",
      "end of epoch.\n",
      "start of epoch 13\n",
      "Training loss (for one batch) at step 0: 0.5273834466934204\n",
      "Epoch 13, Loss: 0.5273834466934204, Val Loss: 0.49926769733428955\n",
      "end of epoch.\n",
      "start of epoch 14\n",
      "Training loss (for one batch) at step 0: 0.5874099135398865\n",
      "Epoch 14, Loss: 0.5874099135398865, Val Loss: 0.6016894578933716\n",
      "end of epoch.\n",
      "start of epoch 15\n",
      "Training loss (for one batch) at step 0: 0.5716029405593872\n",
      "Epoch 15, Loss: 0.5716029405593872, Val Loss: 0.4629743993282318\n",
      "end of epoch.\n",
      "start of epoch 16\n",
      "Training loss (for one batch) at step 0: 0.4433361291885376\n",
      "Epoch 16, Loss: 0.4433361291885376, Val Loss: 0.5167422294616699\n",
      "end of epoch.\n",
      "start of epoch 17\n",
      "Training loss (for one batch) at step 0: 0.4819676876068115\n",
      "Epoch 17, Loss: 0.4819676876068115, Val Loss: 0.4993758499622345\n",
      "end of epoch.\n",
      "start of epoch 18\n",
      "Training loss (for one batch) at step 0: 0.49777382612228394\n",
      "Epoch 18, Loss: 0.49777382612228394, Val Loss: 0.5494852066040039\n",
      "end of epoch.\n",
      "start of epoch 19\n",
      "Training loss (for one batch) at step 0: 0.4282355010509491\n",
      "Epoch 19, Loss: 0.4282355010509491, Val Loss: 0.5638890266418457\n",
      "end of epoch.\n",
      "start of epoch 20\n",
      "Training loss (for one batch) at step 0: 0.5239999294281006\n",
      "Epoch 20, Loss: 0.5239999294281006, Val Loss: 0.4215390384197235\n",
      "end of epoch.\n",
      "start of epoch 21\n",
      "Training loss (for one batch) at step 0: 0.5006903409957886\n",
      "Epoch 21, Loss: 0.5006903409957886, Val Loss: 0.5088334083557129\n",
      "end of epoch.\n",
      "start of epoch 22\n",
      "Training loss (for one batch) at step 0: 0.5541536211967468\n",
      "Epoch 22, Loss: 0.5541536211967468, Val Loss: 0.5362567901611328\n",
      "end of epoch.\n",
      "start of epoch 23\n",
      "Training loss (for one batch) at step 0: 0.4508519172668457\n",
      "Epoch 23, Loss: 0.4508519172668457, Val Loss: 0.5288719534873962\n",
      "end of epoch.\n",
      "start of epoch 24\n",
      "Training loss (for one batch) at step 0: 0.5113418102264404\n",
      "Epoch 24, Loss: 0.5113418102264404, Val Loss: 0.5201544761657715\n",
      "end of epoch.\n",
      "start of epoch 25\n",
      "Training loss (for one batch) at step 0: 0.4770021140575409\n",
      "Epoch 25, Loss: 0.4770021140575409, Val Loss: 0.4902992248535156\n",
      "end of epoch.\n",
      "start of epoch 26\n",
      "Training loss (for one batch) at step 0: 0.4802236258983612\n",
      "Epoch 26, Loss: 0.4802236258983612, Val Loss: 0.4820114076137543\n",
      "end of epoch.\n",
      "start of epoch 27\n",
      "Training loss (for one batch) at step 0: 0.5556811094284058\n",
      "Epoch 27, Loss: 0.5556811094284058, Val Loss: 0.438747376203537\n",
      "end of epoch.\n",
      "start of epoch 28\n",
      "Training loss (for one batch) at step 0: 0.5095069408416748\n",
      "Epoch 28, Loss: 0.5095069408416748, Val Loss: 0.4417790174484253\n",
      "end of epoch.\n",
      "start of epoch 29\n",
      "Training loss (for one batch) at step 0: 0.4281501770019531\n",
      "Epoch 29, Loss: 0.4281501770019531, Val Loss: 0.4409448206424713\n",
      "end of epoch.\n",
      "start of epoch 30\n",
      "Training loss (for one batch) at step 0: 0.40573978424072266\n",
      "Epoch 30, Loss: 0.40573978424072266, Val Loss: 0.5422976016998291\n",
      "end of epoch.\n",
      "start of epoch 31\n",
      "Training loss (for one batch) at step 0: 0.5167158246040344\n",
      "Epoch 31, Loss: 0.5167158246040344, Val Loss: 0.565668523311615\n",
      "end of epoch.\n",
      "start of epoch 32\n",
      "Training loss (for one batch) at step 0: 0.5094308257102966\n",
      "Epoch 32, Loss: 0.5094308257102966, Val Loss: 0.4490157961845398\n",
      "end of epoch.\n",
      "start of epoch 33\n",
      "Training loss (for one batch) at step 0: 0.5163100361824036\n",
      "Epoch 33, Loss: 0.5163100361824036, Val Loss: 0.49593913555145264\n",
      "end of epoch.\n",
      "start of epoch 34\n",
      "Training loss (for one batch) at step 0: 0.5294963717460632\n",
      "Epoch 34, Loss: 0.5294963717460632, Val Loss: 0.4224162995815277\n",
      "end of epoch.\n",
      "start of epoch 35\n",
      "Training loss (for one batch) at step 0: 0.5020123720169067\n",
      "Epoch 35, Loss: 0.5020123720169067, Val Loss: 0.44339704513549805\n",
      "end of epoch.\n",
      "start of epoch 36\n",
      "Training loss (for one batch) at step 0: 0.48840978741645813\n",
      "Epoch 36, Loss: 0.48840978741645813, Val Loss: 0.4981359541416168\n",
      "end of epoch.\n",
      "start of epoch 37\n",
      "Training loss (for one batch) at step 0: 0.4868108034133911\n",
      "Epoch 37, Loss: 0.4868108034133911, Val Loss: 0.44256290793418884\n",
      "end of epoch.\n",
      "start of epoch 38\n",
      "Training loss (for one batch) at step 0: 0.5692199468612671\n",
      "Epoch 38, Loss: 0.5692199468612671, Val Loss: 0.4029831290245056\n",
      "end of epoch.\n",
      "start of epoch 39\n",
      "Training loss (for one batch) at step 0: 0.5551632046699524\n",
      "Epoch 39, Loss: 0.5551632046699524, Val Loss: 0.3794501721858978\n",
      "end of epoch.\n",
      "start of epoch 40\n",
      "Training loss (for one batch) at step 0: 0.4681151211261749\n",
      "Epoch 40, Loss: 0.4681151211261749, Val Loss: 0.5205737352371216\n",
      "end of epoch.\n",
      "start of epoch 41\n",
      "Training loss (for one batch) at step 0: 0.46551719307899475\n",
      "Epoch 41, Loss: 0.46551719307899475, Val Loss: 0.4603278338909149\n",
      "end of epoch.\n",
      "start of epoch 42\n",
      "Training loss (for one batch) at step 0: 0.4213627874851227\n",
      "Epoch 42, Loss: 0.4213627874851227, Val Loss: 0.55074542760849\n",
      "end of epoch.\n",
      "start of epoch 43\n",
      "Training loss (for one batch) at step 0: 0.41483551263809204\n",
      "Epoch 43, Loss: 0.41483551263809204, Val Loss: 0.5603309869766235\n",
      "end of epoch.\n",
      "start of epoch 44\n",
      "Training loss (for one batch) at step 0: 0.4576532542705536\n",
      "Epoch 44, Loss: 0.4576532542705536, Val Loss: 0.5548051595687866\n",
      "end of epoch.\n",
      "start of epoch 45\n",
      "Training loss (for one batch) at step 0: 0.49044710397720337\n",
      "Epoch 45, Loss: 0.49044710397720337, Val Loss: 0.4364546239376068\n",
      "end of epoch.\n",
      "start of epoch 46\n",
      "Training loss (for one batch) at step 0: 0.521520733833313\n",
      "Epoch 46, Loss: 0.521520733833313, Val Loss: 0.5007668733596802\n",
      "end of epoch.\n",
      "start of epoch 47\n",
      "Training loss (for one batch) at step 0: 0.541323184967041\n",
      "Epoch 47, Loss: 0.541323184967041, Val Loss: 0.3733174800872803\n",
      "end of epoch.\n",
      "start of epoch 48\n",
      "Training loss (for one batch) at step 0: 0.5547927618026733\n",
      "Epoch 48, Loss: 0.5547927618026733, Val Loss: 0.4821491539478302\n",
      "end of epoch.\n",
      "start of epoch 49\n",
      "Training loss (for one batch) at step 0: 0.561686098575592\n",
      "Epoch 49, Loss: 0.561686098575592, Val Loss: 0.4840056002140045\n",
      "end of epoch.\n",
      "start of epoch 50\n",
      "Training loss (for one batch) at step 0: 0.5134667754173279\n",
      "Epoch 50, Loss: 0.5134667754173279, Val Loss: 0.4674226939678192\n",
      "end of epoch.\n",
      "start of epoch 51\n",
      "Training loss (for one batch) at step 0: 0.5004489421844482\n",
      "Epoch 51, Loss: 0.5004489421844482, Val Loss: 0.4065186679363251\n",
      "end of epoch.\n",
      "start of epoch 52\n",
      "Training loss (for one batch) at step 0: 0.4253985285758972\n",
      "Epoch 52, Loss: 0.4253985285758972, Val Loss: 0.5168464779853821\n",
      "end of epoch.\n",
      "start of epoch 53\n"
     ]
    },
    {
     "name": "stdout",
     "output_type": "stream",
     "text": [
      "Training loss (for one batch) at step 0: 0.46519508957862854\n",
      "Epoch 53, Loss: 0.46519508957862854, Val Loss: 0.5611709356307983\n",
      "end of epoch.\n",
      "start of epoch 54\n",
      "Training loss (for one batch) at step 0: 0.501920759677887\n",
      "Epoch 54, Loss: 0.501920759677887, Val Loss: 0.4766653776168823\n",
      "end of epoch.\n",
      "start of epoch 55\n",
      "Training loss (for one batch) at step 0: 0.49348753690719604\n",
      "Epoch 55, Loss: 0.49348753690719604, Val Loss: 0.4697376489639282\n",
      "end of epoch.\n",
      "start of epoch 56\n",
      "Training loss (for one batch) at step 0: 0.4486994743347168\n",
      "Epoch 56, Loss: 0.4486994743347168, Val Loss: 0.44428765773773193\n",
      "end of epoch.\n",
      "start of epoch 57\n",
      "Training loss (for one batch) at step 0: 0.46767187118530273\n",
      "Epoch 57, Loss: 0.46767187118530273, Val Loss: 0.5167337656021118\n",
      "end of epoch.\n",
      "start of epoch 58\n",
      "Training loss (for one batch) at step 0: 0.4476330578327179\n",
      "Epoch 58, Loss: 0.4476330578327179, Val Loss: 0.4414568543434143\n",
      "end of epoch.\n",
      "start of epoch 59\n",
      "Training loss (for one batch) at step 0: 0.48982521891593933\n",
      "Epoch 59, Loss: 0.48982521891593933, Val Loss: 0.48095154762268066\n",
      "end of epoch.\n",
      "start of epoch 60\n",
      "Training loss (for one batch) at step 0: 0.429226815700531\n",
      "Epoch 60, Loss: 0.429226815700531, Val Loss: 0.5654833316802979\n",
      "end of epoch.\n",
      "start of epoch 61\n",
      "Training loss (for one batch) at step 0: 0.4745676815509796\n",
      "Epoch 61, Loss: 0.4745676815509796, Val Loss: 0.4778123199939728\n",
      "end of epoch.\n",
      "start of epoch 62\n",
      "Training loss (for one batch) at step 0: 0.5121181011199951\n",
      "Epoch 62, Loss: 0.5121181011199951, Val Loss: 0.49108952283859253\n",
      "end of epoch.\n",
      "start of epoch 63\n",
      "Training loss (for one batch) at step 0: 0.43218111991882324\n",
      "Epoch 63, Loss: 0.43218111991882324, Val Loss: 0.43336403369903564\n",
      "end of epoch.\n",
      "start of epoch 64\n",
      "Training loss (for one batch) at step 0: 0.42804139852523804\n",
      "Epoch 64, Loss: 0.42804139852523804, Val Loss: 0.4835139811038971\n",
      "end of epoch.\n",
      "start of epoch 65\n",
      "Training loss (for one batch) at step 0: 0.5030574202537537\n",
      "Epoch 65, Loss: 0.5030574202537537, Val Loss: 0.5415273904800415\n",
      "end of epoch.\n",
      "start of epoch 66\n",
      "Training loss (for one batch) at step 0: 0.5120285749435425\n",
      "Epoch 66, Loss: 0.5120285749435425, Val Loss: 0.45219340920448303\n",
      "end of epoch.\n",
      "start of epoch 67\n",
      "Training loss (for one batch) at step 0: 0.42002901434898376\n",
      "Epoch 67, Loss: 0.42002901434898376, Val Loss: 0.4822598397731781\n",
      "end of epoch.\n",
      "start of epoch 68\n",
      "Training loss (for one batch) at step 0: 0.4571123719215393\n",
      "Epoch 68, Loss: 0.4571123719215393, Val Loss: 0.5714046955108643\n",
      "end of epoch.\n",
      "start of epoch 69\n",
      "Training loss (for one batch) at step 0: 0.4527391493320465\n",
      "Epoch 69, Loss: 0.4527391493320465, Val Loss: 0.5262282490730286\n",
      "end of epoch.\n",
      "start of epoch 70\n",
      "Training loss (for one batch) at step 0: 0.5149999856948853\n",
      "Epoch 70, Loss: 0.5149999856948853, Val Loss: 0.4440668523311615\n",
      "end of epoch.\n",
      "start of epoch 71\n",
      "Training loss (for one batch) at step 0: 0.47154855728149414\n",
      "Epoch 71, Loss: 0.47154855728149414, Val Loss: 0.5655714869499207\n",
      "end of epoch.\n",
      "start of epoch 72\n",
      "Training loss (for one batch) at step 0: 0.49097776412963867\n",
      "Epoch 72, Loss: 0.49097776412963867, Val Loss: 0.4014168679714203\n",
      "end of epoch.\n",
      "start of epoch 73\n",
      "Training loss (for one batch) at step 0: 0.48345398902893066\n",
      "Epoch 73, Loss: 0.48345398902893066, Val Loss: 0.5269697904586792\n",
      "end of epoch.\n",
      "start of epoch 74\n",
      "Training loss (for one batch) at step 0: 0.5064405202865601\n",
      "Epoch 74, Loss: 0.5064405202865601, Val Loss: 0.5087222456932068\n",
      "end of epoch.\n",
      "start of epoch 75\n",
      "Training loss (for one batch) at step 0: 0.5463261008262634\n",
      "Epoch 75, Loss: 0.5463261008262634, Val Loss: 0.46913936734199524\n",
      "end of epoch.\n",
      "start of epoch 76\n",
      "Training loss (for one batch) at step 0: 0.5421178340911865\n",
      "Epoch 76, Loss: 0.5421178340911865, Val Loss: 0.3629661798477173\n",
      "end of epoch.\n",
      "start of epoch 77\n",
      "Training loss (for one batch) at step 0: 0.5159066319465637\n",
      "Epoch 77, Loss: 0.5159066319465637, Val Loss: 0.46749430894851685\n",
      "end of epoch.\n",
      "start of epoch 78\n",
      "Training loss (for one batch) at step 0: 0.4835704267024994\n",
      "Epoch 78, Loss: 0.4835704267024994, Val Loss: 0.4983205795288086\n",
      "end of epoch.\n",
      "start of epoch 79\n",
      "Training loss (for one batch) at step 0: 0.3951728045940399\n",
      "Epoch 79, Loss: 0.3951728045940399, Val Loss: 0.6097140312194824\n",
      "end of epoch.\n",
      "start of epoch 80\n",
      "Training loss (for one batch) at step 0: 0.49792414903640747\n",
      "Epoch 80, Loss: 0.49792414903640747, Val Loss: 0.44711628556251526\n",
      "end of epoch.\n",
      "start of epoch 81\n",
      "Training loss (for one batch) at step 0: 0.5215444564819336\n",
      "Epoch 81, Loss: 0.5215444564819336, Val Loss: 0.4253547191619873\n",
      "end of epoch.\n",
      "start of epoch 82\n",
      "Training loss (for one batch) at step 0: 0.5131394267082214\n",
      "Epoch 82, Loss: 0.5131394267082214, Val Loss: 0.45981064438819885\n",
      "end of epoch.\n",
      "start of epoch 83\n",
      "Training loss (for one batch) at step 0: 0.39671117067337036\n",
      "Epoch 83, Loss: 0.39671117067337036, Val Loss: 0.5075840353965759\n",
      "end of epoch.\n",
      "start of epoch 84\n",
      "Training loss (for one batch) at step 0: 0.47574734687805176\n",
      "Epoch 84, Loss: 0.47574734687805176, Val Loss: 0.43232086300849915\n",
      "end of epoch.\n",
      "start of epoch 85\n",
      "Training loss (for one batch) at step 0: 0.5367454290390015\n",
      "Epoch 85, Loss: 0.5367454290390015, Val Loss: 0.3287305235862732\n",
      "end of epoch.\n",
      "start of epoch 86\n",
      "Training loss (for one batch) at step 0: 0.531755268573761\n",
      "Epoch 86, Loss: 0.531755268573761, Val Loss: 0.5109216570854187\n",
      "end of epoch.\n",
      "start of epoch 87\n",
      "Training loss (for one batch) at step 0: 0.5930182933807373\n",
      "Epoch 87, Loss: 0.5930182933807373, Val Loss: 0.5321998596191406\n",
      "end of epoch.\n",
      "start of epoch 88\n",
      "Training loss (for one batch) at step 0: 0.5805703997612\n",
      "Epoch 88, Loss: 0.5805703997612, Val Loss: 0.5175549387931824\n",
      "end of epoch.\n",
      "start of epoch 89\n",
      "Training loss (for one batch) at step 0: 0.5195314288139343\n",
      "Epoch 89, Loss: 0.5195314288139343, Val Loss: 0.5494283437728882\n",
      "end of epoch.\n",
      "start of epoch 90\n",
      "Training loss (for one batch) at step 0: 0.3961814045906067\n",
      "Epoch 90, Loss: 0.3961814045906067, Val Loss: 0.5027857422828674\n",
      "end of epoch.\n",
      "start of epoch 91\n",
      "Training loss (for one batch) at step 0: 0.49452492594718933\n",
      "Epoch 91, Loss: 0.49452492594718933, Val Loss: 0.5851383805274963\n",
      "end of epoch.\n",
      "start of epoch 92\n",
      "Training loss (for one batch) at step 0: 0.5420427322387695\n",
      "Epoch 92, Loss: 0.5420427322387695, Val Loss: 0.31961172819137573\n",
      "end of epoch.\n",
      "start of epoch 93\n",
      "Training loss (for one batch) at step 0: 0.3852297365665436\n",
      "Epoch 93, Loss: 0.3852297365665436, Val Loss: 0.41102391481399536\n",
      "end of epoch.\n",
      "start of epoch 94\n",
      "Training loss (for one batch) at step 0: 0.5560398697853088\n",
      "Epoch 94, Loss: 0.5560398697853088, Val Loss: 0.5436760783195496\n",
      "end of epoch.\n",
      "start of epoch 95\n",
      "Training loss (for one batch) at step 0: 0.5519192218780518\n",
      "Epoch 95, Loss: 0.5519192218780518, Val Loss: 0.4550500512123108\n",
      "end of epoch.\n",
      "start of epoch 96\n",
      "Training loss (for one batch) at step 0: 0.5017258524894714\n",
      "Epoch 96, Loss: 0.5017258524894714, Val Loss: 0.5565529465675354\n",
      "end of epoch.\n",
      "start of epoch 97\n",
      "Training loss (for one batch) at step 0: 0.4914347231388092\n",
      "Epoch 97, Loss: 0.4914347231388092, Val Loss: 0.559053361415863\n",
      "end of epoch.\n",
      "start of epoch 98\n",
      "Training loss (for one batch) at step 0: 0.5190461874008179\n",
      "Epoch 98, Loss: 0.5190461874008179, Val Loss: 0.49200305342674255\n",
      "end of epoch.\n",
      "start of epoch 99\n",
      "Training loss (for one batch) at step 0: 0.5566187500953674\n",
      "Epoch 99, Loss: 0.5566187500953674, Val Loss: 0.36468857526779175\n",
      "end of epoch.\n",
      "start of epoch 100\n",
      "Training loss (for one batch) at step 0: 0.4609159231185913\n",
      "Epoch 100, Loss: 0.4609159231185913, Val Loss: 0.5058208703994751\n",
      "end of epoch.\n",
      "start of epoch 101\n",
      "Training loss (for one batch) at step 0: 0.48067551851272583\n",
      "Epoch 101, Loss: 0.48067551851272583, Val Loss: 0.5616493821144104\n",
      "end of epoch.\n",
      "start of epoch 102\n",
      "Training loss (for one batch) at step 0: 0.4553193747997284\n",
      "Epoch 102, Loss: 0.4553193747997284, Val Loss: 0.5686956644058228\n",
      "end of epoch.\n",
      "start of epoch 103\n",
      "Training loss (for one batch) at step 0: 0.4959399998188019\n",
      "Epoch 103, Loss: 0.4959399998188019, Val Loss: 0.49326974153518677\n",
      "end of epoch.\n",
      "start of epoch 104\n",
      "Training loss (for one batch) at step 0: 0.5956160426139832\n",
      "Epoch 104, Loss: 0.5956160426139832, Val Loss: 0.46439170837402344\n",
      "end of epoch.\n",
      "start of epoch 105\n"
     ]
    },
    {
     "name": "stdout",
     "output_type": "stream",
     "text": [
      "Training loss (for one batch) at step 0: 0.47357791662216187\n",
      "Epoch 105, Loss: 0.47357791662216187, Val Loss: 0.4622414708137512\n",
      "end of epoch.\n",
      "start of epoch 106\n",
      "Training loss (for one batch) at step 0: 0.5525209307670593\n",
      "Epoch 106, Loss: 0.5525209307670593, Val Loss: 0.48053592443466187\n",
      "end of epoch.\n",
      "start of epoch 107\n",
      "Training loss (for one batch) at step 0: 0.5349808931350708\n",
      "Epoch 107, Loss: 0.5349808931350708, Val Loss: 0.43186503648757935\n",
      "end of epoch.\n",
      "start of epoch 108\n",
      "Training loss (for one batch) at step 0: 0.47738829255104065\n",
      "Epoch 108, Loss: 0.47738829255104065, Val Loss: 0.47811195254325867\n",
      "end of epoch.\n",
      "start of epoch 109\n",
      "Training loss (for one batch) at step 0: 0.4447453022003174\n",
      "Epoch 109, Loss: 0.4447453022003174, Val Loss: 0.5073279738426208\n",
      "end of epoch.\n",
      "start of epoch 110\n",
      "Training loss (for one batch) at step 0: 0.46767356991767883\n",
      "Epoch 110, Loss: 0.46767356991767883, Val Loss: 0.5184729099273682\n",
      "end of epoch.\n",
      "start of epoch 111\n",
      "Training loss (for one batch) at step 0: 0.4739636480808258\n",
      "Epoch 111, Loss: 0.4739636480808258, Val Loss: 0.5145137906074524\n",
      "end of epoch.\n",
      "start of epoch 112\n",
      "Training loss (for one batch) at step 0: 0.507064700126648\n",
      "Epoch 112, Loss: 0.507064700126648, Val Loss: 0.42595911026000977\n",
      "end of epoch.\n",
      "start of epoch 113\n",
      "Training loss (for one batch) at step 0: 0.4540402889251709\n",
      "Epoch 113, Loss: 0.4540402889251709, Val Loss: 0.5521323084831238\n",
      "end of epoch.\n",
      "start of epoch 114\n",
      "Training loss (for one batch) at step 0: 0.4864868223667145\n",
      "Epoch 114, Loss: 0.4864868223667145, Val Loss: 0.5618675947189331\n",
      "end of epoch.\n",
      "start of epoch 115\n",
      "Training loss (for one batch) at step 0: 0.4955454468727112\n",
      "Epoch 115, Loss: 0.4955454468727112, Val Loss: 0.45653897523880005\n",
      "end of epoch.\n",
      "start of epoch 116\n",
      "Training loss (for one batch) at step 0: 0.4926340878009796\n",
      "Epoch 116, Loss: 0.4926340878009796, Val Loss: 0.5444363951683044\n",
      "end of epoch.\n",
      "start of epoch 117\n",
      "Training loss (for one batch) at step 0: 0.4811158776283264\n",
      "Epoch 117, Loss: 0.4811158776283264, Val Loss: 0.46176770329475403\n",
      "end of epoch.\n",
      "start of epoch 118\n",
      "Training loss (for one batch) at step 0: 0.47888681292533875\n",
      "Epoch 118, Loss: 0.47888681292533875, Val Loss: 0.4424816071987152\n",
      "end of epoch.\n",
      "start of epoch 119\n",
      "Training loss (for one batch) at step 0: 0.5052240490913391\n",
      "Epoch 119, Loss: 0.5052240490913391, Val Loss: 0.5075007677078247\n",
      "end of epoch.\n",
      "start of epoch 120\n",
      "Training loss (for one batch) at step 0: 0.5146700143814087\n",
      "Epoch 120, Loss: 0.5146700143814087, Val Loss: 0.5248193740844727\n",
      "end of epoch.\n",
      "start of epoch 121\n",
      "Training loss (for one batch) at step 0: 0.3924948573112488\n",
      "Epoch 121, Loss: 0.3924948573112488, Val Loss: 0.5542029142379761\n",
      "end of epoch.\n",
      "start of epoch 122\n",
      "Training loss (for one batch) at step 0: 0.4160524904727936\n",
      "Epoch 122, Loss: 0.4160524904727936, Val Loss: 0.5051466226577759\n",
      "end of epoch.\n",
      "start of epoch 123\n",
      "Training loss (for one batch) at step 0: 0.5304230451583862\n",
      "Epoch 123, Loss: 0.5304230451583862, Val Loss: 0.4529224634170532\n",
      "end of epoch.\n",
      "start of epoch 124\n",
      "Training loss (for one batch) at step 0: 0.532605767250061\n",
      "Epoch 124, Loss: 0.532605767250061, Val Loss: 0.546238362789154\n",
      "end of epoch.\n",
      "start of epoch 125\n",
      "Training loss (for one batch) at step 0: 0.5041497945785522\n",
      "Epoch 125, Loss: 0.5041497945785522, Val Loss: 0.37825992703437805\n",
      "end of epoch.\n",
      "start of epoch 126\n",
      "Training loss (for one batch) at step 0: 0.5780582427978516\n",
      "Epoch 126, Loss: 0.5780582427978516, Val Loss: 0.4311048686504364\n",
      "end of epoch.\n",
      "start of epoch 127\n",
      "Training loss (for one batch) at step 0: 0.550823986530304\n",
      "Epoch 127, Loss: 0.550823986530304, Val Loss: 0.5667786002159119\n",
      "end of epoch.\n",
      "start of epoch 128\n",
      "Training loss (for one batch) at step 0: 0.542971670627594\n",
      "Epoch 128, Loss: 0.542971670627594, Val Loss: 0.44750064611434937\n",
      "end of epoch.\n",
      "start of epoch 129\n",
      "Training loss (for one batch) at step 0: 0.5437045693397522\n",
      "Epoch 129, Loss: 0.5437045693397522, Val Loss: 0.44165363907814026\n",
      "end of epoch.\n",
      "start of epoch 130\n",
      "Training loss (for one batch) at step 0: 0.4427977204322815\n",
      "Epoch 130, Loss: 0.4427977204322815, Val Loss: 0.5943838953971863\n",
      "end of epoch.\n",
      "start of epoch 131\n",
      "Training loss (for one batch) at step 0: 0.40387409925460815\n",
      "Epoch 131, Loss: 0.40387409925460815, Val Loss: 0.45111948251724243\n",
      "end of epoch.\n",
      "start of epoch 132\n",
      "Training loss (for one batch) at step 0: 0.4968501031398773\n",
      "Epoch 132, Loss: 0.4968501031398773, Val Loss: 0.5257313847541809\n",
      "end of epoch.\n",
      "start of epoch 133\n",
      "Training loss (for one batch) at step 0: 0.4286819398403168\n",
      "Epoch 133, Loss: 0.4286819398403168, Val Loss: 0.4382176995277405\n",
      "end of epoch.\n",
      "start of epoch 134\n",
      "Training loss (for one batch) at step 0: 0.4984605312347412\n",
      "Epoch 134, Loss: 0.4984605312347412, Val Loss: 0.3987235426902771\n",
      "end of epoch.\n",
      "start of epoch 135\n",
      "Training loss (for one batch) at step 0: 0.4305291771888733\n",
      "Epoch 135, Loss: 0.4305291771888733, Val Loss: 0.49944308400154114\n",
      "end of epoch.\n",
      "start of epoch 136\n",
      "Training loss (for one batch) at step 0: 0.5436112880706787\n",
      "Epoch 136, Loss: 0.5436112880706787, Val Loss: 0.5262007713317871\n",
      "end of epoch.\n",
      "start of epoch 137\n",
      "Training loss (for one batch) at step 0: 0.5152850151062012\n",
      "Epoch 137, Loss: 0.5152850151062012, Val Loss: 0.42575839161872864\n",
      "end of epoch.\n",
      "start of epoch 138\n",
      "Training loss (for one batch) at step 0: 0.5149479508399963\n",
      "Epoch 138, Loss: 0.5149479508399963, Val Loss: 0.5160310864448547\n",
      "end of epoch.\n",
      "start of epoch 139\n",
      "Training loss (for one batch) at step 0: 0.4859611392021179\n",
      "Epoch 139, Loss: 0.4859611392021179, Val Loss: 0.5101882815361023\n",
      "end of epoch.\n",
      "start of epoch 140\n",
      "Training loss (for one batch) at step 0: 0.47837892174720764\n",
      "Epoch 140, Loss: 0.47837892174720764, Val Loss: 0.46302250027656555\n",
      "end of epoch.\n",
      "start of epoch 141\n",
      "Training loss (for one batch) at step 0: 0.5199214816093445\n",
      "Epoch 141, Loss: 0.5199214816093445, Val Loss: 0.46087175607681274\n",
      "end of epoch.\n",
      "start of epoch 142\n",
      "Training loss (for one batch) at step 0: 0.46902430057525635\n",
      "Epoch 142, Loss: 0.46902430057525635, Val Loss: 0.5290696620941162\n",
      "end of epoch.\n",
      "start of epoch 143\n",
      "Training loss (for one batch) at step 0: 0.42323023080825806\n",
      "Epoch 143, Loss: 0.42323023080825806, Val Loss: 0.4371417462825775\n",
      "end of epoch.\n",
      "start of epoch 144\n",
      "Training loss (for one batch) at step 0: 0.5193554759025574\n",
      "Epoch 144, Loss: 0.5193554759025574, Val Loss: 0.5365204215049744\n",
      "end of epoch.\n",
      "start of epoch 145\n",
      "Training loss (for one batch) at step 0: 0.3781280219554901\n",
      "Epoch 145, Loss: 0.3781280219554901, Val Loss: 0.4383094608783722\n",
      "end of epoch.\n",
      "start of epoch 146\n",
      "Training loss (for one batch) at step 0: 0.4347541630268097\n",
      "Epoch 146, Loss: 0.4347541630268097, Val Loss: 0.5809178948402405\n",
      "end of epoch.\n",
      "start of epoch 147\n",
      "Training loss (for one batch) at step 0: 0.4806267023086548\n",
      "Epoch 147, Loss: 0.4806267023086548, Val Loss: 0.4215293824672699\n",
      "end of epoch.\n",
      "start of epoch 148\n",
      "Training loss (for one batch) at step 0: 0.45138347148895264\n",
      "Epoch 148, Loss: 0.45138347148895264, Val Loss: 0.43835559487342834\n",
      "end of epoch.\n",
      "start of epoch 149\n",
      "Training loss (for one batch) at step 0: 0.5484862923622131\n",
      "Epoch 149, Loss: 0.5484862923622131, Val Loss: 0.46630045771598816\n",
      "end of epoch.\n",
      "start of epoch 150\n",
      "Training loss (for one batch) at step 0: 0.5262317061424255\n",
      "Epoch 150, Loss: 0.5262317061424255, Val Loss: 0.44020965695381165\n",
      "end of epoch.\n",
      "start of epoch 151\n",
      "Training loss (for one batch) at step 0: 0.5045648813247681\n",
      "Epoch 151, Loss: 0.5045648813247681, Val Loss: 0.5408666729927063\n",
      "end of epoch.\n",
      "start of epoch 152\n",
      "Training loss (for one batch) at step 0: 0.46748748421669006\n",
      "Epoch 152, Loss: 0.46748748421669006, Val Loss: 0.537412703037262\n",
      "end of epoch.\n",
      "start of epoch 153\n",
      "Training loss (for one batch) at step 0: 0.42648792266845703\n",
      "Epoch 153, Loss: 0.42648792266845703, Val Loss: 0.4969466030597687\n",
      "end of epoch.\n",
      "start of epoch 154\n",
      "Training loss (for one batch) at step 0: 0.4741244316101074\n",
      "Epoch 154, Loss: 0.4741244316101074, Val Loss: 0.4092445373535156\n",
      "end of epoch.\n",
      "start of epoch 155\n",
      "Training loss (for one batch) at step 0: 0.4494040310382843\n",
      "Epoch 155, Loss: 0.4494040310382843, Val Loss: 0.4859471023082733\n",
      "end of epoch.\n",
      "start of epoch 156\n",
      "Training loss (for one batch) at step 0: 0.4912213087081909\n",
      "Epoch 156, Loss: 0.4912213087081909, Val Loss: 0.5002410411834717\n",
      "end of epoch.\n"
     ]
    },
    {
     "name": "stdout",
     "output_type": "stream",
     "text": [
      "start of epoch 157\n",
      "Training loss (for one batch) at step 0: 0.49112555384635925\n",
      "Epoch 157, Loss: 0.49112555384635925, Val Loss: 0.4842923879623413\n",
      "end of epoch.\n",
      "start of epoch 158\n",
      "Training loss (for one batch) at step 0: 0.46645963191986084\n",
      "Epoch 158, Loss: 0.46645963191986084, Val Loss: 0.4693552851676941\n",
      "end of epoch.\n",
      "start of epoch 159\n",
      "Training loss (for one batch) at step 0: 0.4518025517463684\n",
      "Epoch 159, Loss: 0.4518025517463684, Val Loss: 0.33397388458251953\n",
      "end of epoch.\n",
      "start of epoch 160\n",
      "Training loss (for one batch) at step 0: 0.5069593787193298\n",
      "Epoch 160, Loss: 0.5069593787193298, Val Loss: 0.5164391994476318\n",
      "end of epoch.\n",
      "start of epoch 161\n",
      "Training loss (for one batch) at step 0: 0.5233302116394043\n",
      "Epoch 161, Loss: 0.5233302116394043, Val Loss: 0.4951077997684479\n",
      "end of epoch.\n",
      "start of epoch 162\n",
      "Training loss (for one batch) at step 0: 0.47186529636383057\n",
      "Epoch 162, Loss: 0.47186529636383057, Val Loss: 0.531333327293396\n",
      "end of epoch.\n",
      "start of epoch 163\n",
      "Training loss (for one batch) at step 0: 0.43666064739227295\n",
      "Epoch 163, Loss: 0.43666064739227295, Val Loss: 0.4351661205291748\n",
      "end of epoch.\n",
      "start of epoch 164\n",
      "Training loss (for one batch) at step 0: 0.3767108917236328\n",
      "Epoch 164, Loss: 0.3767108917236328, Val Loss: 0.4579043686389923\n",
      "end of epoch.\n",
      "start of epoch 165\n",
      "Training loss (for one batch) at step 0: 0.4922742247581482\n",
      "Epoch 165, Loss: 0.4922742247581482, Val Loss: 0.50732421875\n",
      "end of epoch.\n",
      "start of epoch 166\n",
      "Training loss (for one batch) at step 0: 0.47425520420074463\n",
      "Epoch 166, Loss: 0.47425520420074463, Val Loss: 0.5447528958320618\n",
      "end of epoch.\n",
      "start of epoch 167\n",
      "Training loss (for one batch) at step 0: 0.528862714767456\n",
      "Epoch 167, Loss: 0.528862714767456, Val Loss: 0.4540173411369324\n",
      "end of epoch.\n",
      "start of epoch 168\n",
      "Training loss (for one batch) at step 0: 0.5291665196418762\n",
      "Epoch 168, Loss: 0.5291665196418762, Val Loss: 0.5505629181861877\n",
      "end of epoch.\n",
      "start of epoch 169\n",
      "Training loss (for one batch) at step 0: 0.5442298054695129\n",
      "Epoch 169, Loss: 0.5442298054695129, Val Loss: 0.4603535830974579\n",
      "end of epoch.\n",
      "start of epoch 170\n",
      "Training loss (for one batch) at step 0: 0.45177602767944336\n",
      "Epoch 170, Loss: 0.45177602767944336, Val Loss: 0.6163440942764282\n",
      "end of epoch.\n",
      "start of epoch 171\n",
      "Training loss (for one batch) at step 0: 0.41702020168304443\n",
      "Epoch 171, Loss: 0.41702020168304443, Val Loss: 0.5656536221504211\n",
      "end of epoch.\n",
      "start of epoch 172\n",
      "Training loss (for one batch) at step 0: 0.5000671148300171\n",
      "Epoch 172, Loss: 0.5000671148300171, Val Loss: 0.5425004363059998\n",
      "end of epoch.\n",
      "start of epoch 173\n",
      "Training loss (for one batch) at step 0: 0.5829436779022217\n",
      "Epoch 173, Loss: 0.5829436779022217, Val Loss: 0.4870201647281647\n",
      "end of epoch.\n",
      "start of epoch 174\n",
      "Training loss (for one batch) at step 0: 0.41198623180389404\n",
      "Epoch 174, Loss: 0.41198623180389404, Val Loss: 0.4511227011680603\n",
      "end of epoch.\n",
      "start of epoch 175\n",
      "Training loss (for one batch) at step 0: 0.5075304508209229\n",
      "Epoch 175, Loss: 0.5075304508209229, Val Loss: 0.4347458779811859\n",
      "end of epoch.\n",
      "start of epoch 176\n",
      "Training loss (for one batch) at step 0: 0.5355980396270752\n",
      "Epoch 176, Loss: 0.5355980396270752, Val Loss: 0.4700891673564911\n",
      "end of epoch.\n",
      "start of epoch 177\n",
      "Training loss (for one batch) at step 0: 0.4272809624671936\n",
      "Epoch 177, Loss: 0.4272809624671936, Val Loss: 0.5442841649055481\n",
      "end of epoch.\n",
      "start of epoch 178\n",
      "Training loss (for one batch) at step 0: 0.48453760147094727\n",
      "Epoch 178, Loss: 0.48453760147094727, Val Loss: 0.4784570634365082\n",
      "end of epoch.\n",
      "start of epoch 179\n",
      "Training loss (for one batch) at step 0: 0.4070338010787964\n",
      "Epoch 179, Loss: 0.4070338010787964, Val Loss: 0.5021987557411194\n",
      "end of epoch.\n",
      "start of epoch 180\n",
      "Training loss (for one batch) at step 0: 0.4707968533039093\n",
      "Epoch 180, Loss: 0.4707968533039093, Val Loss: 0.5213241577148438\n",
      "end of epoch.\n",
      "start of epoch 181\n",
      "Training loss (for one batch) at step 0: 0.5029398202896118\n",
      "Epoch 181, Loss: 0.5029398202896118, Val Loss: 0.47087362408638\n",
      "end of epoch.\n",
      "start of epoch 182\n",
      "Training loss (for one batch) at step 0: 0.5141209363937378\n",
      "Epoch 182, Loss: 0.5141209363937378, Val Loss: 0.5373615026473999\n",
      "end of epoch.\n",
      "start of epoch 183\n",
      "Training loss (for one batch) at step 0: 0.4995582401752472\n",
      "Epoch 183, Loss: 0.4995582401752472, Val Loss: 0.4563876986503601\n",
      "end of epoch.\n",
      "start of epoch 184\n",
      "Training loss (for one batch) at step 0: 0.5316937565803528\n",
      "Epoch 184, Loss: 0.5316937565803528, Val Loss: 0.5950884819030762\n",
      "end of epoch.\n",
      "start of epoch 185\n",
      "Training loss (for one batch) at step 0: 0.4747968316078186\n",
      "Epoch 185, Loss: 0.4747968316078186, Val Loss: 0.49777570366859436\n",
      "end of epoch.\n",
      "start of epoch 186\n",
      "Training loss (for one batch) at step 0: 0.4899621605873108\n",
      "Epoch 186, Loss: 0.4899621605873108, Val Loss: 0.44120901823043823\n",
      "end of epoch.\n",
      "start of epoch 187\n",
      "Training loss (for one batch) at step 0: 0.4070487916469574\n",
      "Epoch 187, Loss: 0.4070487916469574, Val Loss: 0.40479329228401184\n",
      "end of epoch.\n",
      "start of epoch 188\n",
      "Training loss (for one batch) at step 0: 0.4812038838863373\n",
      "Epoch 188, Loss: 0.4812038838863373, Val Loss: 0.5087353587150574\n",
      "end of epoch.\n",
      "start of epoch 189\n",
      "Training loss (for one batch) at step 0: 0.46035680174827576\n",
      "Epoch 189, Loss: 0.46035680174827576, Val Loss: 0.5407677888870239\n",
      "end of epoch.\n",
      "start of epoch 190\n",
      "Training loss (for one batch) at step 0: 0.5199979543685913\n",
      "Epoch 190, Loss: 0.5199979543685913, Val Loss: 0.5254613757133484\n",
      "end of epoch.\n",
      "start of epoch 191\n",
      "Training loss (for one batch) at step 0: 0.498676061630249\n",
      "Epoch 191, Loss: 0.498676061630249, Val Loss: 0.5365434885025024\n",
      "end of epoch.\n",
      "start of epoch 192\n",
      "Training loss (for one batch) at step 0: 0.45283007621765137\n",
      "Epoch 192, Loss: 0.45283007621765137, Val Loss: 0.5144640803337097\n",
      "end of epoch.\n",
      "start of epoch 193\n",
      "Training loss (for one batch) at step 0: 0.4308825433254242\n",
      "Epoch 193, Loss: 0.4308825433254242, Val Loss: 0.4647035002708435\n",
      "end of epoch.\n",
      "start of epoch 194\n",
      "Training loss (for one batch) at step 0: 0.48411253094673157\n",
      "Epoch 194, Loss: 0.48411253094673157, Val Loss: 0.42766469717025757\n",
      "end of epoch.\n",
      "start of epoch 195\n",
      "Training loss (for one batch) at step 0: 0.458211213350296\n",
      "Epoch 195, Loss: 0.458211213350296, Val Loss: 0.5405395030975342\n",
      "end of epoch.\n",
      "start of epoch 196\n",
      "Training loss (for one batch) at step 0: 0.562159538269043\n",
      "Epoch 196, Loss: 0.562159538269043, Val Loss: 0.4893978238105774\n",
      "end of epoch.\n",
      "start of epoch 197\n",
      "Training loss (for one batch) at step 0: 0.5079291462898254\n",
      "Epoch 197, Loss: 0.5079291462898254, Val Loss: 0.5271187424659729\n",
      "end of epoch.\n",
      "start of epoch 198\n",
      "Training loss (for one batch) at step 0: 0.47673723101615906\n",
      "Epoch 198, Loss: 0.47673723101615906, Val Loss: 0.4466743767261505\n",
      "end of epoch.\n",
      "start of epoch 199\n",
      "Training loss (for one batch) at step 0: 0.41768908500671387\n",
      "Epoch 199, Loss: 0.41768908500671387, Val Loss: 0.4686413109302521\n",
      "end of epoch.\n",
      "start of epoch 200\n",
      "Training loss (for one batch) at step 0: 0.6311713457107544\n",
      "Epoch 200, Loss: 0.6311713457107544, Val Loss: 0.49527499079704285\n",
      "end of epoch.\n",
      "Checkpoint directory :  checkpoints/CNNgeo/200507_regressor_filter_size_up\n",
      "Tensorboard log directory :  logs/CNNgeo/200507_regressor_filter_size_up\n"
     ]
    }
   ],
   "source": [
    "model = CNNgeo_debug.train(config)"
   ]
  },
  {
   "cell_type": "code",
   "execution_count": 7,
   "metadata": {},
   "outputs": [
    {
     "name": "stdout",
     "output_type": "stream",
     "text": [
      "Model: \"cnn_geo\"\n",
      "_________________________________________________________________\n",
      "Layer (type)                 Output Shape              Param #   \n",
      "=================================================================\n",
      "feature__extractor (Feature_ multiple                  113600    \n",
      "_________________________________________________________________\n",
      "correlation_network (Correla multiple                  0         \n",
      "_________________________________________________________________\n",
      "spatial_transformer_regresso multiple                  875250    \n",
      "=================================================================\n",
      "Total params: 988,850\n",
      "Trainable params: 988,146\n",
      "Non-trainable params: 704\n",
      "_________________________________________________________________\n"
     ]
    }
   ],
   "source": [
    "model.summary()"
   ]
  },
  {
   "cell_type": "markdown",
   "metadata": {},
   "source": [
    "# 3. Debug codes"
   ]
  },
  {
   "cell_type": "code",
   "execution_count": 8,
   "metadata": {},
   "outputs": [
    {
     "name": "stdout",
     "output_type": "stream",
     "text": [
      "train dataset amount : 1\n"
     ]
    }
   ],
   "source": [
    "datasets = load_data(['train'], config)\n",
    "ds = datasets['train'].batch(1)"
   ]
  },
  {
   "cell_type": "code",
   "execution_count": 9,
   "metadata": {},
   "outputs": [],
   "source": [
    "for image_A, image_B, parameters in ds.take(1):\n",
    "    image_A = image_A.numpy()\n",
    "    image_B = image_B.numpy()\n",
    "    parameters = parameters.numpy()\n",
    "#image_B_hat = np.ones([1, 64, 64, 3])\n",
    "pred, score = model(image_A, image_B)"
   ]
  },
  {
   "cell_type": "code",
   "execution_count": 10,
   "metadata": {},
   "outputs": [
    {
     "name": "stdout",
     "output_type": "stream",
     "text": [
      "parameter shape (1, 9, 2)\n",
      "score shape (1, 16, 16, 16, 16)\n",
      "(1, 64, 64, 3)\n"
     ]
    }
   ],
   "source": [
    "print(\"parameter shape\", pred.shape)\n",
    "print(\"score shape\", score.shape)\n",
    "print(image_A.shape)"
   ]
  },
  {
   "cell_type": "markdown",
   "metadata": {},
   "source": [
    "## a. 모델은 이미지쌍(image A, image B)으로부터 모션 파라미터를 추정할 수 있는가?"
   ]
  },
  {
   "cell_type": "markdown",
   "metadata": {},
   "source": [
    "### 반복 시행 1"
   ]
  },
  {
   "cell_type": "code",
   "execution_count": 11,
   "metadata": {},
   "outputs": [
    {
     "name": "stderr",
     "output_type": "stream",
     "text": [
      "Clipping input data to the valid range for imshow with RGB data ([0..1] for floats or [0..255] for integers).\n",
      "Clipping input data to the valid range for imshow with RGB data ([0..1] for floats or [0..255] for integers).\n",
      "Clipping input data to the valid range for imshow with RGB data ([0..1] for floats or [0..255] for integers).\n"
     ]
    },
    {
     "name": "stdout",
     "output_type": "stream",
     "text": [
      "compare gt : [[[ 0.19611864 -0.02307992]\n",
      "  [-0.01024594  0.03063712]\n",
      "  [-0.09282384 -0.14448085]\n",
      "  [-0.0686265   0.17128597]\n",
      "  [-0.15695858  0.12388706]\n",
      "  [ 0.05125523  0.04517775]\n",
      "  [-0.11686831 -0.03918872]\n",
      "  [-0.09176145 -0.17600946]\n",
      "  [-0.10682102  0.14731316]]] and \n",
      " pred : [[[-2.4072535e-03 -9.0930127e-03]\n",
      "  [ 1.4617535e-03 -3.8682455e-03]\n",
      "  [-6.5323855e-03 -4.5474651e-03]\n",
      "  [-5.6508416e-03 -3.0796244e-03]\n",
      "  [ 1.8529876e-03 -8.7467779e-05]\n",
      "  [ 6.9364128e-03  2.9860234e-03]\n",
      "  [ 3.8716884e-04 -5.5144075e-03]\n",
      "  [-9.1101769e-03  1.2079231e-02]\n",
      "  [ 4.5047654e-03  1.5200063e-02]]]\n",
      "loss : [0.11680326]\n"
     ]
    },
    {
     "data": {
      "image/png": "[encoded data removed]",
      "text/plain": [
       "<Figure size 432x288 with 3 Axes>"
      ]
     },
     "metadata": {
      "needs_background": "light"
     },
     "output_type": "display_data"
    }
   ],
   "source": [
    "for image_A, image_B, parameters in ds.take(1):\n",
    "    image_A = image_A.numpy()\n",
    "    image_B = image_B.numpy()\n",
    "    parameters = parameters.numpy()\n",
    "pred, score = model(image_A, image_B)\n",
    "\n",
    "print(\"compare gt : {} and \\n pred : {}\".format(parameters, pred))\n",
    "loss = tf.reduce_sum(tf.keras.losses.MSE(pred, parameters), axis=1)\n",
    "print(\"loss : {}\".format(loss))\n",
    "\n",
    "pred = pred.numpy()\n",
    "image_C = list(map(lambda x : image.synthesize_image(x[0], x[1], (64, 64), bbox=None, pad_ratio=None),\n",
    "                   zip(image_A.copy(), pred.copy())))    \n",
    "image_C = np.array(image_C)\n",
    "visualize.show_TPS_image([image_A, image_B, image_C], [np.ones_like(parameters), parameters, pred])    \n",
    "\n",
    "pred1 = pred.copy()"
   ]
  },
  {
   "cell_type": "markdown",
   "metadata": {},
   "source": [
    "### 반복 시행 2"
   ]
  },
  {
   "cell_type": "code",
   "execution_count": 12,
   "metadata": {},
   "outputs": [
    {
     "name": "stderr",
     "output_type": "stream",
     "text": [
      "Clipping input data to the valid range for imshow with RGB data ([0..1] for floats or [0..255] for integers).\n",
      "Clipping input data to the valid range for imshow with RGB data ([0..1] for floats or [0..255] for integers).\n",
      "Clipping input data to the valid range for imshow with RGB data ([0..1] for floats or [0..255] for integers).\n"
     ]
    },
    {
     "name": "stdout",
     "output_type": "stream",
     "text": [
      "compare gt : [[[ 0.05396786 -0.10380717]\n",
      "  [ 0.17526951  0.13246565]\n",
      "  [-0.0595448   0.17768626]\n",
      "  [ 0.17957373 -0.15041314]\n",
      "  [-0.14101505 -0.05108123]\n",
      "  [ 0.06160669 -0.03258157]\n",
      "  [-0.04100981  0.09489093]\n",
      "  [-0.18683425  0.12009239]\n",
      "  [-0.1803679   0.08219047]]] and \n",
      " pred : [[[-2.4072535e-03 -9.0930127e-03]\n",
      "  [ 1.4617535e-03 -3.8682455e-03]\n",
      "  [-6.5323855e-03 -4.5474651e-03]\n",
      "  [-5.6508416e-03 -3.0796244e-03]\n",
      "  [ 1.8529876e-03 -8.7467779e-05]\n",
      "  [ 6.9364128e-03  2.9860234e-03]\n",
      "  [ 3.8716884e-04 -5.5144075e-03]\n",
      "  [-9.1101769e-03  1.2079231e-02]\n",
      "  [ 4.5047654e-03  1.5200063e-02]]]\n",
      "loss : [0.13697925]\n"
     ]
    },
    {
     "data": {
      "image/png": "[encoded data removed]",
      "text/plain": [
       "<Figure size 432x288 with 3 Axes>"
      ]
     },
     "metadata": {
      "needs_background": "light"
     },
     "output_type": "display_data"
    }
   ],
   "source": [
    "for image_A, image_B, parameters in ds.take(1):\n",
    "    image_A = image_A.numpy()\n",
    "    image_B = image_B.numpy()\n",
    "    parameters = parameters.numpy()\n",
    "pred, score = model(image_A, image_B)\n",
    "\n",
    "print(\"compare gt : {} and \\n pred : {}\".format(parameters, pred))\n",
    "loss = tf.reduce_sum(tf.keras.losses.MSE(pred, parameters), axis=1)\n",
    "print(\"loss : {}\".format(loss))\n",
    "\n",
    "pred = pred.numpy()\n",
    "image_C = list(map(lambda x : image.synthesize_image(x[0], x[1], (64, 64), bbox=None, pad_ratio=None),\n",
    "                   zip(image_A.copy(), pred.copy())))    \n",
    "image_C = np.array(image_C)\n",
    "visualize.show_TPS_image([image_A, image_B, image_C], [np.ones_like(parameters), parameters, pred])    \n",
    "\n",
    "pred2 = pred.copy()"
   ]
  },
  {
   "cell_type": "markdown",
   "metadata": {},
   "source": [
    "### Garbage image B"
   ]
  },
  {
   "cell_type": "code",
   "execution_count": 13,
   "metadata": {},
   "outputs": [
    {
     "name": "stdout",
     "output_type": "stream",
     "text": [
      "WARNING:tensorflow:Layer feature__extractor is casting an input tensor from dtype float64 to the layer's dtype of float32, which is new behavior in TensorFlow 2.  The layer has dtype float32 because it's dtype defaults to floatx.\n",
      "\n",
      "If you intended to run this layer in float32, you can safely ignore this warning. If in doubt, this warning is likely only an issue if you are porting a TensorFlow 1.X model to TensorFlow 2.\n",
      "\n",
      "To change all layers to have dtype float64 by default, call `tf.keras.backend.set_floatx('float64')`. To change just this layer, pass dtype='float64' to the layer constructor. If you are the author of this layer, you can disable autocasting by passing autocast=False to the base Layer constructor.\n",
      "\n"
     ]
    },
    {
     "name": "stderr",
     "output_type": "stream",
     "text": [
      "Clipping input data to the valid range for imshow with RGB data ([0..1] for floats or [0..255] for integers).\n",
      "Clipping input data to the valid range for imshow with RGB data ([0..1] for floats or [0..255] for integers).\n",
      "Clipping input data to the valid range for imshow with RGB data ([0..1] for floats or [0..255] for integers).\n"
     ]
    },
    {
     "name": "stdout",
     "output_type": "stream",
     "text": [
      "compare gt : [[[ 0.05396786 -0.10380717]\n",
      "  [ 0.17526951  0.13246565]\n",
      "  [-0.0595448   0.17768626]\n",
      "  [ 0.17957373 -0.15041314]\n",
      "  [-0.14101505 -0.05108123]\n",
      "  [ 0.06160669 -0.03258157]\n",
      "  [-0.04100981  0.09489093]\n",
      "  [-0.18683425  0.12009239]\n",
      "  [-0.1803679   0.08219047]]] and \n",
      " pred : [[[-2.4072535e-03 -9.0930127e-03]\n",
      "  [ 1.4617535e-03 -3.8682455e-03]\n",
      "  [-6.5323855e-03 -4.5474651e-03]\n",
      "  [-5.6508416e-03 -3.0796244e-03]\n",
      "  [ 1.8529876e-03 -8.7467779e-05]\n",
      "  [ 6.9364128e-03  2.9860234e-03]\n",
      "  [ 3.8716884e-04 -5.5144075e-03]\n",
      "  [-9.1101769e-03  1.2079231e-02]\n",
      "  [ 4.5047654e-03  1.5200063e-02]]]\n",
      "loss : [0.13697925]\n"
     ]
    },
    {
     "data": {
      "image/png": "[encoded data removed]",
      "text/plain": [
       "<Figure size 432x288 with 3 Axes>"
      ]
     },
     "metadata": {
      "needs_background": "light"
     },
     "output_type": "display_data"
    }
   ],
   "source": [
    "image_B = np.ones([1, 64, 64, 3])\n",
    "pred, score = model(image_A, image_B)\n",
    "\n",
    "print(\"compare gt : {} and \\n pred : {}\".format(parameters, pred))\n",
    "loss = tf.reduce_sum(tf.keras.losses.MSE(pred, parameters), axis=1)\n",
    "print(\"loss : {}\".format(loss))\n",
    "\n",
    "pred = pred.numpy()\n",
    "image_C = list(map(lambda x : image.synthesize_image(x[0], x[1], (64, 64), bbox=None, pad_ratio=None),\n",
    "                   zip(image_A.copy(), pred.copy())))    \n",
    "image_C = np.array(image_C)\n",
    "visualize.show_TPS_image([image_A, image_B, image_C], [np.ones_like(parameters), parameters, pred])    \n",
    "\n",
    "pred3 = pred.copy()"
   ]
  },
  {
   "cell_type": "code",
   "execution_count": 14,
   "metadata": {},
   "outputs": [
    {
     "name": "stdout",
     "output_type": "stream",
     "text": [
      "[[[-2.4072535e-03 -9.0930127e-03]\n",
      "  [ 1.4617535e-03 -3.8682455e-03]\n",
      "  [-6.5323855e-03 -4.5474651e-03]\n",
      "  [-5.6508416e-03 -3.0796244e-03]\n",
      "  [ 1.8529876e-03 -8.7467779e-05]\n",
      "  [ 6.9364128e-03  2.9860234e-03]\n",
      "  [ 3.8716884e-04 -5.5144075e-03]\n",
      "  [-9.1101769e-03  1.2079231e-02]\n",
      "  [ 4.5047654e-03  1.5200063e-02]]] \n",
      " [[[-2.4072535e-03 -9.0930127e-03]\n",
      "  [ 1.4617535e-03 -3.8682455e-03]\n",
      "  [-6.5323855e-03 -4.5474651e-03]\n",
      "  [-5.6508416e-03 -3.0796244e-03]\n",
      "  [ 1.8529876e-03 -8.7467779e-05]\n",
      "  [ 6.9364128e-03  2.9860234e-03]\n",
      "  [ 3.8716884e-04 -5.5144075e-03]\n",
      "  [-9.1101769e-03  1.2079231e-02]\n",
      "  [ 4.5047654e-03  1.5200063e-02]]] \n",
      " [[[-2.4072535e-03 -9.0930127e-03]\n",
      "  [ 1.4617535e-03 -3.8682455e-03]\n",
      "  [-6.5323855e-03 -4.5474651e-03]\n",
      "  [-5.6508416e-03 -3.0796244e-03]\n",
      "  [ 1.8529876e-03 -8.7467779e-05]\n",
      "  [ 6.9364128e-03  2.9860234e-03]\n",
      "  [ 3.8716884e-04 -5.5144075e-03]\n",
      "  [-9.1101769e-03  1.2079231e-02]\n",
      "  [ 4.5047654e-03  1.5200063e-02]]]\n"
     ]
    }
   ],
   "source": [
    "print(pred1, \"\\n\", pred2, \"\\n\", pred3)"
   ]
  },
  {
   "cell_type": "code",
   "execution_count": 15,
   "metadata": {},
   "outputs": [
    {
     "name": "stdout",
     "output_type": "stream",
     "text": [
      "Model: \"cnn_geo\"\n",
      "_________________________________________________________________\n",
      "Layer (type)                 Output Shape              Param #   \n",
      "=================================================================\n",
      "feature__extractor (Feature_ multiple                  113600    \n",
      "_________________________________________________________________\n",
      "correlation_network (Correla multiple                  0         \n",
      "_________________________________________________________________\n",
      "spatial_transformer_regresso multiple                  875250    \n",
      "=================================================================\n",
      "Total params: 988,850\n",
      "Trainable params: 988,146\n",
      "Non-trainable params: 704\n",
      "_________________________________________________________________\n"
     ]
    }
   ],
   "source": [
    "model.summary()"
   ]
  },
  {
   "cell_type": "markdown",
   "metadata": {},
   "source": [
    "### 임의의 correlation을 입력했을 때 : 역시 같은 결과"
   ]
  },
  {
   "cell_type": "code",
   "execution_count": 35,
   "metadata": {},
   "outputs": [
    {
     "data": {
      "text/plain": [
       "0.99999946"
      ]
     },
     "execution_count": 35,
     "metadata": {},
     "output_type": "execute_result"
    }
   ],
   "source": [
    "_input = np.random.uniform(size=(16, 16, 16, 16)).astype(np.float32)\n",
    "_input.max()"
   ]
  },
  {
   "cell_type": "code",
   "execution_count": 36,
   "metadata": {},
   "outputs": [
    {
     "data": {
      "text/plain": [
       "<tf.Tensor: shape=(1, 18), dtype=float32, numpy=\n",
       "array([[-0.00847808, -0.04145534, -0.0533065 ,  0.12105449, -0.03266914,\n",
       "         0.05576068,  0.03715478,  0.07483166,  0.06880645,  0.00441077,\n",
       "         0.01865889,  0.15466803,  0.05756108, -0.21094893,  0.02999583,\n",
       "        -0.07116259, -0.03719524, -0.16885182]], dtype=float32)>"
      ]
     },
     "execution_count": 36,
     "metadata": {},
     "output_type": "execute_result"
    }
   ],
   "source": [
    "model.layers[2](_input)"
   ]
  },
  {
   "cell_type": "markdown",
   "metadata": {},
   "source": [
    "## b. 특징추출기의 정상 동작 검증"
   ]
  },
  {
   "cell_type": "markdown",
   "metadata": {},
   "source": [
    "### 동일 영상에 대한 correlation"
   ]
  },
  {
   "cell_type": "code",
   "execution_count": 111,
   "metadata": {},
   "outputs": [
    {
     "name": "stdout",
     "output_type": "stream",
     "text": [
      "(16, 16, 16, 16) (9, 2) (64, 64, 3)\n"
     ]
    }
   ],
   "source": [
    "for image_A, image_B, parameters in ds.take(1):\n",
    "    image_A = image_A.numpy()\n",
    "    image_B = image_B.numpy()\n",
    "    parameters = parameters.numpy()\n",
    "pred, score = model(image_A, image_A)\n",
    "\n",
    "score = score.numpy()[0]\n",
    "parameters = parameters[0]\n",
    "image_A = image_A[0]\n",
    "image_B = image_B[0]\n",
    "\n",
    "print(score.shape, parameters.shape, image_A.shape)"
   ]
  },
  {
   "cell_type": "code",
   "execution_count": 267,
   "metadata": {},
   "outputs": [],
   "source": [
    "def get_matching_grid_from_B(parameters, center_point):\n",
    "    src_points = np.array([[0.0, 0.0], [0.5, 0.0], [1.0, 0.0],\n",
    "                                   [0.0, 0.5], [0.5, 0.5], [1.0, 0.5],\n",
    "                                   [0.0, 1.0], [0.5, 1.0], [1.0, 1.0]])\n",
    "\n",
    "    dst_points = src_points +parameters\n",
    "\n",
    "    theta = tps.tps_theta_from_points(src_points, dst_points, reduced=True)\n",
    "    dshape = (64, 64)\n",
    "    grid = tps.tps_grid(theta, src_points, dshape)\n",
    "    mapx, mapy = tps.tps_grid_to_remap(grid, (64, 64))\n",
    "    points = np.concatenate([mapx[:,:,np.newaxis], mapy[:,:,np.newaxis]], axis=2)\n",
    "   \n",
    "    center_point = np.array(center_point)\n",
    "    center_point = center_point[np.newaxis, np.newaxis, :]\n",
    "    print(\"center\", center_point)\n",
    "    distance = np.sum(np.power((points - center_point), 2), axis=2)\n",
    "\n",
    "    ri, ci = distance.argmin()//distance.shape[1], distance.argmin()%distance.shape[1]\n",
    "    return (ci, ri)"
   ]
  },
  {
   "cell_type": "code",
   "execution_count": 278,
   "metadata": {},
   "outputs": [],
   "source": [
    "def score_test(grid_coord, score, parameters, images, grid_shape=(16,16)):\n",
    "    image_A, image_B = images\n",
    "    score = score[grid_coord[0], grid_coord[1]]\n",
    "    H, W, C = image_A.shape\n",
    "    grid_size = H/grid_shape[0], W/grid_shape[1]\n",
    "\n",
    "    start_pix_h = int(grid_size[0]*grid_coord[0])\n",
    "    end_pix_h = int(grid_size[0]*(1+grid_coord[0]))\n",
    "    start_pix_w = int(grid_size[1]*grid_coord[1])\n",
    "    end_pix_w = int(grid_size[1]*(1+grid_coord[1]))\n",
    "    \n",
    "    drawn_grid_image_A = image_A.copy()\n",
    "    drawn_grid_image_A[start_pix_h:end_pix_h, start_pix_w:end_pix_w] = (0,0,0)   \n",
    "    \n",
    "    expected_drawn_grid_image_B = image_B.copy()\n",
    "    grid_center_A = (int(start_pix_h+grid_size[0]/2), int(start_pix_w+grid_size[1]/2))\n",
    "    grid_center_B = get_matching_grid_from_B(parameters, grid_center_A)\n",
    "    print(grid_center_B, grid_center_B.__class__)\n",
    "    start_pix_h = int(grid_center_B[0] - grid_size[0]/2)\n",
    "    start_pix_w = int(grid_center_B[1] - grid_size[1]/2)\n",
    "    end_pix_h = int(grid_center_B[0] + grid_size[0]/2)\n",
    "    end_pix_w = int(grid_center_B[1] + grid_size[1]/2)\n",
    "    expected_drawn_grid_image_B[start_pix_h:end_pix_h, start_pix_w:end_pix_w] = (0,0,0)\n",
    "    \n",
    "    drawn_grid_image_B = image_B.copy()\n",
    "    max_correlation_grid_index = score.argmin()//score.shape[1], score.argmin()%score.shape[1]\n",
    "    print(max_correlation_grid_index)\n",
    "    start_pix_h = int(max_correlation_grid_index[0] - grid_size[0]/2)\n",
    "    start_pix_w = int(max_correlation_grid_index[1] - grid_size[1]/2)\n",
    "    end_pix_h = int(max_correlation_grid_index[0] + grid_size[0]/2)\n",
    "    end_pix_w = int(max_correlation_grid_index[1] + grid_size[1]/2)    \n",
    "    drawn_grid_image_B[start_pix_h:end_pix_h, start_pix_w:end_pix_w] = (0,0,0)\n",
    "    \n",
    "    print(\"top 10 correlation values in descending : \", np.sort(score.flatten())[::-1][:10])\n",
    "    \n",
    "    return drawn_grid_image_A, expected_drawn_grid_image_B, drawn_grid_image_B"
   ]
  },
  {
   "cell_type": "code",
   "execution_count": 279,
   "metadata": {},
   "outputs": [],
   "source": [
    "def plot_images(images, plot_shape, moving_vectors=None):\n",
    "    rows, cols = plot_shape\n",
    "    fig = plt.figure()\n",
    "    for row in range(rows):\n",
    "        for col in range(cols):\n",
    "            image = images[row][col]\n",
    "            fig.add_subplot(rows, cols, row*cols+col+1).imshow(image)\n",
    "    plt.show()"
   ]
  },
  {
   "cell_type": "code",
   "execution_count": 280,
   "metadata": {},
   "outputs": [
    {
     "name": "stdout",
     "output_type": "stream",
     "text": [
      "center [[[2 2]]]\n",
      "(2, 2) <class 'tuple'>\n",
      "(15, 6)\n",
      "top 10 correlation values in descending :  [0.08045571 0.07374886 0.07362973 0.07360967 0.07322403 0.07315692\n",
      " 0.07315629 0.07313433 0.07307883 0.07305346]\n"
     ]
    }
   ],
   "source": [
    "drawn_image_A, expected_drawn_grid_image_B, drawn_grid_image_B = score_test(grid_coord=(0,0), score=score, parameters=np.zeros([9,2]), images=(image_A, image_A))"
   ]
  },
  {
   "cell_type": "code",
   "execution_count": 281,
   "metadata": {},
   "outputs": [
    {
     "data": {
      "text/plain": [
       "(64, 64, 3)"
      ]
     },
     "execution_count": 281,
     "metadata": {},
     "output_type": "execute_result"
    }
   ],
   "source": [
    "drawn_image_A.shape\n",
    "expected_drawn_grid_image_B.shape\n",
    "drawn_grid_image_B.shape"
   ]
  },
  {
   "cell_type": "code",
   "execution_count": 282,
   "metadata": {},
   "outputs": [
    {
     "data": {
      "image/png": "[encoded data removed]",
      "text/plain": [
       "<Figure size 432x288 with 3 Axes>"
      ]
     },
     "metadata": {
      "needs_background": "light"
     },
     "output_type": "display_data"
    }
   ],
   "source": [
    "fig = plt.figure()\n",
    "\n",
    "ax1 = fig.add_subplot(131)\n",
    "ax2 = fig.add_subplot(132)\n",
    "ax3 = fig.add_subplot(133)\n",
    "\n",
    "ax1.imshow(drawn_image_A)\n",
    "ax2.imshow(expected_drawn_grid_image_B)\n",
    "ax3.imshow(drawn_grid_image_B)\n",
    "\n",
    "plt.show()\n"
   ]
  },
  {
   "cell_type": "markdown",
   "metadata": {},
   "source": [
    "# grid_point (5, 5) on image A"
   ]
  },
  {
   "cell_type": "code",
   "execution_count": 283,
   "metadata": {},
   "outputs": [
    {
     "name": "stdout",
     "output_type": "stream",
     "text": [
      "center [[[22 30]]]\n",
      "(22, 30) <class 'tuple'>\n",
      "(0, 0)\n",
      "top 10 correlation values in descending :  [0.06518701 0.0648452  0.06483168 0.06479623 0.06471241 0.06467468\n",
      " 0.06462499 0.06459589 0.06457857 0.06454716]\n"
     ]
    },
    {
     "data": {
      "image/png": "[encoded data removed]",
      "text/plain": [
       "<Figure size 432x288 with 3 Axes>"
      ]
     },
     "metadata": {
      "needs_background": "light"
     },
     "output_type": "display_data"
    }
   ],
   "source": [
    "grid_point = (5,7)\n",
    "drawn_image_A, expected_drawn_grid_image_B, drawn_grid_image_B = score_test(grid_coord=grid_point, \n",
    "                                                                            score=score, \n",
    "                                                                            parameters=np.zeros([9,2]), \n",
    "                                                                            images=(image_A, image_A))\n",
    "fig = plt.figure()\n",
    "\n",
    "ax1 = fig.add_subplot(131)\n",
    "ax2 = fig.add_subplot(132)\n",
    "ax3 = fig.add_subplot(133)\n",
    "\n",
    "ax1.imshow(drawn_image_A)\n",
    "ax2.imshow(expected_drawn_grid_image_B)\n",
    "ax3.imshow(drawn_grid_image_B)\n",
    "\n",
    "plt.show()"
   ]
  },
  {
   "cell_type": "code",
   "execution_count": null,
   "metadata": {},
   "outputs": [],
   "source": []
  },
  {
   "cell_type": "code",
   "execution_count": null,
   "metadata": {},
   "outputs": [],
   "source": []
  },
  {
   "cell_type": "code",
   "execution_count": null,
   "metadata": {},
   "outputs": [],
   "source": []
  },
  {
   "cell_type": "code",
   "execution_count": null,
   "metadata": {},
   "outputs": [],
   "source": []
  },
  {
   "cell_type": "code",
   "execution_count": 250,
   "metadata": {},
   "outputs": [
    {
     "data": {
      "text/plain": [
       "<matplotlib.image.AxesImage at 0x7fe36717ec88>"
      ]
     },
     "execution_count": 250,
     "metadata": {},
     "output_type": "execute_result"
    },
    {
     "data": {
      "image/png": "[encoded data removed]",
      "text/plain": [
       "<Figure size 432x288 with 1 Axes>"
      ]
     },
     "metadata": {
      "needs_background": "light"
     },
     "output_type": "display_data"
    }
   ],
   "source": [
    "plt.imshow(expected_drawn_grid_image_B)"
   ]
  },
  {
   "cell_type": "code",
   "execution_count": 251,
   "metadata": {},
   "outputs": [
    {
     "data": {
      "text/plain": [
       "<matplotlib.image.AxesImage at 0x7fe3670dcf28>"
      ]
     },
     "execution_count": 251,
     "metadata": {},
     "output_type": "execute_result"
    },
    {
     "data": {
      "image/png": "[encoded data removed]",
      "text/plain": [
       "<Figure size 432x288 with 1 Axes>"
      ]
     },
     "metadata": {
      "needs_background": "light"
     },
     "output_type": "display_data"
    }
   ],
   "source": [
    "plt.imshow(drawn_grid_image_B)"
   ]
  },
  {
   "cell_type": "code",
   "execution_count": null,
   "metadata": {},
   "outputs": [],
   "source": [
    "\n",
    "for i in range(16):\n",
    "    drawn_image_A, expected_drawn_grid_image_B, drawn_grid_image_B = score_test(grid_coord=(i,i), score=score, parameters=parameters, images=(image_A, image_B))\n"
   ]
  },
  {
   "cell_type": "code",
   "execution_count": null,
   "metadata": {},
   "outputs": [],
   "source": [
    "import geo_transform as tps\n",
    "import numpy as np"
   ]
  },
  {
   "cell_type": "code",
   "execution_count": null,
   "metadata": {},
   "outputs": [],
   "source": []
  },
  {
   "cell_type": "code",
   "execution_count": null,
   "metadata": {},
   "outputs": [],
   "source": [
    "mapx[:,:,np.newaxis].shape"
   ]
  },
  {
   "cell_type": "code",
   "execution_count": null,
   "metadata": {},
   "outputs": [],
   "source": [
    "points = np.concatenate([mapx[:,:,np.newaxis], mapy[:,:,np.newaxis]], axis=2)"
   ]
  },
  {
   "cell_type": "code",
   "execution_count": null,
   "metadata": {},
   "outputs": [],
   "source": [
    "points.shape"
   ]
  },
  {
   "cell_type": "code",
   "execution_count": null,
   "metadata": {},
   "outputs": [],
   "source": [
    "points[0, 0]"
   ]
  },
  {
   "cell_type": "code",
   "execution_count": null,
   "metadata": {},
   "outputs": [],
   "source": []
  },
  {
   "cell_type": "code",
   "execution_count": null,
   "metadata": {},
   "outputs": [],
   "source": []
  },
  {
   "cell_type": "code",
   "execution_count": null,
   "metadata": {},
   "outputs": [],
   "source": []
  },
  {
   "cell_type": "code",
   "execution_count": null,
   "metadata": {},
   "outputs": [],
   "source": []
  },
  {
   "cell_type": "code",
   "execution_count": null,
   "metadata": {},
   "outputs": [],
   "source": []
  },
  {
   "cell_type": "code",
   "execution_count": null,
   "metadata": {},
   "outputs": [],
   "source": []
  },
  {
   "cell_type": "code",
   "execution_count": null,
   "metadata": {},
   "outputs": [],
   "source": [
    "from models.cnn_geo import CNN_geo\n",
    "from data_loader import load_data\n",
    "import numpy as np\n",
    "from matplotlib import pyplot as plt"
   ]
  },
  {
   "cell_type": "code",
   "execution_count": null,
   "metadata": {},
   "outputs": [],
   "source": [
    "model = CNN_geo(config['backbone'])\n",
    "ckpt_dir = os.path.join(\n",
    "        'checkpoints', config['model_name'], config['exp_desc'])\n",
    "ckpt = os.path.join(ckpt_dir, \"{}-{}.h5\".format(config['model_name'], str(config['train']['epochs'])))\n",
    "model.load(ckpt)"
   ]
  },
  {
   "cell_type": "code",
   "execution_count": null,
   "metadata": {},
   "outputs": [],
   "source": [
    "model.layers"
   ]
  },
  {
   "cell_type": "code",
   "execution_count": null,
   "metadata": {},
   "outputs": [],
   "source": [
    "model.layers[2](np.ones([1, 16,16,16,16]))"
   ]
  },
  {
   "cell_type": "code",
   "execution_count": null,
   "metadata": {},
   "outputs": [],
   "source": [
    "datasets = load_data(['train'], config)\n",
    "ds = datasets['train'].batch(1)\n",
    "for image_A, image_B, parameters in ds.take(1):\n",
    "    image_A = image_A.numpy()\n",
    "    image_B = image_B.numpy()\n",
    "    parameters = parameters.numpy()"
   ]
  },
  {
   "cell_type": "code",
   "execution_count": null,
   "metadata": {},
   "outputs": [],
   "source": [
    "image_A.shape, image_B.shape\n",
    "\n",
    "x = model.layers[0](image_A)\n",
    "y = model.layers[0](image_B)"
   ]
  },
  {
   "cell_type": "code",
   "execution_count": null,
   "metadata": {},
   "outputs": [],
   "source": [
    "plt.imshow(image_A[0])"
   ]
  },
  {
   "cell_type": "code",
   "execution_count": null,
   "metadata": {},
   "outputs": [],
   "source": [
    "plt.imshow(image_B[0])"
   ]
  },
  {
   "cell_type": "code",
   "execution_count": null,
   "metadata": {},
   "outputs": [],
   "source": []
  },
  {
   "cell_type": "code",
   "execution_count": null,
   "metadata": {},
   "outputs": [],
   "source": [
    "import tensorflow as tf"
   ]
  },
  {
   "cell_type": "code",
   "execution_count": null,
   "metadata": {},
   "outputs": [],
   "source": [
    "score = model.layers[1](x, y)"
   ]
  },
  {
   "cell_type": "code",
   "execution_count": null,
   "metadata": {},
   "outputs": [],
   "source": [
    "float_formatter = \"{:.3f}\".format\n",
    "np.set_printoptions(formatter={'float_kind':float_formatter})"
   ]
  },
  {
   "cell_type": "code",
   "execution_count": null,
   "metadata": {},
   "outputs": [],
   "source": [
    "print(np.max(score[0, 0,0]))"
   ]
  },
  {
   "cell_type": "code",
   "execution_count": null,
   "metadata": {},
   "outputs": [],
   "source": [
    "print(score[0,0,0])"
   ]
  },
  {
   "cell_type": "code",
   "execution_count": null,
   "metadata": {},
   "outputs": [],
   "source": [
    "parameters"
   ]
  },
  {
   "cell_type": "code",
   "execution_count": null,
   "metadata": {},
   "outputs": [],
   "source": [
    "model.layers[2](score)"
   ]
  },
  {
   "cell_type": "code",
   "execution_count": null,
   "metadata": {},
   "outputs": [],
   "source": [
    "vgg = tf.keras.applications.VGG16(weights='imagenet', input_shape=(64, 64, 3), include_top=False)"
   ]
  },
  {
   "cell_type": "code",
   "execution_count": null,
   "metadata": {},
   "outputs": [],
   "source": [
    "model = tf.keras.Model(inputs=vgg.layers[0].input, outputs=vgg.layers[9].output)"
   ]
  },
  {
   "cell_type": "code",
   "execution_count": null,
   "metadata": {},
   "outputs": [],
   "source": [
    "model.summary()"
   ]
  },
  {
   "cell_type": "code",
   "execution_count": null,
   "metadata": {},
   "outputs": [],
   "source": []
  }
 ],
 "metadata": {
  "kernelspec": {
   "display_name": "Python 3",
   "language": "python",
   "name": "python3"
  },
  "language_info": {
   "codemirror_mode": {
    "name": "ipython",
    "version": 3
   },
   "file_extension": ".py",
   "mimetype": "text/x-python",
   "name": "python",
   "nbconvert_exporter": "python",
   "pygments_lexer": "ipython3",
   "version": "3.6.9"
  }
 },
 "nbformat": 4,
 "nbformat_minor": 4
}

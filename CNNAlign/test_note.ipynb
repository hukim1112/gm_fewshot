{
 "cells": [
  {
   "cell_type": "code",
   "execution_count": 1,
   "metadata": {},
   "outputs": [],
   "source": [
    "import json, os\n",
    "import argparse\n",
    "import tensorflow as tf\n",
    "import numpy as np\n",
    "from matplotlib import pyplot as plt\n",
    "\n",
    "from data_loader import load_data\n",
    "from models.cnn_geo import CNN_geo\n",
    "\n",
    "from test_codes import data, train, visualize\n",
    "from utils import image\n",
    "import geo_transform as tps\n",
    "import CNNgeo_debug"
   ]
  },
  {
   "cell_type": "markdown",
   "metadata": {},
   "source": [
    "# 1. Read configuration file"
   ]
  },
  {
   "cell_type": "code",
   "execution_count": 2,
   "metadata": {},
   "outputs": [],
   "source": [
    "with open('overfit.json') as fp:\n",
    "    config = json.load(fp)\n",
    "split = 'val'"
   ]
  },
  {
   "cell_type": "code",
   "execution_count": 3,
   "metadata": {},
   "outputs": [],
   "source": [
    "#data.synthesize_image_pair(config, split)"
   ]
  },
  {
   "cell_type": "code",
   "execution_count": 4,
   "metadata": {},
   "outputs": [
    {
     "name": "stdout",
     "output_type": "stream",
     "text": [
      "{'n_examples': 1, 'learning_rate': 0.0001, 'batch_size': 1, 'epochs': 200, 'print_step': 10}\n"
     ]
    }
   ],
   "source": [
    "print(config['train'])"
   ]
  },
  {
   "cell_type": "code",
   "execution_count": 5,
   "metadata": {},
   "outputs": [
    {
     "name": "stdout",
     "output_type": "stream",
     "text": [
      "backbone :  prototypical_network\n",
      "n_examples :  1\n",
      "learning_rate :  0.0001\n",
      "batch_size :  1\n",
      "epoch num :  200\n"
     ]
    }
   ],
   "source": [
    "print(\"backbone : \", config['backbone'])\n",
    "print(\"n_examples : \", config['train']['n_examples'])\n",
    "print(\"learning_rate : \", config['train']['learning_rate'])\n",
    "print(\"batch_size : \", config['train']['batch_size'])\n",
    "print(\"epoch num : \", config['train']['epochs'])"
   ]
  },
  {
   "cell_type": "markdown",
   "metadata": {},
   "source": [
    "# 2. Train model on the config parameters"
   ]
  },
  {
   "cell_type": "code",
   "execution_count": 6,
   "metadata": {},
   "outputs": [
    {
     "name": "stdout",
     "output_type": "stream",
     "text": [
      "train dataset amount : 1\n",
      "val dataset amount : 1\n",
      "start of epoch 1\n",
      "Training loss (for one batch) at step 0: 0.5267517566680908\n",
      "Epoch 1, Loss: 0.5267517566680908, Val Loss: 0.48221904039382935\n",
      "end of epoch.\n",
      "start of epoch 2\n",
      "Training loss (for one batch) at step 0: 0.5015990138053894\n",
      "Epoch 2, Loss: 0.5015990138053894, Val Loss: 0.4773034155368805\n",
      "end of epoch.\n",
      "start of epoch 3\n",
      "Training loss (for one batch) at step 0: 0.5526953935623169\n",
      "Epoch 3, Loss: 0.5526953935623169, Val Loss: 0.5809198021888733\n",
      "end of epoch.\n",
      "start of epoch 4\n",
      "Training loss (for one batch) at step 0: 0.45975160598754883\n",
      "Epoch 4, Loss: 0.45975160598754883, Val Loss: 0.44619449973106384\n",
      "end of epoch.\n",
      "start of epoch 5\n",
      "Training loss (for one batch) at step 0: 0.47200414538383484\n",
      "Epoch 5, Loss: 0.47200414538383484, Val Loss: 0.553024172782898\n",
      "end of epoch.\n",
      "start of epoch 6\n",
      "Training loss (for one batch) at step 0: 0.42445802688598633\n",
      "Epoch 6, Loss: 0.42445802688598633, Val Loss: 0.5307998657226562\n",
      "end of epoch.\n",
      "start of epoch 7\n",
      "Training loss (for one batch) at step 0: 0.42824646830558777\n",
      "Epoch 7, Loss: 0.42824646830558777, Val Loss: 0.5691124796867371\n",
      "end of epoch.\n",
      "start of epoch 8\n",
      "Training loss (for one batch) at step 0: 0.5201748609542847\n",
      "Epoch 8, Loss: 0.5201748609542847, Val Loss: 0.5552059412002563\n",
      "end of epoch.\n",
      "start of epoch 9\n",
      "Training loss (for one batch) at step 0: 0.6163875460624695\n",
      "Epoch 9, Loss: 0.6163875460624695, Val Loss: 0.36124300956726074\n",
      "end of epoch.\n",
      "start of epoch 10\n",
      "Training loss (for one batch) at step 0: 0.4214669167995453\n",
      "Epoch 10, Loss: 0.4214669167995453, Val Loss: 0.4632508158683777\n",
      "end of epoch.\n",
      "start of epoch 11\n",
      "Training loss (for one batch) at step 0: 0.48813509941101074\n",
      "Epoch 11, Loss: 0.48813509941101074, Val Loss: 0.5891483426094055\n",
      "end of epoch.\n",
      "start of epoch 12\n",
      "Training loss (for one batch) at step 0: 0.5562663078308105\n",
      "Epoch 12, Loss: 0.5562663078308105, Val Loss: 0.5108892321586609\n",
      "end of epoch.\n",
      "start of epoch 13\n",
      "Training loss (for one batch) at step 0: 0.613220751285553\n",
      "Epoch 13, Loss: 0.613220751285553, Val Loss: 0.4913940727710724\n",
      "end of epoch.\n",
      "start of epoch 14\n",
      "Training loss (for one batch) at step 0: 0.5936563014984131\n",
      "Epoch 14, Loss: 0.5936563014984131, Val Loss: 0.4711002707481384\n",
      "end of epoch.\n",
      "start of epoch 15\n",
      "Training loss (for one batch) at step 0: 0.4546901285648346\n",
      "Epoch 15, Loss: 0.4546901285648346, Val Loss: 0.47402170300483704\n",
      "end of epoch.\n",
      "start of epoch 16\n",
      "Training loss (for one batch) at step 0: 0.5626146197319031\n",
      "Epoch 16, Loss: 0.5626146197319031, Val Loss: 0.5000898241996765\n",
      "end of epoch.\n",
      "start of epoch 17\n",
      "Training loss (for one batch) at step 0: 0.46924981474876404\n",
      "Epoch 17, Loss: 0.46924981474876404, Val Loss: 0.4895687997341156\n",
      "end of epoch.\n",
      "start of epoch 18\n",
      "Training loss (for one batch) at step 0: 0.49287256598472595\n",
      "Epoch 18, Loss: 0.49287256598472595, Val Loss: 0.48936015367507935\n",
      "end of epoch.\n",
      "start of epoch 19\n",
      "Training loss (for one batch) at step 0: 0.49308526515960693\n",
      "Epoch 19, Loss: 0.49308526515960693, Val Loss: 0.4700450003147125\n",
      "end of epoch.\n",
      "start of epoch 20\n",
      "Training loss (for one batch) at step 0: 0.544069230556488\n",
      "Epoch 20, Loss: 0.544069230556488, Val Loss: 0.5326709747314453\n",
      "end of epoch.\n",
      "start of epoch 21\n",
      "Training loss (for one batch) at step 0: 0.4366833567619324\n",
      "Epoch 21, Loss: 0.4366833567619324, Val Loss: 0.590793788433075\n",
      "end of epoch.\n",
      "start of epoch 22\n",
      "Training loss (for one batch) at step 0: 0.4528169333934784\n",
      "Epoch 22, Loss: 0.4528169333934784, Val Loss: 0.5297718048095703\n",
      "end of epoch.\n",
      "start of epoch 23\n",
      "Training loss (for one batch) at step 0: 0.47744131088256836\n",
      "Epoch 23, Loss: 0.47744131088256836, Val Loss: 0.5627754926681519\n",
      "end of epoch.\n",
      "start of epoch 24\n",
      "Training loss (for one batch) at step 0: 0.42829325795173645\n",
      "Epoch 24, Loss: 0.42829325795173645, Val Loss: 0.4839511513710022\n",
      "end of epoch.\n",
      "start of epoch 25\n",
      "Training loss (for one batch) at step 0: 0.4375064969062805\n",
      "Epoch 25, Loss: 0.4375064969062805, Val Loss: 0.5080894827842712\n",
      "end of epoch.\n",
      "start of epoch 26\n",
      "Training loss (for one batch) at step 0: 0.485177606344223\n",
      "Epoch 26, Loss: 0.485177606344223, Val Loss: 0.48722270131111145\n",
      "end of epoch.\n",
      "start of epoch 27\n",
      "Training loss (for one batch) at step 0: 0.5093497633934021\n",
      "Epoch 27, Loss: 0.5093497633934021, Val Loss: 0.5683214068412781\n",
      "end of epoch.\n",
      "start of epoch 28\n",
      "Training loss (for one batch) at step 0: 0.5344700217247009\n",
      "Epoch 28, Loss: 0.5344700217247009, Val Loss: 0.48633939027786255\n",
      "end of epoch.\n",
      "start of epoch 29\n",
      "Training loss (for one batch) at step 0: 0.6173250675201416\n",
      "Epoch 29, Loss: 0.6173250675201416, Val Loss: 0.5287274718284607\n",
      "end of epoch.\n",
      "start of epoch 30\n",
      "Training loss (for one batch) at step 0: 0.5003841519355774\n",
      "Epoch 30, Loss: 0.5003841519355774, Val Loss: 0.45138880610466003\n",
      "end of epoch.\n",
      "start of epoch 31\n",
      "Training loss (for one batch) at step 0: 0.5192694664001465\n",
      "Epoch 31, Loss: 0.5192694664001465, Val Loss: 0.4392252564430237\n",
      "end of epoch.\n",
      "start of epoch 32\n",
      "Training loss (for one batch) at step 0: 0.5444307327270508\n",
      "Epoch 32, Loss: 0.5444307327270508, Val Loss: 0.4398682117462158\n",
      "end of epoch.\n",
      "start of epoch 33\n",
      "Training loss (for one batch) at step 0: 0.47141408920288086\n",
      "Epoch 33, Loss: 0.47141408920288086, Val Loss: 0.3966884911060333\n",
      "end of epoch.\n",
      "start of epoch 34\n",
      "Training loss (for one batch) at step 0: 0.47745010256767273\n",
      "Epoch 34, Loss: 0.47745010256767273, Val Loss: 0.5058534145355225\n",
      "end of epoch.\n",
      "start of epoch 35\n",
      "Training loss (for one batch) at step 0: 0.47473016381263733\n",
      "Epoch 35, Loss: 0.47473016381263733, Val Loss: 0.5267423987388611\n",
      "end of epoch.\n",
      "start of epoch 36\n",
      "Training loss (for one batch) at step 0: 0.4638464152812958\n",
      "Epoch 36, Loss: 0.4638464152812958, Val Loss: 0.5214841961860657\n",
      "end of epoch.\n",
      "start of epoch 37\n",
      "Training loss (for one batch) at step 0: 0.46150586009025574\n",
      "Epoch 37, Loss: 0.46150586009025574, Val Loss: 0.5011114478111267\n",
      "end of epoch.\n",
      "start of epoch 38\n",
      "Training loss (for one batch) at step 0: 0.5637354254722595\n",
      "Epoch 38, Loss: 0.5637354254722595, Val Loss: 0.45706164836883545\n",
      "end of epoch.\n",
      "start of epoch 39\n",
      "Training loss (for one batch) at step 0: 0.5573644638061523\n",
      "Epoch 39, Loss: 0.5573644638061523, Val Loss: 0.5238454341888428\n",
      "end of epoch.\n",
      "start of epoch 40\n",
      "Training loss (for one batch) at step 0: 0.48946651816368103\n",
      "Epoch 40, Loss: 0.48946651816368103, Val Loss: 0.4813307225704193\n",
      "end of epoch.\n",
      "start of epoch 41\n",
      "Training loss (for one batch) at step 0: 0.4471192955970764\n",
      "Epoch 41, Loss: 0.4471192955970764, Val Loss: 0.5154905319213867\n",
      "end of epoch.\n",
      "start of epoch 42\n",
      "Training loss (for one batch) at step 0: 0.3590512275695801\n",
      "Epoch 42, Loss: 0.3590512275695801, Val Loss: 0.49469467997550964\n",
      "end of epoch.\n",
      "start of epoch 43\n",
      "Training loss (for one batch) at step 0: 0.47942253947257996\n",
      "Epoch 43, Loss: 0.47942253947257996, Val Loss: 0.4300611913204193\n",
      "end of epoch.\n",
      "start of epoch 44\n",
      "Training loss (for one batch) at step 0: 0.5269351601600647\n",
      "Epoch 44, Loss: 0.5269351601600647, Val Loss: 0.5277550220489502\n",
      "end of epoch.\n",
      "start of epoch 45\n",
      "Training loss (for one batch) at step 0: 0.4191606342792511\n",
      "Epoch 45, Loss: 0.4191606342792511, Val Loss: 0.48901766538619995\n",
      "end of epoch.\n",
      "start of epoch 46\n",
      "Training loss (for one batch) at step 0: 0.34474098682403564\n",
      "Epoch 46, Loss: 0.34474098682403564, Val Loss: 0.546909749507904\n",
      "end of epoch.\n",
      "start of epoch 47\n",
      "Training loss (for one batch) at step 0: 0.5057239532470703\n",
      "Epoch 47, Loss: 0.5057239532470703, Val Loss: 0.49017977714538574\n",
      "end of epoch.\n",
      "start of epoch 48\n",
      "Training loss (for one batch) at step 0: 0.551879346370697\n",
      "Epoch 48, Loss: 0.551879346370697, Val Loss: 0.5109441876411438\n",
      "end of epoch.\n",
      "start of epoch 49\n",
      "Training loss (for one batch) at step 0: 0.5201833248138428\n",
      "Epoch 49, Loss: 0.5201833248138428, Val Loss: 0.4942478537559509\n",
      "end of epoch.\n",
      "start of epoch 50\n",
      "Training loss (for one batch) at step 0: 0.5108296275138855\n",
      "Epoch 50, Loss: 0.5108296275138855, Val Loss: 0.49902254343032837\n",
      "end of epoch.\n",
      "start of epoch 51\n",
      "Training loss (for one batch) at step 0: 0.44811734557151794\n",
      "Epoch 51, Loss: 0.44811734557151794, Val Loss: 0.48429909348487854\n",
      "end of epoch.\n",
      "start of epoch 52\n",
      "Training loss (for one batch) at step 0: 0.4539283514022827\n",
      "Epoch 52, Loss: 0.4539283514022827, Val Loss: 0.4340718686580658\n",
      "end of epoch.\n",
      "start of epoch 53\n"
     ]
    },
    {
     "name": "stdout",
     "output_type": "stream",
     "text": [
      "Training loss (for one batch) at step 0: 0.4397232234477997\n",
      "Epoch 53, Loss: 0.4397232234477997, Val Loss: 0.5458909273147583\n",
      "end of epoch.\n",
      "start of epoch 54\n",
      "Training loss (for one batch) at step 0: 0.46390798687934875\n",
      "Epoch 54, Loss: 0.46390798687934875, Val Loss: 0.48195579648017883\n",
      "end of epoch.\n",
      "start of epoch 55\n",
      "Training loss (for one batch) at step 0: 0.564265251159668\n",
      "Epoch 55, Loss: 0.564265251159668, Val Loss: 0.40944406390190125\n",
      "end of epoch.\n",
      "start of epoch 56\n",
      "Training loss (for one batch) at step 0: 0.46031707525253296\n",
      "Epoch 56, Loss: 0.46031707525253296, Val Loss: 0.45607107877731323\n",
      "end of epoch.\n",
      "start of epoch 57\n",
      "Training loss (for one batch) at step 0: 0.45691412687301636\n",
      "Epoch 57, Loss: 0.45691412687301636, Val Loss: 0.4581795334815979\n",
      "end of epoch.\n",
      "start of epoch 58\n",
      "Training loss (for one batch) at step 0: 0.5016496181488037\n",
      "Epoch 58, Loss: 0.5016496181488037, Val Loss: 0.5156579613685608\n",
      "end of epoch.\n",
      "start of epoch 59\n",
      "Training loss (for one batch) at step 0: 0.4415884017944336\n",
      "Epoch 59, Loss: 0.4415884017944336, Val Loss: 0.4247053265571594\n",
      "end of epoch.\n",
      "start of epoch 60\n",
      "Training loss (for one batch) at step 0: 0.5257250666618347\n",
      "Epoch 60, Loss: 0.5257250666618347, Val Loss: 0.5425105094909668\n",
      "end of epoch.\n",
      "start of epoch 61\n",
      "Training loss (for one batch) at step 0: 0.48616746068000793\n",
      "Epoch 61, Loss: 0.48616746068000793, Val Loss: 0.4619053602218628\n",
      "end of epoch.\n",
      "start of epoch 62\n",
      "Training loss (for one batch) at step 0: 0.45433104038238525\n",
      "Epoch 62, Loss: 0.45433104038238525, Val Loss: 0.3706092834472656\n",
      "end of epoch.\n",
      "start of epoch 63\n",
      "Training loss (for one batch) at step 0: 0.5258692502975464\n",
      "Epoch 63, Loss: 0.5258692502975464, Val Loss: 0.47785452008247375\n",
      "end of epoch.\n",
      "start of epoch 64\n",
      "Training loss (for one batch) at step 0: 0.42310869693756104\n",
      "Epoch 64, Loss: 0.42310869693756104, Val Loss: 0.4557175040245056\n",
      "end of epoch.\n",
      "start of epoch 65\n",
      "Training loss (for one batch) at step 0: 0.5854712724685669\n",
      "Epoch 65, Loss: 0.5854712724685669, Val Loss: 0.4617401361465454\n",
      "end of epoch.\n",
      "start of epoch 66\n",
      "Training loss (for one batch) at step 0: 0.563392698764801\n",
      "Epoch 66, Loss: 0.563392698764801, Val Loss: 0.48095881938934326\n",
      "end of epoch.\n",
      "start of epoch 67\n",
      "Training loss (for one batch) at step 0: 0.5577409863471985\n",
      "Epoch 67, Loss: 0.5577409863471985, Val Loss: 0.4675823450088501\n",
      "end of epoch.\n",
      "start of epoch 68\n",
      "Training loss (for one batch) at step 0: 0.5333865284919739\n",
      "Epoch 68, Loss: 0.5333865284919739, Val Loss: 0.5221318602561951\n",
      "end of epoch.\n",
      "start of epoch 69\n",
      "Training loss (for one batch) at step 0: 0.5106686353683472\n",
      "Epoch 69, Loss: 0.5106686353683472, Val Loss: 0.35265302658081055\n",
      "end of epoch.\n",
      "start of epoch 70\n",
      "Training loss (for one batch) at step 0: 0.5335181355476379\n",
      "Epoch 70, Loss: 0.5335181355476379, Val Loss: 0.5156630873680115\n",
      "end of epoch.\n",
      "start of epoch 71\n",
      "Training loss (for one batch) at step 0: 0.4842979907989502\n",
      "Epoch 71, Loss: 0.4842979907989502, Val Loss: 0.5316900014877319\n",
      "end of epoch.\n",
      "start of epoch 72\n",
      "Training loss (for one batch) at step 0: 0.5055038332939148\n",
      "Epoch 72, Loss: 0.5055038332939148, Val Loss: 0.45912405848503113\n",
      "end of epoch.\n",
      "start of epoch 73\n",
      "Training loss (for one batch) at step 0: 0.5394997000694275\n",
      "Epoch 73, Loss: 0.5394997000694275, Val Loss: 0.462787002325058\n",
      "end of epoch.\n",
      "start of epoch 74\n",
      "Training loss (for one batch) at step 0: 0.41311532258987427\n",
      "Epoch 74, Loss: 0.41311532258987427, Val Loss: 0.4479004144668579\n",
      "end of epoch.\n",
      "start of epoch 75\n",
      "Training loss (for one batch) at step 0: 0.5192457437515259\n",
      "Epoch 75, Loss: 0.5192457437515259, Val Loss: 0.4481102228164673\n",
      "end of epoch.\n",
      "start of epoch 76\n",
      "Training loss (for one batch) at step 0: 0.48095256090164185\n",
      "Epoch 76, Loss: 0.48095256090164185, Val Loss: 0.45996811985969543\n",
      "end of epoch.\n",
      "start of epoch 77\n",
      "Training loss (for one batch) at step 0: 0.527364194393158\n",
      "Epoch 77, Loss: 0.527364194393158, Val Loss: 0.467401385307312\n",
      "end of epoch.\n",
      "start of epoch 78\n",
      "Training loss (for one batch) at step 0: 0.47822725772857666\n",
      "Epoch 78, Loss: 0.47822725772857666, Val Loss: 0.4543644189834595\n",
      "end of epoch.\n",
      "start of epoch 79\n",
      "Training loss (for one batch) at step 0: 0.4018501937389374\n",
      "Epoch 79, Loss: 0.4018501937389374, Val Loss: 0.38977494835853577\n",
      "end of epoch.\n",
      "start of epoch 80\n",
      "Training loss (for one batch) at step 0: 0.49769923090934753\n",
      "Epoch 80, Loss: 0.49769923090934753, Val Loss: 0.5047293901443481\n",
      "end of epoch.\n",
      "start of epoch 81\n",
      "Training loss (for one batch) at step 0: 0.4257483184337616\n",
      "Epoch 81, Loss: 0.4257483184337616, Val Loss: 0.44740116596221924\n",
      "end of epoch.\n",
      "start of epoch 82\n",
      "Training loss (for one batch) at step 0: 0.4688222408294678\n",
      "Epoch 82, Loss: 0.4688222408294678, Val Loss: 0.47119468450546265\n",
      "end of epoch.\n",
      "start of epoch 83\n",
      "Training loss (for one batch) at step 0: 0.40974801778793335\n",
      "Epoch 83, Loss: 0.40974801778793335, Val Loss: 0.37390467524528503\n",
      "end of epoch.\n",
      "start of epoch 84\n",
      "Training loss (for one batch) at step 0: 0.5132746696472168\n",
      "Epoch 84, Loss: 0.5132746696472168, Val Loss: 0.43780702352523804\n",
      "end of epoch.\n",
      "start of epoch 85\n",
      "Training loss (for one batch) at step 0: 0.5266985893249512\n",
      "Epoch 85, Loss: 0.5266985893249512, Val Loss: 0.45484593510627747\n",
      "end of epoch.\n",
      "start of epoch 86\n",
      "Training loss (for one batch) at step 0: 0.5271543264389038\n",
      "Epoch 86, Loss: 0.5271543264389038, Val Loss: 0.5437817573547363\n",
      "end of epoch.\n",
      "start of epoch 87\n",
      "Training loss (for one batch) at step 0: 0.5616136789321899\n",
      "Epoch 87, Loss: 0.5616136789321899, Val Loss: 0.4959128201007843\n",
      "end of epoch.\n",
      "start of epoch 88\n",
      "Training loss (for one batch) at step 0: 0.48710063099861145\n",
      "Epoch 88, Loss: 0.48710063099861145, Val Loss: 0.5201056599617004\n",
      "end of epoch.\n",
      "start of epoch 89\n",
      "Training loss (for one batch) at step 0: 0.5407559871673584\n",
      "Epoch 89, Loss: 0.5407559871673584, Val Loss: 0.4396681785583496\n",
      "end of epoch.\n",
      "start of epoch 90\n",
      "Training loss (for one batch) at step 0: 0.5331069231033325\n",
      "Epoch 90, Loss: 0.5331069231033325, Val Loss: 0.5291584730148315\n",
      "end of epoch.\n",
      "start of epoch 91\n",
      "Training loss (for one batch) at step 0: 0.4679936468601227\n",
      "Epoch 91, Loss: 0.4679936468601227, Val Loss: 0.584356963634491\n",
      "end of epoch.\n",
      "start of epoch 92\n",
      "Training loss (for one batch) at step 0: 0.5241983532905579\n",
      "Epoch 92, Loss: 0.5241983532905579, Val Loss: 0.5497449040412903\n",
      "end of epoch.\n",
      "start of epoch 93\n",
      "Training loss (for one batch) at step 0: 0.4203195869922638\n",
      "Epoch 93, Loss: 0.4203195869922638, Val Loss: 0.4277809262275696\n",
      "end of epoch.\n",
      "start of epoch 94\n",
      "Training loss (for one batch) at step 0: 0.4610423147678375\n",
      "Epoch 94, Loss: 0.4610423147678375, Val Loss: 0.5550158619880676\n",
      "end of epoch.\n",
      "start of epoch 95\n",
      "Training loss (for one batch) at step 0: 0.5426007509231567\n",
      "Epoch 95, Loss: 0.5426007509231567, Val Loss: 0.514580488204956\n",
      "end of epoch.\n",
      "start of epoch 96\n",
      "Training loss (for one batch) at step 0: 0.5414850115776062\n",
      "Epoch 96, Loss: 0.5414850115776062, Val Loss: 0.48390915989875793\n",
      "end of epoch.\n",
      "start of epoch 97\n",
      "Training loss (for one batch) at step 0: 0.5003366470336914\n",
      "Epoch 97, Loss: 0.5003366470336914, Val Loss: 0.4565960466861725\n",
      "end of epoch.\n",
      "start of epoch 98\n",
      "Training loss (for one batch) at step 0: 0.46517616510391235\n",
      "Epoch 98, Loss: 0.46517616510391235, Val Loss: 0.47971710562705994\n",
      "end of epoch.\n",
      "start of epoch 99\n",
      "Training loss (for one batch) at step 0: 0.5216124653816223\n",
      "Epoch 99, Loss: 0.5216124653816223, Val Loss: 0.4553990066051483\n",
      "end of epoch.\n",
      "start of epoch 100\n",
      "Training loss (for one batch) at step 0: 0.48222431540489197\n",
      "Epoch 100, Loss: 0.48222431540489197, Val Loss: 0.567353367805481\n",
      "end of epoch.\n",
      "start of epoch 101\n",
      "Training loss (for one batch) at step 0: 0.5690392851829529\n",
      "Epoch 101, Loss: 0.5690392851829529, Val Loss: 0.5231582522392273\n",
      "end of epoch.\n",
      "start of epoch 102\n",
      "Training loss (for one batch) at step 0: 0.48620176315307617\n",
      "Epoch 102, Loss: 0.48620176315307617, Val Loss: 0.5263842940330505\n",
      "end of epoch.\n",
      "start of epoch 103\n",
      "Training loss (for one batch) at step 0: 0.3938770294189453\n",
      "Epoch 103, Loss: 0.3938770294189453, Val Loss: 0.46828389167785645\n",
      "end of epoch.\n",
      "start of epoch 104\n",
      "Training loss (for one batch) at step 0: 0.5352623462677002\n",
      "Epoch 104, Loss: 0.5352623462677002, Val Loss: 0.5388780832290649\n",
      "end of epoch.\n",
      "start of epoch 105\n",
      "Training loss (for one batch) at step 0: 0.4863106310367584\n"
     ]
    },
    {
     "name": "stdout",
     "output_type": "stream",
     "text": [
      "Epoch 105, Loss: 0.4863106310367584, Val Loss: 0.39058127999305725\n",
      "end of epoch.\n",
      "start of epoch 106\n",
      "Training loss (for one batch) at step 0: 0.5417704582214355\n",
      "Epoch 106, Loss: 0.5417704582214355, Val Loss: 0.5576896071434021\n",
      "end of epoch.\n",
      "start of epoch 107\n",
      "Training loss (for one batch) at step 0: 0.5161257386207581\n",
      "Epoch 107, Loss: 0.5161257386207581, Val Loss: 0.505064070224762\n",
      "end of epoch.\n",
      "start of epoch 108\n",
      "Training loss (for one batch) at step 0: 0.5638969540596008\n",
      "Epoch 108, Loss: 0.5638969540596008, Val Loss: 0.4541715383529663\n",
      "end of epoch.\n",
      "start of epoch 109\n",
      "Training loss (for one batch) at step 0: 0.5058631300926208\n",
      "Epoch 109, Loss: 0.5058631300926208, Val Loss: 0.4868570566177368\n",
      "end of epoch.\n",
      "start of epoch 110\n",
      "Training loss (for one batch) at step 0: 0.4758605360984802\n",
      "Epoch 110, Loss: 0.4758605360984802, Val Loss: 0.455666184425354\n",
      "end of epoch.\n",
      "start of epoch 111\n",
      "Training loss (for one batch) at step 0: 0.37851980328559875\n",
      "Epoch 111, Loss: 0.37851980328559875, Val Loss: 0.453859806060791\n",
      "end of epoch.\n",
      "start of epoch 112\n",
      "Training loss (for one batch) at step 0: 0.44735580682754517\n",
      "Epoch 112, Loss: 0.44735580682754517, Val Loss: 0.4691237807273865\n",
      "end of epoch.\n",
      "start of epoch 113\n",
      "Training loss (for one batch) at step 0: 0.5489348769187927\n",
      "Epoch 113, Loss: 0.5489348769187927, Val Loss: 0.4625401794910431\n",
      "end of epoch.\n",
      "start of epoch 114\n",
      "Training loss (for one batch) at step 0: 0.5557863116264343\n",
      "Epoch 114, Loss: 0.5557863116264343, Val Loss: 0.5327997803688049\n",
      "end of epoch.\n",
      "start of epoch 115\n",
      "Training loss (for one batch) at step 0: 0.5243862867355347\n",
      "Epoch 115, Loss: 0.5243862867355347, Val Loss: 0.4549064338207245\n",
      "end of epoch.\n",
      "start of epoch 116\n",
      "Training loss (for one batch) at step 0: 0.3678382933139801\n",
      "Epoch 116, Loss: 0.3678382933139801, Val Loss: 0.44313955307006836\n",
      "end of epoch.\n",
      "start of epoch 117\n",
      "Training loss (for one batch) at step 0: 0.5335010290145874\n",
      "Epoch 117, Loss: 0.5335010290145874, Val Loss: 0.5605118870735168\n",
      "end of epoch.\n",
      "start of epoch 118\n",
      "Training loss (for one batch) at step 0: 0.4630299210548401\n",
      "Epoch 118, Loss: 0.4630299210548401, Val Loss: 0.4616023302078247\n",
      "end of epoch.\n",
      "start of epoch 119\n",
      "Training loss (for one batch) at step 0: 0.499002069234848\n",
      "Epoch 119, Loss: 0.499002069234848, Val Loss: 0.5703752040863037\n",
      "end of epoch.\n",
      "start of epoch 120\n",
      "Training loss (for one batch) at step 0: 0.48859962821006775\n",
      "Epoch 120, Loss: 0.48859962821006775, Val Loss: 0.4548228979110718\n",
      "end of epoch.\n",
      "start of epoch 121\n",
      "Training loss (for one batch) at step 0: 0.5046412348747253\n",
      "Epoch 121, Loss: 0.5046412348747253, Val Loss: 0.5339870452880859\n",
      "end of epoch.\n",
      "start of epoch 122\n",
      "Training loss (for one batch) at step 0: 0.5931626558303833\n",
      "Epoch 122, Loss: 0.5931626558303833, Val Loss: 0.5308985114097595\n",
      "end of epoch.\n",
      "start of epoch 123\n",
      "Training loss (for one batch) at step 0: 0.5106832981109619\n",
      "Epoch 123, Loss: 0.5106832981109619, Val Loss: 0.5445670485496521\n",
      "end of epoch.\n",
      "start of epoch 124\n",
      "Training loss (for one batch) at step 0: 0.47518429160118103\n",
      "Epoch 124, Loss: 0.47518429160118103, Val Loss: 0.5214530825614929\n",
      "end of epoch.\n",
      "start of epoch 125\n",
      "Training loss (for one batch) at step 0: 0.5384668707847595\n",
      "Epoch 125, Loss: 0.5384668707847595, Val Loss: 0.46549564599990845\n",
      "end of epoch.\n",
      "start of epoch 126\n",
      "Training loss (for one batch) at step 0: 0.5859336853027344\n",
      "Epoch 126, Loss: 0.5859336853027344, Val Loss: 0.5497912168502808\n",
      "end of epoch.\n",
      "start of epoch 127\n",
      "Training loss (for one batch) at step 0: 0.4774749279022217\n",
      "Epoch 127, Loss: 0.4774749279022217, Val Loss: 0.512768566608429\n",
      "end of epoch.\n",
      "start of epoch 128\n",
      "Training loss (for one batch) at step 0: 0.6028066873550415\n",
      "Epoch 128, Loss: 0.6028066873550415, Val Loss: 0.5461304783821106\n",
      "end of epoch.\n",
      "start of epoch 129\n",
      "Training loss (for one batch) at step 0: 0.5295240879058838\n",
      "Epoch 129, Loss: 0.5295240879058838, Val Loss: 0.4896755814552307\n",
      "end of epoch.\n",
      "start of epoch 130\n",
      "Training loss (for one batch) at step 0: 0.46930843591690063\n",
      "Epoch 130, Loss: 0.46930843591690063, Val Loss: 0.4468277096748352\n",
      "end of epoch.\n",
      "start of epoch 131\n",
      "Training loss (for one batch) at step 0: 0.5142278671264648\n",
      "Epoch 131, Loss: 0.5142278671264648, Val Loss: 0.5829876065254211\n",
      "end of epoch.\n",
      "start of epoch 132\n",
      "Training loss (for one batch) at step 0: 0.49706563353538513\n",
      "Epoch 132, Loss: 0.49706563353538513, Val Loss: 0.484170138835907\n",
      "end of epoch.\n",
      "start of epoch 133\n",
      "Training loss (for one batch) at step 0: 0.43498435616493225\n",
      "Epoch 133, Loss: 0.43498435616493225, Val Loss: 0.5441681742668152\n",
      "end of epoch.\n",
      "start of epoch 134\n",
      "Training loss (for one batch) at step 0: 0.5124484300613403\n",
      "Epoch 134, Loss: 0.5124484300613403, Val Loss: 0.4411603808403015\n",
      "end of epoch.\n",
      "start of epoch 135\n",
      "Training loss (for one batch) at step 0: 0.4652773141860962\n",
      "Epoch 135, Loss: 0.4652773141860962, Val Loss: 0.4098030626773834\n",
      "end of epoch.\n",
      "start of epoch 136\n",
      "Training loss (for one batch) at step 0: 0.4689934551715851\n",
      "Epoch 136, Loss: 0.4689934551715851, Val Loss: 0.5904788970947266\n",
      "end of epoch.\n",
      "start of epoch 137\n",
      "Training loss (for one batch) at step 0: 0.4735889136791229\n",
      "Epoch 137, Loss: 0.4735889136791229, Val Loss: 0.446432501077652\n",
      "end of epoch.\n",
      "start of epoch 138\n",
      "Training loss (for one batch) at step 0: 0.4316422939300537\n",
      "Epoch 138, Loss: 0.4316422939300537, Val Loss: 0.45474180579185486\n",
      "end of epoch.\n",
      "start of epoch 139\n",
      "Training loss (for one batch) at step 0: 0.5483129620552063\n",
      "Epoch 139, Loss: 0.5483129620552063, Val Loss: 0.5318725109100342\n",
      "end of epoch.\n",
      "start of epoch 140\n",
      "Training loss (for one batch) at step 0: 0.4856482148170471\n",
      "Epoch 140, Loss: 0.4856482148170471, Val Loss: 0.5773171186447144\n",
      "end of epoch.\n",
      "start of epoch 141\n",
      "Training loss (for one batch) at step 0: 0.5496929883956909\n",
      "Epoch 141, Loss: 0.5496929883956909, Val Loss: 0.4190310835838318\n",
      "end of epoch.\n",
      "start of epoch 142\n",
      "Training loss (for one batch) at step 0: 0.3643357455730438\n",
      "Epoch 142, Loss: 0.3643357455730438, Val Loss: 0.4653712511062622\n",
      "end of epoch.\n",
      "start of epoch 143\n",
      "Training loss (for one batch) at step 0: 0.5227775573730469\n",
      "Epoch 143, Loss: 0.5227775573730469, Val Loss: 0.3507453501224518\n",
      "end of epoch.\n",
      "start of epoch 144\n",
      "Training loss (for one batch) at step 0: 0.47699037194252014\n",
      "Epoch 144, Loss: 0.47699037194252014, Val Loss: 0.4577357769012451\n",
      "end of epoch.\n",
      "start of epoch 145\n",
      "Training loss (for one batch) at step 0: 0.5215336680412292\n",
      "Epoch 145, Loss: 0.5215336680412292, Val Loss: 0.5541946887969971\n",
      "end of epoch.\n",
      "start of epoch 146\n",
      "Training loss (for one batch) at step 0: 0.5756211280822754\n",
      "Epoch 146, Loss: 0.5756211280822754, Val Loss: 0.4599166214466095\n",
      "end of epoch.\n",
      "start of epoch 147\n",
      "Training loss (for one batch) at step 0: 0.5017798542976379\n",
      "Epoch 147, Loss: 0.5017798542976379, Val Loss: 0.5360767841339111\n",
      "end of epoch.\n",
      "start of epoch 148\n",
      "Training loss (for one batch) at step 0: 0.44905978441238403\n",
      "Epoch 148, Loss: 0.44905978441238403, Val Loss: 0.5088655948638916\n",
      "end of epoch.\n",
      "start of epoch 149\n",
      "Training loss (for one batch) at step 0: 0.4777846932411194\n",
      "Epoch 149, Loss: 0.4777846932411194, Val Loss: 0.5205782055854797\n",
      "end of epoch.\n",
      "start of epoch 150\n",
      "Training loss (for one batch) at step 0: 0.5239213705062866\n",
      "Epoch 150, Loss: 0.5239213705062866, Val Loss: 0.5102697014808655\n",
      "end of epoch.\n",
      "start of epoch 151\n",
      "Training loss (for one batch) at step 0: 0.5192137956619263\n",
      "Epoch 151, Loss: 0.5192137956619263, Val Loss: 0.48645395040512085\n",
      "end of epoch.\n",
      "start of epoch 152\n",
      "Training loss (for one batch) at step 0: 0.4374774992465973\n",
      "Epoch 152, Loss: 0.4374774992465973, Val Loss: 0.38063356280326843\n",
      "end of epoch.\n",
      "start of epoch 153\n",
      "Training loss (for one batch) at step 0: 0.48083192110061646\n",
      "Epoch 153, Loss: 0.48083192110061646, Val Loss: 0.4762020707130432\n",
      "end of epoch.\n",
      "start of epoch 154\n",
      "Training loss (for one batch) at step 0: 0.37023061513900757\n",
      "Epoch 154, Loss: 0.37023061513900757, Val Loss: 0.4506528973579407\n",
      "end of epoch.\n",
      "start of epoch 155\n",
      "Training loss (for one batch) at step 0: 0.5259613394737244\n",
      "Epoch 155, Loss: 0.5259613394737244, Val Loss: 0.44567814469337463\n",
      "end of epoch.\n",
      "start of epoch 156\n",
      "Training loss (for one batch) at step 0: 0.466045618057251\n",
      "Epoch 156, Loss: 0.466045618057251, Val Loss: 0.46189770102500916\n",
      "end of epoch.\n",
      "start of epoch 157\n",
      "Training loss (for one batch) at step 0: 0.46257781982421875\n",
      "Epoch 157, Loss: 0.46257781982421875, Val Loss: 0.46720319986343384\n",
      "end of epoch.\n",
      "start of epoch 158\n"
     ]
    },
    {
     "name": "stdout",
     "output_type": "stream",
     "text": [
      "Training loss (for one batch) at step 0: 0.5290352702140808\n",
      "Epoch 158, Loss: 0.5290352702140808, Val Loss: 0.49938488006591797\n",
      "end of epoch.\n",
      "start of epoch 159\n",
      "Training loss (for one batch) at step 0: 0.47709518671035767\n",
      "Epoch 159, Loss: 0.47709518671035767, Val Loss: 0.5175390243530273\n",
      "end of epoch.\n",
      "start of epoch 160\n",
      "Training loss (for one batch) at step 0: 0.5431479215621948\n",
      "Epoch 160, Loss: 0.5431479215621948, Val Loss: 0.4868827164173126\n",
      "end of epoch.\n",
      "start of epoch 161\n",
      "Training loss (for one batch) at step 0: 0.5234887003898621\n",
      "Epoch 161, Loss: 0.5234887003898621, Val Loss: 0.5122454762458801\n",
      "end of epoch.\n",
      "start of epoch 162\n",
      "Training loss (for one batch) at step 0: 0.4653880000114441\n",
      "Epoch 162, Loss: 0.4653880000114441, Val Loss: 0.5217132568359375\n",
      "end of epoch.\n",
      "start of epoch 163\n",
      "Training loss (for one batch) at step 0: 0.529481053352356\n",
      "Epoch 163, Loss: 0.529481053352356, Val Loss: 0.4826306998729706\n",
      "end of epoch.\n",
      "start of epoch 164\n",
      "Training loss (for one batch) at step 0: 0.41835901141166687\n",
      "Epoch 164, Loss: 0.41835901141166687, Val Loss: 0.49171170592308044\n",
      "end of epoch.\n",
      "start of epoch 165\n",
      "Training loss (for one batch) at step 0: 0.5427213907241821\n",
      "Epoch 165, Loss: 0.5427213907241821, Val Loss: 0.539019763469696\n",
      "end of epoch.\n",
      "start of epoch 166\n",
      "Training loss (for one batch) at step 0: 0.50042724609375\n",
      "Epoch 166, Loss: 0.50042724609375, Val Loss: 0.5766714811325073\n",
      "end of epoch.\n",
      "start of epoch 167\n",
      "Training loss (for one batch) at step 0: 0.5271366834640503\n",
      "Epoch 167, Loss: 0.5271366834640503, Val Loss: 0.5052130222320557\n",
      "end of epoch.\n",
      "start of epoch 168\n",
      "Training loss (for one batch) at step 0: 0.43401092290878296\n",
      "Epoch 168, Loss: 0.43401092290878296, Val Loss: 0.5902009010314941\n",
      "end of epoch.\n",
      "start of epoch 169\n",
      "Training loss (for one batch) at step 0: 0.49718695878982544\n",
      "Epoch 169, Loss: 0.49718695878982544, Val Loss: 0.5109508633613586\n",
      "end of epoch.\n",
      "start of epoch 170\n",
      "Training loss (for one batch) at step 0: 0.4303739666938782\n",
      "Epoch 170, Loss: 0.4303739666938782, Val Loss: 0.5467953681945801\n",
      "end of epoch.\n",
      "start of epoch 171\n",
      "Training loss (for one batch) at step 0: 0.4619178771972656\n",
      "Epoch 171, Loss: 0.4619178771972656, Val Loss: 0.5479250550270081\n",
      "end of epoch.\n",
      "start of epoch 172\n",
      "Training loss (for one batch) at step 0: 0.5480149388313293\n",
      "Epoch 172, Loss: 0.5480149388313293, Val Loss: 0.5188559889793396\n",
      "end of epoch.\n",
      "start of epoch 173\n",
      "Training loss (for one batch) at step 0: 0.41784918308258057\n",
      "Epoch 173, Loss: 0.41784918308258057, Val Loss: 0.5440893173217773\n",
      "end of epoch.\n",
      "start of epoch 174\n",
      "Training loss (for one batch) at step 0: 0.47117865085601807\n",
      "Epoch 174, Loss: 0.47117865085601807, Val Loss: 0.5163202881813049\n",
      "end of epoch.\n",
      "start of epoch 175\n",
      "Training loss (for one batch) at step 0: 0.530674934387207\n",
      "Epoch 175, Loss: 0.530674934387207, Val Loss: 0.3842218220233917\n",
      "end of epoch.\n",
      "start of epoch 176\n",
      "Training loss (for one batch) at step 0: 0.4303503930568695\n",
      "Epoch 176, Loss: 0.4303503930568695, Val Loss: 0.4129655957221985\n",
      "end of epoch.\n",
      "start of epoch 177\n",
      "Training loss (for one batch) at step 0: 0.5328512191772461\n",
      "Epoch 177, Loss: 0.5328512191772461, Val Loss: 0.43434303998947144\n",
      "end of epoch.\n",
      "start of epoch 178\n",
      "Training loss (for one batch) at step 0: 0.4590180814266205\n",
      "Epoch 178, Loss: 0.4590180814266205, Val Loss: 0.5182666778564453\n",
      "end of epoch.\n",
      "start of epoch 179\n",
      "Training loss (for one batch) at step 0: 0.5290504097938538\n",
      "Epoch 179, Loss: 0.5290504097938538, Val Loss: 0.5098578333854675\n",
      "end of epoch.\n",
      "start of epoch 180\n",
      "Training loss (for one batch) at step 0: 0.4291449189186096\n",
      "Epoch 180, Loss: 0.4291449189186096, Val Loss: 0.4894067347049713\n",
      "end of epoch.\n",
      "start of epoch 181\n",
      "Training loss (for one batch) at step 0: 0.5468897223472595\n",
      "Epoch 181, Loss: 0.5468897223472595, Val Loss: 0.43583762645721436\n",
      "end of epoch.\n",
      "start of epoch 182\n",
      "Training loss (for one batch) at step 0: 0.5096665620803833\n",
      "Epoch 182, Loss: 0.5096665620803833, Val Loss: 0.4260392189025879\n",
      "end of epoch.\n",
      "start of epoch 183\n",
      "Training loss (for one batch) at step 0: 0.5214124321937561\n",
      "Epoch 183, Loss: 0.5214124321937561, Val Loss: 0.5285624265670776\n",
      "end of epoch.\n",
      "start of epoch 184\n",
      "Training loss (for one batch) at step 0: 0.5483558773994446\n",
      "Epoch 184, Loss: 0.5483558773994446, Val Loss: 0.47494634985923767\n",
      "end of epoch.\n",
      "start of epoch 185\n",
      "Training loss (for one batch) at step 0: 0.5657616853713989\n",
      "Epoch 185, Loss: 0.5657616853713989, Val Loss: 0.5054948925971985\n",
      "end of epoch.\n",
      "start of epoch 186\n",
      "Training loss (for one batch) at step 0: 0.5382632613182068\n",
      "Epoch 186, Loss: 0.5382632613182068, Val Loss: 0.46895256638526917\n",
      "end of epoch.\n",
      "start of epoch 187\n",
      "Training loss (for one batch) at step 0: 0.636802077293396\n",
      "Epoch 187, Loss: 0.636802077293396, Val Loss: 0.5033888816833496\n",
      "end of epoch.\n",
      "start of epoch 188\n",
      "Training loss (for one batch) at step 0: 0.4104336202144623\n",
      "Epoch 188, Loss: 0.4104336202144623, Val Loss: 0.4442591965198517\n",
      "end of epoch.\n",
      "start of epoch 189\n",
      "Training loss (for one batch) at step 0: 0.4624187648296356\n",
      "Epoch 189, Loss: 0.4624187648296356, Val Loss: 0.5057952404022217\n",
      "end of epoch.\n",
      "start of epoch 190\n",
      "Training loss (for one batch) at step 0: 0.49991801381111145\n",
      "Epoch 190, Loss: 0.49991801381111145, Val Loss: 0.5080595016479492\n",
      "end of epoch.\n",
      "start of epoch 191\n",
      "Training loss (for one batch) at step 0: 0.5952173471450806\n",
      "Epoch 191, Loss: 0.5952173471450806, Val Loss: 0.5206707715988159\n",
      "end of epoch.\n",
      "start of epoch 192\n",
      "Training loss (for one batch) at step 0: 0.44688618183135986\n",
      "Epoch 192, Loss: 0.44688618183135986, Val Loss: 0.5084664821624756\n",
      "end of epoch.\n",
      "start of epoch 193\n",
      "Training loss (for one batch) at step 0: 0.5448132753372192\n",
      "Epoch 193, Loss: 0.5448132753372192, Val Loss: 0.5180943608283997\n",
      "end of epoch.\n",
      "start of epoch 194\n",
      "Training loss (for one batch) at step 0: 0.422769695520401\n",
      "Epoch 194, Loss: 0.422769695520401, Val Loss: 0.4789920747280121\n",
      "end of epoch.\n",
      "start of epoch 195\n",
      "Training loss (for one batch) at step 0: 0.4780905842781067\n",
      "Epoch 195, Loss: 0.4780905842781067, Val Loss: 0.5473434329032898\n",
      "end of epoch.\n",
      "start of epoch 196\n",
      "Training loss (for one batch) at step 0: 0.48894059658050537\n",
      "Epoch 196, Loss: 0.48894059658050537, Val Loss: 0.5415626168251038\n",
      "end of epoch.\n",
      "start of epoch 197\n",
      "Training loss (for one batch) at step 0: 0.5171079635620117\n",
      "Epoch 197, Loss: 0.5171079635620117, Val Loss: 0.5005709528923035\n",
      "end of epoch.\n",
      "start of epoch 198\n",
      "Training loss (for one batch) at step 0: 0.5173156261444092\n",
      "Epoch 198, Loss: 0.5173156261444092, Val Loss: 0.5598058700561523\n",
      "end of epoch.\n",
      "start of epoch 199\n",
      "Training loss (for one batch) at step 0: 0.5350090265274048\n",
      "Epoch 199, Loss: 0.5350090265274048, Val Loss: 0.43026283383369446\n",
      "end of epoch.\n",
      "start of epoch 200\n",
      "Training loss (for one batch) at step 0: 0.543109118938446\n",
      "Epoch 200, Loss: 0.543109118938446, Val Loss: 0.3376888632774353\n",
      "end of epoch.\n",
      "Checkpoint directory :  checkpoints/CNNgeo/200507_regressor_filter_size_up\n",
      "Tensorboard log directory :  logs/CNNgeo/200507_regressor_filter_size_up\n"
     ]
    }
   ],
   "source": [
    "model = CNNgeo_debug.train(config)"
   ]
  },
  {
   "cell_type": "code",
   "execution_count": 7,
   "metadata": {},
   "outputs": [
    {
     "name": "stdout",
     "output_type": "stream",
     "text": [
      "Model: \"cnn_geo\"\n",
      "_________________________________________________________________\n",
      "Layer (type)                 Output Shape              Param #   \n",
      "=================================================================\n",
      "feature__extractor (Feature_ multiple                  113600    \n",
      "_________________________________________________________________\n",
      "correlation_network (Correla multiple                  0         \n",
      "_________________________________________________________________\n",
      "spatial_transformer_regresso multiple                  875250    \n",
      "=================================================================\n",
      "Total params: 988,850\n",
      "Trainable params: 988,146\n",
      "Non-trainable params: 704\n",
      "_________________________________________________________________\n"
     ]
    }
   ],
   "source": [
    "model.summary()"
   ]
  },
  {
   "cell_type": "markdown",
   "metadata": {},
   "source": [
    "# 3. Debug codes"
   ]
  },
  {
   "cell_type": "code",
   "execution_count": 8,
   "metadata": {},
   "outputs": [
    {
     "name": "stdout",
     "output_type": "stream",
     "text": [
      "train dataset amount : 1\n"
     ]
    }
   ],
   "source": [
    "datasets = load_data(['train'], config)\n",
    "ds = datasets['train'].batch(1)"
   ]
  },
  {
   "cell_type": "code",
   "execution_count": 9,
   "metadata": {},
   "outputs": [],
   "source": [
    "for image_A, image_B, parameters in ds.take(1):\n",
    "    image_A = image_A.numpy()\n",
    "    image_B = image_B.numpy()\n",
    "    parameters = parameters.numpy()\n",
    "#image_B_hat = np.ones([1, 64, 64, 3])\n",
    "pred, score = model(image_A, image_B)"
   ]
  },
  {
   "cell_type": "code",
   "execution_count": 10,
   "metadata": {},
   "outputs": [
    {
     "name": "stdout",
     "output_type": "stream",
     "text": [
      "parameter shape (1, 9, 2)\n",
      "score shape (1, 16, 16, 16, 16)\n",
      "(1, 64, 64, 3)\n"
     ]
    }
   ],
   "source": [
    "print(\"parameter shape\", pred.shape)\n",
    "print(\"score shape\", score.shape)\n",
    "print(image_A.shape)"
   ]
  },
  {
   "cell_type": "markdown",
   "metadata": {},
   "source": [
    "## a. 모델은 이미지쌍(image A, image B)으로부터 모션 파라미터를 추정할 수 있는가?"
   ]
  },
  {
   "cell_type": "markdown",
   "metadata": {},
   "source": [
    "### 반복 시행 1"
   ]
  },
  {
   "cell_type": "code",
   "execution_count": 13,
   "metadata": {},
   "outputs": [
    {
     "name": "stdout",
     "output_type": "stream",
     "text": [
      "compare gt : [[[-0.13043766 -0.18404832]\n",
      "  [ 0.18106805  0.07970381]\n",
      "  [-0.1278586   0.05054436]\n",
      "  [-0.1395794   0.06519385]\n",
      "  [-0.06439195  0.11532793]\n",
      "  [-0.04426918  0.02836704]\n",
      "  [ 0.0227592  -0.16686927]\n",
      "  [ 0.05012674  0.07250895]\n",
      "  [-0.11215343 -0.11619158]]] and \n",
      " pred : [[[ 2.1380242e-03  4.4031805e-04]\n",
      "  [-2.4255062e-03 -1.8939306e-03]\n",
      "  [ 2.9904034e-04  4.8377463e-03]\n",
      "  [-2.7184724e-04  2.0439231e-03]\n",
      "  [-1.2282170e-03 -1.4591082e-05]\n",
      "  [ 3.7083321e-04  1.3606061e-04]\n",
      "  [-2.9373025e-03  7.0473994e-04]\n",
      "  [-2.1467507e-03 -4.2891558e-03]\n",
      "  [ 9.4065105e-04  5.0081674e-04]]]\n",
      "loss : [0.10885546]\n"
     ]
    },
    {
     "name": "stderr",
     "output_type": "stream",
     "text": [
      "Clipping input data to the valid range for imshow with RGB data ([0..1] for floats or [0..255] for integers).\n",
      "Clipping input data to the valid range for imshow with RGB data ([0..1] for floats or [0..255] for integers).\n",
      "Clipping input data to the valid range for imshow with RGB data ([0..1] for floats or [0..255] for integers).\n"
     ]
    },
    {
     "data": {
      "image/png": "[encoded data removed]",
      "text/plain": [
       "<Figure size 432x288 with 3 Axes>"
      ]
     },
     "metadata": {
      "needs_background": "light"
     },
     "output_type": "display_data"
    }
   ],
   "source": [
    "for image_A, image_B, parameters in ds.take(1):\n",
    "    image_A = image_A.numpy()\n",
    "    image_B = image_B.numpy()\n",
    "    parameters = parameters.numpy()\n",
    "pred, score = model(image_A, image_B)\n",
    "\n",
    "print(\"compare gt : {} and \\n pred : {}\".format(parameters, pred))\n",
    "loss = tf.reduce_sum(tf.keras.losses.MSE(pred, parameters), axis=1)\n",
    "print(\"loss : {}\".format(loss))\n",
    "\n",
    "pred = pred.numpy()\n",
    "image_C = list(map(lambda x : image.synthesize_image(x[0], x[1], (64, 64), bbox=None, pad_ratio=None),\n",
    "                   zip(image_A.copy(), pred.copy())))    \n",
    "image_C = np.array(image_C)\n",
    "visualize.show_TPS_image([image_A, image_B, image_C], [np.ones_like(parameters), parameters, pred])    \n",
    "\n",
    "pred1 = pred.copy()"
   ]
  },
  {
   "cell_type": "markdown",
   "metadata": {},
   "source": [
    "### 반복 시행 2"
   ]
  },
  {
   "cell_type": "code",
   "execution_count": 14,
   "metadata": {},
   "outputs": [
    {
     "name": "stderr",
     "output_type": "stream",
     "text": [
      "Clipping input data to the valid range for imshow with RGB data ([0..1] for floats or [0..255] for integers).\n",
      "Clipping input data to the valid range for imshow with RGB data ([0..1] for floats or [0..255] for integers).\n",
      "Clipping input data to the valid range for imshow with RGB data ([0..1] for floats or [0..255] for integers).\n"
     ]
    },
    {
     "name": "stdout",
     "output_type": "stream",
     "text": [
      "compare gt : [[[-0.19677582 -0.08329554]\n",
      "  [-0.1439197   0.13962507]\n",
      "  [-0.10982686  0.10416474]\n",
      "  [-0.17549983 -0.02944741]\n",
      "  [ 0.1624023   0.18824215]\n",
      "  [-0.141004    0.01149349]\n",
      "  [ 0.06974025 -0.11064615]\n",
      "  [-0.1312098  -0.11134019]\n",
      "  [-0.0847158  -0.06765284]]] and \n",
      " pred : [[[ 2.1380242e-03  4.4031805e-04]\n",
      "  [-2.4255062e-03 -1.8939306e-03]\n",
      "  [ 2.9904034e-04  4.8377463e-03]\n",
      "  [-2.7184724e-04  2.0439231e-03]\n",
      "  [-1.2282170e-03 -1.4591082e-05]\n",
      "  [ 3.7083321e-04  1.3606061e-04]\n",
      "  [-2.9373025e-03  7.0473994e-04]\n",
      "  [-2.1467507e-03 -4.2891558e-03]\n",
      "  [ 9.4065105e-04  5.0081674e-04]]]\n",
      "loss : [0.14021416]\n"
     ]
    },
    {
     "data": {
      "image/png": "[encoded data removed]",
      "text/plain": [
       "<Figure size 432x288 with 3 Axes>"
      ]
     },
     "metadata": {
      "needs_background": "light"
     },
     "output_type": "display_data"
    }
   ],
   "source": [
    "for image_A, image_B, parameters in ds.take(1):\n",
    "    image_A = image_A.numpy()\n",
    "    image_B = image_B.numpy()\n",
    "    parameters = parameters.numpy()\n",
    "pred, score = model(image_A, image_B)\n",
    "\n",
    "print(\"compare gt : {} and \\n pred : {}\".format(parameters, pred))\n",
    "loss = tf.reduce_sum(tf.keras.losses.MSE(pred, parameters), axis=1)\n",
    "print(\"loss : {}\".format(loss))\n",
    "\n",
    "pred = pred.numpy()\n",
    "image_C = list(map(lambda x : image.synthesize_image(x[0], x[1], (64, 64), bbox=None, pad_ratio=None),\n",
    "                   zip(image_A.copy(), pred.copy())))    \n",
    "image_C = np.array(image_C)\n",
    "visualize.show_TPS_image([image_A, image_B, image_C], [np.ones_like(parameters), parameters, pred])    \n",
    "\n",
    "pred2 = pred.copy()"
   ]
  },
  {
   "cell_type": "markdown",
   "metadata": {},
   "source": [
    "### Garbage image B"
   ]
  },
  {
   "cell_type": "code",
   "execution_count": 15,
   "metadata": {},
   "outputs": [
    {
     "name": "stdout",
     "output_type": "stream",
     "text": [
      "WARNING:tensorflow:Layer feature__extractor is casting an input tensor from dtype float64 to the layer's dtype of float32, which is new behavior in TensorFlow 2.  The layer has dtype float32 because it's dtype defaults to floatx.\n",
      "\n",
      "If you intended to run this layer in float32, you can safely ignore this warning. If in doubt, this warning is likely only an issue if you are porting a TensorFlow 1.X model to TensorFlow 2.\n",
      "\n",
      "To change all layers to have dtype float64 by default, call `tf.keras.backend.set_floatx('float64')`. To change just this layer, pass dtype='float64' to the layer constructor. If you are the author of this layer, you can disable autocasting by passing autocast=False to the base Layer constructor.\n",
      "\n"
     ]
    },
    {
     "name": "stderr",
     "output_type": "stream",
     "text": [
      "Clipping input data to the valid range for imshow with RGB data ([0..1] for floats or [0..255] for integers).\n",
      "Clipping input data to the valid range for imshow with RGB data ([0..1] for floats or [0..255] for integers).\n",
      "Clipping input data to the valid range for imshow with RGB data ([0..1] for floats or [0..255] for integers).\n"
     ]
    },
    {
     "name": "stdout",
     "output_type": "stream",
     "text": [
      "compare gt : [[[-0.19677582 -0.08329554]\n",
      "  [-0.1439197   0.13962507]\n",
      "  [-0.10982686  0.10416474]\n",
      "  [-0.17549983 -0.02944741]\n",
      "  [ 0.1624023   0.18824215]\n",
      "  [-0.141004    0.01149349]\n",
      "  [ 0.06974025 -0.11064615]\n",
      "  [-0.1312098  -0.11134019]\n",
      "  [-0.0847158  -0.06765284]]] and \n",
      " pred : [[[ 2.1380242e-03  4.4031805e-04]\n",
      "  [-2.4255062e-03 -1.8939306e-03]\n",
      "  [ 2.9904034e-04  4.8377463e-03]\n",
      "  [-2.7184724e-04  2.0439231e-03]\n",
      "  [-1.2282170e-03 -1.4591082e-05]\n",
      "  [ 3.7083321e-04  1.3606061e-04]\n",
      "  [-2.9373025e-03  7.0473994e-04]\n",
      "  [-2.1467507e-03 -4.2891558e-03]\n",
      "  [ 9.4065105e-04  5.0081674e-04]]]\n",
      "loss : [0.14021416]\n"
     ]
    },
    {
     "data": {
      "image/png": "[encoded data removed]",
      "text/plain": [
       "<Figure size 432x288 with 3 Axes>"
      ]
     },
     "metadata": {
      "needs_background": "light"
     },
     "output_type": "display_data"
    }
   ],
   "source": [
    "image_B = np.ones([1, 64, 64, 3])\n",
    "pred, score = model(image_A, image_B)\n",
    "\n",
    "print(\"compare gt : {} and \\n pred : {}\".format(parameters, pred))\n",
    "loss = tf.reduce_sum(tf.keras.losses.MSE(pred, parameters), axis=1)\n",
    "print(\"loss : {}\".format(loss))\n",
    "\n",
    "pred = pred.numpy()\n",
    "image_C = list(map(lambda x : image.synthesize_image(x[0], x[1], (64, 64), bbox=None, pad_ratio=None),\n",
    "                   zip(image_A.copy(), pred.copy())))    \n",
    "image_C = np.array(image_C)\n",
    "visualize.show_TPS_image([image_A, image_B, image_C], [np.ones_like(parameters), parameters, pred])    \n",
    "\n",
    "pred3 = pred.copy()"
   ]
  },
  {
   "cell_type": "code",
   "execution_count": null,
   "metadata": {},
   "outputs": [],
   "source": [
    "print(pred1, \"\\n\", pred2, \"\\n\", pred3)"
   ]
  },
  {
   "cell_type": "code",
   "execution_count": null,
   "metadata": {},
   "outputs": [],
   "source": [
    "model.summary()"
   ]
  },
  {
   "cell_type": "markdown",
   "metadata": {},
   "source": [
    "### 임의의 correlation을 입력했을 때 : 역시 같은 결과"
   ]
  },
  {
   "cell_type": "code",
   "execution_count": null,
   "metadata": {},
   "outputs": [],
   "source": [
    "x = np.zeros([16, 16, 16, 16], np.float32)+1.0\n",
    "y = np.random.uniform(low=0.89, high=1.0, size=[16, 16, 16, 16]).astype(np.float32)\n",
    "model.layers[2](y)\n",
    "model.layers[2](y)"
   ]
  },
  {
   "cell_type": "code",
   "execution_count": 18,
   "metadata": {},
   "outputs": [
    {
     "name": "stdout",
     "output_type": "stream",
     "text": [
      "tf.Tensor(\n",
      "[[ 2.1380242e-03  4.4031805e-04 -2.4255062e-03 -1.8939306e-03\n",
      "   2.9904034e-04  4.8377463e-03 -2.7184724e-04  2.0439231e-03\n",
      "  -1.2282170e-03 -1.4591082e-05  3.7083321e-04  1.3606061e-04\n",
      "  -2.9373025e-03  7.0473994e-04 -2.1467507e-03 -4.2891558e-03\n",
      "   9.4065105e-04  5.0081674e-04]], shape=(1, 18), dtype=float32)\n"
     ]
    }
   ],
   "source": [
    "x = np.ones([1, 16, 16, 16, 16]) # all correlations are one\n",
    "y = model.layers[2](x)\n",
    "print(y)"
   ]
  },
  {
   "cell_type": "code",
   "execution_count": null,
   "metadata": {},
   "outputs": [],
   "source": [
    "#y = np.random.uniform(low=0.89, high=1.0, size=[16, 16, 16, 16]).astype(np.float32)\n"
   ]
  },
  {
   "cell_type": "code",
   "execution_count": 20,
   "metadata": {},
   "outputs": [],
   "source": [
    "x = np.random.normal(loc=0.5, scale=0.0, size=[1, 16, 16, 16, 16])"
   ]
  },
  {
   "cell_type": "code",
   "execution_count": 31,
   "metadata": {},
   "outputs": [
    {
     "name": "stdout",
     "output_type": "stream",
     "text": [
      "[0.         0.02040816 0.04081633 0.06122449 0.08163265 0.10204082\n",
      " 0.12244898 0.14285714 0.16326531 0.18367347 0.20408163 0.2244898\n",
      " 0.24489796 0.26530612 0.28571429 0.30612245 0.32653061 0.34693878\n",
      " 0.36734694 0.3877551  0.40816327 0.42857143 0.44897959 0.46938776\n",
      " 0.48979592 0.51020408 0.53061224 0.55102041 0.57142857 0.59183673\n",
      " 0.6122449  0.63265306 0.65306122 0.67346939 0.69387755 0.71428571\n",
      " 0.73469388 0.75510204 0.7755102  0.79591837 0.81632653 0.83673469\n",
      " 0.85714286 0.87755102 0.89795918 0.91836735 0.93877551 0.95918367\n",
      " 0.97959184 1.        ]\n"
     ]
    }
   ],
   "source": [
    "std_range = np.linspace(0, 1.0, 50)\n",
    "print(std_range)"
   ]
  },
  {
   "cell_type": "code",
   "execution_count": 28,
   "metadata": {},
   "outputs": [
    {
     "name": "stdout",
     "output_type": "stream",
     "text": [
      "[0.0, 0.0, 3.553997e-13, 1.7792567e-09, 2.6857334e-09, 4.7599505e-07, 1.7093558e-06, 2.9410621e-05, 2.276667e-05, 0.00014305983, 0.00041029844, 0.000775071, 0.000349852, 0.0006241798, 0.0016046868, 0.0019472252, 0.0112478845, 0.026991727, 0.009504217, 0.015219706, 0.054853193, 0.069531925, 0.07815356, 0.018589182, 0.04798104, 0.08692917, 0.3107897, 0.123597324, 0.16204292, 0.10677534, 0.46224642, 0.66187805, 1.017178, 0.31189275, 0.8824818, 0.82076305, 1.6510396, 0.69405794, 3.3005543, 2.6375868, 3.2665477, 0.85675687, 2.9508348, 12.105652, 9.054043, 6.9707637, 13.703121, 1.8836066, 13.178517, 12.026426]\n"
     ]
    }
   ],
   "source": [
    "distances = []\n",
    "for std in std_range:\n",
    "    x = np.random.normal(loc=0.5, scale=std, size=[1, 16, 16, 16, 16])\n",
    "    _y = model.layers[2](x)\n",
    "    distance = np.square(np.sum(np.power((y - _y), 2)))\n",
    "    distances.append(distance)   "
   ]
  },
  {
   "cell_type": "code",
   "execution_count": 30,
   "metadata": {},
   "outputs": [
    {
     "data": {
      "image/png": "[encoded data removed]",
      "text/plain": [
       "<Figure size 432x288 with 1 Axes>"
      ]
     },
     "metadata": {
      "needs_background": "light"
     },
     "output_type": "display_data"
    }
   ],
   "source": [
    "plt.plot(std_range, distances)\n",
    "plt.show()"
   ]
  },
  {
   "cell_type": "markdown",
   "metadata": {},
   "source": [
    "1. VGG16을 통한 correlations\n",
    "2. 시각화 방식 개선\n",
    "3. tentative penalty"
   ]
  },
  {
   "cell_type": "code",
   "execution_count": null,
   "metadata": {},
   "outputs": [],
   "source": []
  },
  {
   "cell_type": "code",
   "execution_count": null,
   "metadata": {},
   "outputs": [],
   "source": []
  },
  {
   "cell_type": "code",
   "execution_count": null,
   "metadata": {},
   "outputs": [],
   "source": []
  },
  {
   "cell_type": "markdown",
   "metadata": {},
   "source": [
    "## b. 특징추출기의 정상 동작 검증"
   ]
  },
  {
   "cell_type": "markdown",
   "metadata": {},
   "source": [
    "### 동일 영상에 대한 correlation"
   ]
  },
  {
   "cell_type": "code",
   "execution_count": 11,
   "metadata": {},
   "outputs": [
    {
     "name": "stdout",
     "output_type": "stream",
     "text": [
      "(16, 16, 16, 16) (9, 2) (64, 64, 3)\n"
     ]
    }
   ],
   "source": [
    "for image_A, image_B, parameters in ds.take(1):\n",
    "    image_A = image_A.numpy()\n",
    "    image_B = image_B.numpy()\n",
    "    parameters = parameters.numpy()\n",
    "pred, score = model(image_A, image_A)\n",
    "\n",
    "score = score.numpy()[0]\n",
    "parameters = parameters[0]\n",
    "image_A = image_A[0]\n",
    "image_B = image_B[0]\n",
    "\n",
    "print(score.shape, parameters.shape, image_A.shape)"
   ]
  },
  {
   "cell_type": "code",
   "execution_count": 12,
   "metadata": {},
   "outputs": [],
   "source": [
    "def get_matching_grid_from_B(parameters, center_point):\n",
    "    src_points = np.array([[0.0, 0.0], [0.5, 0.0], [1.0, 0.0],\n",
    "                                   [0.0, 0.5], [0.5, 0.5], [1.0, 0.5],\n",
    "                                   [0.0, 1.0], [0.5, 1.0], [1.0, 1.0]])\n",
    "\n",
    "    dst_points = src_points +parameters\n",
    "\n",
    "    theta = tps.tps_theta_from_points(src_points, dst_points, reduced=True)\n",
    "    dshape = (64, 64)\n",
    "    grid = tps.tps_grid(theta, dst_points, dshape)\n",
    "    mapx, mapy = tps.tps_grid_to_remap(grid, (64, 64))\n",
    "    points = np.concatenate([mapy[:,:,np.newaxis], mapx[:,:,np.newaxis]], axis=2)\n",
    "    #print(\"points :\", points)\n",
    "    center_point = np.array(center_point)\n",
    "    #print(\"grid center : \", center_point)\n",
    "    center_point = center_point[np.newaxis, np.newaxis, :]\n",
    "    distance = np.sum(np.power((points - center_point), 2), axis=2)\n",
    "    #print(\"distance : \", distance)\n",
    "    ri, ci = distance.argmin()//distance.shape[1], distance.argmin()%distance.shape[1]\n",
    "    return (ri, ci)"
   ]
  },
  {
   "cell_type": "code",
   "execution_count": null,
   "metadata": {},
   "outputs": [],
   "source": [
    "def score_test(grid_coord, score, parameters, images, grid_shape=(16,16)):\n",
    "    image_A, image_B = images\n",
    "    score = score[grid_coord[0], grid_coord[1]]\n",
    "    H, W, C = image_A.shape\n",
    "    grid_size = H/grid_shape[0], W/grid_shape[1]\n",
    "\n",
    "    start_pix_h = int(grid_size[0]*grid_coord[0])\n",
    "    end_pix_h = int(grid_size[0]*(1+grid_coord[0]))\n",
    "    start_pix_w = int(grid_size[1]*grid_coord[1])\n",
    "    end_pix_w = int(grid_size[1]*(1+grid_coord[1]))\n",
    "    \n",
    "    drawn_grid_image_A = image_A.copy()\n",
    "    drawn_grid_image_A[start_pix_h:end_pix_h, start_pix_w:end_pix_w] = (0,0,0)   \n",
    "    \n",
    "    expected_drawn_grid_image_B = image_B.copy()\n",
    "    grid_center_A = (int(start_pix_h+grid_size[0]/2), int(start_pix_w+grid_size[1]/2))\n",
    "    grid_center_B = get_matching_grid_from_B(parameters, grid_center_A)\n",
    "    start_pix_h = int(grid_center_B[0] - grid_size[0]/2)\n",
    "    start_pix_w = int(grid_center_B[1] - grid_size[1]/2)\n",
    "    end_pix_h = int(grid_center_B[0] + grid_size[0]/2)\n",
    "    end_pix_w = int(grid_center_B[1] + grid_size[1]/2)\n",
    "    expected_drawn_grid_image_B[start_pix_h:end_pix_h, start_pix_w:end_pix_w] = (0,0,0)\n",
    "    \n",
    "    drawn_grid_image_B = image_B.copy()\n",
    "    max_correlation_grid_index = score.argmax()//score.shape[1], score.argmax()%score.shape[1]\n",
    "    start_pix_h = int(grid_size[0]*max_correlation_grid_index[0])\n",
    "    end_pix_h = int(grid_size[0]*(1+max_correlation_grid_index[0]))\n",
    "    start_pix_w = int(grid_size[1]*max_correlation_grid_index[1])\n",
    "    end_pix_w = int(grid_size[1]*(1+max_correlation_grid_index[1]))\n",
    "\n",
    "    drawn_grid_image_B[start_pix_h:end_pix_h, start_pix_w:end_pix_w] = (0,0,0)\n",
    "    \n",
    "    print(\"top 10 correlation values in descending : \", np.sort(score.flatten())[::-1][:10])\n",
    "    \n",
    "    return drawn_grid_image_A, expected_drawn_grid_image_B, drawn_grid_image_B"
   ]
  },
  {
   "cell_type": "code",
   "execution_count": null,
   "metadata": {},
   "outputs": [],
   "source": [
    "drawn_image_A, expected_drawn_grid_image_B, drawn_grid_image_B = score_test(grid_coord=(5,10), \n",
    "                                                                            score=score, \n",
    "                                                                            parameters=np.zeros([9,2]), \n",
    "                                                                            images=(image_A, image_A))"
   ]
  },
  {
   "cell_type": "code",
   "execution_count": null,
   "metadata": {},
   "outputs": [],
   "source": [
    "fig = plt.figure()\n",
    "\n",
    "ax1 = fig.add_subplot(131)\n",
    "ax2 = fig.add_subplot(132)\n",
    "ax3 = fig.add_subplot(133)\n",
    "\n",
    "ax1.imshow(drawn_image_A)\n",
    "ax2.imshow(expected_drawn_grid_image_B)\n",
    "ax3.imshow(drawn_grid_image_B)\n",
    "\n",
    "plt.show()"
   ]
  },
  {
   "cell_type": "code",
   "execution_count": null,
   "metadata": {},
   "outputs": [],
   "source": [
    "drawn_image_A.shape\n",
    "expected_drawn_grid_image_B.shape\n",
    "drawn_grid_image_B.shape"
   ]
  },
  {
   "cell_type": "markdown",
   "metadata": {},
   "source": [
    "### b.1 ) 동일한 사진의 경우"
   ]
  },
  {
   "cell_type": "code",
   "execution_count": null,
   "metadata": {},
   "outputs": [],
   "source": [
    "for i in range(16):\n",
    "    drawn_image_A, expected_drawn_grid_image_B, drawn_grid_image_B = score_test(grid_coord=(i,i), \n",
    "                                                                                score=score, \n",
    "                                                                                parameters=np.zeros([9,2]), \n",
    "                                                                                images=(image_A, image_A))   \n",
    "    fig = plt.figure()\n",
    "\n",
    "    ax1 = fig.add_subplot(131)\n",
    "    ax2 = fig.add_subplot(132)\n",
    "    ax3 = fig.add_subplot(133)\n",
    "\n",
    "    ax1.imshow(drawn_image_A)\n",
    "    ax2.imshow(expected_drawn_grid_image_B)\n",
    "    ax3.imshow(drawn_grid_image_B)\n",
    "\n",
    "    plt.show()"
   ]
  },
  {
   "cell_type": "markdown",
   "metadata": {},
   "source": [
    "### b.2 ) 다른 사진의 경우"
   ]
  },
  {
   "cell_type": "code",
   "execution_count": null,
   "metadata": {},
   "outputs": [],
   "source": [
    "for image_A, image_B, parameters in ds.take(1):\n",
    "    image_A = image_A.numpy()\n",
    "    image_B = image_B.numpy()\n",
    "    parameters = parameters.numpy()\n",
    "pred, score = model(image_A, image_A)\n",
    "\n",
    "score = score.numpy()[0]\n",
    "parameters = parameters[0]\n",
    "image_A = image_A[0]\n",
    "image_B = image_B[0]\n",
    "\n",
    "print(score.shape, parameters.shape, image_A.shape)"
   ]
  },
  {
   "cell_type": "code",
   "execution_count": null,
   "metadata": {},
   "outputs": [],
   "source": [
    "for i in range(16):\n",
    "    drawn_image_A, expected_drawn_grid_image_B, drawn_grid_image_B = score_test(grid_coord=(i,i), \n",
    "                                                                                score=score, \n",
    "                                                                                parameters=parameters, \n",
    "                                                                                images=(image_A, image_B))   \n",
    "    fig = plt.figure()\n",
    "\n",
    "    ax1 = fig.add_subplot(131)\n",
    "    ax2 = fig.add_subplot(132)\n",
    "    ax3 = fig.add_subplot(133)\n",
    "\n",
    "    ax1.imshow(drawn_image_A)\n",
    "    ax2.imshow(expected_drawn_grid_image_B)\n",
    "    ax3.imshow(drawn_grid_image_B)\n",
    "\n",
    "    plt.show()\n"
   ]
  },
  {
   "cell_type": "code",
   "execution_count": null,
   "metadata": {},
   "outputs": [],
   "source": []
  },
  {
   "cell_type": "code",
   "execution_count": null,
   "metadata": {},
   "outputs": [],
   "source": []
  },
  {
   "cell_type": "code",
   "execution_count": null,
   "metadata": {},
   "outputs": [],
   "source": []
  },
  {
   "cell_type": "code",
   "execution_count": null,
   "metadata": {},
   "outputs": [],
   "source": []
  },
  {
   "cell_type": "code",
   "execution_count": null,
   "metadata": {},
   "outputs": [],
   "source": []
  },
  {
   "cell_type": "code",
   "execution_count": null,
   "metadata": {},
   "outputs": [],
   "source": []
  },
  {
   "cell_type": "code",
   "execution_count": null,
   "metadata": {},
   "outputs": [],
   "source": [
    "from models.cnn_geo import CNN_geo\n",
    "from data_loader import load_data\n",
    "import numpy as np\n",
    "from matplotlib import pyplot as plt"
   ]
  },
  {
   "cell_type": "code",
   "execution_count": null,
   "metadata": {},
   "outputs": [],
   "source": [
    "model = CNN_geo(config['backbone'])\n",
    "ckpt_dir = os.path.join(\n",
    "        'checkpoints', config['model_name'], config['exp_desc'])\n",
    "ckpt = os.path.join(ckpt_dir, \"{}-{}.h5\".format(config['model_name'], str(config['train']['epochs'])))\n",
    "model.load(ckpt)"
   ]
  },
  {
   "cell_type": "code",
   "execution_count": null,
   "metadata": {},
   "outputs": [],
   "source": [
    "model.layers"
   ]
  },
  {
   "cell_type": "code",
   "execution_count": null,
   "metadata": {},
   "outputs": [],
   "source": [
    "model.layers[2](np.ones([1, 16,16,16,16]))"
   ]
  },
  {
   "cell_type": "code",
   "execution_count": null,
   "metadata": {},
   "outputs": [],
   "source": [
    "datasets = load_data(['train'], config)\n",
    "ds = datasets['train'].batch(1)\n",
    "for image_A, image_B, parameters in ds.take(1):\n",
    "    image_A = image_A.numpy()\n",
    "    image_B = image_B.numpy()\n",
    "    parameters = parameters.numpy()"
   ]
  },
  {
   "cell_type": "code",
   "execution_count": null,
   "metadata": {},
   "outputs": [],
   "source": [
    "image_A.shape, image_B.shape\n",
    "\n",
    "x = model.layers[0](image_A)\n",
    "y = model.layers[0](image_B)"
   ]
  },
  {
   "cell_type": "code",
   "execution_count": null,
   "metadata": {},
   "outputs": [],
   "source": [
    "plt.imshow(image_A[0])"
   ]
  },
  {
   "cell_type": "code",
   "execution_count": null,
   "metadata": {},
   "outputs": [],
   "source": [
    "plt.imshow(image_B[0])"
   ]
  },
  {
   "cell_type": "code",
   "execution_count": null,
   "metadata": {},
   "outputs": [],
   "source": []
  },
  {
   "cell_type": "code",
   "execution_count": null,
   "metadata": {},
   "outputs": [],
   "source": [
    "import tensorflow as tf"
   ]
  },
  {
   "cell_type": "code",
   "execution_count": null,
   "metadata": {},
   "outputs": [],
   "source": [
    "score = model.layers[1](x, y)"
   ]
  },
  {
   "cell_type": "code",
   "execution_count": null,
   "metadata": {},
   "outputs": [],
   "source": [
    "float_formatter = \"{:.3f}\".format\n",
    "np.set_printoptions(formatter={'float_kind':float_formatter})"
   ]
  },
  {
   "cell_type": "code",
   "execution_count": null,
   "metadata": {},
   "outputs": [],
   "source": [
    "print(np.max(score[0, 0,0]))"
   ]
  },
  {
   "cell_type": "code",
   "execution_count": null,
   "metadata": {},
   "outputs": [],
   "source": [
    "print(score[0,0,0])"
   ]
  },
  {
   "cell_type": "code",
   "execution_count": null,
   "metadata": {},
   "outputs": [],
   "source": [
    "parameters"
   ]
  },
  {
   "cell_type": "code",
   "execution_count": null,
   "metadata": {},
   "outputs": [],
   "source": [
    "model.layers[2](score)"
   ]
  },
  {
   "cell_type": "code",
   "execution_count": null,
   "metadata": {},
   "outputs": [],
   "source": [
    "vgg = tf.keras.applications.VGG16(weights='imagenet', input_shape=(64, 64, 3), include_top=False)"
   ]
  },
  {
   "cell_type": "code",
   "execution_count": null,
   "metadata": {},
   "outputs": [],
   "source": [
    "model = tf.keras.Model(inputs=vgg.layers[0].input, outputs=vgg.layers[9].output)"
   ]
  },
  {
   "cell_type": "code",
   "execution_count": null,
   "metadata": {},
   "outputs": [],
   "source": [
    "model.summary()"
   ]
  },
  {
   "cell_type": "code",
   "execution_count": null,
   "metadata": {},
   "outputs": [],
   "source": []
  }
 ],
 "metadata": {
  "kernelspec": {
   "display_name": "Python 3",
   "language": "python",
   "name": "python3"
  },
  "language_info": {
   "codemirror_mode": {
    "name": "ipython",
    "version": 3
   },
   "file_extension": ".py",
   "mimetype": "text/x-python",
   "name": "python",
   "nbconvert_exporter": "python",
   "pygments_lexer": "ipython3",
   "version": "3.6.9"
  }
 },
 "nbformat": 4,
 "nbformat_minor": 4
}

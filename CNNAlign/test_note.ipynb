{
 "cells": [
  {
   "cell_type": "code",
   "execution_count": 77,
   "metadata": {},
   "outputs": [],
   "source": [
    "import json, os\n",
    "import argparse\n",
    "import tensorflow as tf\n",
    "import numpy as np\n",
    "from matplotlib import pyplot as plt\n",
    "\n",
    "from data_loader import load_data\n",
    "from models.cnn_geo import CNN_geo\n",
    "\n",
    "from test_codes import data, train, visualize\n",
    "from utils import image\n",
    "import geo_transform as tps\n",
    "import CNNgeo_debug"
   ]
  },
  {
   "cell_type": "markdown",
   "metadata": {},
   "source": [
    "# 1. Read configuration file"
   ]
  },
  {
   "cell_type": "code",
   "execution_count": 2,
   "metadata": {},
   "outputs": [],
   "source": [
    "with open('overfit.json') as fp:\n",
    "    config = json.load(fp)\n",
    "split = 'val'"
   ]
  },
  {
   "cell_type": "code",
   "execution_count": 3,
   "metadata": {},
   "outputs": [],
   "source": [
    "#data.synthesize_image_pair(config, split)"
   ]
  },
  {
   "cell_type": "code",
   "execution_count": 4,
   "metadata": {},
   "outputs": [
    {
     "name": "stdout",
     "output_type": "stream",
     "text": [
      "{'n_examples': 1, 'learning_rate': 0.0001, 'batch_size': 1, 'epochs': 200, 'print_step': 10}\n"
     ]
    }
   ],
   "source": [
    "print(config['train'])"
   ]
  },
  {
   "cell_type": "code",
   "execution_count": 5,
   "metadata": {},
   "outputs": [
    {
     "name": "stdout",
     "output_type": "stream",
     "text": [
      "backbone :  prototypical_network\n",
      "n_examples :  1\n",
      "learning_rate :  0.0001\n",
      "batch_size :  1\n",
      "epoch num :  200\n"
     ]
    }
   ],
   "source": [
    "print(\"backbone : \", config['backbone'])\n",
    "print(\"n_examples : \", config['train']['n_examples'])\n",
    "print(\"learning_rate : \", config['train']['learning_rate'])\n",
    "print(\"batch_size : \", config['train']['batch_size'])\n",
    "print(\"epoch num : \", config['train']['epochs'])"
   ]
  },
  {
   "cell_type": "markdown",
   "metadata": {},
   "source": [
    "# 2. Train model on the config parameters"
   ]
  },
  {
   "cell_type": "code",
   "execution_count": 6,
   "metadata": {},
   "outputs": [
    {
     "name": "stdout",
     "output_type": "stream",
     "text": [
      "train dataset amount : 1\n",
      "val dataset amount : 1\n",
      "start of epoch 1\n",
      "Training loss (for one batch) at step 0: 0.5712886452674866\n",
      "Epoch 1, Loss: 0.5712886452674866, Val Loss: 0.4634566605091095\n",
      "end of epoch.\n",
      "start of epoch 2\n",
      "Training loss (for one batch) at step 0: 0.4884079694747925\n",
      "Epoch 2, Loss: 0.4884079694747925, Val Loss: 0.6383827328681946\n",
      "end of epoch.\n",
      "start of epoch 3\n",
      "Training loss (for one batch) at step 0: 0.3939598798751831\n",
      "Epoch 3, Loss: 0.3939598798751831, Val Loss: 0.47034844756126404\n",
      "end of epoch.\n",
      "start of epoch 4\n",
      "Training loss (for one batch) at step 0: 0.6516630053520203\n",
      "Epoch 4, Loss: 0.6516630053520203, Val Loss: 0.3759628236293793\n",
      "end of epoch.\n",
      "start of epoch 5\n",
      "Training loss (for one batch) at step 0: 0.5822676420211792\n",
      "Epoch 5, Loss: 0.5822676420211792, Val Loss: 0.49553993344306946\n",
      "end of epoch.\n",
      "start of epoch 6\n",
      "Training loss (for one batch) at step 0: 0.5540783405303955\n",
      "Epoch 6, Loss: 0.5540783405303955, Val Loss: 0.4133233428001404\n",
      "end of epoch.\n",
      "start of epoch 7\n",
      "Training loss (for one batch) at step 0: 0.6522969603538513\n",
      "Epoch 7, Loss: 0.6522969603538513, Val Loss: 0.490476131439209\n",
      "end of epoch.\n",
      "start of epoch 8\n",
      "Training loss (for one batch) at step 0: 0.44987422227859497\n",
      "Epoch 8, Loss: 0.44987422227859497, Val Loss: 0.48947787284851074\n",
      "end of epoch.\n",
      "start of epoch 9\n",
      "Training loss (for one batch) at step 0: 0.5649617314338684\n",
      "Epoch 9, Loss: 0.5649617314338684, Val Loss: 0.5492757558822632\n",
      "end of epoch.\n",
      "start of epoch 10\n",
      "Training loss (for one batch) at step 0: 0.46120041608810425\n",
      "Epoch 10, Loss: 0.46120041608810425, Val Loss: 0.502109706401825\n",
      "end of epoch.\n",
      "start of epoch 11\n",
      "Training loss (for one batch) at step 0: 0.3584684133529663\n",
      "Epoch 11, Loss: 0.3584684133529663, Val Loss: 0.4310210347175598\n",
      "end of epoch.\n",
      "start of epoch 12\n",
      "Training loss (for one batch) at step 0: 0.5669963955879211\n",
      "Epoch 12, Loss: 0.5669963955879211, Val Loss: 0.6166282892227173\n",
      "end of epoch.\n",
      "start of epoch 13\n",
      "Training loss (for one batch) at step 0: 0.4233335554599762\n",
      "Epoch 13, Loss: 0.4233335554599762, Val Loss: 0.4768272936344147\n",
      "end of epoch.\n",
      "start of epoch 14\n",
      "Training loss (for one batch) at step 0: 0.5692578554153442\n",
      "Epoch 14, Loss: 0.5692578554153442, Val Loss: 0.5040292143821716\n",
      "end of epoch.\n",
      "start of epoch 15\n",
      "Training loss (for one batch) at step 0: 0.5041557550430298\n",
      "Epoch 15, Loss: 0.5041557550430298, Val Loss: 0.5263597965240479\n",
      "end of epoch.\n",
      "start of epoch 16\n",
      "Training loss (for one batch) at step 0: 0.3863556981086731\n",
      "Epoch 16, Loss: 0.3863556981086731, Val Loss: 0.52446049451828\n",
      "end of epoch.\n",
      "start of epoch 17\n",
      "Training loss (for one batch) at step 0: 0.592315673828125\n",
      "Epoch 17, Loss: 0.592315673828125, Val Loss: 0.4401755630970001\n",
      "end of epoch.\n",
      "start of epoch 18\n",
      "Training loss (for one batch) at step 0: 0.5194916129112244\n",
      "Epoch 18, Loss: 0.5194916129112244, Val Loss: 0.434257835149765\n",
      "end of epoch.\n",
      "start of epoch 19\n",
      "Training loss (for one batch) at step 0: 0.5884735584259033\n",
      "Epoch 19, Loss: 0.5884735584259033, Val Loss: 0.46795815229415894\n",
      "end of epoch.\n",
      "start of epoch 20\n",
      "Training loss (for one batch) at step 0: 0.5845049023628235\n",
      "Epoch 20, Loss: 0.5845049023628235, Val Loss: 0.4956081509590149\n",
      "end of epoch.\n",
      "start of epoch 21\n",
      "Training loss (for one batch) at step 0: 0.3948414623737335\n",
      "Epoch 21, Loss: 0.3948414623737335, Val Loss: 0.5873735547065735\n",
      "end of epoch.\n",
      "start of epoch 22\n",
      "Training loss (for one batch) at step 0: 0.554928719997406\n",
      "Epoch 22, Loss: 0.554928719997406, Val Loss: 0.624642014503479\n",
      "end of epoch.\n",
      "start of epoch 23\n",
      "Training loss (for one batch) at step 0: 0.5376253724098206\n",
      "Epoch 23, Loss: 0.5376253724098206, Val Loss: 0.5442113280296326\n",
      "end of epoch.\n",
      "start of epoch 24\n",
      "Training loss (for one batch) at step 0: 0.5182019472122192\n",
      "Epoch 24, Loss: 0.5182019472122192, Val Loss: 0.545937716960907\n",
      "end of epoch.\n",
      "start of epoch 25\n",
      "Training loss (for one batch) at step 0: 0.5337620377540588\n",
      "Epoch 25, Loss: 0.5337620377540588, Val Loss: 0.44535019993782043\n",
      "end of epoch.\n",
      "start of epoch 26\n",
      "Training loss (for one batch) at step 0: 0.46827298402786255\n",
      "Epoch 26, Loss: 0.46827298402786255, Val Loss: 0.5787428021430969\n",
      "end of epoch.\n",
      "start of epoch 27\n",
      "Training loss (for one batch) at step 0: 0.4441498816013336\n",
      "Epoch 27, Loss: 0.4441498816013336, Val Loss: 0.5369318127632141\n",
      "end of epoch.\n",
      "start of epoch 28\n",
      "Training loss (for one batch) at step 0: 0.5573939085006714\n",
      "Epoch 28, Loss: 0.5573939085006714, Val Loss: 0.47533655166625977\n",
      "end of epoch.\n",
      "start of epoch 29\n",
      "Training loss (for one batch) at step 0: 0.4054062068462372\n",
      "Epoch 29, Loss: 0.4054062068462372, Val Loss: 0.4126916229724884\n",
      "end of epoch.\n",
      "start of epoch 30\n",
      "Training loss (for one batch) at step 0: 0.5541549921035767\n",
      "Epoch 30, Loss: 0.5541549921035767, Val Loss: 0.4397403299808502\n",
      "end of epoch.\n",
      "start of epoch 31\n",
      "Training loss (for one batch) at step 0: 0.5228235721588135\n",
      "Epoch 31, Loss: 0.5228235721588135, Val Loss: 0.4541255533695221\n",
      "end of epoch.\n",
      "start of epoch 32\n",
      "Training loss (for one batch) at step 0: 0.4719887971878052\n",
      "Epoch 32, Loss: 0.4719887971878052, Val Loss: 0.5512913465499878\n",
      "end of epoch.\n",
      "start of epoch 33\n",
      "Training loss (for one batch) at step 0: 0.528075635433197\n",
      "Epoch 33, Loss: 0.528075635433197, Val Loss: 0.5303352475166321\n",
      "end of epoch.\n",
      "start of epoch 34\n",
      "Training loss (for one batch) at step 0: 0.503068745136261\n",
      "Epoch 34, Loss: 0.503068745136261, Val Loss: 0.467337965965271\n",
      "end of epoch.\n",
      "start of epoch 35\n",
      "Training loss (for one batch) at step 0: 0.5134934186935425\n",
      "Epoch 35, Loss: 0.5134934186935425, Val Loss: 0.509189248085022\n",
      "end of epoch.\n",
      "start of epoch 36\n",
      "Training loss (for one batch) at step 0: 0.46680331230163574\n",
      "Epoch 36, Loss: 0.46680331230163574, Val Loss: 0.30982816219329834\n",
      "end of epoch.\n",
      "start of epoch 37\n",
      "Training loss (for one batch) at step 0: 0.3657299876213074\n",
      "Epoch 37, Loss: 0.3657299876213074, Val Loss: 0.4700080156326294\n",
      "end of epoch.\n",
      "start of epoch 38\n",
      "Training loss (for one batch) at step 0: 0.529839277267456\n",
      "Epoch 38, Loss: 0.529839277267456, Val Loss: 0.5062119364738464\n",
      "end of epoch.\n",
      "start of epoch 39\n",
      "Training loss (for one batch) at step 0: 0.45770788192749023\n",
      "Epoch 39, Loss: 0.45770788192749023, Val Loss: 0.4471437633037567\n",
      "end of epoch.\n",
      "start of epoch 40\n",
      "Training loss (for one batch) at step 0: 0.5557699799537659\n",
      "Epoch 40, Loss: 0.5557699799537659, Val Loss: 0.4690549373626709\n",
      "end of epoch.\n",
      "start of epoch 41\n",
      "Training loss (for one batch) at step 0: 0.5247282385826111\n",
      "Epoch 41, Loss: 0.5247282385826111, Val Loss: 0.5132939219474792\n",
      "end of epoch.\n",
      "start of epoch 42\n",
      "Training loss (for one batch) at step 0: 0.515441358089447\n",
      "Epoch 42, Loss: 0.515441358089447, Val Loss: 0.49671700596809387\n",
      "end of epoch.\n",
      "start of epoch 43\n",
      "Training loss (for one batch) at step 0: 0.5107817649841309\n",
      "Epoch 43, Loss: 0.5107817649841309, Val Loss: 0.40815433859825134\n",
      "end of epoch.\n",
      "start of epoch 44\n",
      "Training loss (for one batch) at step 0: 0.5584948658943176\n",
      "Epoch 44, Loss: 0.5584948658943176, Val Loss: 0.47172287106513977\n",
      "end of epoch.\n",
      "start of epoch 45\n",
      "Training loss (for one batch) at step 0: 0.5425063371658325\n",
      "Epoch 45, Loss: 0.5425063371658325, Val Loss: 0.5510257482528687\n",
      "end of epoch.\n",
      "start of epoch 46\n",
      "Training loss (for one batch) at step 0: 0.535157322883606\n",
      "Epoch 46, Loss: 0.535157322883606, Val Loss: 0.5510066151618958\n",
      "end of epoch.\n",
      "start of epoch 47\n",
      "Training loss (for one batch) at step 0: 0.43385806679725647\n",
      "Epoch 47, Loss: 0.43385806679725647, Val Loss: 0.5279578566551208\n",
      "end of epoch.\n",
      "start of epoch 48\n",
      "Training loss (for one batch) at step 0: 0.5157498121261597\n",
      "Epoch 48, Loss: 0.5157498121261597, Val Loss: 0.48248791694641113\n",
      "end of epoch.\n",
      "start of epoch 49\n",
      "Training loss (for one batch) at step 0: 0.4834914207458496\n",
      "Epoch 49, Loss: 0.4834914207458496, Val Loss: 0.5387480854988098\n",
      "end of epoch.\n",
      "start of epoch 50\n",
      "Training loss (for one batch) at step 0: 0.47690460085868835\n",
      "Epoch 50, Loss: 0.47690460085868835, Val Loss: 0.4905627369880676\n",
      "end of epoch.\n",
      "start of epoch 51\n",
      "Training loss (for one batch) at step 0: 0.5028932094573975\n",
      "Epoch 51, Loss: 0.5028932094573975, Val Loss: 0.5361431241035461\n",
      "end of epoch.\n",
      "start of epoch 52\n",
      "Training loss (for one batch) at step 0: 0.47907698154449463\n",
      "Epoch 52, Loss: 0.47907698154449463, Val Loss: 0.4860539436340332\n",
      "end of epoch.\n",
      "start of epoch 53\n"
     ]
    },
    {
     "name": "stdout",
     "output_type": "stream",
     "text": [
      "Training loss (for one batch) at step 0: 0.6282123923301697\n",
      "Epoch 53, Loss: 0.6282123923301697, Val Loss: 0.4928770661354065\n",
      "end of epoch.\n",
      "start of epoch 54\n",
      "Training loss (for one batch) at step 0: 0.47281020879745483\n",
      "Epoch 54, Loss: 0.47281020879745483, Val Loss: 0.5408595204353333\n",
      "end of epoch.\n",
      "start of epoch 55\n",
      "Training loss (for one batch) at step 0: 0.459926575422287\n",
      "Epoch 55, Loss: 0.459926575422287, Val Loss: 0.46584567427635193\n",
      "end of epoch.\n",
      "start of epoch 56\n",
      "Training loss (for one batch) at step 0: 0.5714284777641296\n",
      "Epoch 56, Loss: 0.5714284777641296, Val Loss: 0.4911426305770874\n",
      "end of epoch.\n",
      "start of epoch 57\n",
      "Training loss (for one batch) at step 0: 0.4439919590950012\n",
      "Epoch 57, Loss: 0.4439919590950012, Val Loss: 0.520962655544281\n",
      "end of epoch.\n",
      "start of epoch 58\n",
      "Training loss (for one batch) at step 0: 0.46264946460723877\n",
      "Epoch 58, Loss: 0.46264946460723877, Val Loss: 0.4989558458328247\n",
      "end of epoch.\n",
      "start of epoch 59\n",
      "Training loss (for one batch) at step 0: 0.5565198063850403\n",
      "Epoch 59, Loss: 0.5565198063850403, Val Loss: 0.5530331134796143\n",
      "end of epoch.\n",
      "start of epoch 60\n",
      "Training loss (for one batch) at step 0: 0.5097075700759888\n",
      "Epoch 60, Loss: 0.5097075700759888, Val Loss: 0.4863901734352112\n",
      "end of epoch.\n",
      "start of epoch 61\n",
      "Training loss (for one batch) at step 0: 0.5019900798797607\n",
      "Epoch 61, Loss: 0.5019900798797607, Val Loss: 0.4783676564693451\n",
      "end of epoch.\n",
      "start of epoch 62\n",
      "Training loss (for one batch) at step 0: 0.4985063970088959\n",
      "Epoch 62, Loss: 0.4985063970088959, Val Loss: 0.33414456248283386\n",
      "end of epoch.\n",
      "start of epoch 63\n",
      "Training loss (for one batch) at step 0: 0.5570309162139893\n",
      "Epoch 63, Loss: 0.5570309162139893, Val Loss: 0.5367861390113831\n",
      "end of epoch.\n",
      "start of epoch 64\n",
      "Training loss (for one batch) at step 0: 0.5919830203056335\n",
      "Epoch 64, Loss: 0.5919830203056335, Val Loss: 0.465524822473526\n",
      "end of epoch.\n",
      "start of epoch 65\n",
      "Training loss (for one batch) at step 0: 0.4740244150161743\n",
      "Epoch 65, Loss: 0.4740244150161743, Val Loss: 0.5525060892105103\n",
      "end of epoch.\n",
      "start of epoch 66\n",
      "Training loss (for one batch) at step 0: 0.5007312893867493\n",
      "Epoch 66, Loss: 0.5007312893867493, Val Loss: 0.44664615392684937\n",
      "end of epoch.\n",
      "start of epoch 67\n",
      "Training loss (for one batch) at step 0: 0.4519425630569458\n",
      "Epoch 67, Loss: 0.4519425630569458, Val Loss: 0.5037445425987244\n",
      "end of epoch.\n",
      "start of epoch 68\n",
      "Training loss (for one batch) at step 0: 0.5697431564331055\n",
      "Epoch 68, Loss: 0.5697431564331055, Val Loss: 0.4757607579231262\n",
      "end of epoch.\n",
      "start of epoch 69\n",
      "Training loss (for one batch) at step 0: 0.4941348135471344\n",
      "Epoch 69, Loss: 0.4941348135471344, Val Loss: 0.5226202607154846\n",
      "end of epoch.\n",
      "start of epoch 70\n",
      "Training loss (for one batch) at step 0: 0.528974175453186\n",
      "Epoch 70, Loss: 0.528974175453186, Val Loss: 0.3941526710987091\n",
      "end of epoch.\n",
      "start of epoch 71\n",
      "Training loss (for one batch) at step 0: 0.44342464208602905\n",
      "Epoch 71, Loss: 0.44342464208602905, Val Loss: 0.5697759389877319\n",
      "end of epoch.\n",
      "start of epoch 72\n",
      "Training loss (for one batch) at step 0: 0.47785747051239014\n",
      "Epoch 72, Loss: 0.47785747051239014, Val Loss: 0.4592877924442291\n",
      "end of epoch.\n",
      "start of epoch 73\n",
      "Training loss (for one batch) at step 0: 0.5261273980140686\n",
      "Epoch 73, Loss: 0.5261273980140686, Val Loss: 0.4991500973701477\n",
      "end of epoch.\n",
      "start of epoch 74\n",
      "Training loss (for one batch) at step 0: 0.5372157692909241\n",
      "Epoch 74, Loss: 0.5372157692909241, Val Loss: 0.4754321575164795\n",
      "end of epoch.\n",
      "start of epoch 75\n",
      "Training loss (for one batch) at step 0: 0.4477044641971588\n",
      "Epoch 75, Loss: 0.4477044641971588, Val Loss: 0.5069254040718079\n",
      "end of epoch.\n",
      "start of epoch 76\n",
      "Training loss (for one batch) at step 0: 0.5041846632957458\n",
      "Epoch 76, Loss: 0.5041846632957458, Val Loss: 0.5213974714279175\n",
      "end of epoch.\n",
      "start of epoch 77\n",
      "Training loss (for one batch) at step 0: 0.48957180976867676\n",
      "Epoch 77, Loss: 0.48957180976867676, Val Loss: 0.5212566256523132\n",
      "end of epoch.\n",
      "start of epoch 78\n",
      "Training loss (for one batch) at step 0: 0.48630592226982117\n",
      "Epoch 78, Loss: 0.48630592226982117, Val Loss: 0.47386062145233154\n",
      "end of epoch.\n",
      "start of epoch 79\n",
      "Training loss (for one batch) at step 0: 0.5490756034851074\n",
      "Epoch 79, Loss: 0.5490756034851074, Val Loss: 0.5018272995948792\n",
      "end of epoch.\n",
      "start of epoch 80\n",
      "Training loss (for one batch) at step 0: 0.49552780389785767\n",
      "Epoch 80, Loss: 0.49552780389785767, Val Loss: 0.4124719500541687\n",
      "end of epoch.\n",
      "start of epoch 81\n",
      "Training loss (for one batch) at step 0: 0.5276995897293091\n",
      "Epoch 81, Loss: 0.5276995897293091, Val Loss: 0.48155227303504944\n",
      "end of epoch.\n",
      "start of epoch 82\n",
      "Training loss (for one batch) at step 0: 0.5124385356903076\n",
      "Epoch 82, Loss: 0.5124385356903076, Val Loss: 0.46815311908721924\n",
      "end of epoch.\n",
      "start of epoch 83\n",
      "Training loss (for one batch) at step 0: 0.5421174764633179\n",
      "Epoch 83, Loss: 0.5421174764633179, Val Loss: 0.5008431673049927\n",
      "end of epoch.\n",
      "start of epoch 84\n",
      "Training loss (for one batch) at step 0: 0.47945132851600647\n",
      "Epoch 84, Loss: 0.47945132851600647, Val Loss: 0.45486918091773987\n",
      "end of epoch.\n",
      "start of epoch 85\n",
      "Training loss (for one batch) at step 0: 0.500822126865387\n",
      "Epoch 85, Loss: 0.500822126865387, Val Loss: 0.4970497190952301\n",
      "end of epoch.\n",
      "start of epoch 86\n",
      "Training loss (for one batch) at step 0: 0.46075284481048584\n",
      "Epoch 86, Loss: 0.46075284481048584, Val Loss: 0.4869668185710907\n",
      "end of epoch.\n",
      "start of epoch 87\n",
      "Training loss (for one batch) at step 0: 0.45668184757232666\n",
      "Epoch 87, Loss: 0.45668184757232666, Val Loss: 0.5524532198905945\n",
      "end of epoch.\n",
      "start of epoch 88\n",
      "Training loss (for one batch) at step 0: 0.4749831557273865\n",
      "Epoch 88, Loss: 0.4749831557273865, Val Loss: 0.4659169018268585\n",
      "end of epoch.\n",
      "start of epoch 89\n",
      "Training loss (for one batch) at step 0: 0.49499350786209106\n",
      "Epoch 89, Loss: 0.49499350786209106, Val Loss: 0.5214677453041077\n",
      "end of epoch.\n",
      "start of epoch 90\n",
      "Training loss (for one batch) at step 0: 0.42664384841918945\n",
      "Epoch 90, Loss: 0.42664384841918945, Val Loss: 0.42823660373687744\n",
      "end of epoch.\n",
      "start of epoch 91\n",
      "Training loss (for one batch) at step 0: 0.43117478489875793\n",
      "Epoch 91, Loss: 0.43117478489875793, Val Loss: 0.48941299319267273\n",
      "end of epoch.\n",
      "start of epoch 92\n",
      "Training loss (for one batch) at step 0: 0.34539878368377686\n",
      "Epoch 92, Loss: 0.34539878368377686, Val Loss: 0.46600526571273804\n",
      "end of epoch.\n",
      "start of epoch 93\n",
      "Training loss (for one batch) at step 0: 0.45934611558914185\n",
      "Epoch 93, Loss: 0.45934611558914185, Val Loss: 0.5044723153114319\n",
      "end of epoch.\n",
      "start of epoch 94\n",
      "Training loss (for one batch) at step 0: 0.4241791367530823\n",
      "Epoch 94, Loss: 0.4241791367530823, Val Loss: 0.540225625038147\n",
      "end of epoch.\n",
      "start of epoch 95\n",
      "Training loss (for one batch) at step 0: 0.47094303369522095\n",
      "Epoch 95, Loss: 0.47094303369522095, Val Loss: 0.5526942014694214\n",
      "end of epoch.\n",
      "start of epoch 96\n",
      "Training loss (for one batch) at step 0: 0.43254756927490234\n",
      "Epoch 96, Loss: 0.43254756927490234, Val Loss: 0.4517524540424347\n",
      "end of epoch.\n",
      "start of epoch 97\n",
      "Training loss (for one batch) at step 0: 0.48262086510658264\n",
      "Epoch 97, Loss: 0.48262086510658264, Val Loss: 0.5266587138175964\n",
      "end of epoch.\n",
      "start of epoch 98\n",
      "Training loss (for one batch) at step 0: 0.47902289032936096\n",
      "Epoch 98, Loss: 0.47902289032936096, Val Loss: 0.4650079011917114\n",
      "end of epoch.\n",
      "start of epoch 99\n",
      "Training loss (for one batch) at step 0: 0.3990684747695923\n",
      "Epoch 99, Loss: 0.3990684747695923, Val Loss: 0.5399088859558105\n",
      "end of epoch.\n",
      "start of epoch 100\n",
      "Training loss (for one batch) at step 0: 0.5308257937431335\n",
      "Epoch 100, Loss: 0.5308257937431335, Val Loss: 0.44943341612815857\n",
      "end of epoch.\n",
      "start of epoch 101\n",
      "Training loss (for one batch) at step 0: 0.5409019589424133\n",
      "Epoch 101, Loss: 0.5409019589424133, Val Loss: 0.5410356521606445\n",
      "end of epoch.\n",
      "start of epoch 102\n",
      "Training loss (for one batch) at step 0: 0.47623395919799805\n",
      "Epoch 102, Loss: 0.47623395919799805, Val Loss: 0.3812161982059479\n",
      "end of epoch.\n",
      "start of epoch 103\n",
      "Training loss (for one batch) at step 0: 0.47623464465141296\n",
      "Epoch 103, Loss: 0.47623464465141296, Val Loss: 0.45492324233055115\n",
      "end of epoch.\n",
      "start of epoch 104\n",
      "Training loss (for one batch) at step 0: 0.48964130878448486\n",
      "Epoch 104, Loss: 0.48964130878448486, Val Loss: 0.46401023864746094\n",
      "end of epoch.\n"
     ]
    },
    {
     "name": "stdout",
     "output_type": "stream",
     "text": [
      "start of epoch 105\n",
      "Training loss (for one batch) at step 0: 0.4904518723487854\n",
      "Epoch 105, Loss: 0.4904518723487854, Val Loss: 0.5173203945159912\n",
      "end of epoch.\n",
      "start of epoch 106\n",
      "Training loss (for one batch) at step 0: 0.5247542262077332\n",
      "Epoch 106, Loss: 0.5247542262077332, Val Loss: 0.5018515586853027\n",
      "end of epoch.\n",
      "start of epoch 107\n",
      "Training loss (for one batch) at step 0: 0.4688478112220764\n",
      "Epoch 107, Loss: 0.4688478112220764, Val Loss: 0.3836860656738281\n",
      "end of epoch.\n",
      "start of epoch 108\n",
      "Training loss (for one batch) at step 0: 0.44762396812438965\n",
      "Epoch 108, Loss: 0.44762396812438965, Val Loss: 0.45934149622917175\n",
      "end of epoch.\n",
      "start of epoch 109\n",
      "Training loss (for one batch) at step 0: 0.5172584056854248\n",
      "Epoch 109, Loss: 0.5172584056854248, Val Loss: 0.4682219922542572\n",
      "end of epoch.\n",
      "start of epoch 110\n",
      "Training loss (for one batch) at step 0: 0.5427110195159912\n",
      "Epoch 110, Loss: 0.5427110195159912, Val Loss: 0.4763382077217102\n",
      "end of epoch.\n",
      "start of epoch 111\n",
      "Training loss (for one batch) at step 0: 0.41580265760421753\n",
      "Epoch 111, Loss: 0.41580265760421753, Val Loss: 0.48167067766189575\n",
      "end of epoch.\n",
      "start of epoch 112\n",
      "Training loss (for one batch) at step 0: 0.4371630847454071\n",
      "Epoch 112, Loss: 0.4371630847454071, Val Loss: 0.4582546055316925\n",
      "end of epoch.\n",
      "start of epoch 113\n",
      "Training loss (for one batch) at step 0: 0.4088555574417114\n",
      "Epoch 113, Loss: 0.4088555574417114, Val Loss: 0.5656037330627441\n",
      "end of epoch.\n",
      "start of epoch 114\n",
      "Training loss (for one batch) at step 0: 0.4478354752063751\n",
      "Epoch 114, Loss: 0.4478354752063751, Val Loss: 0.4944801926612854\n",
      "end of epoch.\n",
      "start of epoch 115\n",
      "Training loss (for one batch) at step 0: 0.4402937889099121\n",
      "Epoch 115, Loss: 0.4402937889099121, Val Loss: 0.4247540533542633\n",
      "end of epoch.\n",
      "start of epoch 116\n",
      "Training loss (for one batch) at step 0: 0.5024927258491516\n",
      "Epoch 116, Loss: 0.5024927258491516, Val Loss: 0.6003251671791077\n",
      "end of epoch.\n",
      "start of epoch 117\n",
      "Training loss (for one batch) at step 0: 0.3931244909763336\n",
      "Epoch 117, Loss: 0.3931244909763336, Val Loss: 0.5141449570655823\n",
      "end of epoch.\n",
      "start of epoch 118\n",
      "Training loss (for one batch) at step 0: 0.5005837082862854\n",
      "Epoch 118, Loss: 0.5005837082862854, Val Loss: 0.4187174141407013\n",
      "end of epoch.\n",
      "start of epoch 119\n",
      "Training loss (for one batch) at step 0: 0.4349443018436432\n",
      "Epoch 119, Loss: 0.4349443018436432, Val Loss: 0.47316235303878784\n",
      "end of epoch.\n",
      "start of epoch 120\n",
      "Training loss (for one batch) at step 0: 0.41547322273254395\n",
      "Epoch 120, Loss: 0.41547322273254395, Val Loss: 0.561971127986908\n",
      "end of epoch.\n",
      "start of epoch 121\n",
      "Training loss (for one batch) at step 0: 0.4453658163547516\n",
      "Epoch 121, Loss: 0.4453658163547516, Val Loss: 0.5047647356987\n",
      "end of epoch.\n",
      "start of epoch 122\n",
      "Training loss (for one batch) at step 0: 0.4643821716308594\n",
      "Epoch 122, Loss: 0.4643821716308594, Val Loss: 0.407072514295578\n",
      "end of epoch.\n",
      "start of epoch 123\n",
      "Training loss (for one batch) at step 0: 0.5447871088981628\n",
      "Epoch 123, Loss: 0.5447871088981628, Val Loss: 0.5420488119125366\n",
      "end of epoch.\n",
      "start of epoch 124\n",
      "Training loss (for one batch) at step 0: 0.5131884813308716\n",
      "Epoch 124, Loss: 0.5131884813308716, Val Loss: 0.4672303795814514\n",
      "end of epoch.\n",
      "start of epoch 125\n",
      "Training loss (for one batch) at step 0: 0.4899337887763977\n",
      "Epoch 125, Loss: 0.4899337887763977, Val Loss: 0.4038681983947754\n",
      "end of epoch.\n",
      "start of epoch 126\n",
      "Training loss (for one batch) at step 0: 0.514554500579834\n",
      "Epoch 126, Loss: 0.514554500579834, Val Loss: 0.4573837220668793\n",
      "end of epoch.\n",
      "start of epoch 127\n",
      "Training loss (for one batch) at step 0: 0.6594837307929993\n",
      "Epoch 127, Loss: 0.6594837307929993, Val Loss: 0.48057663440704346\n",
      "end of epoch.\n",
      "start of epoch 128\n",
      "Training loss (for one batch) at step 0: 0.515712320804596\n",
      "Epoch 128, Loss: 0.515712320804596, Val Loss: 0.5460692048072815\n",
      "end of epoch.\n",
      "start of epoch 129\n",
      "Training loss (for one batch) at step 0: 0.4751810133457184\n",
      "Epoch 129, Loss: 0.4751810133457184, Val Loss: 0.49886131286621094\n",
      "end of epoch.\n",
      "start of epoch 130\n",
      "Training loss (for one batch) at step 0: 0.424105167388916\n",
      "Epoch 130, Loss: 0.424105167388916, Val Loss: 0.4827856421470642\n",
      "end of epoch.\n",
      "start of epoch 131\n",
      "Training loss (for one batch) at step 0: 0.4896208345890045\n",
      "Epoch 131, Loss: 0.4896208345890045, Val Loss: 0.5964597463607788\n",
      "end of epoch.\n",
      "start of epoch 132\n",
      "Training loss (for one batch) at step 0: 0.46880143880844116\n",
      "Epoch 132, Loss: 0.46880143880844116, Val Loss: 0.3923173248767853\n",
      "end of epoch.\n",
      "start of epoch 133\n",
      "Training loss (for one batch) at step 0: 0.4535827934741974\n",
      "Epoch 133, Loss: 0.4535827934741974, Val Loss: 0.5544263124465942\n",
      "end of epoch.\n",
      "start of epoch 134\n",
      "Training loss (for one batch) at step 0: 0.5547458529472351\n",
      "Epoch 134, Loss: 0.5547458529472351, Val Loss: 0.5246727466583252\n",
      "end of epoch.\n",
      "start of epoch 135\n",
      "Training loss (for one batch) at step 0: 0.5739194750785828\n",
      "Epoch 135, Loss: 0.5739194750785828, Val Loss: 0.563567578792572\n",
      "end of epoch.\n",
      "start of epoch 136\n",
      "Training loss (for one batch) at step 0: 0.4528529942035675\n",
      "Epoch 136, Loss: 0.4528529942035675, Val Loss: 0.34663575887680054\n",
      "end of epoch.\n",
      "start of epoch 137\n",
      "Training loss (for one batch) at step 0: 0.4393179714679718\n",
      "Epoch 137, Loss: 0.4393179714679718, Val Loss: 0.5555275082588196\n",
      "end of epoch.\n",
      "start of epoch 138\n",
      "Training loss (for one batch) at step 0: 0.4700101912021637\n",
      "Epoch 138, Loss: 0.4700101912021637, Val Loss: 0.3562941253185272\n",
      "end of epoch.\n",
      "start of epoch 139\n",
      "Training loss (for one batch) at step 0: 0.4869197607040405\n",
      "Epoch 139, Loss: 0.4869197607040405, Val Loss: 0.46154311299324036\n",
      "end of epoch.\n",
      "start of epoch 140\n",
      "Training loss (for one batch) at step 0: 0.4655393660068512\n",
      "Epoch 140, Loss: 0.4655393660068512, Val Loss: 0.500287652015686\n",
      "end of epoch.\n",
      "start of epoch 141\n",
      "Training loss (for one batch) at step 0: 0.5322282910346985\n",
      "Epoch 141, Loss: 0.5322282910346985, Val Loss: 0.3747386038303375\n",
      "end of epoch.\n",
      "start of epoch 142\n",
      "Training loss (for one batch) at step 0: 0.547966718673706\n",
      "Epoch 142, Loss: 0.547966718673706, Val Loss: 0.5385481715202332\n",
      "end of epoch.\n",
      "start of epoch 143\n",
      "Training loss (for one batch) at step 0: 0.4748578369617462\n",
      "Epoch 143, Loss: 0.4748578369617462, Val Loss: 0.5341687202453613\n",
      "end of epoch.\n",
      "start of epoch 144\n",
      "Training loss (for one batch) at step 0: 0.37800219655036926\n",
      "Epoch 144, Loss: 0.37800219655036926, Val Loss: 0.4680692255496979\n",
      "end of epoch.\n",
      "start of epoch 145\n",
      "Training loss (for one batch) at step 0: 0.4740249812602997\n",
      "Epoch 145, Loss: 0.4740249812602997, Val Loss: 0.47617077827453613\n",
      "end of epoch.\n",
      "start of epoch 146\n",
      "Training loss (for one batch) at step 0: 0.508415162563324\n",
      "Epoch 146, Loss: 0.508415162563324, Val Loss: 0.4968079626560211\n",
      "end of epoch.\n",
      "start of epoch 147\n",
      "Training loss (for one batch) at step 0: 0.4517576992511749\n",
      "Epoch 147, Loss: 0.4517576992511749, Val Loss: 0.5626862645149231\n",
      "end of epoch.\n",
      "start of epoch 148\n",
      "Training loss (for one batch) at step 0: 0.4998799264431\n",
      "Epoch 148, Loss: 0.4998799264431, Val Loss: 0.4564533233642578\n",
      "end of epoch.\n",
      "start of epoch 149\n",
      "Training loss (for one batch) at step 0: 0.5220362544059753\n",
      "Epoch 149, Loss: 0.5220362544059753, Val Loss: 0.4762662649154663\n",
      "end of epoch.\n",
      "start of epoch 150\n",
      "Training loss (for one batch) at step 0: 0.43816953897476196\n",
      "Epoch 150, Loss: 0.43816953897476196, Val Loss: 0.44335994124412537\n",
      "end of epoch.\n",
      "start of epoch 151\n",
      "Training loss (for one batch) at step 0: 0.4453757703304291\n",
      "Epoch 151, Loss: 0.4453757703304291, Val Loss: 0.4805494248867035\n",
      "end of epoch.\n",
      "start of epoch 152\n",
      "Training loss (for one batch) at step 0: 0.4696594178676605\n",
      "Epoch 152, Loss: 0.4696594178676605, Val Loss: 0.4680730998516083\n",
      "end of epoch.\n",
      "start of epoch 153\n",
      "Training loss (for one batch) at step 0: 0.37430498003959656\n",
      "Epoch 153, Loss: 0.37430498003959656, Val Loss: 0.4434250295162201\n",
      "end of epoch.\n",
      "start of epoch 154\n",
      "Training loss (for one batch) at step 0: 0.5149811506271362\n",
      "Epoch 154, Loss: 0.5149811506271362, Val Loss: 0.49689817428588867\n",
      "end of epoch.\n",
      "start of epoch 155\n",
      "Training loss (for one batch) at step 0: 0.4777606725692749\n",
      "Epoch 155, Loss: 0.4777606725692749, Val Loss: 0.5335719585418701\n",
      "end of epoch.\n",
      "start of epoch 156\n",
      "Training loss (for one batch) at step 0: 0.44348764419555664\n",
      "Epoch 156, Loss: 0.44348764419555664, Val Loss: 0.5549308061599731\n",
      "end of epoch.\n",
      "start of epoch 157\n"
     ]
    },
    {
     "name": "stdout",
     "output_type": "stream",
     "text": [
      "Training loss (for one batch) at step 0: 0.4828932583332062\n",
      "Epoch 157, Loss: 0.4828932583332062, Val Loss: 0.5801430344581604\n",
      "end of epoch.\n",
      "start of epoch 158\n",
      "Training loss (for one batch) at step 0: 0.4602213501930237\n",
      "Epoch 158, Loss: 0.4602213501930237, Val Loss: 0.5199398994445801\n",
      "end of epoch.\n",
      "start of epoch 159\n",
      "Training loss (for one batch) at step 0: 0.48783954977989197\n",
      "Epoch 159, Loss: 0.48783954977989197, Val Loss: 0.4101179242134094\n",
      "end of epoch.\n",
      "start of epoch 160\n",
      "Training loss (for one batch) at step 0: 0.5326712131500244\n",
      "Epoch 160, Loss: 0.5326712131500244, Val Loss: 0.5161991119384766\n",
      "end of epoch.\n",
      "start of epoch 161\n",
      "Training loss (for one batch) at step 0: 0.464263379573822\n",
      "Epoch 161, Loss: 0.464263379573822, Val Loss: 0.43349042534828186\n",
      "end of epoch.\n",
      "start of epoch 162\n",
      "Training loss (for one batch) at step 0: 0.5040882229804993\n",
      "Epoch 162, Loss: 0.5040882229804993, Val Loss: 0.4529963731765747\n",
      "end of epoch.\n",
      "start of epoch 163\n",
      "Training loss (for one batch) at step 0: 0.5145018696784973\n",
      "Epoch 163, Loss: 0.5145018696784973, Val Loss: 0.5297064781188965\n",
      "end of epoch.\n",
      "start of epoch 164\n",
      "Training loss (for one batch) at step 0: 0.5038784742355347\n",
      "Epoch 164, Loss: 0.5038784742355347, Val Loss: 0.5230167508125305\n",
      "end of epoch.\n",
      "start of epoch 165\n",
      "Training loss (for one batch) at step 0: 0.534307599067688\n",
      "Epoch 165, Loss: 0.534307599067688, Val Loss: 0.3907223343849182\n",
      "end of epoch.\n",
      "start of epoch 166\n",
      "Training loss (for one batch) at step 0: 0.4756740629673004\n",
      "Epoch 166, Loss: 0.4756740629673004, Val Loss: 0.4872110188007355\n",
      "end of epoch.\n",
      "start of epoch 167\n",
      "Training loss (for one batch) at step 0: 0.5261645913124084\n",
      "Epoch 167, Loss: 0.5261645913124084, Val Loss: 0.5024220943450928\n",
      "end of epoch.\n",
      "start of epoch 168\n",
      "Training loss (for one batch) at step 0: 0.5519160032272339\n",
      "Epoch 168, Loss: 0.5519160032272339, Val Loss: 0.4335145056247711\n",
      "end of epoch.\n",
      "start of epoch 169\n",
      "Training loss (for one batch) at step 0: 0.4130815863609314\n",
      "Epoch 169, Loss: 0.4130815863609314, Val Loss: 0.42010486125946045\n",
      "end of epoch.\n",
      "start of epoch 170\n",
      "Training loss (for one batch) at step 0: 0.5376486778259277\n",
      "Epoch 170, Loss: 0.5376486778259277, Val Loss: 0.5265265703201294\n",
      "end of epoch.\n",
      "start of epoch 171\n",
      "Training loss (for one batch) at step 0: 0.45369234681129456\n",
      "Epoch 171, Loss: 0.45369234681129456, Val Loss: 0.48615288734436035\n",
      "end of epoch.\n",
      "start of epoch 172\n",
      "Training loss (for one batch) at step 0: 0.4927879869937897\n",
      "Epoch 172, Loss: 0.4927879869937897, Val Loss: 0.4919433891773224\n",
      "end of epoch.\n",
      "start of epoch 173\n",
      "Training loss (for one batch) at step 0: 0.6227924227714539\n",
      "Epoch 173, Loss: 0.6227924227714539, Val Loss: 0.4807639718055725\n",
      "end of epoch.\n",
      "start of epoch 174\n",
      "Training loss (for one batch) at step 0: 0.4915637969970703\n",
      "Epoch 174, Loss: 0.4915637969970703, Val Loss: 0.4260559678077698\n",
      "end of epoch.\n",
      "start of epoch 175\n",
      "Training loss (for one batch) at step 0: 0.4879673719406128\n",
      "Epoch 175, Loss: 0.4879673719406128, Val Loss: 0.4830653667449951\n",
      "end of epoch.\n",
      "start of epoch 176\n",
      "Training loss (for one batch) at step 0: 0.4641232490539551\n",
      "Epoch 176, Loss: 0.4641232490539551, Val Loss: 0.472846120595932\n",
      "end of epoch.\n",
      "start of epoch 177\n",
      "Training loss (for one batch) at step 0: 0.5678263902664185\n",
      "Epoch 177, Loss: 0.5678263902664185, Val Loss: 0.39807799458503723\n",
      "end of epoch.\n",
      "start of epoch 178\n",
      "Training loss (for one batch) at step 0: 0.5296658873558044\n",
      "Epoch 178, Loss: 0.5296658873558044, Val Loss: 0.574331521987915\n",
      "end of epoch.\n",
      "start of epoch 179\n",
      "Training loss (for one batch) at step 0: 0.5323029160499573\n",
      "Epoch 179, Loss: 0.5323029160499573, Val Loss: 0.3936689794063568\n",
      "end of epoch.\n",
      "start of epoch 180\n",
      "Training loss (for one batch) at step 0: 0.5120238661766052\n",
      "Epoch 180, Loss: 0.5120238661766052, Val Loss: 0.5048198103904724\n",
      "end of epoch.\n",
      "start of epoch 181\n",
      "Training loss (for one batch) at step 0: 0.45492130517959595\n",
      "Epoch 181, Loss: 0.45492130517959595, Val Loss: 0.49838191270828247\n",
      "end of epoch.\n",
      "start of epoch 182\n",
      "Training loss (for one batch) at step 0: 0.42759668827056885\n",
      "Epoch 182, Loss: 0.42759668827056885, Val Loss: 0.5608856081962585\n",
      "end of epoch.\n",
      "start of epoch 183\n",
      "Training loss (for one batch) at step 0: 0.5972740054130554\n",
      "Epoch 183, Loss: 0.5972740054130554, Val Loss: 0.3174988329410553\n",
      "end of epoch.\n",
      "start of epoch 184\n",
      "Training loss (for one batch) at step 0: 0.49005377292633057\n",
      "Epoch 184, Loss: 0.49005377292633057, Val Loss: 0.5646345615386963\n",
      "end of epoch.\n",
      "start of epoch 185\n",
      "Training loss (for one batch) at step 0: 0.5378763675689697\n",
      "Epoch 185, Loss: 0.5378763675689697, Val Loss: 0.5872001647949219\n",
      "end of epoch.\n",
      "start of epoch 186\n",
      "Training loss (for one batch) at step 0: 0.5044013261795044\n",
      "Epoch 186, Loss: 0.5044013261795044, Val Loss: 0.5081484913825989\n",
      "end of epoch.\n",
      "start of epoch 187\n",
      "Training loss (for one batch) at step 0: 0.4580981135368347\n",
      "Epoch 187, Loss: 0.4580981135368347, Val Loss: 0.5592527985572815\n",
      "end of epoch.\n",
      "start of epoch 188\n",
      "Training loss (for one batch) at step 0: 0.3451099395751953\n",
      "Epoch 188, Loss: 0.3451099395751953, Val Loss: 0.5156906247138977\n",
      "end of epoch.\n",
      "start of epoch 189\n",
      "Training loss (for one batch) at step 0: 0.5371595025062561\n",
      "Epoch 189, Loss: 0.5371595025062561, Val Loss: 0.4282468259334564\n",
      "end of epoch.\n",
      "start of epoch 190\n",
      "Training loss (for one batch) at step 0: 0.44438815116882324\n",
      "Epoch 190, Loss: 0.44438815116882324, Val Loss: 0.44136571884155273\n",
      "end of epoch.\n",
      "start of epoch 191\n",
      "Training loss (for one batch) at step 0: 0.513681948184967\n",
      "Epoch 191, Loss: 0.513681948184967, Val Loss: 0.5431324243545532\n",
      "end of epoch.\n",
      "start of epoch 192\n",
      "Training loss (for one batch) at step 0: 0.533894419670105\n",
      "Epoch 192, Loss: 0.533894419670105, Val Loss: 0.5226121544837952\n",
      "end of epoch.\n",
      "start of epoch 193\n",
      "Training loss (for one batch) at step 0: 0.3266426622867584\n",
      "Epoch 193, Loss: 0.3266426622867584, Val Loss: 0.39503076672554016\n",
      "end of epoch.\n",
      "start of epoch 194\n",
      "Training loss (for one batch) at step 0: 0.48221537470817566\n",
      "Epoch 194, Loss: 0.48221537470817566, Val Loss: 0.559482216835022\n",
      "end of epoch.\n",
      "start of epoch 195\n",
      "Training loss (for one batch) at step 0: 0.3635162115097046\n",
      "Epoch 195, Loss: 0.3635162115097046, Val Loss: 0.49590814113616943\n",
      "end of epoch.\n",
      "start of epoch 196\n",
      "Training loss (for one batch) at step 0: 0.5614570379257202\n",
      "Epoch 196, Loss: 0.5614570379257202, Val Loss: 0.594874918460846\n",
      "end of epoch.\n",
      "start of epoch 197\n",
      "Training loss (for one batch) at step 0: 0.4517274796962738\n",
      "Epoch 197, Loss: 0.4517274796962738, Val Loss: 0.5328317880630493\n",
      "end of epoch.\n",
      "start of epoch 198\n",
      "Training loss (for one batch) at step 0: 0.4302229881286621\n",
      "Epoch 198, Loss: 0.4302229881286621, Val Loss: 0.5974217653274536\n",
      "end of epoch.\n",
      "start of epoch 199\n",
      "Training loss (for one batch) at step 0: 0.5236932635307312\n",
      "Epoch 199, Loss: 0.5236932635307312, Val Loss: 0.5764208436012268\n",
      "end of epoch.\n",
      "start of epoch 200\n",
      "Training loss (for one batch) at step 0: 0.5018321871757507\n",
      "Epoch 200, Loss: 0.5018321871757507, Val Loss: 0.5150036811828613\n",
      "end of epoch.\n",
      "Checkpoint directory :  checkpoints/CNNgeo/200507_regressor_filter_size_up\n",
      "Tensorboard log directory :  logs/CNNgeo/200507_regressor_filter_size_up\n"
     ]
    }
   ],
   "source": [
    "model = CNNgeo_debug.train(config)"
   ]
  },
  {
   "cell_type": "markdown",
   "metadata": {},
   "source": [
    "# 3. Debug codes"
   ]
  },
  {
   "cell_type": "code",
   "execution_count": 8,
   "metadata": {},
   "outputs": [
    {
     "name": "stdout",
     "output_type": "stream",
     "text": [
      "train dataset amount : 1\n"
     ]
    }
   ],
   "source": [
    "datasets = load_data(['train'], config)\n",
    "ds = datasets['train'].batch(1)"
   ]
  },
  {
   "cell_type": "code",
   "execution_count": 9,
   "metadata": {},
   "outputs": [],
   "source": [
    "for image_A, image_B, parameters in ds.take(1):\n",
    "    image_A = image_A.numpy()\n",
    "    image_B = image_B.numpy()\n",
    "    parameters = parameters.numpy()\n",
    "#image_B_hat = np.ones([1, 64, 64, 3])\n",
    "pred, score = model(image_A, image_B)"
   ]
  },
  {
   "cell_type": "code",
   "execution_count": 10,
   "metadata": {},
   "outputs": [
    {
     "name": "stdout",
     "output_type": "stream",
     "text": [
      "parameter shape (1, 9, 2)\n",
      "score shape (1, 16, 16, 16, 16)\n",
      "(1, 64, 64, 3)\n"
     ]
    }
   ],
   "source": [
    "print(\"parameter shape\", pred.shape)\n",
    "print(\"score shape\", score.shape)\n",
    "print(image_A.shape)"
   ]
  },
  {
   "cell_type": "markdown",
   "metadata": {},
   "source": [
    "## a. 모델은 이미지쌍(image A, image B)으로부터 모션 파라미터를 추정할 수 있는가?"
   ]
  },
  {
   "cell_type": "markdown",
   "metadata": {},
   "source": [
    "### 반복 시행 1"
   ]
  },
  {
   "cell_type": "code",
   "execution_count": 11,
   "metadata": {},
   "outputs": [
    {
     "name": "stderr",
     "output_type": "stream",
     "text": [
      "Clipping input data to the valid range for imshow with RGB data ([0..1] for floats or [0..255] for integers).\n",
      "Clipping input data to the valid range for imshow with RGB data ([0..1] for floats or [0..255] for integers).\n",
      "Clipping input data to the valid range for imshow with RGB data ([0..1] for floats or [0..255] for integers).\n"
     ]
    },
    {
     "name": "stdout",
     "output_type": "stream",
     "text": [
      "compare gt : [[[-0.02139187 -0.08553209]\n",
      "  [ 0.03350978 -0.19682245]\n",
      "  [-0.1350205  -0.02365365]\n",
      "  [ 0.11263432  0.05010648]\n",
      "  [-0.11744966  0.01519408]\n",
      "  [ 0.10021029  0.01696744]\n",
      "  [-0.01720166 -0.09088793]\n",
      "  [-0.12012472  0.18594031]\n",
      "  [ 0.14531755 -0.11497416]]] and \n",
      " pred : [[[-6.4122076e-03 -2.2053267e-03]\n",
      "  [-5.8086230e-03  7.2651817e-03]\n",
      "  [ 2.8018632e-05 -2.0717497e-03]\n",
      "  [-3.0902869e-03  6.9397828e-03]\n",
      "  [ 3.0633926e-03 -4.1388016e-04]\n",
      "  [-2.2451202e-03  2.3301861e-03]\n",
      "  [-6.9359485e-03  3.6676824e-03]\n",
      "  [-1.7096477e-03  1.3156987e-03]\n",
      "  [-5.1014586e-03 -1.0522467e-03]]]\n",
      "loss : [0.10128091]\n"
     ]
    },
    {
     "data": {
      "image/png": "[encoded data removed]",
      "text/plain": [
       "<Figure size 432x288 with 3 Axes>"
      ]
     },
     "metadata": {
      "needs_background": "light"
     },
     "output_type": "display_data"
    }
   ],
   "source": [
    "for image_A, image_B, parameters in ds.take(1):\n",
    "    image_A = image_A.numpy()\n",
    "    image_B = image_B.numpy()\n",
    "    parameters = parameters.numpy()\n",
    "pred, score = model(image_A, image_B)\n",
    "\n",
    "print(\"compare gt : {} and \\n pred : {}\".format(parameters, pred))\n",
    "loss = tf.reduce_sum(tf.keras.losses.MSE(pred, parameters), axis=1)\n",
    "print(\"loss : {}\".format(loss))\n",
    "\n",
    "pred = pred.numpy()\n",
    "image_C = list(map(lambda x : image.synthesize_image(x[0], x[1], (64, 64), bbox=None, pad_ratio=None),\n",
    "                   zip(image_A.copy(), pred.copy())))    \n",
    "image_C = np.array(image_C)\n",
    "visualize.show_TPS_image([image_A, image_B, image_C], [np.ones_like(parameters), parameters, pred])    \n",
    "\n",
    "pred1 = pred.copy()"
   ]
  },
  {
   "cell_type": "markdown",
   "metadata": {},
   "source": [
    "### 반복 시행 2"
   ]
  },
  {
   "cell_type": "code",
   "execution_count": 12,
   "metadata": {},
   "outputs": [
    {
     "name": "stderr",
     "output_type": "stream",
     "text": [
      "Clipping input data to the valid range for imshow with RGB data ([0..1] for floats or [0..255] for integers).\n",
      "Clipping input data to the valid range for imshow with RGB data ([0..1] for floats or [0..255] for integers).\n",
      "Clipping input data to the valid range for imshow with RGB data ([0..1] for floats or [0..255] for integers).\n"
     ]
    },
    {
     "name": "stdout",
     "output_type": "stream",
     "text": [
      "compare gt : [[[-0.08233891 -0.0281426 ]\n",
      "  [ 0.00343189  0.03412061]\n",
      "  [ 0.18529049 -0.10715523]\n",
      "  [-0.18768425 -0.0465436 ]\n",
      "  [-0.17735325  0.03016448]\n",
      "  [ 0.16513525  0.19605155]\n",
      "  [-0.13329425  0.18308721]\n",
      "  [-0.02632952 -0.00862975]\n",
      "  [ 0.02215934 -0.0313406 ]]] and \n",
      " pred : [[[-6.4122076e-03 -2.2053267e-03]\n",
      "  [-5.8086230e-03  7.2651817e-03]\n",
      "  [ 2.8018632e-05 -2.0717497e-03]\n",
      "  [-3.0902869e-03  6.9397828e-03]\n",
      "  [ 3.0633926e-03 -4.1388016e-04]\n",
      "  [-2.2451202e-03  2.3301861e-03]\n",
      "  [-6.9359485e-03  3.6676824e-03]\n",
      "  [-1.7096477e-03  1.3156987e-03]\n",
      "  [-5.1014586e-03 -1.0522467e-03]]]\n",
      "loss : [0.11954852]\n"
     ]
    },
    {
     "data": {
      "image/png": "[encoded data removed]",
      "text/plain": [
       "<Figure size 432x288 with 3 Axes>"
      ]
     },
     "metadata": {
      "needs_background": "light"
     },
     "output_type": "display_data"
    }
   ],
   "source": [
    "for image_A, image_B, parameters in ds.take(1):\n",
    "    image_A = image_A.numpy()\n",
    "    image_B = image_B.numpy()\n",
    "    parameters = parameters.numpy()\n",
    "pred, score = model(image_A, image_B)\n",
    "\n",
    "print(\"compare gt : {} and \\n pred : {}\".format(parameters, pred))\n",
    "loss = tf.reduce_sum(tf.keras.losses.MSE(pred, parameters), axis=1)\n",
    "print(\"loss : {}\".format(loss))\n",
    "\n",
    "pred = pred.numpy()\n",
    "image_C = list(map(lambda x : image.synthesize_image(x[0], x[1], (64, 64), bbox=None, pad_ratio=None),\n",
    "                   zip(image_A.copy(), pred.copy())))    \n",
    "image_C = np.array(image_C)\n",
    "visualize.show_TPS_image([image_A, image_B, image_C], [np.ones_like(parameters), parameters, pred])    \n",
    "\n",
    "pred2 = pred.copy()"
   ]
  },
  {
   "cell_type": "markdown",
   "metadata": {},
   "source": [
    "### Garbage image B"
   ]
  },
  {
   "cell_type": "code",
   "execution_count": 13,
   "metadata": {},
   "outputs": [
    {
     "name": "stdout",
     "output_type": "stream",
     "text": [
      "WARNING:tensorflow:Layer feature__extractor is casting an input tensor from dtype float64 to the layer's dtype of float32, which is new behavior in TensorFlow 2.  The layer has dtype float32 because it's dtype defaults to floatx.\n",
      "\n",
      "If you intended to run this layer in float32, you can safely ignore this warning. If in doubt, this warning is likely only an issue if you are porting a TensorFlow 1.X model to TensorFlow 2.\n",
      "\n",
      "To change all layers to have dtype float64 by default, call `tf.keras.backend.set_floatx('float64')`. To change just this layer, pass dtype='float64' to the layer constructor. If you are the author of this layer, you can disable autocasting by passing autocast=False to the base Layer constructor.\n",
      "\n"
     ]
    },
    {
     "name": "stderr",
     "output_type": "stream",
     "text": [
      "Clipping input data to the valid range for imshow with RGB data ([0..1] for floats or [0..255] for integers).\n",
      "Clipping input data to the valid range for imshow with RGB data ([0..1] for floats or [0..255] for integers).\n",
      "Clipping input data to the valid range for imshow with RGB data ([0..1] for floats or [0..255] for integers).\n"
     ]
    },
    {
     "name": "stdout",
     "output_type": "stream",
     "text": [
      "compare gt : [[[-0.08233891 -0.0281426 ]\n",
      "  [ 0.00343189  0.03412061]\n",
      "  [ 0.18529049 -0.10715523]\n",
      "  [-0.18768425 -0.0465436 ]\n",
      "  [-0.17735325  0.03016448]\n",
      "  [ 0.16513525  0.19605155]\n",
      "  [-0.13329425  0.18308721]\n",
      "  [-0.02632952 -0.00862975]\n",
      "  [ 0.02215934 -0.0313406 ]]] and \n",
      " pred : [[[-6.4122076e-03 -2.2053267e-03]\n",
      "  [-5.8086230e-03  7.2651817e-03]\n",
      "  [ 2.8018632e-05 -2.0717497e-03]\n",
      "  [-3.0902869e-03  6.9397828e-03]\n",
      "  [ 3.0633926e-03 -4.1388016e-04]\n",
      "  [-2.2451202e-03  2.3301861e-03]\n",
      "  [-6.9359485e-03  3.6676824e-03]\n",
      "  [-1.7096477e-03  1.3156987e-03]\n",
      "  [-5.1014586e-03 -1.0522467e-03]]]\n",
      "loss : [0.11954852]\n"
     ]
    },
    {
     "data": {
      "image/png": "[encoded data removed]",
      "text/plain": [
       "<Figure size 432x288 with 3 Axes>"
      ]
     },
     "metadata": {
      "needs_background": "light"
     },
     "output_type": "display_data"
    }
   ],
   "source": [
    "image_B = np.ones([1, 64, 64, 3])\n",
    "pred, score = model(image_A, image_B)\n",
    "\n",
    "print(\"compare gt : {} and \\n pred : {}\".format(parameters, pred))\n",
    "loss = tf.reduce_sum(tf.keras.losses.MSE(pred, parameters), axis=1)\n",
    "print(\"loss : {}\".format(loss))\n",
    "\n",
    "pred = pred.numpy()\n",
    "image_C = list(map(lambda x : image.synthesize_image(x[0], x[1], (64, 64), bbox=None, pad_ratio=None),\n",
    "                   zip(image_A.copy(), pred.copy())))    \n",
    "image_C = np.array(image_C)\n",
    "visualize.show_TPS_image([image_A, image_B, image_C], [np.ones_like(parameters), parameters, pred])    \n",
    "\n",
    "pred3 = pred.copy()"
   ]
  },
  {
   "cell_type": "code",
   "execution_count": 14,
   "metadata": {},
   "outputs": [
    {
     "name": "stdout",
     "output_type": "stream",
     "text": [
      "[[[-6.4122076e-03 -2.2053267e-03]\n",
      "  [-5.8086230e-03  7.2651817e-03]\n",
      "  [ 2.8018632e-05 -2.0717497e-03]\n",
      "  [-3.0902869e-03  6.9397828e-03]\n",
      "  [ 3.0633926e-03 -4.1388016e-04]\n",
      "  [-2.2451202e-03  2.3301861e-03]\n",
      "  [-6.9359485e-03  3.6676824e-03]\n",
      "  [-1.7096477e-03  1.3156987e-03]\n",
      "  [-5.1014586e-03 -1.0522467e-03]]] \n",
      " [[[-6.4122076e-03 -2.2053267e-03]\n",
      "  [-5.8086230e-03  7.2651817e-03]\n",
      "  [ 2.8018632e-05 -2.0717497e-03]\n",
      "  [-3.0902869e-03  6.9397828e-03]\n",
      "  [ 3.0633926e-03 -4.1388016e-04]\n",
      "  [-2.2451202e-03  2.3301861e-03]\n",
      "  [-6.9359485e-03  3.6676824e-03]\n",
      "  [-1.7096477e-03  1.3156987e-03]\n",
      "  [-5.1014586e-03 -1.0522467e-03]]] \n",
      " [[[-6.4122076e-03 -2.2053267e-03]\n",
      "  [-5.8086230e-03  7.2651817e-03]\n",
      "  [ 2.8018632e-05 -2.0717497e-03]\n",
      "  [-3.0902869e-03  6.9397828e-03]\n",
      "  [ 3.0633926e-03 -4.1388016e-04]\n",
      "  [-2.2451202e-03  2.3301861e-03]\n",
      "  [-6.9359485e-03  3.6676824e-03]\n",
      "  [-1.7096477e-03  1.3156987e-03]\n",
      "  [-5.1014586e-03 -1.0522467e-03]]]\n"
     ]
    }
   ],
   "source": [
    "print(pred1, \"\\n\", pred2, \"\\n\", pred3)"
   ]
  },
  {
   "cell_type": "code",
   "execution_count": 169,
   "metadata": {},
   "outputs": [
    {
     "name": "stdout",
     "output_type": "stream",
     "text": [
      "Model: \"cnn_geo\"\n",
      "_________________________________________________________________\n",
      "Layer (type)                 Output Shape              Param #   \n",
      "=================================================================\n",
      "feature__extractor (Feature_ multiple                  113600    \n",
      "_________________________________________________________________\n",
      "correlation_network (Correla multiple                  0         \n",
      "_________________________________________________________________\n",
      "spatial_transformer_regresso multiple                  875250    \n",
      "=================================================================\n",
      "Total params: 988,850\n",
      "Trainable params: 988,146\n",
      "Non-trainable params: 704\n",
      "_________________________________________________________________\n"
     ]
    }
   ],
   "source": [
    "model.summary()"
   ]
  },
  {
   "cell_type": "markdown",
   "metadata": {},
   "source": [
    "### zero correlation을 입력했을 때 : 역시 같은 결과"
   ]
  },
  {
   "cell_type": "code",
   "execution_count": 171,
   "metadata": {},
   "outputs": [
    {
     "data": {
      "text/plain": [
       "<tf.Tensor: shape=(1, 18), dtype=float32, numpy=\n",
       "array([[-6.4122076e-03, -2.2053267e-03, -5.8086230e-03,  7.2651817e-03,\n",
       "         2.8018632e-05, -2.0717497e-03, -3.0902869e-03,  6.9397828e-03,\n",
       "         3.0633926e-03, -4.1388016e-04, -2.2451202e-03,  2.3301861e-03,\n",
       "        -6.9359485e-03,  3.6676824e-03, -1.7096477e-03,  1.3156987e-03,\n",
       "        -5.1014586e-03, -1.0522467e-03]], dtype=float32)>"
      ]
     },
     "execution_count": 171,
     "metadata": {},
     "output_type": "execute_result"
    }
   ],
   "source": [
    "model.layers[2](np.zeros([16,16,16,16], np.float32))"
   ]
  },
  {
   "cell_type": "markdown",
   "metadata": {},
   "source": [
    "## b. 특징추출기의 정상 동작 검증"
   ]
  },
  {
   "cell_type": "markdown",
   "metadata": {},
   "source": [
    "### 동일 영상에 대한 correlation"
   ]
  },
  {
   "cell_type": "code",
   "execution_count": 111,
   "metadata": {},
   "outputs": [
    {
     "name": "stdout",
     "output_type": "stream",
     "text": [
      "(16, 16, 16, 16) (9, 2) (64, 64, 3)\n"
     ]
    }
   ],
   "source": [
    "for image_A, image_B, parameters in ds.take(1):\n",
    "    image_A = image_A.numpy()\n",
    "    image_B = image_B.numpy()\n",
    "    parameters = parameters.numpy()\n",
    "pred, score = model(image_A, image_A)\n",
    "\n",
    "score = score.numpy()[0]\n",
    "parameters = parameters[0]\n",
    "image_A = image_A[0]\n",
    "image_B = image_B[0]\n",
    "\n",
    "print(score.shape, parameters.shape, image_A.shape)"
   ]
  },
  {
   "cell_type": "code",
   "execution_count": 267,
   "metadata": {},
   "outputs": [],
   "source": [
    "def get_matching_grid_from_B(parameters, center_point):\n",
    "    src_points = np.array([[0.0, 0.0], [0.5, 0.0], [1.0, 0.0],\n",
    "                                   [0.0, 0.5], [0.5, 0.5], [1.0, 0.5],\n",
    "                                   [0.0, 1.0], [0.5, 1.0], [1.0, 1.0]])\n",
    "\n",
    "    dst_points = src_points +parameters\n",
    "\n",
    "    theta = tps.tps_theta_from_points(src_points, dst_points, reduced=True)\n",
    "    dshape = (64, 64)\n",
    "    grid = tps.tps_grid(theta, src_points, dshape)\n",
    "    mapx, mapy = tps.tps_grid_to_remap(grid, (64, 64))\n",
    "    points = np.concatenate([mapx[:,:,np.newaxis], mapy[:,:,np.newaxis]], axis=2)\n",
    "   \n",
    "    center_point = np.array(center_point)\n",
    "    center_point = center_point[np.newaxis, np.newaxis, :]\n",
    "    print(\"center\", center_point)\n",
    "    distance = np.sum(np.power((points - center_point), 2), axis=2)\n",
    "\n",
    "    ri, ci = distance.argmin()//distance.shape[1], distance.argmin()%distance.shape[1]\n",
    "    return (ci, ri)"
   ]
  },
  {
   "cell_type": "code",
   "execution_count": 278,
   "metadata": {},
   "outputs": [],
   "source": [
    "def score_test(grid_coord, score, parameters, images, grid_shape=(16,16)):\n",
    "    image_A, image_B = images\n",
    "    score = score[grid_coord[0], grid_coord[1]]\n",
    "    H, W, C = image_A.shape\n",
    "    grid_size = H/grid_shape[0], W/grid_shape[1]\n",
    "\n",
    "    start_pix_h = int(grid_size[0]*grid_coord[0])\n",
    "    end_pix_h = int(grid_size[0]*(1+grid_coord[0]))\n",
    "    start_pix_w = int(grid_size[1]*grid_coord[1])\n",
    "    end_pix_w = int(grid_size[1]*(1+grid_coord[1]))\n",
    "    \n",
    "    drawn_grid_image_A = image_A.copy()\n",
    "    drawn_grid_image_A[start_pix_h:end_pix_h, start_pix_w:end_pix_w] = (0,0,0)   \n",
    "    \n",
    "    expected_drawn_grid_image_B = image_B.copy()\n",
    "    grid_center_A = (int(start_pix_h+grid_size[0]/2), int(start_pix_w+grid_size[1]/2))\n",
    "    grid_center_B = get_matching_grid_from_B(parameters, grid_center_A)\n",
    "    print(grid_center_B, grid_center_B.__class__)\n",
    "    start_pix_h = int(grid_center_B[0] - grid_size[0]/2)\n",
    "    start_pix_w = int(grid_center_B[1] - grid_size[1]/2)\n",
    "    end_pix_h = int(grid_center_B[0] + grid_size[0]/2)\n",
    "    end_pix_w = int(grid_center_B[1] + grid_size[1]/2)\n",
    "    expected_drawn_grid_image_B[start_pix_h:end_pix_h, start_pix_w:end_pix_w] = (0,0,0)\n",
    "    \n",
    "    drawn_grid_image_B = image_B.copy()\n",
    "    max_correlation_grid_index = score.argmin()//score.shape[1], score.argmin()%score.shape[1]\n",
    "    print(max_correlation_grid_index)\n",
    "    start_pix_h = int(max_correlation_grid_index[0] - grid_size[0]/2)\n",
    "    start_pix_w = int(max_correlation_grid_index[1] - grid_size[1]/2)\n",
    "    end_pix_h = int(max_correlation_grid_index[0] + grid_size[0]/2)\n",
    "    end_pix_w = int(max_correlation_grid_index[1] + grid_size[1]/2)    \n",
    "    drawn_grid_image_B[start_pix_h:end_pix_h, start_pix_w:end_pix_w] = (0,0,0)\n",
    "    \n",
    "    print(\"top 10 correlation values in descending : \", np.sort(score.flatten())[::-1][:10])\n",
    "    \n",
    "    return drawn_grid_image_A, expected_drawn_grid_image_B, drawn_grid_image_B"
   ]
  },
  {
   "cell_type": "code",
   "execution_count": 279,
   "metadata": {},
   "outputs": [],
   "source": [
    "def plot_images(images, plot_shape, moving_vectors=None):\n",
    "    rows, cols = plot_shape\n",
    "    fig = plt.figure()\n",
    "    for row in range(rows):\n",
    "        for col in range(cols):\n",
    "            image = images[row][col]\n",
    "            fig.add_subplot(rows, cols, row*cols+col+1).imshow(image)\n",
    "    plt.show()"
   ]
  },
  {
   "cell_type": "code",
   "execution_count": 280,
   "metadata": {},
   "outputs": [
    {
     "name": "stdout",
     "output_type": "stream",
     "text": [
      "center [[[2 2]]]\n",
      "(2, 2) <class 'tuple'>\n",
      "(15, 6)\n",
      "top 10 correlation values in descending :  [0.08045571 0.07374886 0.07362973 0.07360967 0.07322403 0.07315692\n",
      " 0.07315629 0.07313433 0.07307883 0.07305346]\n"
     ]
    }
   ],
   "source": [
    "drawn_image_A, expected_drawn_grid_image_B, drawn_grid_image_B = score_test(grid_coord=(0,0), score=score, parameters=np.zeros([9,2]), images=(image_A, image_A))"
   ]
  },
  {
   "cell_type": "code",
   "execution_count": 281,
   "metadata": {},
   "outputs": [
    {
     "data": {
      "text/plain": [
       "(64, 64, 3)"
      ]
     },
     "execution_count": 281,
     "metadata": {},
     "output_type": "execute_result"
    }
   ],
   "source": [
    "drawn_image_A.shape\n",
    "expected_drawn_grid_image_B.shape\n",
    "drawn_grid_image_B.shape"
   ]
  },
  {
   "cell_type": "code",
   "execution_count": 282,
   "metadata": {},
   "outputs": [
    {
     "data": {
      "image/png": "[encoded data removed]",
      "text/plain": [
       "<Figure size 432x288 with 3 Axes>"
      ]
     },
     "metadata": {
      "needs_background": "light"
     },
     "output_type": "display_data"
    }
   ],
   "source": [
    "fig = plt.figure()\n",
    "\n",
    "ax1 = fig.add_subplot(131)\n",
    "ax2 = fig.add_subplot(132)\n",
    "ax3 = fig.add_subplot(133)\n",
    "\n",
    "ax1.imshow(drawn_image_A)\n",
    "ax2.imshow(expected_drawn_grid_image_B)\n",
    "ax3.imshow(drawn_grid_image_B)\n",
    "\n",
    "plt.show()\n"
   ]
  },
  {
   "cell_type": "markdown",
   "metadata": {},
   "source": [
    "# grid_point (5, 5) on image A"
   ]
  },
  {
   "cell_type": "code",
   "execution_count": 283,
   "metadata": {},
   "outputs": [
    {
     "name": "stdout",
     "output_type": "stream",
     "text": [
      "center [[[22 30]]]\n",
      "(22, 30) <class 'tuple'>\n",
      "(0, 0)\n",
      "top 10 correlation values in descending :  [0.06518701 0.0648452  0.06483168 0.06479623 0.06471241 0.06467468\n",
      " 0.06462499 0.06459589 0.06457857 0.06454716]\n"
     ]
    },
    {
     "data": {
      "image/png": "[encoded data removed]",
      "text/plain": [
       "<Figure size 432x288 with 3 Axes>"
      ]
     },
     "metadata": {
      "needs_background": "light"
     },
     "output_type": "display_data"
    }
   ],
   "source": [
    "grid_point = (5,7)\n",
    "drawn_image_A, expected_drawn_grid_image_B, drawn_grid_image_B = score_test(grid_coord=grid_point, \n",
    "                                                                            score=score, \n",
    "                                                                            parameters=np.zeros([9,2]), \n",
    "                                                                            images=(image_A, image_A))\n",
    "fig = plt.figure()\n",
    "\n",
    "ax1 = fig.add_subplot(131)\n",
    "ax2 = fig.add_subplot(132)\n",
    "ax3 = fig.add_subplot(133)\n",
    "\n",
    "ax1.imshow(drawn_image_A)\n",
    "ax2.imshow(expected_drawn_grid_image_B)\n",
    "ax3.imshow(drawn_grid_image_B)\n",
    "\n",
    "plt.show()"
   ]
  },
  {
   "cell_type": "code",
   "execution_count": null,
   "metadata": {},
   "outputs": [],
   "source": []
  },
  {
   "cell_type": "code",
   "execution_count": null,
   "metadata": {},
   "outputs": [],
   "source": []
  },
  {
   "cell_type": "code",
   "execution_count": null,
   "metadata": {},
   "outputs": [],
   "source": []
  },
  {
   "cell_type": "code",
   "execution_count": null,
   "metadata": {},
   "outputs": [],
   "source": []
  },
  {
   "cell_type": "code",
   "execution_count": 250,
   "metadata": {},
   "outputs": [
    {
     "data": {
      "text/plain": [
       "<matplotlib.image.AxesImage at 0x7fe36717ec88>"
      ]
     },
     "execution_count": 250,
     "metadata": {},
     "output_type": "execute_result"
    },
    {
     "data": {
      "image/png": "[encoded data removed]",
      "text/plain": [
       "<Figure size 432x288 with 1 Axes>"
      ]
     },
     "metadata": {
      "needs_background": "light"
     },
     "output_type": "display_data"
    }
   ],
   "source": [
    "plt.imshow(expected_drawn_grid_image_B)"
   ]
  },
  {
   "cell_type": "code",
   "execution_count": 251,
   "metadata": {},
   "outputs": [
    {
     "data": {
      "text/plain": [
       "<matplotlib.image.AxesImage at 0x7fe3670dcf28>"
      ]
     },
     "execution_count": 251,
     "metadata": {},
     "output_type": "execute_result"
    },
    {
     "data": {
      "image/png": "[encoded data removed]",
      "text/plain": [
       "<Figure size 432x288 with 1 Axes>"
      ]
     },
     "metadata": {
      "needs_background": "light"
     },
     "output_type": "display_data"
    }
   ],
   "source": [
    "plt.imshow(drawn_grid_image_B)"
   ]
  },
  {
   "cell_type": "code",
   "execution_count": null,
   "metadata": {},
   "outputs": [],
   "source": [
    "\n",
    "for i in range(16):\n",
    "    drawn_image_A, expected_drawn_grid_image_B, drawn_grid_image_B = score_test(grid_coord=(i,i), score=score, parameters=parameters, images=(image_A, image_B))\n"
   ]
  },
  {
   "cell_type": "code",
   "execution_count": null,
   "metadata": {},
   "outputs": [],
   "source": [
    "import geo_transform as tps\n",
    "import numpy as np"
   ]
  },
  {
   "cell_type": "code",
   "execution_count": null,
   "metadata": {},
   "outputs": [],
   "source": []
  },
  {
   "cell_type": "code",
   "execution_count": null,
   "metadata": {},
   "outputs": [],
   "source": [
    "mapx[:,:,np.newaxis].shape"
   ]
  },
  {
   "cell_type": "code",
   "execution_count": null,
   "metadata": {},
   "outputs": [],
   "source": [
    "points = np.concatenate([mapx[:,:,np.newaxis], mapy[:,:,np.newaxis]], axis=2)"
   ]
  },
  {
   "cell_type": "code",
   "execution_count": null,
   "metadata": {},
   "outputs": [],
   "source": [
    "points.shape"
   ]
  },
  {
   "cell_type": "code",
   "execution_count": null,
   "metadata": {},
   "outputs": [],
   "source": [
    "points[0, 0]"
   ]
  },
  {
   "cell_type": "code",
   "execution_count": null,
   "metadata": {},
   "outputs": [],
   "source": []
  },
  {
   "cell_type": "code",
   "execution_count": null,
   "metadata": {},
   "outputs": [],
   "source": []
  },
  {
   "cell_type": "code",
   "execution_count": null,
   "metadata": {},
   "outputs": [],
   "source": []
  },
  {
   "cell_type": "code",
   "execution_count": null,
   "metadata": {},
   "outputs": [],
   "source": []
  },
  {
   "cell_type": "code",
   "execution_count": null,
   "metadata": {},
   "outputs": [],
   "source": []
  },
  {
   "cell_type": "code",
   "execution_count": null,
   "metadata": {},
   "outputs": [],
   "source": []
  },
  {
   "cell_type": "code",
   "execution_count": null,
   "metadata": {},
   "outputs": [],
   "source": [
    "from models.cnn_geo import CNN_geo\n",
    "from data_loader import load_data\n",
    "import numpy as np\n",
    "from matplotlib import pyplot as plt"
   ]
  },
  {
   "cell_type": "code",
   "execution_count": null,
   "metadata": {},
   "outputs": [],
   "source": [
    "model = CNN_geo(config['backbone'])\n",
    "ckpt_dir = os.path.join(\n",
    "        'checkpoints', config['model_name'], config['exp_desc'])\n",
    "ckpt = os.path.join(ckpt_dir, \"{}-{}.h5\".format(config['model_name'], str(config['train']['epochs'])))\n",
    "model.load(ckpt)"
   ]
  },
  {
   "cell_type": "code",
   "execution_count": null,
   "metadata": {},
   "outputs": [],
   "source": [
    "model.layers"
   ]
  },
  {
   "cell_type": "code",
   "execution_count": null,
   "metadata": {},
   "outputs": [],
   "source": [
    "model.layers[2](np.ones([1, 16,16,16,16]))"
   ]
  },
  {
   "cell_type": "code",
   "execution_count": null,
   "metadata": {},
   "outputs": [],
   "source": [
    "datasets = load_data(['train'], config)\n",
    "ds = datasets['train'].batch(1)\n",
    "for image_A, image_B, parameters in ds.take(1):\n",
    "    image_A = image_A.numpy()\n",
    "    image_B = image_B.numpy()\n",
    "    parameters = parameters.numpy()"
   ]
  },
  {
   "cell_type": "code",
   "execution_count": null,
   "metadata": {},
   "outputs": [],
   "source": [
    "image_A.shape, image_B.shape\n",
    "\n",
    "x = model.layers[0](image_A)\n",
    "y = model.layers[0](image_B)"
   ]
  },
  {
   "cell_type": "code",
   "execution_count": null,
   "metadata": {},
   "outputs": [],
   "source": [
    "plt.imshow(image_A[0])"
   ]
  },
  {
   "cell_type": "code",
   "execution_count": null,
   "metadata": {},
   "outputs": [],
   "source": [
    "plt.imshow(image_B[0])"
   ]
  },
  {
   "cell_type": "code",
   "execution_count": null,
   "metadata": {},
   "outputs": [],
   "source": []
  },
  {
   "cell_type": "code",
   "execution_count": null,
   "metadata": {},
   "outputs": [],
   "source": [
    "import tensorflow as tf"
   ]
  },
  {
   "cell_type": "code",
   "execution_count": null,
   "metadata": {},
   "outputs": [],
   "source": [
    "score = model.layers[1](x, y)"
   ]
  },
  {
   "cell_type": "code",
   "execution_count": null,
   "metadata": {},
   "outputs": [],
   "source": [
    "float_formatter = \"{:.3f}\".format\n",
    "np.set_printoptions(formatter={'float_kind':float_formatter})"
   ]
  },
  {
   "cell_type": "code",
   "execution_count": null,
   "metadata": {},
   "outputs": [],
   "source": [
    "print(np.max(score[0, 0,0]))"
   ]
  },
  {
   "cell_type": "code",
   "execution_count": null,
   "metadata": {},
   "outputs": [],
   "source": [
    "print(score[0,0,0])"
   ]
  },
  {
   "cell_type": "code",
   "execution_count": null,
   "metadata": {},
   "outputs": [],
   "source": [
    "parameters"
   ]
  },
  {
   "cell_type": "code",
   "execution_count": null,
   "metadata": {},
   "outputs": [],
   "source": [
    "model.layers[2](score)"
   ]
  },
  {
   "cell_type": "code",
   "execution_count": null,
   "metadata": {},
   "outputs": [],
   "source": [
    "vgg = tf.keras.applications.VGG16(weights='imagenet', input_shape=(64, 64, 3), include_top=False)"
   ]
  },
  {
   "cell_type": "code",
   "execution_count": null,
   "metadata": {},
   "outputs": [],
   "source": [
    "model = tf.keras.Model(inputs=vgg.layers[0].input, outputs=vgg.layers[9].output)"
   ]
  },
  {
   "cell_type": "code",
   "execution_count": null,
   "metadata": {},
   "outputs": [],
   "source": [
    "model.summary()"
   ]
  },
  {
   "cell_type": "code",
   "execution_count": null,
   "metadata": {},
   "outputs": [],
   "source": []
  }
 ],
 "metadata": {
  "kernelspec": {
   "display_name": "Python 3",
   "language": "python",
   "name": "python3"
  },
  "language_info": {
   "codemirror_mode": {
    "name": "ipython",
    "version": 3
   },
   "file_extension": ".py",
   "mimetype": "text/x-python",
   "name": "python",
   "nbconvert_exporter": "python",
   "pygments_lexer": "ipython3",
   "version": "3.6.9"
  }
 },
 "nbformat": 4,
 "nbformat_minor": 4
}
